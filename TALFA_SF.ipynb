{
  "cells": [
    {
      "cell_type": "markdown",
      "metadata": {
        "id": "E8gUnQU1cCgw"
      },
      "source": [
        "# 1. Project Talfa (Talent Fair)\n",
        "\n",
        "This project is made for the Hacktiv8 Talent Fair Vol.3. Talfa-SF is a Sales Forecast using Sales Data provided by Kalbe. The dataset contains sales data for four products over the last few days. Participants must create a model to predict sales of these products for the next 14 days. \n",
        "\n"
      ]
    },
    {
      "cell_type": "markdown",
      "metadata": {
        "id": "lDLjzXp6cSdF"
      },
      "source": [
        "# 2. Introduction\n",
        "\n",
        "I am Monica Pratiwi and I am passionate about data analysis. I hold a Bachelor's in Geography. Finding patterns nobody else sees is challenging for me. That is why I decided to pursue a career in the data science field. I aspire to be a good analyst."
      ]
    },
    {
      "cell_type": "markdown",
      "metadata": {
        "id": "G-bsq1t1cW1M"
      },
      "source": [
        "# 3. External Link\n",
        "\n",
        "Some Data Visualization Insights are posted in [Tableau](https://public.tableau.com/app/profile/monica8479/viz/KalbeSalesDataInsights/Dashboard1)."
      ]
    },
    {
      "cell_type": "markdown",
      "metadata": {
        "id": "uEWll2BCdHnU"
      },
      "source": [
        "# 4. Working Area\n",
        "The task that has to be done for this data\n",
        "1. Able to forecast 14 days every products and categories from Kalbe’s dataset.\n",
        "2. Your working model able to reach a good Accuracy Rate.\n",
        "3. Able to explain the methodology used for every step, algorithm, data manipulation, data cleansing, etc.\n",
        "4. Able to provide chart or any other measureable methods to prove your inferences."
      ]
    },
    {
      "cell_type": "markdown",
      "metadata": {
        "id": "P34adGWXFuDa"
      },
      "source": [
        "## Import Library"
      ]
    },
    {
      "cell_type": "code",
      "execution_count": null,
      "metadata": {
        "colab": {
          "base_uri": "https://localhost:8080/"
        },
        "id": "7Z569Kdpug3-",
        "outputId": "6665d89f-81be-4cb6-e34f-8725c21f4bb5"
      },
      "outputs": [
        {
          "output_type": "stream",
          "name": "stdout",
          "text": [
            "Mounted at /content/drive\n"
          ]
        }
      ],
      "source": [
        "from google.colab import drive\n",
        "drive.mount('/content/drive')"
      ]
    },
    {
      "cell_type": "code",
      "execution_count": null,
      "metadata": {
        "id": "7UxQvCNibQdo"
      },
      "outputs": [],
      "source": [
        "# Import Libraries\n",
        "\n",
        "import pandas as pd\n",
        "import numpy as np\n",
        "from numpy import array\n",
        "\n",
        "import plotly.express as px\n",
        "import matplotlib.pyplot as plt\n",
        "import seaborn as sns\n",
        "\n",
        "from itertools import cycle\n",
        "\n",
        "from datetime import datetime\n",
        "from sklearn.model_selection import train_test_split\n",
        "from sklearn.preprocessing import MinMaxScaler, StandardScaler\n",
        "\n",
        "from sklearn import neighbors\n",
        "from sklearn.ensemble import RandomForestRegressor\n",
        "from sklearn.linear_model import LinearRegression\n",
        "from sklearn.svm import SVR\n",
        "\n",
        "import tensorflow as tf\n",
        "from tensorflow.keras.layers import LSTM, GRU, Dense\n",
        "from tensorflow.keras.models import Sequential\n",
        "\n",
        "from sklearn.metrics import mean_absolute_error, mean_squared_error, r2_score\n",
        "\n",
        "import warnings\n",
        "warnings.filterwarnings(\"ignore\")\n",
        "\n"
      ]
    },
    {
      "cell_type": "markdown",
      "metadata": {
        "id": "Hs42EvoziG24"
      },
      "source": [
        "## Data Loading"
      ]
    },
    {
      "cell_type": "code",
      "execution_count": null,
      "metadata": {
        "id": "yB10VwcGeat1"
      },
      "outputs": [],
      "source": [
        "# Load Data and use `sheet_name=None` to read in all the sheets in the workbook at one time\n",
        "kalbe = '/content/drive/MyDrive/Talent Fair/kalbe_data.xlsx'\n",
        "all_df1 = pd.read_excel(kalbe, sheet_name=None)"
      ]
    },
    {
      "cell_type": "code",
      "execution_count": null,
      "metadata": {
        "colab": {
          "base_uri": "https://localhost:8080/"
        },
        "id": "SJsu5jNdwGL-",
        "outputId": "a1e2b0e1-0ce3-4f28-b12f-d4bf0197489e"
      },
      "outputs": [
        {
          "output_type": "execute_result",
          "data": {
            "text/plain": [
              "dict_keys(['A1', 'A2', 'B1', 'B2'])"
            ]
          },
          "metadata": {},
          "execution_count": 69
        }
      ],
      "source": [
        "# Find what is in the data\n",
        "all_df1.keys()"
      ]
    },
    {
      "cell_type": "markdown",
      "source": [
        "The are 4 sheets in the kalbe dataset. Each sheet represents different product from two categories, A and B. In order to create model for each product, the data needs to be separated into four different dataframe. However, for Exploratory Data Analysis, the data will concatenated so it can be analysed thoroughly. The concatenated data is called df1 and the extracted data will be df1_a1,df1_a2,df1_b1,df1_b2, based on the product name."
      ],
      "metadata": {
        "id": "-jZ-r5PFcWS5"
      }
    },
    {
      "cell_type": "code",
      "execution_count": null,
      "metadata": {
        "id": "oWfwJl4CvQFg"
      },
      "outputs": [],
      "source": [
        "# join all the individual dataframes into one single dataframe (directly from Excel)\n",
        "df1 = pd.concat(pd.read_excel(kalbe, sheet_name=None), ignore_index=True)"
      ]
    },
    {
      "cell_type": "code",
      "execution_count": null,
      "metadata": {
        "colab": {
          "base_uri": "https://localhost:8080/",
          "height": 206
        },
        "id": "ePN8dTBM2yq0",
        "outputId": "8775a863-8bdb-47e8-cb36-566e7d720987"
      },
      "outputs": [
        {
          "output_type": "execute_result",
          "data": {
            "text/plain": [
              "   Day Category Product       Sales\n",
              "0    1        A      A1  100.000000\n",
              "1    2        A      A1  101.000000\n",
              "2    3        A      A1  102.010000\n",
              "3    4        A      A1  103.030100\n",
              "4    5        A      A1  104.060401"
            ],
            "text/html": [
              "\n",
              "  <div id=\"df-6fbc7d21-aa66-48a7-9a35-83c6ff11638c\">\n",
              "    <div class=\"colab-df-container\">\n",
              "      <div>\n",
              "<style scoped>\n",
              "    .dataframe tbody tr th:only-of-type {\n",
              "        vertical-align: middle;\n",
              "    }\n",
              "\n",
              "    .dataframe tbody tr th {\n",
              "        vertical-align: top;\n",
              "    }\n",
              "\n",
              "    .dataframe thead th {\n",
              "        text-align: right;\n",
              "    }\n",
              "</style>\n",
              "<table border=\"1\" class=\"dataframe\">\n",
              "  <thead>\n",
              "    <tr style=\"text-align: right;\">\n",
              "      <th></th>\n",
              "      <th>Day</th>\n",
              "      <th>Category</th>\n",
              "      <th>Product</th>\n",
              "      <th>Sales</th>\n",
              "    </tr>\n",
              "  </thead>\n",
              "  <tbody>\n",
              "    <tr>\n",
              "      <th>0</th>\n",
              "      <td>1</td>\n",
              "      <td>A</td>\n",
              "      <td>A1</td>\n",
              "      <td>100.000000</td>\n",
              "    </tr>\n",
              "    <tr>\n",
              "      <th>1</th>\n",
              "      <td>2</td>\n",
              "      <td>A</td>\n",
              "      <td>A1</td>\n",
              "      <td>101.000000</td>\n",
              "    </tr>\n",
              "    <tr>\n",
              "      <th>2</th>\n",
              "      <td>3</td>\n",
              "      <td>A</td>\n",
              "      <td>A1</td>\n",
              "      <td>102.010000</td>\n",
              "    </tr>\n",
              "    <tr>\n",
              "      <th>3</th>\n",
              "      <td>4</td>\n",
              "      <td>A</td>\n",
              "      <td>A1</td>\n",
              "      <td>103.030100</td>\n",
              "    </tr>\n",
              "    <tr>\n",
              "      <th>4</th>\n",
              "      <td>5</td>\n",
              "      <td>A</td>\n",
              "      <td>A1</td>\n",
              "      <td>104.060401</td>\n",
              "    </tr>\n",
              "  </tbody>\n",
              "</table>\n",
              "</div>\n",
              "      <button class=\"colab-df-convert\" onclick=\"convertToInteractive('df-6fbc7d21-aa66-48a7-9a35-83c6ff11638c')\"\n",
              "              title=\"Convert this dataframe to an interactive table.\"\n",
              "              style=\"display:none;\">\n",
              "        \n",
              "  <svg xmlns=\"http://www.w3.org/2000/svg\" height=\"24px\"viewBox=\"0 0 24 24\"\n",
              "       width=\"24px\">\n",
              "    <path d=\"M0 0h24v24H0V0z\" fill=\"none\"/>\n",
              "    <path d=\"M18.56 5.44l.94 2.06.94-2.06 2.06-.94-2.06-.94-.94-2.06-.94 2.06-2.06.94zm-11 1L8.5 8.5l.94-2.06 2.06-.94-2.06-.94L8.5 2.5l-.94 2.06-2.06.94zm10 10l.94 2.06.94-2.06 2.06-.94-2.06-.94-.94-2.06-.94 2.06-2.06.94z\"/><path d=\"M17.41 7.96l-1.37-1.37c-.4-.4-.92-.59-1.43-.59-.52 0-1.04.2-1.43.59L10.3 9.45l-7.72 7.72c-.78.78-.78 2.05 0 2.83L4 21.41c.39.39.9.59 1.41.59.51 0 1.02-.2 1.41-.59l7.78-7.78 2.81-2.81c.8-.78.8-2.07 0-2.86zM5.41 20L4 18.59l7.72-7.72 1.47 1.35L5.41 20z\"/>\n",
              "  </svg>\n",
              "      </button>\n",
              "      \n",
              "  <style>\n",
              "    .colab-df-container {\n",
              "      display:flex;\n",
              "      flex-wrap:wrap;\n",
              "      gap: 12px;\n",
              "    }\n",
              "\n",
              "    .colab-df-convert {\n",
              "      background-color: #E8F0FE;\n",
              "      border: none;\n",
              "      border-radius: 50%;\n",
              "      cursor: pointer;\n",
              "      display: none;\n",
              "      fill: #1967D2;\n",
              "      height: 32px;\n",
              "      padding: 0 0 0 0;\n",
              "      width: 32px;\n",
              "    }\n",
              "\n",
              "    .colab-df-convert:hover {\n",
              "      background-color: #E2EBFA;\n",
              "      box-shadow: 0px 1px 2px rgba(60, 64, 67, 0.3), 0px 1px 3px 1px rgba(60, 64, 67, 0.15);\n",
              "      fill: #174EA6;\n",
              "    }\n",
              "\n",
              "    [theme=dark] .colab-df-convert {\n",
              "      background-color: #3B4455;\n",
              "      fill: #D2E3FC;\n",
              "    }\n",
              "\n",
              "    [theme=dark] .colab-df-convert:hover {\n",
              "      background-color: #434B5C;\n",
              "      box-shadow: 0px 1px 3px 1px rgba(0, 0, 0, 0.15);\n",
              "      filter: drop-shadow(0px 1px 2px rgba(0, 0, 0, 0.3));\n",
              "      fill: #FFFFFF;\n",
              "    }\n",
              "  </style>\n",
              "\n",
              "      <script>\n",
              "        const buttonEl =\n",
              "          document.querySelector('#df-6fbc7d21-aa66-48a7-9a35-83c6ff11638c button.colab-df-convert');\n",
              "        buttonEl.style.display =\n",
              "          google.colab.kernel.accessAllowed ? 'block' : 'none';\n",
              "\n",
              "        async function convertToInteractive(key) {\n",
              "          const element = document.querySelector('#df-6fbc7d21-aa66-48a7-9a35-83c6ff11638c');\n",
              "          const dataTable =\n",
              "            await google.colab.kernel.invokeFunction('convertToInteractive',\n",
              "                                                     [key], {});\n",
              "          if (!dataTable) return;\n",
              "\n",
              "          const docLinkHtml = 'Like what you see? Visit the ' +\n",
              "            '<a target=\"_blank\" href=https://colab.research.google.com/notebooks/data_table.ipynb>data table notebook</a>'\n",
              "            + ' to learn more about interactive tables.';\n",
              "          element.innerHTML = '';\n",
              "          dataTable['output_type'] = 'display_data';\n",
              "          await google.colab.output.renderOutput(dataTable, element);\n",
              "          const docLink = document.createElement('div');\n",
              "          docLink.innerHTML = docLinkHtml;\n",
              "          element.appendChild(docLink);\n",
              "        }\n",
              "      </script>\n",
              "    </div>\n",
              "  </div>\n",
              "  "
            ]
          },
          "metadata": {},
          "execution_count": 71
        }
      ],
      "source": [
        "# Load specific sheet\n",
        "df1_a1 = pd.read_excel(kalbe, sheet_name='A1')\n",
        "df1_a2 = pd.read_excel(kalbe, sheet_name='A2')\n",
        "df1_b1 = pd.read_excel(kalbe, sheet_name='B1')\n",
        "df1_b2 = pd.read_excel(kalbe, sheet_name='B2')\n",
        "df1_a1.head()"
      ]
    },
    {
      "cell_type": "markdown",
      "metadata": {
        "id": "CLh3DdlDgyBW"
      },
      "source": [
        "Description of the label in the column\n",
        "\n",
        "* `Day`: contained information about day on sold product.\n",
        "* `Category`: contained information about product category. There are 2 categories used in this dataset, A and B.\n",
        "* `Product`: contained information about product name. There are 4 products used in this dataset, A1, A2 and B1, B2.\n",
        "* `Sales`: contained information about product sold"
      ]
    },
    {
      "cell_type": "code",
      "execution_count": null,
      "metadata": {
        "colab": {
          "base_uri": "https://localhost:8080/"
        },
        "id": "kK9bnuVf3i5N",
        "outputId": "e29487cb-2861-4ac0-a18f-5aa4d2adccbb"
      },
      "outputs": [
        {
          "name": "stdout",
          "output_type": "stream",
          "text": [
            "<class 'pandas.core.frame.DataFrame'>\n",
            "RangeIndex: 90 entries, 0 to 89\n",
            "Data columns (total 4 columns):\n",
            " #   Column    Non-Null Count  Dtype  \n",
            "---  ------    --------------  -----  \n",
            " 0   Day       90 non-null     int64  \n",
            " 1   Category  90 non-null     object \n",
            " 2   Product   90 non-null     object \n",
            " 3   Sales     90 non-null     float64\n",
            "dtypes: float64(1), int64(1), object(2)\n",
            "memory usage: 2.9+ KB\n"
          ]
        }
      ],
      "source": [
        "# Check the information of df1_a1\n",
        "df1_a1.info()"
      ]
    },
    {
      "cell_type": "code",
      "execution_count": null,
      "metadata": {
        "colab": {
          "base_uri": "https://localhost:8080/"
        },
        "id": "Wr4rGvCr3oF5",
        "outputId": "1c55d589-4823-4c61-d900-f50212da5ded"
      },
      "outputs": [
        {
          "name": "stdout",
          "output_type": "stream",
          "text": [
            "<class 'pandas.core.frame.DataFrame'>\n",
            "RangeIndex: 90 entries, 0 to 89\n",
            "Data columns (total 4 columns):\n",
            " #   Column    Non-Null Count  Dtype  \n",
            "---  ------    --------------  -----  \n",
            " 0   Day       90 non-null     int64  \n",
            " 1   Category  90 non-null     object \n",
            " 2   Product   90 non-null     object \n",
            " 3   Sales     90 non-null     float64\n",
            "dtypes: float64(1), int64(1), object(2)\n",
            "memory usage: 2.9+ KB\n"
          ]
        }
      ],
      "source": [
        "# Check the information of df1_a2\n",
        "df1_a2.info()"
      ]
    },
    {
      "cell_type": "code",
      "execution_count": null,
      "metadata": {
        "colab": {
          "base_uri": "https://localhost:8080/"
        },
        "id": "QGelUw2k4UOW",
        "outputId": "1a3b583b-e7a0-4c84-fc03-8cd616f082ee"
      },
      "outputs": [
        {
          "name": "stdout",
          "output_type": "stream",
          "text": [
            "<class 'pandas.core.frame.DataFrame'>\n",
            "RangeIndex: 104 entries, 0 to 103\n",
            "Data columns (total 5 columns):\n",
            " #   Column    Non-Null Count  Dtype  \n",
            "---  ------    --------------  -----  \n",
            " 0   Day       104 non-null    int64  \n",
            " 1   Category  104 non-null    object \n",
            " 2   Product   104 non-null    object \n",
            " 3   Sales     90 non-null     float64\n",
            " 4   Event     104 non-null    int64  \n",
            "dtypes: float64(1), int64(2), object(2)\n",
            "memory usage: 4.2+ KB\n"
          ]
        }
      ],
      "source": [
        "# Check the information of df1_b1\n",
        "df1_b1.info()"
      ]
    },
    {
      "cell_type": "code",
      "execution_count": null,
      "metadata": {
        "colab": {
          "base_uri": "https://localhost:8080/"
        },
        "id": "mVWhVimt4ZsA",
        "outputId": "79b9c722-6880-4974-cbaf-1f4218d7aad9"
      },
      "outputs": [
        {
          "name": "stdout",
          "output_type": "stream",
          "text": [
            "<class 'pandas.core.frame.DataFrame'>\n",
            "RangeIndex: 104 entries, 0 to 103\n",
            "Data columns (total 4 columns):\n",
            " #   Column    Non-Null Count  Dtype  \n",
            "---  ------    --------------  -----  \n",
            " 0   Day       104 non-null    int64  \n",
            " 1   Category  104 non-null    object \n",
            " 2   Product   104 non-null    object \n",
            " 3   Sales     30 non-null     float64\n",
            "dtypes: float64(1), int64(1), object(2)\n",
            "memory usage: 3.4+ KB\n"
          ]
        }
      ],
      "source": [
        "# Check the information of df1_b2\n",
        "df1_b2.info()"
      ]
    },
    {
      "cell_type": "markdown",
      "source": [
        "Based on the data information, one of the four data has five columns. Two data have a lot of missing values. It is df1_b1. df1_b2 has the most missing value of 74 out of 104. Missing values will be treated in the preprocessing step. Each rows represents sales data per days. df1_b1 and df1_b2 have sales data of 104 days while df1_a1 and df1_a2 have sales data for 90 days. "
      ],
      "metadata": {
        "id": "-CcH72WqaEqR"
      }
    },
    {
      "cell_type": "code",
      "source": [
        "df1.info()"
      ],
      "metadata": {
        "colab": {
          "base_uri": "https://localhost:8080/"
        },
        "id": "1qzC5UJvs92v",
        "outputId": "9ee6b850-5ed7-4650-db03-12c91d9f3180"
      },
      "execution_count": null,
      "outputs": [
        {
          "output_type": "stream",
          "name": "stdout",
          "text": [
            "<class 'pandas.core.frame.DataFrame'>\n",
            "RangeIndex: 388 entries, 0 to 387\n",
            "Data columns (total 5 columns):\n",
            " #   Column    Non-Null Count  Dtype  \n",
            "---  ------    --------------  -----  \n",
            " 0   Day       388 non-null    int64  \n",
            " 1   Category  388 non-null    object \n",
            " 2   Product   388 non-null    object \n",
            " 3   Sales     300 non-null    float64\n",
            " 4   Event     104 non-null    float64\n",
            "dtypes: float64(2), int64(1), object(2)\n",
            "memory usage: 15.3+ KB\n"
          ]
        }
      ]
    },
    {
      "cell_type": "code",
      "execution_count": null,
      "metadata": {
        "colab": {
          "base_uri": "https://localhost:8080/",
          "height": 300
        },
        "id": "wAdzlVoEFWrR",
        "outputId": "632dc854-b122-4042-a442-91b654221b82"
      },
      "outputs": [
        {
          "data": {
            "text/html": [
              "\n",
              "  <div id=\"df-0d5b16d3-4ed9-43bc-a1ed-ba3d46e4e1ba\">\n",
              "    <div class=\"colab-df-container\">\n",
              "      <div>\n",
              "<style scoped>\n",
              "    .dataframe tbody tr th:only-of-type {\n",
              "        vertical-align: middle;\n",
              "    }\n",
              "\n",
              "    .dataframe tbody tr th {\n",
              "        vertical-align: top;\n",
              "    }\n",
              "\n",
              "    .dataframe thead th {\n",
              "        text-align: right;\n",
              "    }\n",
              "</style>\n",
              "<table border=\"1\" class=\"dataframe\">\n",
              "  <thead>\n",
              "    <tr style=\"text-align: right;\">\n",
              "      <th></th>\n",
              "      <th>Day</th>\n",
              "      <th>Sales</th>\n",
              "      <th>Event</th>\n",
              "    </tr>\n",
              "  </thead>\n",
              "  <tbody>\n",
              "    <tr>\n",
              "      <th>count</th>\n",
              "      <td>388.000000</td>\n",
              "      <td>300.000000</td>\n",
              "      <td>104.000000</td>\n",
              "    </tr>\n",
              "    <tr>\n",
              "      <th>mean</th>\n",
              "      <td>49.252577</td>\n",
              "      <td>1019.853148</td>\n",
              "      <td>0.115385</td>\n",
              "    </tr>\n",
              "    <tr>\n",
              "      <th>std</th>\n",
              "      <td>28.469724</td>\n",
              "      <td>989.964287</td>\n",
              "      <td>0.321033</td>\n",
              "    </tr>\n",
              "    <tr>\n",
              "      <th>min</th>\n",
              "      <td>1.000000</td>\n",
              "      <td>10.000000</td>\n",
              "      <td>0.000000</td>\n",
              "    </tr>\n",
              "    <tr>\n",
              "      <th>25%</th>\n",
              "      <td>25.000000</td>\n",
              "      <td>180.675000</td>\n",
              "      <td>0.000000</td>\n",
              "    </tr>\n",
              "    <tr>\n",
              "      <th>50%</th>\n",
              "      <td>49.000000</td>\n",
              "      <td>1000.000000</td>\n",
              "      <td>0.000000</td>\n",
              "    </tr>\n",
              "    <tr>\n",
              "      <th>75%</th>\n",
              "      <td>73.000000</td>\n",
              "      <td>1246.950594</td>\n",
              "      <td>0.000000</td>\n",
              "    </tr>\n",
              "    <tr>\n",
              "      <th>max</th>\n",
              "      <td>104.000000</td>\n",
              "      <td>4980.657414</td>\n",
              "      <td>1.000000</td>\n",
              "    </tr>\n",
              "  </tbody>\n",
              "</table>\n",
              "</div>\n",
              "      <button class=\"colab-df-convert\" onclick=\"convertToInteractive('df-0d5b16d3-4ed9-43bc-a1ed-ba3d46e4e1ba')\"\n",
              "              title=\"Convert this dataframe to an interactive table.\"\n",
              "              style=\"display:none;\">\n",
              "        \n",
              "  <svg xmlns=\"http://www.w3.org/2000/svg\" height=\"24px\"viewBox=\"0 0 24 24\"\n",
              "       width=\"24px\">\n",
              "    <path d=\"M0 0h24v24H0V0z\" fill=\"none\"/>\n",
              "    <path d=\"M18.56 5.44l.94 2.06.94-2.06 2.06-.94-2.06-.94-.94-2.06-.94 2.06-2.06.94zm-11 1L8.5 8.5l.94-2.06 2.06-.94-2.06-.94L8.5 2.5l-.94 2.06-2.06.94zm10 10l.94 2.06.94-2.06 2.06-.94-2.06-.94-.94-2.06-.94 2.06-2.06.94z\"/><path d=\"M17.41 7.96l-1.37-1.37c-.4-.4-.92-.59-1.43-.59-.52 0-1.04.2-1.43.59L10.3 9.45l-7.72 7.72c-.78.78-.78 2.05 0 2.83L4 21.41c.39.39.9.59 1.41.59.51 0 1.02-.2 1.41-.59l7.78-7.78 2.81-2.81c.8-.78.8-2.07 0-2.86zM5.41 20L4 18.59l7.72-7.72 1.47 1.35L5.41 20z\"/>\n",
              "  </svg>\n",
              "      </button>\n",
              "      \n",
              "  <style>\n",
              "    .colab-df-container {\n",
              "      display:flex;\n",
              "      flex-wrap:wrap;\n",
              "      gap: 12px;\n",
              "    }\n",
              "\n",
              "    .colab-df-convert {\n",
              "      background-color: #E8F0FE;\n",
              "      border: none;\n",
              "      border-radius: 50%;\n",
              "      cursor: pointer;\n",
              "      display: none;\n",
              "      fill: #1967D2;\n",
              "      height: 32px;\n",
              "      padding: 0 0 0 0;\n",
              "      width: 32px;\n",
              "    }\n",
              "\n",
              "    .colab-df-convert:hover {\n",
              "      background-color: #E2EBFA;\n",
              "      box-shadow: 0px 1px 2px rgba(60, 64, 67, 0.3), 0px 1px 3px 1px rgba(60, 64, 67, 0.15);\n",
              "      fill: #174EA6;\n",
              "    }\n",
              "\n",
              "    [theme=dark] .colab-df-convert {\n",
              "      background-color: #3B4455;\n",
              "      fill: #D2E3FC;\n",
              "    }\n",
              "\n",
              "    [theme=dark] .colab-df-convert:hover {\n",
              "      background-color: #434B5C;\n",
              "      box-shadow: 0px 1px 3px 1px rgba(0, 0, 0, 0.15);\n",
              "      filter: drop-shadow(0px 1px 2px rgba(0, 0, 0, 0.3));\n",
              "      fill: #FFFFFF;\n",
              "    }\n",
              "  </style>\n",
              "\n",
              "      <script>\n",
              "        const buttonEl =\n",
              "          document.querySelector('#df-0d5b16d3-4ed9-43bc-a1ed-ba3d46e4e1ba button.colab-df-convert');\n",
              "        buttonEl.style.display =\n",
              "          google.colab.kernel.accessAllowed ? 'block' : 'none';\n",
              "\n",
              "        async function convertToInteractive(key) {\n",
              "          const element = document.querySelector('#df-0d5b16d3-4ed9-43bc-a1ed-ba3d46e4e1ba');\n",
              "          const dataTable =\n",
              "            await google.colab.kernel.invokeFunction('convertToInteractive',\n",
              "                                                     [key], {});\n",
              "          if (!dataTable) return;\n",
              "\n",
              "          const docLinkHtml = 'Like what you see? Visit the ' +\n",
              "            '<a target=\"_blank\" href=https://colab.research.google.com/notebooks/data_table.ipynb>data table notebook</a>'\n",
              "            + ' to learn more about interactive tables.';\n",
              "          element.innerHTML = '';\n",
              "          dataTable['output_type'] = 'display_data';\n",
              "          await google.colab.output.renderOutput(dataTable, element);\n",
              "          const docLink = document.createElement('div');\n",
              "          docLink.innerHTML = docLinkHtml;\n",
              "          element.appendChild(docLink);\n",
              "        }\n",
              "      </script>\n",
              "    </div>\n",
              "  </div>\n",
              "  "
            ],
            "text/plain": [
              "              Day        Sales       Event\n",
              "count  388.000000   300.000000  104.000000\n",
              "mean    49.252577  1019.853148    0.115385\n",
              "std     28.469724   989.964287    0.321033\n",
              "min      1.000000    10.000000    0.000000\n",
              "25%     25.000000   180.675000    0.000000\n",
              "50%     49.000000  1000.000000    0.000000\n",
              "75%     73.000000  1246.950594    0.000000\n",
              "max    104.000000  4980.657414    1.000000"
            ]
          },
          "execution_count": 13,
          "metadata": {},
          "output_type": "execute_result"
        }
      ],
      "source": [
        "# Data Summary\n",
        "df1.describe()"
      ]
    },
    {
      "cell_type": "markdown",
      "source": [
        "Based on the data summary, the lowest sales made are 10 items and the maximum sales made are 4980 items."
      ],
      "metadata": {
        "id": "qz1RLi6LKnxk"
      }
    },
    {
      "cell_type": "markdown",
      "metadata": {
        "id": "-I9VS6UMiVCb"
      },
      "source": [
        "## Exploratory Data Analysis"
      ]
    },
    {
      "cell_type": "code",
      "execution_count": null,
      "metadata": {
        "colab": {
          "base_uri": "https://localhost:8080/",
          "height": 542
        },
        "id": "e7blYhWu_Z2B",
        "outputId": "31504b4f-7cef-4173-c304-96597bb4f4dc"
      },
      "outputs": [
        {
          "data": {
            "text/html": [
              "<html>\n",
              "<head><meta charset=\"utf-8\" /></head>\n",
              "<body>\n",
              "    <div>            <script src=\"https://cdnjs.cloudflare.com/ajax/libs/mathjax/2.7.5/MathJax.js?config=TeX-AMS-MML_SVG\"></script><script type=\"text/javascript\">if (window.MathJax) {MathJax.Hub.Config({SVG: {font: \"STIX-Web\"}});}</script>                <script type=\"text/javascript\">window.PlotlyConfig = {MathJaxConfig: 'local'};</script>\n",
              "        <script src=\"https://cdn.plot.ly/plotly-2.8.3.min.js\"></script>                <div id=\"99616a77-2a2d-46ea-90a8-577c503ab1ee\" class=\"plotly-graph-div\" style=\"height:525px; width:100%;\"></div>            <script type=\"text/javascript\">                                    window.PLOTLYENV=window.PLOTLYENV || {};                                    if (document.getElementById(\"99616a77-2a2d-46ea-90a8-577c503ab1ee\")) {                    Plotly.newPlot(                        \"99616a77-2a2d-46ea-90a8-577c503ab1ee\",                        [{\"alignmentgroup\":\"True\",\"bingroup\":\"x\",\"histfunc\":\"sum\",\"hovertemplate\":\"Product=A1<br>Day=%{x}<br>sum of Sales=%{y}<extra></extra>\",\"legendgroup\":\"A1\",\"marker\":{\"color\":\"#636efa\",\"pattern\":{\"shape\":\"\"}},\"name\":\"A1\",\"offsetgroup\":\"A1\",\"orientation\":\"v\",\"showlegend\":true,\"x\":[1,2,3,4,5,6,7,8,9,10,11,12,13,14,15,16,17,18,19,20,21,22,23,24,25,26,27,28,29,30,31,32,33,34,35,36,37,38,39,40,41,42,43,44,45,46,47,48,49,50,51,52,53,54,55,56,57,58,59,60,61,62,63,64,65,66,67,68,69,70,71,72,73,74,75,76,77,78,79,80,81,82,83,84,85,86,87,88,89,90],\"xaxis\":\"x\",\"y\":[100.0,101.0,102.01,103.0301,104.060401,105.10100501,113.0,106.0,107.06,108.1306,109.211906,110.30402506,111.4070653106,120.0,112.0,113.12,114.25120000000001,115.39371200000001,116.54764912,117.7131256112,126.0,120.0,121.2,122.412,123.63612,124.87248120000001,126.12120601200002,135.0,129.0,130.29,131.5929,132.908829,134.23791728999998,135.58029646289998,146.0,138.0,139.38,140.7738,142.181538,143.60335338,145.0393869138,150.0,145.0,146.45,147.9145,149.393645,150.88758145,160.0,154.0,155.54,157.09539999999998,158.66635399999998,160.25301753999997,161.85554771539998,163.47410319255397,170.0,163.0,164.63,166.2763,167.939063,169.61845363,171.3146381663,180.0,175.0,176.75,177.0,178.0,178.0,178.0,195.0,180.0,180.89999999999998,181.80449999999996,182.71352249999995,183.62709011249993,184.54522556306242,195.0,187.0,187.93499999999997,188.87467499999997,189.81904837499994,190.7681436168749,191.72198433495927,210.0,196.0,196.98,197.96489999999997,198.95472449999994,199.94949812249993,200.94924561311242],\"yaxis\":\"y\",\"type\":\"histogram\"},{\"alignmentgroup\":\"True\",\"customdata\":[[\"A\",\"A1\",null,\"2022-01-01T00:00:00\"],[\"A\",\"A1\",null,\"2022-01-02T00:00:00\"],[\"A\",\"A1\",null,\"2022-01-03T00:00:00\"],[\"A\",\"A1\",null,\"2022-01-04T00:00:00\"],[\"A\",\"A1\",null,\"2022-01-05T00:00:00\"],[\"A\",\"A1\",null,\"2022-01-06T00:00:00\"],[\"A\",\"A1\",null,\"2022-01-07T00:00:00\"],[\"A\",\"A1\",null,\"2022-01-08T00:00:00\"],[\"A\",\"A1\",null,\"2022-01-09T00:00:00\"],[\"A\",\"A1\",null,\"2022-01-10T00:00:00\"],[\"A\",\"A1\",null,\"2022-01-11T00:00:00\"],[\"A\",\"A1\",null,\"2022-01-12T00:00:00\"],[\"A\",\"A1\",null,\"2022-01-13T00:00:00\"],[\"A\",\"A1\",null,\"2022-01-14T00:00:00\"],[\"A\",\"A1\",null,\"2022-01-15T00:00:00\"],[\"A\",\"A1\",null,\"2022-01-16T00:00:00\"],[\"A\",\"A1\",null,\"2022-01-17T00:00:00\"],[\"A\",\"A1\",null,\"2022-01-18T00:00:00\"],[\"A\",\"A1\",null,\"2022-01-19T00:00:00\"],[\"A\",\"A1\",null,\"2022-01-20T00:00:00\"],[\"A\",\"A1\",null,\"2022-01-21T00:00:00\"],[\"A\",\"A1\",null,\"2022-01-22T00:00:00\"],[\"A\",\"A1\",null,\"2022-01-23T00:00:00\"],[\"A\",\"A1\",null,\"2022-01-24T00:00:00\"],[\"A\",\"A1\",null,\"2022-01-25T00:00:00\"],[\"A\",\"A1\",null,\"2022-01-26T00:00:00\"],[\"A\",\"A1\",null,\"2022-01-27T00:00:00\"],[\"A\",\"A1\",null,\"2022-01-28T00:00:00\"],[\"A\",\"A1\",null,\"2022-01-29T00:00:00\"],[\"A\",\"A1\",null,\"2022-01-30T00:00:00\"],[\"A\",\"A1\",null,\"2022-01-31T00:00:00\"],[\"A\",\"A1\",null,\"2022-02-01T00:00:00\"],[\"A\",\"A1\",null,\"2022-02-02T00:00:00\"],[\"A\",\"A1\",null,\"2022-02-03T00:00:00\"],[\"A\",\"A1\",null,\"2022-02-04T00:00:00\"],[\"A\",\"A1\",null,\"2022-02-05T00:00:00\"],[\"A\",\"A1\",null,\"2022-02-06T00:00:00\"],[\"A\",\"A1\",null,\"2022-02-07T00:00:00\"],[\"A\",\"A1\",null,\"2022-02-08T00:00:00\"],[\"A\",\"A1\",null,\"2022-02-09T00:00:00\"],[\"A\",\"A1\",null,\"2022-02-10T00:00:00\"],[\"A\",\"A1\",null,\"2022-02-11T00:00:00\"],[\"A\",\"A1\",null,\"2022-02-12T00:00:00\"],[\"A\",\"A1\",null,\"2022-02-13T00:00:00\"],[\"A\",\"A1\",null,\"2022-02-14T00:00:00\"],[\"A\",\"A1\",null,\"2022-02-15T00:00:00\"],[\"A\",\"A1\",null,\"2022-02-16T00:00:00\"],[\"A\",\"A1\",null,\"2022-02-17T00:00:00\"],[\"A\",\"A1\",null,\"2022-02-18T00:00:00\"],[\"A\",\"A1\",null,\"2022-02-19T00:00:00\"],[\"A\",\"A1\",null,\"2022-02-20T00:00:00\"],[\"A\",\"A1\",null,\"2022-02-21T00:00:00\"],[\"A\",\"A1\",null,\"2022-02-22T00:00:00\"],[\"A\",\"A1\",null,\"2022-02-23T00:00:00\"],[\"A\",\"A1\",null,\"2022-02-24T00:00:00\"],[\"A\",\"A1\",null,\"2022-02-25T00:00:00\"],[\"A\",\"A1\",null,\"2022-02-26T00:00:00\"],[\"A\",\"A1\",null,\"2022-02-27T00:00:00\"],[\"A\",\"A1\",null,\"2022-02-28T00:00:00\"],[\"A\",\"A1\",null,\"2022-03-01T00:00:00\"],[\"A\",\"A1\",null,\"2022-03-02T00:00:00\"],[\"A\",\"A1\",null,\"2022-03-03T00:00:00\"],[\"A\",\"A1\",null,\"2022-03-04T00:00:00\"],[\"A\",\"A1\",null,\"2022-03-05T00:00:00\"],[\"A\",\"A1\",null,\"2022-03-06T00:00:00\"],[\"A\",\"A1\",null,\"2022-03-07T00:00:00\"],[\"A\",\"A1\",null,\"2022-03-08T00:00:00\"],[\"A\",\"A1\",null,\"2022-03-09T00:00:00\"],[\"A\",\"A1\",null,\"2022-03-10T00:00:00\"],[\"A\",\"A1\",null,\"2022-03-11T00:00:00\"],[\"A\",\"A1\",null,\"2022-03-12T00:00:00\"],[\"A\",\"A1\",null,\"2022-03-13T00:00:00\"],[\"A\",\"A1\",null,\"2022-03-14T00:00:00\"],[\"A\",\"A1\",null,\"2022-03-15T00:00:00\"],[\"A\",\"A1\",null,\"2022-03-16T00:00:00\"],[\"A\",\"A1\",null,\"2022-03-17T00:00:00\"],[\"A\",\"A1\",null,\"2022-03-18T00:00:00\"],[\"A\",\"A1\",null,\"2022-03-19T00:00:00\"],[\"A\",\"A1\",null,\"2022-03-20T00:00:00\"],[\"A\",\"A1\",null,\"2022-03-21T00:00:00\"],[\"A\",\"A1\",null,\"2022-03-22T00:00:00\"],[\"A\",\"A1\",null,\"2022-03-23T00:00:00\"],[\"A\",\"A1\",null,\"2022-03-24T00:00:00\"],[\"A\",\"A1\",null,\"2022-03-25T00:00:00\"],[\"A\",\"A1\",null,\"2022-03-26T00:00:00\"],[\"A\",\"A1\",null,\"2022-03-27T00:00:00\"],[\"A\",\"A1\",null,\"2022-03-28T00:00:00\"],[\"A\",\"A1\",null,\"2022-03-29T00:00:00\"],[\"A\",\"A1\",null,\"2022-03-30T00:00:00\"],[\"A\",\"A1\",null,\"2022-03-31T00:00:00\"]],\"hovertemplate\":\"Product=%{customdata[1]}<br>Day=%{x}<br>Category=%{customdata[0]}<br>Event=%{customdata[2]}<br>Date=%{customdata[3]}<extra></extra>\",\"legendgroup\":\"A1\",\"marker\":{\"color\":\"#636efa\"},\"name\":\"A1\",\"notched\":true,\"offsetgroup\":\"A1\",\"showlegend\":false,\"x\":[1,2,3,4,5,6,7,8,9,10,11,12,13,14,15,16,17,18,19,20,21,22,23,24,25,26,27,28,29,30,31,32,33,34,35,36,37,38,39,40,41,42,43,44,45,46,47,48,49,50,51,52,53,54,55,56,57,58,59,60,61,62,63,64,65,66,67,68,69,70,71,72,73,74,75,76,77,78,79,80,81,82,83,84,85,86,87,88,89,90],\"xaxis\":\"x2\",\"yaxis\":\"y2\",\"type\":\"box\"},{\"alignmentgroup\":\"True\",\"bingroup\":\"x\",\"histfunc\":\"sum\",\"hovertemplate\":\"Product=A2<br>Day=%{x}<br>sum of Sales=%{y}<extra></extra>\",\"legendgroup\":\"A2\",\"marker\":{\"color\":\"#EF553B\",\"pattern\":{\"shape\":\"\"}},\"name\":\"A2\",\"offsetgroup\":\"A2\",\"orientation\":\"v\",\"showlegend\":true,\"x\":[1,2,3,4,5,6,7,8,9,10,11,12,13,14,15,16,17,18,19,20,21,22,23,24,25,26,27,28,29,30,31,32,33,34,35,36,37,38,39,40,41,42,43,44,45,46,47,48,49,50,51,52,53,54,55,56,57,58,59,60,61,62,63,64,65,66,67,68,69,70,71,72,73,74,75,76,77,78,79,80,81,82,83,84,85,86,87,88,89,90],\"xaxis\":\"x\",\"y\":[1000.0,1004.9999999999999,1010.0249999999997,1015.0751249999996,1020.1505006249995,1025.2512531281243,1075.3775093937647,1035.5293969407335,1040.7070439254371,1045.9105791450643,1051.1401320407895,1056.3958327009932,1061.6778118644982,1111.9862009238204,1072.3211319284394,1077.6827375880814,1083.0711512760217,1088.4865070324017,1093.9289395675637,1099.3985842654015,1149.8955771867284,1110.4200550726619,1115.9721553480251,1121.552016124765,1127.1597762053887,1132.7955750864155,1138.4595529618475,1189.1518507266567,1149.8726099802898,1155.6219730301912,1161.400082895342,1167.2070833098185,1173.0431187263675,1178.9083343199993,1229.8028759915992,1190.7268903715571,1196.6805248234148,1202.6639274475317,1208.6772470847693,1214.720633320193,1220.7942364867938,1271.8982076692278,1233.0326987075737,1239.1978622011113,1245.3938515121167,1251.6208207696773,1257.8789248735254,1264.168319497893,1315.4891610953823,1276.841606900859,1283.2258149353631,1289.6419440100399,1296.09015373009,1302.5706044987403,1309.0834575212339,1360.62887480884,1322.207019182884,1328.8180542787984,1335.4621445501923,1342.1394552729432,1348.8501525493077,1355.594403312054,1407.3723753286142,1369.1842372052572,1376.0301583912833,1382.9103091832396,1389.8248607291557,1396.7739850328014,1403.7578549579653,1455.776644232755,1417.8305274539186,1424.9196800911882,1432.044278491644,1439.204499884102,1446.4005223835225,1453.63252499544,1505.900687620417,1468.205191058519,1475.5462170138114,1482.9239480988804,1490.3385678393747,1497.7902606785715,1505.2792119819642,1557.805608041874,1520.3696360820832,1527.9714842624935,1535.611341683806,1543.2893983922247,1551.0058453841857,1558.7608746111064],\"yaxis\":\"y\",\"type\":\"histogram\"},{\"alignmentgroup\":\"True\",\"customdata\":[[\"A\",\"A2\",null,\"2022-01-01T00:00:00\"],[\"A\",\"A2\",null,\"2022-01-02T00:00:00\"],[\"A\",\"A2\",null,\"2022-01-03T00:00:00\"],[\"A\",\"A2\",null,\"2022-01-04T00:00:00\"],[\"A\",\"A2\",null,\"2022-01-05T00:00:00\"],[\"A\",\"A2\",null,\"2022-01-06T00:00:00\"],[\"A\",\"A2\",null,\"2022-01-07T00:00:00\"],[\"A\",\"A2\",null,\"2022-01-08T00:00:00\"],[\"A\",\"A2\",null,\"2022-01-09T00:00:00\"],[\"A\",\"A2\",null,\"2022-01-10T00:00:00\"],[\"A\",\"A2\",null,\"2022-01-11T00:00:00\"],[\"A\",\"A2\",null,\"2022-01-12T00:00:00\"],[\"A\",\"A2\",null,\"2022-01-13T00:00:00\"],[\"A\",\"A2\",null,\"2022-01-14T00:00:00\"],[\"A\",\"A2\",null,\"2022-01-15T00:00:00\"],[\"A\",\"A2\",null,\"2022-01-16T00:00:00\"],[\"A\",\"A2\",null,\"2022-01-17T00:00:00\"],[\"A\",\"A2\",null,\"2022-01-18T00:00:00\"],[\"A\",\"A2\",null,\"2022-01-19T00:00:00\"],[\"A\",\"A2\",null,\"2022-01-20T00:00:00\"],[\"A\",\"A2\",null,\"2022-01-21T00:00:00\"],[\"A\",\"A2\",null,\"2022-01-22T00:00:00\"],[\"A\",\"A2\",null,\"2022-01-23T00:00:00\"],[\"A\",\"A2\",null,\"2022-01-24T00:00:00\"],[\"A\",\"A2\",null,\"2022-01-25T00:00:00\"],[\"A\",\"A2\",null,\"2022-01-26T00:00:00\"],[\"A\",\"A2\",null,\"2022-01-27T00:00:00\"],[\"A\",\"A2\",null,\"2022-01-28T00:00:00\"],[\"A\",\"A2\",null,\"2022-01-29T00:00:00\"],[\"A\",\"A2\",null,\"2022-01-30T00:00:00\"],[\"A\",\"A2\",null,\"2022-01-31T00:00:00\"],[\"A\",\"A2\",null,\"2022-02-01T00:00:00\"],[\"A\",\"A2\",null,\"2022-02-02T00:00:00\"],[\"A\",\"A2\",null,\"2022-02-03T00:00:00\"],[\"A\",\"A2\",null,\"2022-02-04T00:00:00\"],[\"A\",\"A2\",null,\"2022-02-05T00:00:00\"],[\"A\",\"A2\",null,\"2022-02-06T00:00:00\"],[\"A\",\"A2\",null,\"2022-02-07T00:00:00\"],[\"A\",\"A2\",null,\"2022-02-08T00:00:00\"],[\"A\",\"A2\",null,\"2022-02-09T00:00:00\"],[\"A\",\"A2\",null,\"2022-02-10T00:00:00\"],[\"A\",\"A2\",null,\"2022-02-11T00:00:00\"],[\"A\",\"A2\",null,\"2022-02-12T00:00:00\"],[\"A\",\"A2\",null,\"2022-02-13T00:00:00\"],[\"A\",\"A2\",null,\"2022-02-14T00:00:00\"],[\"A\",\"A2\",null,\"2022-02-15T00:00:00\"],[\"A\",\"A2\",null,\"2022-02-16T00:00:00\"],[\"A\",\"A2\",null,\"2022-02-17T00:00:00\"],[\"A\",\"A2\",null,\"2022-02-18T00:00:00\"],[\"A\",\"A2\",null,\"2022-02-19T00:00:00\"],[\"A\",\"A2\",null,\"2022-02-20T00:00:00\"],[\"A\",\"A2\",null,\"2022-02-21T00:00:00\"],[\"A\",\"A2\",null,\"2022-02-22T00:00:00\"],[\"A\",\"A2\",null,\"2022-02-23T00:00:00\"],[\"A\",\"A2\",null,\"2022-02-24T00:00:00\"],[\"A\",\"A2\",null,\"2022-02-25T00:00:00\"],[\"A\",\"A2\",null,\"2022-02-26T00:00:00\"],[\"A\",\"A2\",null,\"2022-02-27T00:00:00\"],[\"A\",\"A2\",null,\"2022-02-28T00:00:00\"],[\"A\",\"A2\",null,\"2022-03-01T00:00:00\"],[\"A\",\"A2\",null,\"2022-03-02T00:00:00\"],[\"A\",\"A2\",null,\"2022-03-03T00:00:00\"],[\"A\",\"A2\",null,\"2022-03-04T00:00:00\"],[\"A\",\"A2\",null,\"2022-03-05T00:00:00\"],[\"A\",\"A2\",null,\"2022-03-06T00:00:00\"],[\"A\",\"A2\",null,\"2022-03-07T00:00:00\"],[\"A\",\"A2\",null,\"2022-03-08T00:00:00\"],[\"A\",\"A2\",null,\"2022-03-09T00:00:00\"],[\"A\",\"A2\",null,\"2022-03-10T00:00:00\"],[\"A\",\"A2\",null,\"2022-03-11T00:00:00\"],[\"A\",\"A2\",null,\"2022-03-12T00:00:00\"],[\"A\",\"A2\",null,\"2022-03-13T00:00:00\"],[\"A\",\"A2\",null,\"2022-03-14T00:00:00\"],[\"A\",\"A2\",null,\"2022-03-15T00:00:00\"],[\"A\",\"A2\",null,\"2022-03-16T00:00:00\"],[\"A\",\"A2\",null,\"2022-03-17T00:00:00\"],[\"A\",\"A2\",null,\"2022-03-18T00:00:00\"],[\"A\",\"A2\",null,\"2022-03-19T00:00:00\"],[\"A\",\"A2\",null,\"2022-03-20T00:00:00\"],[\"A\",\"A2\",null,\"2022-03-21T00:00:00\"],[\"A\",\"A2\",null,\"2022-03-22T00:00:00\"],[\"A\",\"A2\",null,\"2022-03-23T00:00:00\"],[\"A\",\"A2\",null,\"2022-03-24T00:00:00\"],[\"A\",\"A2\",null,\"2022-03-25T00:00:00\"],[\"A\",\"A2\",null,\"2022-03-26T00:00:00\"],[\"A\",\"A2\",null,\"2022-03-27T00:00:00\"],[\"A\",\"A2\",null,\"2022-03-28T00:00:00\"],[\"A\",\"A2\",null,\"2022-03-29T00:00:00\"],[\"A\",\"A2\",null,\"2022-03-30T00:00:00\"],[\"A\",\"A2\",null,\"2022-03-31T00:00:00\"]],\"hovertemplate\":\"Product=%{customdata[1]}<br>Day=%{x}<br>Category=%{customdata[0]}<br>Event=%{customdata[2]}<br>Date=%{customdata[3]}<extra></extra>\",\"legendgroup\":\"A2\",\"marker\":{\"color\":\"#EF553B\"},\"name\":\"A2\",\"notched\":true,\"offsetgroup\":\"A2\",\"showlegend\":false,\"x\":[1,2,3,4,5,6,7,8,9,10,11,12,13,14,15,16,17,18,19,20,21,22,23,24,25,26,27,28,29,30,31,32,33,34,35,36,37,38,39,40,41,42,43,44,45,46,47,48,49,50,51,52,53,54,55,56,57,58,59,60,61,62,63,64,65,66,67,68,69,70,71,72,73,74,75,76,77,78,79,80,81,82,83,84,85,86,87,88,89,90],\"xaxis\":\"x2\",\"yaxis\":\"y2\",\"type\":\"box\"},{\"alignmentgroup\":\"True\",\"bingroup\":\"x\",\"histfunc\":\"sum\",\"hovertemplate\":\"Product=B1<br>Day=%{x}<br>sum of Sales=%{y}<extra></extra>\",\"legendgroup\":\"B1\",\"marker\":{\"color\":\"#00cc96\",\"pattern\":{\"shape\":\"\"}},\"name\":\"B1\",\"offsetgroup\":\"B1\",\"orientation\":\"v\",\"showlegend\":true,\"x\":[1,2,3,4,5,6,7,8,9,10,11,12,13,14,15,16,17,18,19,20,21,22,23,24,25,26,27,28,29,30,31,32,33,34,35,36,37,38,39,40,41,42,43,44,45,46,47,48,49,50,51,52,53,54,55,56,57,58,59,60,61,62,63,64,65,66,67,68,69,70,71,72,73,74,75,76,77,78,79,80,81,82,83,84,85,86,87,88,89,90,91,92,93,94,95,96,97,98,99,100,101,102,103,104],\"xaxis\":\"x\",\"y\":[990.0,980.0,1010.0,1010.0,1000.0,1000.0,1717.0,1020.0,970.0,1000.0,1020.0,1000.0,1000.0,970.0,1700.0,980.0,980.0,970.0,980.0,970.0,980.0,980.0,990.0,970.0,1020.0,1734.0,970.0,990.0,980.0,990.0,1000.0,970.0,980.0,990.0,980.0,990.0,1010.0,1010.0,1000.0,1649.0,1010.0,990.0,1010.0,1010.0,1550.0,990.0,1000.0,990.0,1020.0,1010.0,1000.0,990.0,980.0,1650.0,990.0,1000.0,1010.0,1010.0,1000.0,980.0,1555.0,970.0,1000.0,1020.0,1000.0,990.0,1000.0,1560.0,990.0,970.0,980.0,1000.0,1000.0,990.0,970.0,990.0,1545.0,990.0,1020.0,1020.0,1020.0,990.0,1020.0,980.0,980.0,1010.0,1020.0,1455.0,1010.0,990.0,null,null,null,null,null,null,null,null,null,null,null,null,null,null],\"yaxis\":\"y\",\"type\":\"histogram\"},{\"alignmentgroup\":\"True\",\"customdata\":[[\"B\",\"B1\",0.0,\"2022-01-01T00:00:00\"],[\"B\",\"B1\",0.0,\"2022-01-02T00:00:00\"],[\"B\",\"B1\",0.0,\"2022-01-03T00:00:00\"],[\"B\",\"B1\",0.0,\"2022-01-04T00:00:00\"],[\"B\",\"B1\",0.0,\"2022-01-05T00:00:00\"],[\"B\",\"B1\",0.0,\"2022-01-06T00:00:00\"],[\"B\",\"B1\",1.0,\"2022-01-07T00:00:00\"],[\"B\",\"B1\",0.0,\"2022-01-08T00:00:00\"],[\"B\",\"B1\",0.0,\"2022-01-09T00:00:00\"],[\"B\",\"B1\",0.0,\"2022-01-10T00:00:00\"],[\"B\",\"B1\",0.0,\"2022-01-11T00:00:00\"],[\"B\",\"B1\",0.0,\"2022-01-12T00:00:00\"],[\"B\",\"B1\",0.0,\"2022-01-13T00:00:00\"],[\"B\",\"B1\",0.0,\"2022-01-14T00:00:00\"],[\"B\",\"B1\",1.0,\"2022-01-15T00:00:00\"],[\"B\",\"B1\",0.0,\"2022-01-16T00:00:00\"],[\"B\",\"B1\",0.0,\"2022-01-17T00:00:00\"],[\"B\",\"B1\",0.0,\"2022-01-18T00:00:00\"],[\"B\",\"B1\",0.0,\"2022-01-19T00:00:00\"],[\"B\",\"B1\",0.0,\"2022-01-20T00:00:00\"],[\"B\",\"B1\",0.0,\"2022-01-21T00:00:00\"],[\"B\",\"B1\",0.0,\"2022-01-22T00:00:00\"],[\"B\",\"B1\",0.0,\"2022-01-23T00:00:00\"],[\"B\",\"B1\",0.0,\"2022-01-24T00:00:00\"],[\"B\",\"B1\",0.0,\"2022-01-25T00:00:00\"],[\"B\",\"B1\",1.0,\"2022-01-26T00:00:00\"],[\"B\",\"B1\",0.0,\"2022-01-27T00:00:00\"],[\"B\",\"B1\",0.0,\"2022-01-28T00:00:00\"],[\"B\",\"B1\",0.0,\"2022-01-29T00:00:00\"],[\"B\",\"B1\",0.0,\"2022-01-30T00:00:00\"],[\"B\",\"B1\",0.0,\"2022-01-31T00:00:00\"],[\"B\",\"B1\",0.0,\"2022-02-01T00:00:00\"],[\"B\",\"B1\",0.0,\"2022-02-02T00:00:00\"],[\"B\",\"B1\",0.0,\"2022-02-03T00:00:00\"],[\"B\",\"B1\",0.0,\"2022-02-04T00:00:00\"],[\"B\",\"B1\",0.0,\"2022-02-05T00:00:00\"],[\"B\",\"B1\",0.0,\"2022-02-06T00:00:00\"],[\"B\",\"B1\",0.0,\"2022-02-07T00:00:00\"],[\"B\",\"B1\",0.0,\"2022-02-08T00:00:00\"],[\"B\",\"B1\",1.0,\"2022-02-09T00:00:00\"],[\"B\",\"B1\",0.0,\"2022-02-10T00:00:00\"],[\"B\",\"B1\",0.0,\"2022-02-11T00:00:00\"],[\"B\",\"B1\",0.0,\"2022-02-12T00:00:00\"],[\"B\",\"B1\",0.0,\"2022-02-13T00:00:00\"],[\"B\",\"B1\",1.0,\"2022-02-14T00:00:00\"],[\"B\",\"B1\",0.0,\"2022-02-15T00:00:00\"],[\"B\",\"B1\",0.0,\"2022-02-16T00:00:00\"],[\"B\",\"B1\",0.0,\"2022-02-17T00:00:00\"],[\"B\",\"B1\",0.0,\"2022-02-18T00:00:00\"],[\"B\",\"B1\",0.0,\"2022-02-19T00:00:00\"],[\"B\",\"B1\",0.0,\"2022-02-20T00:00:00\"],[\"B\",\"B1\",0.0,\"2022-02-21T00:00:00\"],[\"B\",\"B1\",0.0,\"2022-02-22T00:00:00\"],[\"B\",\"B1\",1.0,\"2022-02-23T00:00:00\"],[\"B\",\"B1\",0.0,\"2022-02-24T00:00:00\"],[\"B\",\"B1\",0.0,\"2022-02-25T00:00:00\"],[\"B\",\"B1\",0.0,\"2022-02-26T00:00:00\"],[\"B\",\"B1\",0.0,\"2022-02-27T00:00:00\"],[\"B\",\"B1\",0.0,\"2022-02-28T00:00:00\"],[\"B\",\"B1\",0.0,\"2022-03-01T00:00:00\"],[\"B\",\"B1\",1.0,\"2022-03-02T00:00:00\"],[\"B\",\"B1\",0.0,\"2022-03-03T00:00:00\"],[\"B\",\"B1\",0.0,\"2022-03-04T00:00:00\"],[\"B\",\"B1\",0.0,\"2022-03-05T00:00:00\"],[\"B\",\"B1\",0.0,\"2022-03-06T00:00:00\"],[\"B\",\"B1\",0.0,\"2022-03-07T00:00:00\"],[\"B\",\"B1\",0.0,\"2022-03-08T00:00:00\"],[\"B\",\"B1\",1.0,\"2022-03-09T00:00:00\"],[\"B\",\"B1\",0.0,\"2022-03-10T00:00:00\"],[\"B\",\"B1\",0.0,\"2022-03-11T00:00:00\"],[\"B\",\"B1\",0.0,\"2022-03-12T00:00:00\"],[\"B\",\"B1\",0.0,\"2022-03-13T00:00:00\"],[\"B\",\"B1\",0.0,\"2022-03-14T00:00:00\"],[\"B\",\"B1\",0.0,\"2022-03-15T00:00:00\"],[\"B\",\"B1\",0.0,\"2022-03-16T00:00:00\"],[\"B\",\"B1\",0.0,\"2022-03-17T00:00:00\"],[\"B\",\"B1\",1.0,\"2022-03-18T00:00:00\"],[\"B\",\"B1\",0.0,\"2022-03-19T00:00:00\"],[\"B\",\"B1\",0.0,\"2022-03-20T00:00:00\"],[\"B\",\"B1\",0.0,\"2022-03-21T00:00:00\"],[\"B\",\"B1\",0.0,\"2022-03-22T00:00:00\"],[\"B\",\"B1\",0.0,\"2022-03-23T00:00:00\"],[\"B\",\"B1\",0.0,\"2022-03-24T00:00:00\"],[\"B\",\"B1\",0.0,\"2022-03-25T00:00:00\"],[\"B\",\"B1\",0.0,\"2022-03-26T00:00:00\"],[\"B\",\"B1\",0.0,\"2022-03-27T00:00:00\"],[\"B\",\"B1\",0.0,\"2022-03-28T00:00:00\"],[\"B\",\"B1\",1.0,\"2022-03-29T00:00:00\"],[\"B\",\"B1\",0.0,\"2022-03-30T00:00:00\"],[\"B\",\"B1\",0.0,\"2022-03-31T00:00:00\"],[\"B\",\"B1\",0.0,\"2022-04-01T00:00:00\"],[\"B\",\"B1\",0.0,\"2022-04-02T00:00:00\"],[\"B\",\"B1\",0.0,\"2022-04-03T00:00:00\"],[\"B\",\"B1\",1.0,\"2022-04-04T00:00:00\"],[\"B\",\"B1\",0.0,\"2022-04-05T00:00:00\"],[\"B\",\"B1\",0.0,\"2022-04-06T00:00:00\"],[\"B\",\"B1\",0.0,\"2022-04-07T00:00:00\"],[\"B\",\"B1\",0.0,\"2022-04-08T00:00:00\"],[\"B\",\"B1\",0.0,\"2022-04-09T00:00:00\"],[\"B\",\"B1\",0.0,\"2022-04-10T00:00:00\"],[\"B\",\"B1\",1.0,\"2022-04-11T00:00:00\"],[\"B\",\"B1\",0.0,\"2022-04-12T00:00:00\"],[\"B\",\"B1\",0.0,\"2022-04-13T00:00:00\"],[\"B\",\"B1\",0.0,\"2022-04-14T00:00:00\"]],\"hovertemplate\":\"Product=%{customdata[1]}<br>Day=%{x}<br>Category=%{customdata[0]}<br>Event=%{customdata[2]}<br>Date=%{customdata[3]}<extra></extra>\",\"legendgroup\":\"B1\",\"marker\":{\"color\":\"#00cc96\"},\"name\":\"B1\",\"notched\":true,\"offsetgroup\":\"B1\",\"showlegend\":false,\"x\":[1,2,3,4,5,6,7,8,9,10,11,12,13,14,15,16,17,18,19,20,21,22,23,24,25,26,27,28,29,30,31,32,33,34,35,36,37,38,39,40,41,42,43,44,45,46,47,48,49,50,51,52,53,54,55,56,57,58,59,60,61,62,63,64,65,66,67,68,69,70,71,72,73,74,75,76,77,78,79,80,81,82,83,84,85,86,87,88,89,90,91,92,93,94,95,96,97,98,99,100,101,102,103,104],\"xaxis\":\"x2\",\"yaxis\":\"y2\",\"type\":\"box\"},{\"alignmentgroup\":\"True\",\"bingroup\":\"x\",\"histfunc\":\"sum\",\"hovertemplate\":\"Product=B2<br>Day=%{x}<br>sum of Sales=%{y}<extra></extra>\",\"legendgroup\":\"B2\",\"marker\":{\"color\":\"#ab63fa\",\"pattern\":{\"shape\":\"\"}},\"name\":\"B2\",\"offsetgroup\":\"B2\",\"orientation\":\"v\",\"showlegend\":true,\"x\":[1,2,3,4,5,6,7,8,9,10,11,12,13,14,15,16,17,18,19,20,21,22,23,24,25,26,27,28,29,30,31,32,33,34,35,36,37,38,39,40,41,42,43,44,45,46,47,48,49,50,51,52,53,54,55,56,57,58,59,60,61,62,63,64,65,66,67,68,69,70,71,72,73,74,75,76,77,78,79,80,81,82,83,84,85,86,87,88,89,90,91,92,93,94,95,96,97,98,99,100,101,102,103,104],\"xaxis\":\"x\",\"y\":[null,null,null,null,null,null,null,null,null,null,null,null,null,null,null,null,null,null,null,null,null,null,null,null,null,null,null,null,null,null,null,null,null,null,null,null,null,null,null,null,null,null,null,null,null,null,null,null,null,null,null,null,null,null,null,null,null,null,null,null,10.0,20.0,40.0,80.0,144.0,259.2,300.0,450.0,560.0,840.0,1000.0,1500.0,2250.0,2700.0,3186.0,3695.7599999999998,3991.4208,4310.734464,4440.05649792,4573.2581928576,4710.455938643328,4748.139586152475,4786.124702841695,4824.413700464428,4863.009010068144,4901.913082148689,4941.128386805878,4980.657413900325,4900.0,4850.0,null,null,null,null,null,null,null,null,null,null,null,null,null,null],\"yaxis\":\"y\",\"type\":\"histogram\"},{\"alignmentgroup\":\"True\",\"customdata\":[[\"B\",\"B2\",null,\"2022-01-01T00:00:00\"],[\"B\",\"B2\",null,\"2022-01-02T00:00:00\"],[\"B\",\"B2\",null,\"2022-01-03T00:00:00\"],[\"B\",\"B2\",null,\"2022-01-04T00:00:00\"],[\"B\",\"B2\",null,\"2022-01-05T00:00:00\"],[\"B\",\"B2\",null,\"2022-01-06T00:00:00\"],[\"B\",\"B2\",null,\"2022-01-07T00:00:00\"],[\"B\",\"B2\",null,\"2022-01-08T00:00:00\"],[\"B\",\"B2\",null,\"2022-01-09T00:00:00\"],[\"B\",\"B2\",null,\"2022-01-10T00:00:00\"],[\"B\",\"B2\",null,\"2022-01-11T00:00:00\"],[\"B\",\"B2\",null,\"2022-01-12T00:00:00\"],[\"B\",\"B2\",null,\"2022-01-13T00:00:00\"],[\"B\",\"B2\",null,\"2022-01-14T00:00:00\"],[\"B\",\"B2\",null,\"2022-01-15T00:00:00\"],[\"B\",\"B2\",null,\"2022-01-16T00:00:00\"],[\"B\",\"B2\",null,\"2022-01-17T00:00:00\"],[\"B\",\"B2\",null,\"2022-01-18T00:00:00\"],[\"B\",\"B2\",null,\"2022-01-19T00:00:00\"],[\"B\",\"B2\",null,\"2022-01-20T00:00:00\"],[\"B\",\"B2\",null,\"2022-01-21T00:00:00\"],[\"B\",\"B2\",null,\"2022-01-22T00:00:00\"],[\"B\",\"B2\",null,\"2022-01-23T00:00:00\"],[\"B\",\"B2\",null,\"2022-01-24T00:00:00\"],[\"B\",\"B2\",null,\"2022-01-25T00:00:00\"],[\"B\",\"B2\",null,\"2022-01-26T00:00:00\"],[\"B\",\"B2\",null,\"2022-01-27T00:00:00\"],[\"B\",\"B2\",null,\"2022-01-28T00:00:00\"],[\"B\",\"B2\",null,\"2022-01-29T00:00:00\"],[\"B\",\"B2\",null,\"2022-01-30T00:00:00\"],[\"B\",\"B2\",null,\"2022-01-31T00:00:00\"],[\"B\",\"B2\",null,\"2022-02-01T00:00:00\"],[\"B\",\"B2\",null,\"2022-02-02T00:00:00\"],[\"B\",\"B2\",null,\"2022-02-03T00:00:00\"],[\"B\",\"B2\",null,\"2022-02-04T00:00:00\"],[\"B\",\"B2\",null,\"2022-02-05T00:00:00\"],[\"B\",\"B2\",null,\"2022-02-06T00:00:00\"],[\"B\",\"B2\",null,\"2022-02-07T00:00:00\"],[\"B\",\"B2\",null,\"2022-02-08T00:00:00\"],[\"B\",\"B2\",null,\"2022-02-09T00:00:00\"],[\"B\",\"B2\",null,\"2022-02-10T00:00:00\"],[\"B\",\"B2\",null,\"2022-02-11T00:00:00\"],[\"B\",\"B2\",null,\"2022-02-12T00:00:00\"],[\"B\",\"B2\",null,\"2022-02-13T00:00:00\"],[\"B\",\"B2\",null,\"2022-02-14T00:00:00\"],[\"B\",\"B2\",null,\"2022-02-15T00:00:00\"],[\"B\",\"B2\",null,\"2022-02-16T00:00:00\"],[\"B\",\"B2\",null,\"2022-02-17T00:00:00\"],[\"B\",\"B2\",null,\"2022-02-18T00:00:00\"],[\"B\",\"B2\",null,\"2022-02-19T00:00:00\"],[\"B\",\"B2\",null,\"2022-02-20T00:00:00\"],[\"B\",\"B2\",null,\"2022-02-21T00:00:00\"],[\"B\",\"B2\",null,\"2022-02-22T00:00:00\"],[\"B\",\"B2\",null,\"2022-02-23T00:00:00\"],[\"B\",\"B2\",null,\"2022-02-24T00:00:00\"],[\"B\",\"B2\",null,\"2022-02-25T00:00:00\"],[\"B\",\"B2\",null,\"2022-02-26T00:00:00\"],[\"B\",\"B2\",null,\"2022-02-27T00:00:00\"],[\"B\",\"B2\",null,\"2022-02-28T00:00:00\"],[\"B\",\"B2\",null,\"2022-03-01T00:00:00\"],[\"B\",\"B2\",null,\"2022-03-02T00:00:00\"],[\"B\",\"B2\",null,\"2022-03-03T00:00:00\"],[\"B\",\"B2\",null,\"2022-03-04T00:00:00\"],[\"B\",\"B2\",null,\"2022-03-05T00:00:00\"],[\"B\",\"B2\",null,\"2022-03-06T00:00:00\"],[\"B\",\"B2\",null,\"2022-03-07T00:00:00\"],[\"B\",\"B2\",null,\"2022-03-08T00:00:00\"],[\"B\",\"B2\",null,\"2022-03-09T00:00:00\"],[\"B\",\"B2\",null,\"2022-03-10T00:00:00\"],[\"B\",\"B2\",null,\"2022-03-11T00:00:00\"],[\"B\",\"B2\",null,\"2022-03-12T00:00:00\"],[\"B\",\"B2\",null,\"2022-03-13T00:00:00\"],[\"B\",\"B2\",null,\"2022-03-14T00:00:00\"],[\"B\",\"B2\",null,\"2022-03-15T00:00:00\"],[\"B\",\"B2\",null,\"2022-03-16T00:00:00\"],[\"B\",\"B2\",null,\"2022-03-17T00:00:00\"],[\"B\",\"B2\",null,\"2022-03-18T00:00:00\"],[\"B\",\"B2\",null,\"2022-03-19T00:00:00\"],[\"B\",\"B2\",null,\"2022-03-20T00:00:00\"],[\"B\",\"B2\",null,\"2022-03-21T00:00:00\"],[\"B\",\"B2\",null,\"2022-03-22T00:00:00\"],[\"B\",\"B2\",null,\"2022-03-23T00:00:00\"],[\"B\",\"B2\",null,\"2022-03-24T00:00:00\"],[\"B\",\"B2\",null,\"2022-03-25T00:00:00\"],[\"B\",\"B2\",null,\"2022-03-26T00:00:00\"],[\"B\",\"B2\",null,\"2022-03-27T00:00:00\"],[\"B\",\"B2\",null,\"2022-03-28T00:00:00\"],[\"B\",\"B2\",null,\"2022-03-29T00:00:00\"],[\"B\",\"B2\",null,\"2022-03-30T00:00:00\"],[\"B\",\"B2\",null,\"2022-03-31T00:00:00\"],[\"B\",\"B2\",null,\"2022-04-01T00:00:00\"],[\"B\",\"B2\",null,\"2022-04-02T00:00:00\"],[\"B\",\"B2\",null,\"2022-04-03T00:00:00\"],[\"B\",\"B2\",null,\"2022-04-04T00:00:00\"],[\"B\",\"B2\",null,\"2022-04-05T00:00:00\"],[\"B\",\"B2\",null,\"2022-04-06T00:00:00\"],[\"B\",\"B2\",null,\"2022-04-07T00:00:00\"],[\"B\",\"B2\",null,\"2022-04-08T00:00:00\"],[\"B\",\"B2\",null,\"2022-04-09T00:00:00\"],[\"B\",\"B2\",null,\"2022-04-10T00:00:00\"],[\"B\",\"B2\",null,\"2022-04-11T00:00:00\"],[\"B\",\"B2\",null,\"2022-04-12T00:00:00\"],[\"B\",\"B2\",null,\"2022-04-13T00:00:00\"],[\"B\",\"B2\",null,\"2022-04-14T00:00:00\"]],\"hovertemplate\":\"Product=%{customdata[1]}<br>Day=%{x}<br>Category=%{customdata[0]}<br>Event=%{customdata[2]}<br>Date=%{customdata[3]}<extra></extra>\",\"legendgroup\":\"B2\",\"marker\":{\"color\":\"#ab63fa\"},\"name\":\"B2\",\"notched\":true,\"offsetgroup\":\"B2\",\"showlegend\":false,\"x\":[1,2,3,4,5,6,7,8,9,10,11,12,13,14,15,16,17,18,19,20,21,22,23,24,25,26,27,28,29,30,31,32,33,34,35,36,37,38,39,40,41,42,43,44,45,46,47,48,49,50,51,52,53,54,55,56,57,58,59,60,61,62,63,64,65,66,67,68,69,70,71,72,73,74,75,76,77,78,79,80,81,82,83,84,85,86,87,88,89,90,91,92,93,94,95,96,97,98,99,100,101,102,103,104],\"xaxis\":\"x2\",\"yaxis\":\"y2\",\"type\":\"box\"}],                        {\"template\":{\"data\":{\"bar\":[{\"error_x\":{\"color\":\"#2a3f5f\"},\"error_y\":{\"color\":\"#2a3f5f\"},\"marker\":{\"line\":{\"color\":\"#E5ECF6\",\"width\":0.5},\"pattern\":{\"fillmode\":\"overlay\",\"size\":10,\"solidity\":0.2}},\"type\":\"bar\"}],\"barpolar\":[{\"marker\":{\"line\":{\"color\":\"#E5ECF6\",\"width\":0.5},\"pattern\":{\"fillmode\":\"overlay\",\"size\":10,\"solidity\":0.2}},\"type\":\"barpolar\"}],\"carpet\":[{\"aaxis\":{\"endlinecolor\":\"#2a3f5f\",\"gridcolor\":\"white\",\"linecolor\":\"white\",\"minorgridcolor\":\"white\",\"startlinecolor\":\"#2a3f5f\"},\"baxis\":{\"endlinecolor\":\"#2a3f5f\",\"gridcolor\":\"white\",\"linecolor\":\"white\",\"minorgridcolor\":\"white\",\"startlinecolor\":\"#2a3f5f\"},\"type\":\"carpet\"}],\"choropleth\":[{\"colorbar\":{\"outlinewidth\":0,\"ticks\":\"\"},\"type\":\"choropleth\"}],\"contour\":[{\"colorbar\":{\"outlinewidth\":0,\"ticks\":\"\"},\"colorscale\":[[0.0,\"#0d0887\"],[0.1111111111111111,\"#46039f\"],[0.2222222222222222,\"#7201a8\"],[0.3333333333333333,\"#9c179e\"],[0.4444444444444444,\"#bd3786\"],[0.5555555555555556,\"#d8576b\"],[0.6666666666666666,\"#ed7953\"],[0.7777777777777778,\"#fb9f3a\"],[0.8888888888888888,\"#fdca26\"],[1.0,\"#f0f921\"]],\"type\":\"contour\"}],\"contourcarpet\":[{\"colorbar\":{\"outlinewidth\":0,\"ticks\":\"\"},\"type\":\"contourcarpet\"}],\"heatmap\":[{\"colorbar\":{\"outlinewidth\":0,\"ticks\":\"\"},\"colorscale\":[[0.0,\"#0d0887\"],[0.1111111111111111,\"#46039f\"],[0.2222222222222222,\"#7201a8\"],[0.3333333333333333,\"#9c179e\"],[0.4444444444444444,\"#bd3786\"],[0.5555555555555556,\"#d8576b\"],[0.6666666666666666,\"#ed7953\"],[0.7777777777777778,\"#fb9f3a\"],[0.8888888888888888,\"#fdca26\"],[1.0,\"#f0f921\"]],\"type\":\"heatmap\"}],\"heatmapgl\":[{\"colorbar\":{\"outlinewidth\":0,\"ticks\":\"\"},\"colorscale\":[[0.0,\"#0d0887\"],[0.1111111111111111,\"#46039f\"],[0.2222222222222222,\"#7201a8\"],[0.3333333333333333,\"#9c179e\"],[0.4444444444444444,\"#bd3786\"],[0.5555555555555556,\"#d8576b\"],[0.6666666666666666,\"#ed7953\"],[0.7777777777777778,\"#fb9f3a\"],[0.8888888888888888,\"#fdca26\"],[1.0,\"#f0f921\"]],\"type\":\"heatmapgl\"}],\"histogram\":[{\"marker\":{\"pattern\":{\"fillmode\":\"overlay\",\"size\":10,\"solidity\":0.2}},\"type\":\"histogram\"}],\"histogram2d\":[{\"colorbar\":{\"outlinewidth\":0,\"ticks\":\"\"},\"colorscale\":[[0.0,\"#0d0887\"],[0.1111111111111111,\"#46039f\"],[0.2222222222222222,\"#7201a8\"],[0.3333333333333333,\"#9c179e\"],[0.4444444444444444,\"#bd3786\"],[0.5555555555555556,\"#d8576b\"],[0.6666666666666666,\"#ed7953\"],[0.7777777777777778,\"#fb9f3a\"],[0.8888888888888888,\"#fdca26\"],[1.0,\"#f0f921\"]],\"type\":\"histogram2d\"}],\"histogram2dcontour\":[{\"colorbar\":{\"outlinewidth\":0,\"ticks\":\"\"},\"colorscale\":[[0.0,\"#0d0887\"],[0.1111111111111111,\"#46039f\"],[0.2222222222222222,\"#7201a8\"],[0.3333333333333333,\"#9c179e\"],[0.4444444444444444,\"#bd3786\"],[0.5555555555555556,\"#d8576b\"],[0.6666666666666666,\"#ed7953\"],[0.7777777777777778,\"#fb9f3a\"],[0.8888888888888888,\"#fdca26\"],[1.0,\"#f0f921\"]],\"type\":\"histogram2dcontour\"}],\"mesh3d\":[{\"colorbar\":{\"outlinewidth\":0,\"ticks\":\"\"},\"type\":\"mesh3d\"}],\"parcoords\":[{\"line\":{\"colorbar\":{\"outlinewidth\":0,\"ticks\":\"\"}},\"type\":\"parcoords\"}],\"pie\":[{\"automargin\":true,\"type\":\"pie\"}],\"scatter\":[{\"marker\":{\"colorbar\":{\"outlinewidth\":0,\"ticks\":\"\"}},\"type\":\"scatter\"}],\"scatter3d\":[{\"line\":{\"colorbar\":{\"outlinewidth\":0,\"ticks\":\"\"}},\"marker\":{\"colorbar\":{\"outlinewidth\":0,\"ticks\":\"\"}},\"type\":\"scatter3d\"}],\"scattercarpet\":[{\"marker\":{\"colorbar\":{\"outlinewidth\":0,\"ticks\":\"\"}},\"type\":\"scattercarpet\"}],\"scattergeo\":[{\"marker\":{\"colorbar\":{\"outlinewidth\":0,\"ticks\":\"\"}},\"type\":\"scattergeo\"}],\"scattergl\":[{\"marker\":{\"colorbar\":{\"outlinewidth\":0,\"ticks\":\"\"}},\"type\":\"scattergl\"}],\"scattermapbox\":[{\"marker\":{\"colorbar\":{\"outlinewidth\":0,\"ticks\":\"\"}},\"type\":\"scattermapbox\"}],\"scatterpolar\":[{\"marker\":{\"colorbar\":{\"outlinewidth\":0,\"ticks\":\"\"}},\"type\":\"scatterpolar\"}],\"scatterpolargl\":[{\"marker\":{\"colorbar\":{\"outlinewidth\":0,\"ticks\":\"\"}},\"type\":\"scatterpolargl\"}],\"scatterternary\":[{\"marker\":{\"colorbar\":{\"outlinewidth\":0,\"ticks\":\"\"}},\"type\":\"scatterternary\"}],\"surface\":[{\"colorbar\":{\"outlinewidth\":0,\"ticks\":\"\"},\"colorscale\":[[0.0,\"#0d0887\"],[0.1111111111111111,\"#46039f\"],[0.2222222222222222,\"#7201a8\"],[0.3333333333333333,\"#9c179e\"],[0.4444444444444444,\"#bd3786\"],[0.5555555555555556,\"#d8576b\"],[0.6666666666666666,\"#ed7953\"],[0.7777777777777778,\"#fb9f3a\"],[0.8888888888888888,\"#fdca26\"],[1.0,\"#f0f921\"]],\"type\":\"surface\"}],\"table\":[{\"cells\":{\"fill\":{\"color\":\"#EBF0F8\"},\"line\":{\"color\":\"white\"}},\"header\":{\"fill\":{\"color\":\"#C8D4E3\"},\"line\":{\"color\":\"white\"}},\"type\":\"table\"}]},\"layout\":{\"annotationdefaults\":{\"arrowcolor\":\"#2a3f5f\",\"arrowhead\":0,\"arrowwidth\":1},\"autotypenumbers\":\"strict\",\"coloraxis\":{\"colorbar\":{\"outlinewidth\":0,\"ticks\":\"\"}},\"colorscale\":{\"diverging\":[[0,\"#8e0152\"],[0.1,\"#c51b7d\"],[0.2,\"#de77ae\"],[0.3,\"#f1b6da\"],[0.4,\"#fde0ef\"],[0.5,\"#f7f7f7\"],[0.6,\"#e6f5d0\"],[0.7,\"#b8e186\"],[0.8,\"#7fbc41\"],[0.9,\"#4d9221\"],[1,\"#276419\"]],\"sequential\":[[0.0,\"#0d0887\"],[0.1111111111111111,\"#46039f\"],[0.2222222222222222,\"#7201a8\"],[0.3333333333333333,\"#9c179e\"],[0.4444444444444444,\"#bd3786\"],[0.5555555555555556,\"#d8576b\"],[0.6666666666666666,\"#ed7953\"],[0.7777777777777778,\"#fb9f3a\"],[0.8888888888888888,\"#fdca26\"],[1.0,\"#f0f921\"]],\"sequentialminus\":[[0.0,\"#0d0887\"],[0.1111111111111111,\"#46039f\"],[0.2222222222222222,\"#7201a8\"],[0.3333333333333333,\"#9c179e\"],[0.4444444444444444,\"#bd3786\"],[0.5555555555555556,\"#d8576b\"],[0.6666666666666666,\"#ed7953\"],[0.7777777777777778,\"#fb9f3a\"],[0.8888888888888888,\"#fdca26\"],[1.0,\"#f0f921\"]]},\"colorway\":[\"#636efa\",\"#EF553B\",\"#00cc96\",\"#ab63fa\",\"#FFA15A\",\"#19d3f3\",\"#FF6692\",\"#B6E880\",\"#FF97FF\",\"#FECB52\"],\"font\":{\"color\":\"#2a3f5f\"},\"geo\":{\"bgcolor\":\"white\",\"lakecolor\":\"white\",\"landcolor\":\"#E5ECF6\",\"showlakes\":true,\"showland\":true,\"subunitcolor\":\"white\"},\"hoverlabel\":{\"align\":\"left\"},\"hovermode\":\"closest\",\"mapbox\":{\"style\":\"light\"},\"paper_bgcolor\":\"white\",\"plot_bgcolor\":\"#E5ECF6\",\"polar\":{\"angularaxis\":{\"gridcolor\":\"white\",\"linecolor\":\"white\",\"ticks\":\"\"},\"bgcolor\":\"#E5ECF6\",\"radialaxis\":{\"gridcolor\":\"white\",\"linecolor\":\"white\",\"ticks\":\"\"}},\"scene\":{\"xaxis\":{\"backgroundcolor\":\"#E5ECF6\",\"gridcolor\":\"white\",\"gridwidth\":2,\"linecolor\":\"white\",\"showbackground\":true,\"ticks\":\"\",\"zerolinecolor\":\"white\"},\"yaxis\":{\"backgroundcolor\":\"#E5ECF6\",\"gridcolor\":\"white\",\"gridwidth\":2,\"linecolor\":\"white\",\"showbackground\":true,\"ticks\":\"\",\"zerolinecolor\":\"white\"},\"zaxis\":{\"backgroundcolor\":\"#E5ECF6\",\"gridcolor\":\"white\",\"gridwidth\":2,\"linecolor\":\"white\",\"showbackground\":true,\"ticks\":\"\",\"zerolinecolor\":\"white\"}},\"shapedefaults\":{\"line\":{\"color\":\"#2a3f5f\"}},\"ternary\":{\"aaxis\":{\"gridcolor\":\"white\",\"linecolor\":\"white\",\"ticks\":\"\"},\"baxis\":{\"gridcolor\":\"white\",\"linecolor\":\"white\",\"ticks\":\"\"},\"bgcolor\":\"#E5ECF6\",\"caxis\":{\"gridcolor\":\"white\",\"linecolor\":\"white\",\"ticks\":\"\"}},\"title\":{\"x\":0.05},\"xaxis\":{\"automargin\":true,\"gridcolor\":\"white\",\"linecolor\":\"white\",\"ticks\":\"\",\"title\":{\"standoff\":15},\"zerolinecolor\":\"white\",\"zerolinewidth\":2},\"yaxis\":{\"automargin\":true,\"gridcolor\":\"white\",\"linecolor\":\"white\",\"ticks\":\"\",\"title\":{\"standoff\":15},\"zerolinecolor\":\"white\",\"zerolinewidth\":2}}},\"xaxis\":{\"anchor\":\"y\",\"domain\":[0.0,1.0],\"title\":{\"text\":\"Day\"}},\"yaxis\":{\"anchor\":\"x\",\"domain\":[0.0,0.7326],\"title\":{\"text\":\"sum of Sales\"}},\"xaxis2\":{\"anchor\":\"y2\",\"domain\":[0.0,1.0],\"matches\":\"x\",\"showticklabels\":false,\"showgrid\":true},\"yaxis2\":{\"anchor\":\"x2\",\"domain\":[0.7426,1.0],\"matches\":\"y2\",\"showticklabels\":false,\"showline\":false,\"ticks\":\"\",\"showgrid\":false},\"legend\":{\"title\":{\"text\":\"Product\"},\"tracegroupgap\":0},\"title\":{\"text\":\"Distribution Product Sales based on Number of Day\"},\"barmode\":\"relative\"},                        {\"responsive\": true}                    ).then(function(){\n",
              "                            \n",
              "var gd = document.getElementById('99616a77-2a2d-46ea-90a8-577c503ab1ee');\n",
              "var x = new MutationObserver(function (mutations, observer) {{\n",
              "        var display = window.getComputedStyle(gd).display;\n",
              "        if (!display || display === 'none') {{\n",
              "            console.log([gd, 'removed!']);\n",
              "            Plotly.purge(gd);\n",
              "            observer.disconnect();\n",
              "        }}\n",
              "}});\n",
              "\n",
              "// Listen for the removal of the full notebook cells\n",
              "var notebookContainer = gd.closest('#notebook-container');\n",
              "if (notebookContainer) {{\n",
              "    x.observe(notebookContainer, {childList: true});\n",
              "}}\n",
              "\n",
              "// Listen for the clearing of the current output cell\n",
              "var outputEl = gd.closest('.output');\n",
              "if (outputEl) {{\n",
              "    x.observe(outputEl, {childList: true});\n",
              "}}\n",
              "\n",
              "                        })                };                            </script>        </div>\n",
              "</body>\n",
              "</html>"
            ]
          },
          "metadata": {},
          "output_type": "display_data"
        }
      ],
      "source": [
        "# Make distribution plot (histogram and boxplot) of Product Sales based on Number of Day\n",
        "fig = px.histogram(df1, x=\"Day\", y=\"Sales\", color=\"Product\",\n",
        "                   marginal=\"box\", # or violin, rug\n",
        "                   hover_data=df1.columns, title='Distribution Product Sales based on Number of Day')\n",
        "fig.show()"
      ]
    },
    {
      "cell_type": "code",
      "execution_count": null,
      "metadata": {
        "colab": {
          "base_uri": "https://localhost:8080/",
          "height": 542
        },
        "id": "tOEaWS4QGzUh",
        "outputId": "0a0059e7-2903-49a4-e58a-d27f8c7887af"
      },
      "outputs": [
        {
          "data": {
            "text/html": [
              "<html>\n",
              "<head><meta charset=\"utf-8\" /></head>\n",
              "<body>\n",
              "    <div>            <script src=\"https://cdnjs.cloudflare.com/ajax/libs/mathjax/2.7.5/MathJax.js?config=TeX-AMS-MML_SVG\"></script><script type=\"text/javascript\">if (window.MathJax) {MathJax.Hub.Config({SVG: {font: \"STIX-Web\"}});}</script>                <script type=\"text/javascript\">window.PlotlyConfig = {MathJaxConfig: 'local'};</script>\n",
              "        <script src=\"https://cdn.plot.ly/plotly-2.8.3.min.js\"></script>                <div id=\"d59b706b-e495-467d-a1ad-7b0b02089c54\" class=\"plotly-graph-div\" style=\"height:525px; width:100%;\"></div>            <script type=\"text/javascript\">                                    window.PLOTLYENV=window.PLOTLYENV || {};                                    if (document.getElementById(\"d59b706b-e495-467d-a1ad-7b0b02089c54\")) {                    Plotly.newPlot(                        \"d59b706b-e495-467d-a1ad-7b0b02089c54\",                        [{\"hovertemplate\":\"Product=A1<br>variable=Sales<br>Day=%{x}<br>value=%{y}<extra></extra>\",\"legendgroup\":\"A1\",\"line\":{\"color\":\"#636efa\",\"dash\":\"solid\"},\"marker\":{\"symbol\":\"circle\"},\"mode\":\"lines\",\"name\":\"A1\",\"orientation\":\"v\",\"showlegend\":true,\"x\":[1,2,3,4,5,6,7,8,9,10,11,12,13,14,15,16,17,18,19,20,21,22,23,24,25,26,27,28,29,30,31,32,33,34,35,36,37,38,39,40,41,42,43,44,45,46,47,48,49,50,51,52,53,54,55,56,57,58,59,60,61,62,63,64,65,66,67,68,69,70,71,72,73,74,75,76,77,78,79,80,81,82,83,84,85,86,87,88,89,90],\"xaxis\":\"x\",\"y\":[100.0,101.0,102.01,103.0301,104.060401,105.10100501,113.0,106.0,107.06,108.1306,109.211906,110.30402506,111.4070653106,120.0,112.0,113.12,114.25120000000001,115.39371200000001,116.54764912,117.7131256112,126.0,120.0,121.2,122.412,123.63612,124.87248120000001,126.12120601200002,135.0,129.0,130.29,131.5929,132.908829,134.23791728999998,135.58029646289998,146.0,138.0,139.38,140.7738,142.181538,143.60335338,145.0393869138,150.0,145.0,146.45,147.9145,149.393645,150.88758145,160.0,154.0,155.54,157.09539999999998,158.66635399999998,160.25301753999997,161.85554771539998,163.47410319255397,170.0,163.0,164.63,166.2763,167.939063,169.61845363,171.3146381663,180.0,175.0,176.75,177.0,178.0,178.0,178.0,195.0,180.0,180.89999999999998,181.80449999999996,182.71352249999995,183.62709011249993,184.54522556306242,195.0,187.0,187.93499999999997,188.87467499999997,189.81904837499994,190.7681436168749,191.72198433495927,210.0,196.0,196.98,197.96489999999997,198.95472449999994,199.94949812249993,200.94924561311242],\"yaxis\":\"y\",\"type\":\"scatter\"},{\"hovertemplate\":\"Product=A2<br>variable=Sales<br>Day=%{x}<br>value=%{y}<extra></extra>\",\"legendgroup\":\"A2\",\"line\":{\"color\":\"#EF553B\",\"dash\":\"solid\"},\"marker\":{\"symbol\":\"circle\"},\"mode\":\"lines\",\"name\":\"A2\",\"orientation\":\"v\",\"showlegend\":true,\"x\":[1,2,3,4,5,6,7,8,9,10,11,12,13,14,15,16,17,18,19,20,21,22,23,24,25,26,27,28,29,30,31,32,33,34,35,36,37,38,39,40,41,42,43,44,45,46,47,48,49,50,51,52,53,54,55,56,57,58,59,60,61,62,63,64,65,66,67,68,69,70,71,72,73,74,75,76,77,78,79,80,81,82,83,84,85,86,87,88,89,90],\"xaxis\":\"x\",\"y\":[1000.0,1004.9999999999999,1010.0249999999997,1015.0751249999996,1020.1505006249995,1025.2512531281243,1075.3775093937647,1035.5293969407335,1040.7070439254371,1045.9105791450643,1051.1401320407895,1056.3958327009932,1061.6778118644982,1111.9862009238204,1072.3211319284394,1077.6827375880814,1083.0711512760217,1088.4865070324017,1093.9289395675637,1099.3985842654015,1149.8955771867284,1110.4200550726619,1115.9721553480251,1121.552016124765,1127.1597762053887,1132.7955750864155,1138.4595529618475,1189.1518507266567,1149.8726099802898,1155.6219730301912,1161.400082895342,1167.2070833098185,1173.0431187263675,1178.9083343199993,1229.8028759915992,1190.7268903715571,1196.6805248234148,1202.6639274475317,1208.6772470847693,1214.720633320193,1220.7942364867938,1271.8982076692278,1233.0326987075737,1239.1978622011113,1245.3938515121167,1251.6208207696773,1257.8789248735254,1264.168319497893,1315.4891610953823,1276.841606900859,1283.2258149353631,1289.6419440100399,1296.09015373009,1302.5706044987403,1309.0834575212339,1360.62887480884,1322.207019182884,1328.8180542787984,1335.4621445501923,1342.1394552729432,1348.8501525493077,1355.594403312054,1407.3723753286142,1369.1842372052572,1376.0301583912833,1382.9103091832396,1389.8248607291557,1396.7739850328014,1403.7578549579653,1455.776644232755,1417.8305274539186,1424.9196800911882,1432.044278491644,1439.204499884102,1446.4005223835225,1453.63252499544,1505.900687620417,1468.205191058519,1475.5462170138114,1482.9239480988804,1490.3385678393747,1497.7902606785715,1505.2792119819642,1557.805608041874,1520.3696360820832,1527.9714842624935,1535.611341683806,1543.2893983922247,1551.0058453841857,1558.7608746111064],\"yaxis\":\"y\",\"type\":\"scatter\"},{\"hovertemplate\":\"Product=B1<br>variable=Sales<br>Day=%{x}<br>value=%{y}<extra></extra>\",\"legendgroup\":\"B1\",\"line\":{\"color\":\"#00cc96\",\"dash\":\"solid\"},\"marker\":{\"symbol\":\"circle\"},\"mode\":\"lines\",\"name\":\"B1\",\"orientation\":\"v\",\"showlegend\":true,\"x\":[1,2,3,4,5,6,7,8,9,10,11,12,13,14,15,16,17,18,19,20,21,22,23,24,25,26,27,28,29,30,31,32,33,34,35,36,37,38,39,40,41,42,43,44,45,46,47,48,49,50,51,52,53,54,55,56,57,58,59,60,61,62,63,64,65,66,67,68,69,70,71,72,73,74,75,76,77,78,79,80,81,82,83,84,85,86,87,88,89,90,91,92,93,94,95,96,97,98,99,100,101,102,103,104],\"xaxis\":\"x\",\"y\":[990.0,980.0,1010.0,1010.0,1000.0,1000.0,1717.0,1020.0,970.0,1000.0,1020.0,1000.0,1000.0,970.0,1700.0,980.0,980.0,970.0,980.0,970.0,980.0,980.0,990.0,970.0,1020.0,1734.0,970.0,990.0,980.0,990.0,1000.0,970.0,980.0,990.0,980.0,990.0,1010.0,1010.0,1000.0,1649.0,1010.0,990.0,1010.0,1010.0,1550.0,990.0,1000.0,990.0,1020.0,1010.0,1000.0,990.0,980.0,1650.0,990.0,1000.0,1010.0,1010.0,1000.0,980.0,1555.0,970.0,1000.0,1020.0,1000.0,990.0,1000.0,1560.0,990.0,970.0,980.0,1000.0,1000.0,990.0,970.0,990.0,1545.0,990.0,1020.0,1020.0,1020.0,990.0,1020.0,980.0,980.0,1010.0,1020.0,1455.0,1010.0,990.0,null,null,null,null,null,null,null,null,null,null,null,null,null,null],\"yaxis\":\"y\",\"type\":\"scatter\"},{\"hovertemplate\":\"Product=B2<br>variable=Sales<br>Day=%{x}<br>value=%{y}<extra></extra>\",\"legendgroup\":\"B2\",\"line\":{\"color\":\"#ab63fa\",\"dash\":\"solid\"},\"marker\":{\"symbol\":\"circle\"},\"mode\":\"lines\",\"name\":\"B2\",\"orientation\":\"v\",\"showlegend\":true,\"x\":[1,2,3,4,5,6,7,8,9,10,11,12,13,14,15,16,17,18,19,20,21,22,23,24,25,26,27,28,29,30,31,32,33,34,35,36,37,38,39,40,41,42,43,44,45,46,47,48,49,50,51,52,53,54,55,56,57,58,59,60,61,62,63,64,65,66,67,68,69,70,71,72,73,74,75,76,77,78,79,80,81,82,83,84,85,86,87,88,89,90,91,92,93,94,95,96,97,98,99,100,101,102,103,104],\"xaxis\":\"x\",\"y\":[null,null,null,null,null,null,null,null,null,null,null,null,null,null,null,null,null,null,null,null,null,null,null,null,null,null,null,null,null,null,null,null,null,null,null,null,null,null,null,null,null,null,null,null,null,null,null,null,null,null,null,null,null,null,null,null,null,null,null,null,10.0,20.0,40.0,80.0,144.0,259.2,300.0,450.0,560.0,840.0,1000.0,1500.0,2250.0,2700.0,3186.0,3695.7599999999998,3991.4208,4310.734464,4440.05649792,4573.2581928576,4710.455938643328,4748.139586152475,4786.124702841695,4824.413700464428,4863.009010068144,4901.913082148689,4941.128386805878,4980.657413900325,4900.0,4850.0,null,null,null,null,null,null,null,null,null,null,null,null,null,null],\"yaxis\":\"y\",\"type\":\"scatter\"}],                        {\"template\":{\"data\":{\"bar\":[{\"error_x\":{\"color\":\"#2a3f5f\"},\"error_y\":{\"color\":\"#2a3f5f\"},\"marker\":{\"line\":{\"color\":\"#E5ECF6\",\"width\":0.5},\"pattern\":{\"fillmode\":\"overlay\",\"size\":10,\"solidity\":0.2}},\"type\":\"bar\"}],\"barpolar\":[{\"marker\":{\"line\":{\"color\":\"#E5ECF6\",\"width\":0.5},\"pattern\":{\"fillmode\":\"overlay\",\"size\":10,\"solidity\":0.2}},\"type\":\"barpolar\"}],\"carpet\":[{\"aaxis\":{\"endlinecolor\":\"#2a3f5f\",\"gridcolor\":\"white\",\"linecolor\":\"white\",\"minorgridcolor\":\"white\",\"startlinecolor\":\"#2a3f5f\"},\"baxis\":{\"endlinecolor\":\"#2a3f5f\",\"gridcolor\":\"white\",\"linecolor\":\"white\",\"minorgridcolor\":\"white\",\"startlinecolor\":\"#2a3f5f\"},\"type\":\"carpet\"}],\"choropleth\":[{\"colorbar\":{\"outlinewidth\":0,\"ticks\":\"\"},\"type\":\"choropleth\"}],\"contour\":[{\"colorbar\":{\"outlinewidth\":0,\"ticks\":\"\"},\"colorscale\":[[0.0,\"#0d0887\"],[0.1111111111111111,\"#46039f\"],[0.2222222222222222,\"#7201a8\"],[0.3333333333333333,\"#9c179e\"],[0.4444444444444444,\"#bd3786\"],[0.5555555555555556,\"#d8576b\"],[0.6666666666666666,\"#ed7953\"],[0.7777777777777778,\"#fb9f3a\"],[0.8888888888888888,\"#fdca26\"],[1.0,\"#f0f921\"]],\"type\":\"contour\"}],\"contourcarpet\":[{\"colorbar\":{\"outlinewidth\":0,\"ticks\":\"\"},\"type\":\"contourcarpet\"}],\"heatmap\":[{\"colorbar\":{\"outlinewidth\":0,\"ticks\":\"\"},\"colorscale\":[[0.0,\"#0d0887\"],[0.1111111111111111,\"#46039f\"],[0.2222222222222222,\"#7201a8\"],[0.3333333333333333,\"#9c179e\"],[0.4444444444444444,\"#bd3786\"],[0.5555555555555556,\"#d8576b\"],[0.6666666666666666,\"#ed7953\"],[0.7777777777777778,\"#fb9f3a\"],[0.8888888888888888,\"#fdca26\"],[1.0,\"#f0f921\"]],\"type\":\"heatmap\"}],\"heatmapgl\":[{\"colorbar\":{\"outlinewidth\":0,\"ticks\":\"\"},\"colorscale\":[[0.0,\"#0d0887\"],[0.1111111111111111,\"#46039f\"],[0.2222222222222222,\"#7201a8\"],[0.3333333333333333,\"#9c179e\"],[0.4444444444444444,\"#bd3786\"],[0.5555555555555556,\"#d8576b\"],[0.6666666666666666,\"#ed7953\"],[0.7777777777777778,\"#fb9f3a\"],[0.8888888888888888,\"#fdca26\"],[1.0,\"#f0f921\"]],\"type\":\"heatmapgl\"}],\"histogram\":[{\"marker\":{\"pattern\":{\"fillmode\":\"overlay\",\"size\":10,\"solidity\":0.2}},\"type\":\"histogram\"}],\"histogram2d\":[{\"colorbar\":{\"outlinewidth\":0,\"ticks\":\"\"},\"colorscale\":[[0.0,\"#0d0887\"],[0.1111111111111111,\"#46039f\"],[0.2222222222222222,\"#7201a8\"],[0.3333333333333333,\"#9c179e\"],[0.4444444444444444,\"#bd3786\"],[0.5555555555555556,\"#d8576b\"],[0.6666666666666666,\"#ed7953\"],[0.7777777777777778,\"#fb9f3a\"],[0.8888888888888888,\"#fdca26\"],[1.0,\"#f0f921\"]],\"type\":\"histogram2d\"}],\"histogram2dcontour\":[{\"colorbar\":{\"outlinewidth\":0,\"ticks\":\"\"},\"colorscale\":[[0.0,\"#0d0887\"],[0.1111111111111111,\"#46039f\"],[0.2222222222222222,\"#7201a8\"],[0.3333333333333333,\"#9c179e\"],[0.4444444444444444,\"#bd3786\"],[0.5555555555555556,\"#d8576b\"],[0.6666666666666666,\"#ed7953\"],[0.7777777777777778,\"#fb9f3a\"],[0.8888888888888888,\"#fdca26\"],[1.0,\"#f0f921\"]],\"type\":\"histogram2dcontour\"}],\"mesh3d\":[{\"colorbar\":{\"outlinewidth\":0,\"ticks\":\"\"},\"type\":\"mesh3d\"}],\"parcoords\":[{\"line\":{\"colorbar\":{\"outlinewidth\":0,\"ticks\":\"\"}},\"type\":\"parcoords\"}],\"pie\":[{\"automargin\":true,\"type\":\"pie\"}],\"scatter\":[{\"marker\":{\"colorbar\":{\"outlinewidth\":0,\"ticks\":\"\"}},\"type\":\"scatter\"}],\"scatter3d\":[{\"line\":{\"colorbar\":{\"outlinewidth\":0,\"ticks\":\"\"}},\"marker\":{\"colorbar\":{\"outlinewidth\":0,\"ticks\":\"\"}},\"type\":\"scatter3d\"}],\"scattercarpet\":[{\"marker\":{\"colorbar\":{\"outlinewidth\":0,\"ticks\":\"\"}},\"type\":\"scattercarpet\"}],\"scattergeo\":[{\"marker\":{\"colorbar\":{\"outlinewidth\":0,\"ticks\":\"\"}},\"type\":\"scattergeo\"}],\"scattergl\":[{\"marker\":{\"colorbar\":{\"outlinewidth\":0,\"ticks\":\"\"}},\"type\":\"scattergl\"}],\"scattermapbox\":[{\"marker\":{\"colorbar\":{\"outlinewidth\":0,\"ticks\":\"\"}},\"type\":\"scattermapbox\"}],\"scatterpolar\":[{\"marker\":{\"colorbar\":{\"outlinewidth\":0,\"ticks\":\"\"}},\"type\":\"scatterpolar\"}],\"scatterpolargl\":[{\"marker\":{\"colorbar\":{\"outlinewidth\":0,\"ticks\":\"\"}},\"type\":\"scatterpolargl\"}],\"scatterternary\":[{\"marker\":{\"colorbar\":{\"outlinewidth\":0,\"ticks\":\"\"}},\"type\":\"scatterternary\"}],\"surface\":[{\"colorbar\":{\"outlinewidth\":0,\"ticks\":\"\"},\"colorscale\":[[0.0,\"#0d0887\"],[0.1111111111111111,\"#46039f\"],[0.2222222222222222,\"#7201a8\"],[0.3333333333333333,\"#9c179e\"],[0.4444444444444444,\"#bd3786\"],[0.5555555555555556,\"#d8576b\"],[0.6666666666666666,\"#ed7953\"],[0.7777777777777778,\"#fb9f3a\"],[0.8888888888888888,\"#fdca26\"],[1.0,\"#f0f921\"]],\"type\":\"surface\"}],\"table\":[{\"cells\":{\"fill\":{\"color\":\"#EBF0F8\"},\"line\":{\"color\":\"white\"}},\"header\":{\"fill\":{\"color\":\"#C8D4E3\"},\"line\":{\"color\":\"white\"}},\"type\":\"table\"}]},\"layout\":{\"annotationdefaults\":{\"arrowcolor\":\"#2a3f5f\",\"arrowhead\":0,\"arrowwidth\":1},\"autotypenumbers\":\"strict\",\"coloraxis\":{\"colorbar\":{\"outlinewidth\":0,\"ticks\":\"\"}},\"colorscale\":{\"diverging\":[[0,\"#8e0152\"],[0.1,\"#c51b7d\"],[0.2,\"#de77ae\"],[0.3,\"#f1b6da\"],[0.4,\"#fde0ef\"],[0.5,\"#f7f7f7\"],[0.6,\"#e6f5d0\"],[0.7,\"#b8e186\"],[0.8,\"#7fbc41\"],[0.9,\"#4d9221\"],[1,\"#276419\"]],\"sequential\":[[0.0,\"#0d0887\"],[0.1111111111111111,\"#46039f\"],[0.2222222222222222,\"#7201a8\"],[0.3333333333333333,\"#9c179e\"],[0.4444444444444444,\"#bd3786\"],[0.5555555555555556,\"#d8576b\"],[0.6666666666666666,\"#ed7953\"],[0.7777777777777778,\"#fb9f3a\"],[0.8888888888888888,\"#fdca26\"],[1.0,\"#f0f921\"]],\"sequentialminus\":[[0.0,\"#0d0887\"],[0.1111111111111111,\"#46039f\"],[0.2222222222222222,\"#7201a8\"],[0.3333333333333333,\"#9c179e\"],[0.4444444444444444,\"#bd3786\"],[0.5555555555555556,\"#d8576b\"],[0.6666666666666666,\"#ed7953\"],[0.7777777777777778,\"#fb9f3a\"],[0.8888888888888888,\"#fdca26\"],[1.0,\"#f0f921\"]]},\"colorway\":[\"#636efa\",\"#EF553B\",\"#00cc96\",\"#ab63fa\",\"#FFA15A\",\"#19d3f3\",\"#FF6692\",\"#B6E880\",\"#FF97FF\",\"#FECB52\"],\"font\":{\"color\":\"#2a3f5f\"},\"geo\":{\"bgcolor\":\"white\",\"lakecolor\":\"white\",\"landcolor\":\"#E5ECF6\",\"showlakes\":true,\"showland\":true,\"subunitcolor\":\"white\"},\"hoverlabel\":{\"align\":\"left\"},\"hovermode\":\"closest\",\"mapbox\":{\"style\":\"light\"},\"paper_bgcolor\":\"white\",\"plot_bgcolor\":\"#E5ECF6\",\"polar\":{\"angularaxis\":{\"gridcolor\":\"white\",\"linecolor\":\"white\",\"ticks\":\"\"},\"bgcolor\":\"#E5ECF6\",\"radialaxis\":{\"gridcolor\":\"white\",\"linecolor\":\"white\",\"ticks\":\"\"}},\"scene\":{\"xaxis\":{\"backgroundcolor\":\"#E5ECF6\",\"gridcolor\":\"white\",\"gridwidth\":2,\"linecolor\":\"white\",\"showbackground\":true,\"ticks\":\"\",\"zerolinecolor\":\"white\"},\"yaxis\":{\"backgroundcolor\":\"#E5ECF6\",\"gridcolor\":\"white\",\"gridwidth\":2,\"linecolor\":\"white\",\"showbackground\":true,\"ticks\":\"\",\"zerolinecolor\":\"white\"},\"zaxis\":{\"backgroundcolor\":\"#E5ECF6\",\"gridcolor\":\"white\",\"gridwidth\":2,\"linecolor\":\"white\",\"showbackground\":true,\"ticks\":\"\",\"zerolinecolor\":\"white\"}},\"shapedefaults\":{\"line\":{\"color\":\"#2a3f5f\"}},\"ternary\":{\"aaxis\":{\"gridcolor\":\"white\",\"linecolor\":\"white\",\"ticks\":\"\"},\"baxis\":{\"gridcolor\":\"white\",\"linecolor\":\"white\",\"ticks\":\"\"},\"bgcolor\":\"#E5ECF6\",\"caxis\":{\"gridcolor\":\"white\",\"linecolor\":\"white\",\"ticks\":\"\"}},\"title\":{\"x\":0.05},\"xaxis\":{\"automargin\":true,\"gridcolor\":\"white\",\"linecolor\":\"white\",\"ticks\":\"\",\"title\":{\"standoff\":15},\"zerolinecolor\":\"white\",\"zerolinewidth\":2},\"yaxis\":{\"automargin\":true,\"gridcolor\":\"white\",\"linecolor\":\"white\",\"ticks\":\"\",\"title\":{\"standoff\":15},\"zerolinecolor\":\"white\",\"zerolinewidth\":2}}},\"xaxis\":{\"anchor\":\"y\",\"domain\":[0.0,1.0],\"title\":{\"text\":\"Day\"}},\"yaxis\":{\"anchor\":\"x\",\"domain\":[0.0,1.0],\"title\":{\"text\":\"value\"}},\"legend\":{\"title\":{\"text\":\"Product\"},\"tracegroupgap\":0},\"title\":{\"text\":\"Product Sales\"}},                        {\"responsive\": true}                    ).then(function(){\n",
              "                            \n",
              "var gd = document.getElementById('d59b706b-e495-467d-a1ad-7b0b02089c54');\n",
              "var x = new MutationObserver(function (mutations, observer) {{\n",
              "        var display = window.getComputedStyle(gd).display;\n",
              "        if (!display || display === 'none') {{\n",
              "            console.log([gd, 'removed!']);\n",
              "            Plotly.purge(gd);\n",
              "            observer.disconnect();\n",
              "        }}\n",
              "}});\n",
              "\n",
              "// Listen for the removal of the full notebook cells\n",
              "var notebookContainer = gd.closest('#notebook-container');\n",
              "if (notebookContainer) {{\n",
              "    x.observe(notebookContainer, {childList: true});\n",
              "}}\n",
              "\n",
              "// Listen for the clearing of the current output cell\n",
              "var outputEl = gd.closest('.output');\n",
              "if (outputEl) {{\n",
              "    x.observe(outputEl, {childList: true});\n",
              "}}\n",
              "\n",
              "                        })                };                            </script>        </div>\n",
              "</body>\n",
              "</html>"
            ]
          },
          "metadata": {},
          "output_type": "display_data"
        }
      ],
      "source": [
        "# Plot the Product Sales\n",
        "fig = px.line(df1,x=\"Day\",y=[\"Sales\"],color=\"Product\", title=\"Product Sales\")\n",
        "fig.show()"
      ]
    },
    {
      "cell_type": "markdown",
      "metadata": {
        "id": "c-LFwB_34QKd"
      },
      "source": [
        "## Data Preprocessing"
      ]
    },
    {
      "cell_type": "code",
      "execution_count": null,
      "metadata": {
        "id": "f4WFSaXIiCus"
      },
      "outputs": [],
      "source": [
        "# Add Datetime to df1_a1\n",
        "df1_a1['Date'] = pd.to_datetime(df1_a1['Day'], origin='2021-12-31', unit='D')\n",
        "df1_a2['Date'] = pd.to_datetime(df1_a2['Day'], origin='2021-12-31', unit='D')\n",
        "df1_b1['Date'] = pd.to_datetime(df1_b1['Day'], origin='2021-12-31', unit='D')\n",
        "df1_b2['Date'] = pd.to_datetime(df1_b2['Day'], origin='2021-12-31', unit='D')"
      ]
    },
    {
      "cell_type": "code",
      "execution_count": null,
      "metadata": {
        "id": "OUq12-THI3eL"
      },
      "outputs": [],
      "source": [
        "# Ensure the data is coverted to datetime\n",
        "df1_a1.Date = pd.to_datetime(df1_a1.Date)\n",
        "df1_a2.Date = pd.to_datetime(df1_a2.Date)\n",
        "df1_b1.Date = pd.to_datetime(df1_b1.Date)\n",
        "df1_b2.Date = pd.to_datetime(df1_b2.Date)"
      ]
    },
    {
      "cell_type": "code",
      "execution_count": null,
      "metadata": {
        "id": "10KYTOjxr6Wc"
      },
      "outputs": [],
      "source": [
        "window_size = 15\n",
        "df1_b1=df1_b1.fillna(df1_b1.rolling(window_size+1, min_periods=1).mean())\n",
        "df1_b2=df1_b2.fillna(df1_b2.rolling(window_size+1, min_periods=1).mean())"
      ]
    },
    {
      "cell_type": "code",
      "source": [
        "df1_b2.dropna(axis=0, inplace=True)"
      ],
      "metadata": {
        "id": "Gffm--WIjJLC"
      },
      "execution_count": null,
      "outputs": []
    },
    {
      "cell_type": "code",
      "execution_count": null,
      "metadata": {
        "colab": {
          "base_uri": "https://localhost:8080/",
          "height": 1000
        },
        "id": "cKeDM706sg44",
        "outputId": "49aeb54d-2266-4e24-92c9-6cf18c2525ce"
      },
      "outputs": [
        {
          "output_type": "execute_result",
          "data": {
            "text/plain": [
              "     Day Category Product        Sales       Date\n",
              "60    61        B      B2    10.000000 2022-03-02\n",
              "61    62        B      B2    20.000000 2022-03-03\n",
              "62    63        B      B2    40.000000 2022-03-04\n",
              "63    64        B      B2    80.000000 2022-03-05\n",
              "64    65        B      B2   144.000000 2022-03-06\n",
              "65    66        B      B2   259.200000 2022-03-07\n",
              "66    67        B      B2   300.000000 2022-03-08\n",
              "67    68        B      B2   450.000000 2022-03-09\n",
              "68    69        B      B2   560.000000 2022-03-10\n",
              "69    70        B      B2   840.000000 2022-03-11\n",
              "70    71        B      B2  1000.000000 2022-03-12\n",
              "71    72        B      B2  1500.000000 2022-03-13\n",
              "72    73        B      B2  2250.000000 2022-03-14\n",
              "73    74        B      B2  2700.000000 2022-03-15\n",
              "74    75        B      B2  3186.000000 2022-03-16\n",
              "75    76        B      B2  3695.760000 2022-03-17\n",
              "76    77        B      B2  3991.420800 2022-03-18\n",
              "77    78        B      B2  4310.734464 2022-03-19\n",
              "78    79        B      B2  4440.056498 2022-03-20\n",
              "79    80        B      B2  4573.258193 2022-03-21\n",
              "80    81        B      B2  4710.455939 2022-03-22\n",
              "81    82        B      B2  4748.139586 2022-03-23\n",
              "82    83        B      B2  4786.124703 2022-03-24\n",
              "83    84        B      B2  4824.413700 2022-03-25\n",
              "84    85        B      B2  4863.009010 2022-03-26\n",
              "85    86        B      B2  4901.913082 2022-03-27\n",
              "86    87        B      B2  4941.128387 2022-03-28\n",
              "87    88        B      B2  4980.657414 2022-03-29\n",
              "88    89        B      B2  4900.000000 2022-03-30\n",
              "89    90        B      B2  4850.000000 2022-03-31\n",
              "90    91        B      B2  4634.471452 2022-04-01\n",
              "91    92        B      B2  4701.522270 2022-04-02\n",
              "92    93        B      B2  4756.145460 2022-04-03\n",
              "93    94        B      B2  4793.263043 2022-04-04\n",
              "94    95        B      B2  4825.372729 2022-04-05\n",
              "95    96        B      B2  4850.584182 2022-04-06\n",
              "96    97        B      B2  4866.153987 2022-04-07\n",
              "97    98        B      B2  4880.905787 2022-04-08\n",
              "98    99        B      B2  4894.445942 2022-04-09\n",
              "99   100        B      B2  4906.117982 2022-04-10\n",
              "100  101        B      B2  4914.739777 2022-04-11\n",
              "101  102        B      B2  4917.946450 2022-04-12\n",
              "102  103        B      B2  4910.219138 2022-04-13\n",
              "103  104        B      B2  4875.000000 2022-04-14"
            ],
            "text/html": [
              "\n",
              "  <div id=\"df-a61191f2-78b3-4132-954a-56798938961c\">\n",
              "    <div class=\"colab-df-container\">\n",
              "      <div>\n",
              "<style scoped>\n",
              "    .dataframe tbody tr th:only-of-type {\n",
              "        vertical-align: middle;\n",
              "    }\n",
              "\n",
              "    .dataframe tbody tr th {\n",
              "        vertical-align: top;\n",
              "    }\n",
              "\n",
              "    .dataframe thead th {\n",
              "        text-align: right;\n",
              "    }\n",
              "</style>\n",
              "<table border=\"1\" class=\"dataframe\">\n",
              "  <thead>\n",
              "    <tr style=\"text-align: right;\">\n",
              "      <th></th>\n",
              "      <th>Day</th>\n",
              "      <th>Category</th>\n",
              "      <th>Product</th>\n",
              "      <th>Sales</th>\n",
              "      <th>Date</th>\n",
              "    </tr>\n",
              "  </thead>\n",
              "  <tbody>\n",
              "    <tr>\n",
              "      <th>60</th>\n",
              "      <td>61</td>\n",
              "      <td>B</td>\n",
              "      <td>B2</td>\n",
              "      <td>10.000000</td>\n",
              "      <td>2022-03-02</td>\n",
              "    </tr>\n",
              "    <tr>\n",
              "      <th>61</th>\n",
              "      <td>62</td>\n",
              "      <td>B</td>\n",
              "      <td>B2</td>\n",
              "      <td>20.000000</td>\n",
              "      <td>2022-03-03</td>\n",
              "    </tr>\n",
              "    <tr>\n",
              "      <th>62</th>\n",
              "      <td>63</td>\n",
              "      <td>B</td>\n",
              "      <td>B2</td>\n",
              "      <td>40.000000</td>\n",
              "      <td>2022-03-04</td>\n",
              "    </tr>\n",
              "    <tr>\n",
              "      <th>63</th>\n",
              "      <td>64</td>\n",
              "      <td>B</td>\n",
              "      <td>B2</td>\n",
              "      <td>80.000000</td>\n",
              "      <td>2022-03-05</td>\n",
              "    </tr>\n",
              "    <tr>\n",
              "      <th>64</th>\n",
              "      <td>65</td>\n",
              "      <td>B</td>\n",
              "      <td>B2</td>\n",
              "      <td>144.000000</td>\n",
              "      <td>2022-03-06</td>\n",
              "    </tr>\n",
              "    <tr>\n",
              "      <th>65</th>\n",
              "      <td>66</td>\n",
              "      <td>B</td>\n",
              "      <td>B2</td>\n",
              "      <td>259.200000</td>\n",
              "      <td>2022-03-07</td>\n",
              "    </tr>\n",
              "    <tr>\n",
              "      <th>66</th>\n",
              "      <td>67</td>\n",
              "      <td>B</td>\n",
              "      <td>B2</td>\n",
              "      <td>300.000000</td>\n",
              "      <td>2022-03-08</td>\n",
              "    </tr>\n",
              "    <tr>\n",
              "      <th>67</th>\n",
              "      <td>68</td>\n",
              "      <td>B</td>\n",
              "      <td>B2</td>\n",
              "      <td>450.000000</td>\n",
              "      <td>2022-03-09</td>\n",
              "    </tr>\n",
              "    <tr>\n",
              "      <th>68</th>\n",
              "      <td>69</td>\n",
              "      <td>B</td>\n",
              "      <td>B2</td>\n",
              "      <td>560.000000</td>\n",
              "      <td>2022-03-10</td>\n",
              "    </tr>\n",
              "    <tr>\n",
              "      <th>69</th>\n",
              "      <td>70</td>\n",
              "      <td>B</td>\n",
              "      <td>B2</td>\n",
              "      <td>840.000000</td>\n",
              "      <td>2022-03-11</td>\n",
              "    </tr>\n",
              "    <tr>\n",
              "      <th>70</th>\n",
              "      <td>71</td>\n",
              "      <td>B</td>\n",
              "      <td>B2</td>\n",
              "      <td>1000.000000</td>\n",
              "      <td>2022-03-12</td>\n",
              "    </tr>\n",
              "    <tr>\n",
              "      <th>71</th>\n",
              "      <td>72</td>\n",
              "      <td>B</td>\n",
              "      <td>B2</td>\n",
              "      <td>1500.000000</td>\n",
              "      <td>2022-03-13</td>\n",
              "    </tr>\n",
              "    <tr>\n",
              "      <th>72</th>\n",
              "      <td>73</td>\n",
              "      <td>B</td>\n",
              "      <td>B2</td>\n",
              "      <td>2250.000000</td>\n",
              "      <td>2022-03-14</td>\n",
              "    </tr>\n",
              "    <tr>\n",
              "      <th>73</th>\n",
              "      <td>74</td>\n",
              "      <td>B</td>\n",
              "      <td>B2</td>\n",
              "      <td>2700.000000</td>\n",
              "      <td>2022-03-15</td>\n",
              "    </tr>\n",
              "    <tr>\n",
              "      <th>74</th>\n",
              "      <td>75</td>\n",
              "      <td>B</td>\n",
              "      <td>B2</td>\n",
              "      <td>3186.000000</td>\n",
              "      <td>2022-03-16</td>\n",
              "    </tr>\n",
              "    <tr>\n",
              "      <th>75</th>\n",
              "      <td>76</td>\n",
              "      <td>B</td>\n",
              "      <td>B2</td>\n",
              "      <td>3695.760000</td>\n",
              "      <td>2022-03-17</td>\n",
              "    </tr>\n",
              "    <tr>\n",
              "      <th>76</th>\n",
              "      <td>77</td>\n",
              "      <td>B</td>\n",
              "      <td>B2</td>\n",
              "      <td>3991.420800</td>\n",
              "      <td>2022-03-18</td>\n",
              "    </tr>\n",
              "    <tr>\n",
              "      <th>77</th>\n",
              "      <td>78</td>\n",
              "      <td>B</td>\n",
              "      <td>B2</td>\n",
              "      <td>4310.734464</td>\n",
              "      <td>2022-03-19</td>\n",
              "    </tr>\n",
              "    <tr>\n",
              "      <th>78</th>\n",
              "      <td>79</td>\n",
              "      <td>B</td>\n",
              "      <td>B2</td>\n",
              "      <td>4440.056498</td>\n",
              "      <td>2022-03-20</td>\n",
              "    </tr>\n",
              "    <tr>\n",
              "      <th>79</th>\n",
              "      <td>80</td>\n",
              "      <td>B</td>\n",
              "      <td>B2</td>\n",
              "      <td>4573.258193</td>\n",
              "      <td>2022-03-21</td>\n",
              "    </tr>\n",
              "    <tr>\n",
              "      <th>80</th>\n",
              "      <td>81</td>\n",
              "      <td>B</td>\n",
              "      <td>B2</td>\n",
              "      <td>4710.455939</td>\n",
              "      <td>2022-03-22</td>\n",
              "    </tr>\n",
              "    <tr>\n",
              "      <th>81</th>\n",
              "      <td>82</td>\n",
              "      <td>B</td>\n",
              "      <td>B2</td>\n",
              "      <td>4748.139586</td>\n",
              "      <td>2022-03-23</td>\n",
              "    </tr>\n",
              "    <tr>\n",
              "      <th>82</th>\n",
              "      <td>83</td>\n",
              "      <td>B</td>\n",
              "      <td>B2</td>\n",
              "      <td>4786.124703</td>\n",
              "      <td>2022-03-24</td>\n",
              "    </tr>\n",
              "    <tr>\n",
              "      <th>83</th>\n",
              "      <td>84</td>\n",
              "      <td>B</td>\n",
              "      <td>B2</td>\n",
              "      <td>4824.413700</td>\n",
              "      <td>2022-03-25</td>\n",
              "    </tr>\n",
              "    <tr>\n",
              "      <th>84</th>\n",
              "      <td>85</td>\n",
              "      <td>B</td>\n",
              "      <td>B2</td>\n",
              "      <td>4863.009010</td>\n",
              "      <td>2022-03-26</td>\n",
              "    </tr>\n",
              "    <tr>\n",
              "      <th>85</th>\n",
              "      <td>86</td>\n",
              "      <td>B</td>\n",
              "      <td>B2</td>\n",
              "      <td>4901.913082</td>\n",
              "      <td>2022-03-27</td>\n",
              "    </tr>\n",
              "    <tr>\n",
              "      <th>86</th>\n",
              "      <td>87</td>\n",
              "      <td>B</td>\n",
              "      <td>B2</td>\n",
              "      <td>4941.128387</td>\n",
              "      <td>2022-03-28</td>\n",
              "    </tr>\n",
              "    <tr>\n",
              "      <th>87</th>\n",
              "      <td>88</td>\n",
              "      <td>B</td>\n",
              "      <td>B2</td>\n",
              "      <td>4980.657414</td>\n",
              "      <td>2022-03-29</td>\n",
              "    </tr>\n",
              "    <tr>\n",
              "      <th>88</th>\n",
              "      <td>89</td>\n",
              "      <td>B</td>\n",
              "      <td>B2</td>\n",
              "      <td>4900.000000</td>\n",
              "      <td>2022-03-30</td>\n",
              "    </tr>\n",
              "    <tr>\n",
              "      <th>89</th>\n",
              "      <td>90</td>\n",
              "      <td>B</td>\n",
              "      <td>B2</td>\n",
              "      <td>4850.000000</td>\n",
              "      <td>2022-03-31</td>\n",
              "    </tr>\n",
              "    <tr>\n",
              "      <th>90</th>\n",
              "      <td>91</td>\n",
              "      <td>B</td>\n",
              "      <td>B2</td>\n",
              "      <td>4634.471452</td>\n",
              "      <td>2022-04-01</td>\n",
              "    </tr>\n",
              "    <tr>\n",
              "      <th>91</th>\n",
              "      <td>92</td>\n",
              "      <td>B</td>\n",
              "      <td>B2</td>\n",
              "      <td>4701.522270</td>\n",
              "      <td>2022-04-02</td>\n",
              "    </tr>\n",
              "    <tr>\n",
              "      <th>92</th>\n",
              "      <td>93</td>\n",
              "      <td>B</td>\n",
              "      <td>B2</td>\n",
              "      <td>4756.145460</td>\n",
              "      <td>2022-04-03</td>\n",
              "    </tr>\n",
              "    <tr>\n",
              "      <th>93</th>\n",
              "      <td>94</td>\n",
              "      <td>B</td>\n",
              "      <td>B2</td>\n",
              "      <td>4793.263043</td>\n",
              "      <td>2022-04-04</td>\n",
              "    </tr>\n",
              "    <tr>\n",
              "      <th>94</th>\n",
              "      <td>95</td>\n",
              "      <td>B</td>\n",
              "      <td>B2</td>\n",
              "      <td>4825.372729</td>\n",
              "      <td>2022-04-05</td>\n",
              "    </tr>\n",
              "    <tr>\n",
              "      <th>95</th>\n",
              "      <td>96</td>\n",
              "      <td>B</td>\n",
              "      <td>B2</td>\n",
              "      <td>4850.584182</td>\n",
              "      <td>2022-04-06</td>\n",
              "    </tr>\n",
              "    <tr>\n",
              "      <th>96</th>\n",
              "      <td>97</td>\n",
              "      <td>B</td>\n",
              "      <td>B2</td>\n",
              "      <td>4866.153987</td>\n",
              "      <td>2022-04-07</td>\n",
              "    </tr>\n",
              "    <tr>\n",
              "      <th>97</th>\n",
              "      <td>98</td>\n",
              "      <td>B</td>\n",
              "      <td>B2</td>\n",
              "      <td>4880.905787</td>\n",
              "      <td>2022-04-08</td>\n",
              "    </tr>\n",
              "    <tr>\n",
              "      <th>98</th>\n",
              "      <td>99</td>\n",
              "      <td>B</td>\n",
              "      <td>B2</td>\n",
              "      <td>4894.445942</td>\n",
              "      <td>2022-04-09</td>\n",
              "    </tr>\n",
              "    <tr>\n",
              "      <th>99</th>\n",
              "      <td>100</td>\n",
              "      <td>B</td>\n",
              "      <td>B2</td>\n",
              "      <td>4906.117982</td>\n",
              "      <td>2022-04-10</td>\n",
              "    </tr>\n",
              "    <tr>\n",
              "      <th>100</th>\n",
              "      <td>101</td>\n",
              "      <td>B</td>\n",
              "      <td>B2</td>\n",
              "      <td>4914.739777</td>\n",
              "      <td>2022-04-11</td>\n",
              "    </tr>\n",
              "    <tr>\n",
              "      <th>101</th>\n",
              "      <td>102</td>\n",
              "      <td>B</td>\n",
              "      <td>B2</td>\n",
              "      <td>4917.946450</td>\n",
              "      <td>2022-04-12</td>\n",
              "    </tr>\n",
              "    <tr>\n",
              "      <th>102</th>\n",
              "      <td>103</td>\n",
              "      <td>B</td>\n",
              "      <td>B2</td>\n",
              "      <td>4910.219138</td>\n",
              "      <td>2022-04-13</td>\n",
              "    </tr>\n",
              "    <tr>\n",
              "      <th>103</th>\n",
              "      <td>104</td>\n",
              "      <td>B</td>\n",
              "      <td>B2</td>\n",
              "      <td>4875.000000</td>\n",
              "      <td>2022-04-14</td>\n",
              "    </tr>\n",
              "  </tbody>\n",
              "</table>\n",
              "</div>\n",
              "      <button class=\"colab-df-convert\" onclick=\"convertToInteractive('df-a61191f2-78b3-4132-954a-56798938961c')\"\n",
              "              title=\"Convert this dataframe to an interactive table.\"\n",
              "              style=\"display:none;\">\n",
              "        \n",
              "  <svg xmlns=\"http://www.w3.org/2000/svg\" height=\"24px\"viewBox=\"0 0 24 24\"\n",
              "       width=\"24px\">\n",
              "    <path d=\"M0 0h24v24H0V0z\" fill=\"none\"/>\n",
              "    <path d=\"M18.56 5.44l.94 2.06.94-2.06 2.06-.94-2.06-.94-.94-2.06-.94 2.06-2.06.94zm-11 1L8.5 8.5l.94-2.06 2.06-.94-2.06-.94L8.5 2.5l-.94 2.06-2.06.94zm10 10l.94 2.06.94-2.06 2.06-.94-2.06-.94-.94-2.06-.94 2.06-2.06.94z\"/><path d=\"M17.41 7.96l-1.37-1.37c-.4-.4-.92-.59-1.43-.59-.52 0-1.04.2-1.43.59L10.3 9.45l-7.72 7.72c-.78.78-.78 2.05 0 2.83L4 21.41c.39.39.9.59 1.41.59.51 0 1.02-.2 1.41-.59l7.78-7.78 2.81-2.81c.8-.78.8-2.07 0-2.86zM5.41 20L4 18.59l7.72-7.72 1.47 1.35L5.41 20z\"/>\n",
              "  </svg>\n",
              "      </button>\n",
              "      \n",
              "  <style>\n",
              "    .colab-df-container {\n",
              "      display:flex;\n",
              "      flex-wrap:wrap;\n",
              "      gap: 12px;\n",
              "    }\n",
              "\n",
              "    .colab-df-convert {\n",
              "      background-color: #E8F0FE;\n",
              "      border: none;\n",
              "      border-radius: 50%;\n",
              "      cursor: pointer;\n",
              "      display: none;\n",
              "      fill: #1967D2;\n",
              "      height: 32px;\n",
              "      padding: 0 0 0 0;\n",
              "      width: 32px;\n",
              "    }\n",
              "\n",
              "    .colab-df-convert:hover {\n",
              "      background-color: #E2EBFA;\n",
              "      box-shadow: 0px 1px 2px rgba(60, 64, 67, 0.3), 0px 1px 3px 1px rgba(60, 64, 67, 0.15);\n",
              "      fill: #174EA6;\n",
              "    }\n",
              "\n",
              "    [theme=dark] .colab-df-convert {\n",
              "      background-color: #3B4455;\n",
              "      fill: #D2E3FC;\n",
              "    }\n",
              "\n",
              "    [theme=dark] .colab-df-convert:hover {\n",
              "      background-color: #434B5C;\n",
              "      box-shadow: 0px 1px 3px 1px rgba(0, 0, 0, 0.15);\n",
              "      filter: drop-shadow(0px 1px 2px rgba(0, 0, 0, 0.3));\n",
              "      fill: #FFFFFF;\n",
              "    }\n",
              "  </style>\n",
              "\n",
              "      <script>\n",
              "        const buttonEl =\n",
              "          document.querySelector('#df-a61191f2-78b3-4132-954a-56798938961c button.colab-df-convert');\n",
              "        buttonEl.style.display =\n",
              "          google.colab.kernel.accessAllowed ? 'block' : 'none';\n",
              "\n",
              "        async function convertToInteractive(key) {\n",
              "          const element = document.querySelector('#df-a61191f2-78b3-4132-954a-56798938961c');\n",
              "          const dataTable =\n",
              "            await google.colab.kernel.invokeFunction('convertToInteractive',\n",
              "                                                     [key], {});\n",
              "          if (!dataTable) return;\n",
              "\n",
              "          const docLinkHtml = 'Like what you see? Visit the ' +\n",
              "            '<a target=\"_blank\" href=https://colab.research.google.com/notebooks/data_table.ipynb>data table notebook</a>'\n",
              "            + ' to learn more about interactive tables.';\n",
              "          element.innerHTML = '';\n",
              "          dataTable['output_type'] = 'display_data';\n",
              "          await google.colab.output.renderOutput(dataTable, element);\n",
              "          const docLink = document.createElement('div');\n",
              "          docLink.innerHTML = docLinkHtml;\n",
              "          element.appendChild(docLink);\n",
              "        }\n",
              "      </script>\n",
              "    </div>\n",
              "  </div>\n",
              "  "
            ]
          },
          "metadata": {},
          "execution_count": 79
        }
      ],
      "source": [
        "# b2 missing values treatment\n",
        "df1_b2"
      ]
    },
    {
      "cell_type": "code",
      "execution_count": null,
      "metadata": {
        "id": "3i7mPsU25AE9"
      },
      "outputs": [],
      "source": [
        "# Make Dataset of 4 products separately\n",
        "a1 = df1_a1[['Date', 'Sales']]\n",
        "a2 = df1_a2[['Date', 'Sales']]\n",
        "b1 = df1_b1[['Date', 'Sales']]\n",
        "b2 = df1_b2[['Date', 'Sales']]"
      ]
    },
    {
      "cell_type": "markdown",
      "metadata": {
        "id": "f7Xctf8L3u9i"
      },
      "source": [
        "## Product A1"
      ]
    },
    {
      "cell_type": "code",
      "execution_count": null,
      "metadata": {
        "colab": {
          "base_uri": "https://localhost:8080/"
        },
        "id": "es4BgijNjhkN",
        "outputId": "e899a837-2a28-4fb2-ec06-93372c22d80d"
      },
      "outputs": [
        {
          "output_type": "stream",
          "name": "stdout",
          "text": [
            "<class 'pandas.core.frame.DataFrame'>\n",
            "RangeIndex: 90 entries, 0 to 89\n",
            "Data columns (total 5 columns):\n",
            " #   Column    Non-Null Count  Dtype         \n",
            "---  ------    --------------  -----         \n",
            " 0   Day       90 non-null     int64         \n",
            " 1   Category  90 non-null     object        \n",
            " 2   Product   90 non-null     object        \n",
            " 3   Sales     90 non-null     float64       \n",
            " 4   Date      90 non-null     datetime64[ns]\n",
            "dtypes: datetime64[ns](1), float64(1), int64(1), object(2)\n",
            "memory usage: 3.6+ KB\n"
          ]
        }
      ],
      "source": [
        "# Check the information of the data\n",
        "df1_a1.info()"
      ]
    },
    {
      "cell_type": "code",
      "execution_count": null,
      "metadata": {
        "colab": {
          "base_uri": "https://localhost:8080/"
        },
        "id": "qSU6uWvrGoYH",
        "outputId": "38be1965-c749-4444-8964-cb763fbce523"
      },
      "outputs": [
        {
          "output_type": "execute_result",
          "data": {
            "text/plain": [
              "Date\n",
              "2022-01-01    100.000000\n",
              "2022-01-02    101.000000\n",
              "2022-01-03    102.010000\n",
              "2022-01-04    103.030100\n",
              "2022-01-05    104.060401\n",
              "Name: Sales, dtype: float64"
            ]
          },
          "metadata": {},
          "execution_count": 82
        }
      ],
      "source": [
        "# Set date and sales as index\n",
        "sales1 = df1_a1.set_index('Date')['Sales']\n",
        "sales1.head()"
      ]
    },
    {
      "cell_type": "code",
      "execution_count": null,
      "metadata": {
        "colab": {
          "base_uri": "https://localhost:8080/",
          "height": 344
        },
        "id": "4jlTN9UnG5vb",
        "outputId": "3ce0bb73-92f1-4d58-d680-a602abecb167"
      },
      "outputs": [
        {
          "output_type": "execute_result",
          "data": {
            "text/plain": [
              "<matplotlib.axes._subplots.AxesSubplot at 0x7f5630287a30>"
            ]
          },
          "metadata": {},
          "execution_count": 83
        },
        {
          "output_type": "display_data",
          "data": {
            "text/plain": [
              "<Figure size 1440x360 with 1 Axes>"
            ],
            "image/png": "[encoded data removed]"
          },
          "metadata": {
            "needs_background": "light"
          }
        }
      ],
      "source": [
        "# Plot Sales\n",
        "sales1.plot(figsize=(20,5))"
      ]
    },
    {
      "cell_type": "code",
      "execution_count": null,
      "metadata": {
        "id": "0bjKErCOypXR"
      },
      "outputs": [],
      "source": [
        "# Create a window function to set the X and y\n",
        "window = 2\n",
        "X_a1 = []\n",
        "y_a1 = []\n",
        "for i in range(window,len(sales1)):\n",
        "  if window+i<len(sales1):\n",
        "    X_a1.append(sales1[i:window+i].values.tolist())\n",
        "    try:\n",
        "      y_a1.append(sales1[window+i])\n",
        "    except:\n",
        "      pass\n",
        "  else:\n",
        "    break\n",
        "\n",
        "X_a1 = np.array(X_a1)\n",
        "y_a1 = np.array(y_a1)"
      ]
    },
    {
      "cell_type": "code",
      "execution_count": null,
      "metadata": {
        "id": "uYpTt5--LkM1"
      },
      "outputs": [],
      "source": [
        "# Set the train and test set\n",
        "train_size1 = round(len(X_a1)*0.8)\n",
        "X_train_a1 = X_a1[:train_size1]\n",
        "y_train_a1 = y_a1[:train_size1]\n",
        "\n",
        "X_test_a1 = X_a1[train_size1:]\n",
        "y_test_a1 = y_a1[train_size1:]"
      ]
    },
    {
      "cell_type": "code",
      "execution_count": null,
      "metadata": {
        "colab": {
          "base_uri": "https://localhost:8080/",
          "height": 332
        },
        "id": "bR4MShVoL84k",
        "outputId": "23d77928-624a-45b3-bbb8-762329235f03"
      },
      "outputs": [
        {
          "output_type": "execute_result",
          "data": {
            "text/plain": [
              "<matplotlib.axes._subplots.AxesSubplot at 0x7f569168ad60>"
            ]
          },
          "metadata": {},
          "execution_count": 86
        },
        {
          "output_type": "display_data",
          "data": {
            "text/plain": [
              "<Figure size 432x288 with 1 Axes>"
            ],
            "image/png": "[encoded data removed]"
          },
          "metadata": {
            "needs_background": "light"
          }
        }
      ],
      "source": [
        "# Plot the train and test data\n",
        "sales1[:train_size1].plot()\n",
        "sales1[train_size1:].plot()"
      ]
    },
    {
      "cell_type": "code",
      "execution_count": null,
      "metadata": {
        "id": "O8wgKpxp5gZt"
      },
      "outputs": [],
      "source": [
        "# Use MinMaxScaler for scaling\n",
        "scaler1 = StandardScaler()\n",
        "X_train_scaled_a1 = scaler1.fit_transform(X_train_a1)\n",
        "X_test_scaled_a1 = scaler1.transform(X_test_a1)"
      ]
    },
    {
      "cell_type": "code",
      "execution_count": null,
      "metadata": {
        "id": "TzILYdjZ-YLQ"
      },
      "outputs": [],
      "source": [
        "# Define, fit, and predict model\n",
        "model_lr = LinearRegression(fit_intercept=True)\n",
        "model_lr.fit(X_train_scaled_a1,y_train_a1)\n",
        "\n",
        "y_pred_train_a1 = model_lr.predict(X_train_scaled_a1)\n",
        "y_pred_test_a1 = model_lr.predict(X_test_scaled_a1)"
      ]
    },
    {
      "cell_type": "code",
      "execution_count": null,
      "metadata": {
        "colab": {
          "base_uri": "https://localhost:8080/"
        },
        "id": "K6zum8IBVKZT",
        "outputId": "48952f12-1173-43ea-bb6a-ac00a1312fbc"
      },
      "outputs": [
        {
          "output_type": "stream",
          "name": "stdout",
          "text": [
            "Train MAE: 2.6449948505194794\n",
            "Test MAE: 2.9818841762415116\n",
            "Train data R2 score: 0.9729201277783486\n",
            "Test data R2 score: 0.3862251142447818\n"
          ]
        }
      ],
      "source": [
        "# Model Evaluation\n",
        "print('Train MAE:', mean_absolute_error(y_train_a1, y_pred_train_a1))\n",
        "print('Test MAE:', mean_absolute_error(y_test_a1, y_pred_test_a1))\n",
        "print('Train data R2 score:', r2_score(y_train_a1, y_pred_train_a1))\n",
        "print('Test data R2 score:', r2_score(y_test_a1, y_pred_test_a1))"
      ]
    },
    {
      "cell_type": "code",
      "execution_count": null,
      "metadata": {
        "colab": {
          "base_uri": "https://localhost:8080/",
          "height": 303
        },
        "id": "q85GthSfLZfp",
        "outputId": "a79c3814-8f40-4643-c5e5-e5ca318e870d"
      },
      "outputs": [
        {
          "output_type": "execute_result",
          "data": {
            "text/plain": [
              "<matplotlib.axes._subplots.AxesSubplot at 0x7f56300c78b0>"
            ]
          },
          "metadata": {},
          "execution_count": 90
        },
        {
          "output_type": "display_data",
          "data": {
            "text/plain": [
              "<Figure size 432x288 with 1 Axes>"
            ],
            "image/png": "[encoded data removed]"
          },
          "metadata": {
            "needs_background": "light"
          }
        }
      ],
      "source": [
        "# Plot the real and predicted value\n",
        "plt.plot(sales1.index[window:-window],np.append(y_pred_train_a1,y_pred_test_a1))\n",
        "sales1.plot(color='red')"
      ]
    },
    {
      "cell_type": "code",
      "source": [
        "from datetime import date, timedelta as td"
      ],
      "metadata": {
        "id": "riQwjfm2riwi"
      },
      "execution_count": null,
      "outputs": []
    },
    {
      "cell_type": "code",
      "execution_count": null,
      "metadata": {
        "id": "BVhmu8zeOsat"
      },
      "outputs": [],
      "source": [
        "# Forecast for the next 30 days\n",
        "def forecasting(month):\n",
        "  sales_forecast = sales1.copy()\n",
        "  window=2\n",
        "  for i in range(month):\n",
        "    X = sales_forecast[-window:].values.reshape(1,-1)\n",
        "    X_scaled = scaler1.transform(X)\n",
        "    new_idx = datetime(sales_forecast.index.year[-1],sales_forecast.index.month[-1]+1,1)\n",
        "    sales_forecast[new_idx] = round(model_lr.predict(X_scaled)[0])\n",
        "  return sales_forecast"
      ]
    },
    {
      "cell_type": "code",
      "execution_count": null,
      "metadata": {
        "id": "qTWvuietObpe",
        "colab": {
          "base_uri": "https://localhost:8080/",
          "height": 342
        },
        "outputId": "ed7a74f8-764c-46e2-ef86-db81c073b6ad"
      },
      "outputs": [
        {
          "output_type": "execute_result",
          "data": {
            "text/plain": [
              "<matplotlib.legend.Legend at 0x7f562fe05910>"
            ]
          },
          "metadata": {},
          "execution_count": 117
        },
        {
          "output_type": "display_data",
          "data": {
            "text/plain": [
              "<Figure size 1440x360 with 1 Axes>"
            ],
            "image/png": "[encoded data removed]"
          },
          "metadata": {
            "needs_background": "light"
          }
        }
      ],
      "source": [
        "# Forecast\n",
        "sales_forecast = forecasting(1)\n",
        "sales_forecast.plot(color='blue',label='forecast',figsize=(20,5))\n",
        "sales1.plot(color='red',label='real')\n",
        "plt.legend()"
      ]
    },
    {
      "cell_type": "markdown",
      "metadata": {
        "id": "bYC1HMQqeeAS"
      },
      "source": [
        "## Product A2"
      ]
    },
    {
      "cell_type": "code",
      "execution_count": null,
      "metadata": {
        "id": "7_Fjt_Upimjt"
      },
      "outputs": [],
      "source": [
        "# Set date and sales as index\n",
        "sales2 = df1_a2.set_index('Date')['Sales']"
      ]
    },
    {
      "cell_type": "code",
      "execution_count": null,
      "metadata": {
        "colab": {
          "base_uri": "https://localhost:8080/",
          "height": 342
        },
        "id": "3o388KWHHPNi",
        "outputId": "0d2e8a2c-85b9-418e-8009-a5d0dc0afa9f"
      },
      "outputs": [
        {
          "output_type": "execute_result",
          "data": {
            "text/plain": [
              "<matplotlib.axes._subplots.AxesSubplot at 0x7f562fc04fd0>"
            ]
          },
          "metadata": {},
          "execution_count": 118
        },
        {
          "output_type": "display_data",
          "data": {
            "text/plain": [
              "<Figure size 1440x360 with 1 Axes>"
            ],
            "image/png": "[encoded data removed]"
          },
          "metadata": {
            "needs_background": "light"
          }
        }
      ],
      "source": [
        "# Plot Sales\n",
        "sales2.plot(figsize=(20,5))"
      ]
    },
    {
      "cell_type": "code",
      "execution_count": null,
      "metadata": {
        "id": "o7kCqGtEYZBT"
      },
      "outputs": [],
      "source": [
        "# Create a window function to set the X and y\n",
        "window = 2\n",
        "X_a2 = []\n",
        "y_a2 = []\n",
        "for i in range(window,len(sales2)):\n",
        "  if window+i<len(sales2):\n",
        "    X_a2.append(sales2[i:window+i].values.tolist())\n",
        "    try:\n",
        "      y_a2.append(sales2[window+i])\n",
        "    except:\n",
        "      pass\n",
        "  else:\n",
        "    break\n",
        "\n",
        "X_a2 = np.array(X_a2)\n",
        "y_a2 = np.array(y_a2)"
      ]
    },
    {
      "cell_type": "code",
      "execution_count": null,
      "metadata": {
        "id": "DBoAAXN1d92D"
      },
      "outputs": [],
      "source": [
        "# Set the train and test set\n",
        "train_size2 = round(len(X_a2)*0.8)\n",
        "X_train_a2 = X_a2[:train_size2]\n",
        "y_train_a2 = y_a2[:train_size2]\n",
        "\n",
        "X_test_a2 = X_a2[train_size2:]\n",
        "y_test_a2 = y_a2[train_size2:]"
      ]
    },
    {
      "cell_type": "code",
      "execution_count": null,
      "metadata": {
        "colab": {
          "base_uri": "https://localhost:8080/"
        },
        "id": "mtBZwu-GPc9K",
        "outputId": "8e433f75-85eb-4d34-dbea-78d329e97600"
      },
      "outputs": [
        {
          "output_type": "stream",
          "name": "stdout",
          "text": [
            "X_train:  (69, 2)\n",
            "X_test:  (17, 2)\n"
          ]
        }
      ],
      "source": [
        "print('X_train: ', X_train_a2.shape)\n",
        "print('X_test: ', X_test_a2.shape)"
      ]
    },
    {
      "cell_type": "code",
      "execution_count": null,
      "metadata": {
        "colab": {
          "base_uri": "https://localhost:8080/",
          "height": 332
        },
        "id": "luNpBqIzePla",
        "outputId": "fd460a15-158b-4b7e-f1ce-887484069377"
      },
      "outputs": [
        {
          "output_type": "execute_result",
          "data": {
            "text/plain": [
              "<matplotlib.axes._subplots.AxesSubplot at 0x7f562f546880>"
            ]
          },
          "metadata": {},
          "execution_count": 122
        },
        {
          "output_type": "display_data",
          "data": {
            "text/plain": [
              "<Figure size 432x288 with 1 Axes>"
            ],
            "image/png": "[encoded data removed]"
          },
          "metadata": {
            "needs_background": "light"
          }
        }
      ],
      "source": [
        "# Plot the train and test data\n",
        "sales2[:train_size2].plot()\n",
        "sales2[train_size2:].plot()"
      ]
    },
    {
      "cell_type": "code",
      "execution_count": null,
      "metadata": {
        "id": "dFmi1DKJ1I0W"
      },
      "outputs": [],
      "source": [
        "# Use MinMaxScaler for scaling\n",
        "scaler1 = StandardScaler()\n",
        "X_train_scaled_a2 = scaler1.fit_transform(X_train_a2)\n",
        "X_test_scaled_a2 = scaler1.transform(X_test_a2)"
      ]
    },
    {
      "cell_type": "code",
      "execution_count": null,
      "metadata": {
        "id": "zfXI57l-fgrj"
      },
      "outputs": [],
      "source": [
        "# Define, fit, and predict model\n",
        "model_lr = LinearRegression(fit_intercept=True)\n",
        "model_lr.fit(X_train_scaled_a2,y_train_a2)\n",
        "\n",
        "y_pred_train_a2 = model_lr.predict(X_train_scaled_a2)\n",
        "y_pred_test_a2 = model_lr.predict(X_test_scaled_a2)"
      ]
    },
    {
      "cell_type": "code",
      "execution_count": null,
      "metadata": {
        "colab": {
          "base_uri": "https://localhost:8080/"
        },
        "id": "IVXJChZiYQqa",
        "outputId": "749d95f9-ef8c-4982-c920-7c25d048e9ee"
      },
      "outputs": [
        {
          "output_type": "stream",
          "name": "stdout",
          "text": [
            "Train MAE: 13.800239285734012\n",
            "Test MAE: 12.655515727660982\n",
            "Train data R2 score: 0.9701892137039807\n",
            "Test data R2 score: 0.7409216275442354\n"
          ]
        }
      ],
      "source": [
        "# Model Evaluation\n",
        "print('Train MAE:',mean_absolute_error(y_train_a2,y_pred_train_a2))\n",
        "print('Test MAE:',mean_absolute_error(y_test_a2,y_pred_test_a2))\n",
        "print('Train data R2 score:', r2_score(y_train_a2, y_pred_train_a2))\n",
        "print('Test data R2 score:', r2_score(y_test_a2, y_pred_test_a2))"
      ]
    },
    {
      "cell_type": "code",
      "source": [
        "# Plot the real and predicted value\n",
        "plt.plot(sales2.index[window:-window],np.append(y_pred_train_a2,y_pred_test_a2))\n",
        "sales2.plot(color='red')"
      ],
      "metadata": {
        "colab": {
          "base_uri": "https://localhost:8080/",
          "height": 303
        },
        "id": "4FgEWwwxuwlT",
        "outputId": "8d18da99-c21a-43ac-ccbb-b87c2a90c798"
      },
      "execution_count": null,
      "outputs": [
        {
          "output_type": "execute_result",
          "data": {
            "text/plain": [
              "<matplotlib.axes._subplots.AxesSubplot at 0x7f562f472190>"
            ]
          },
          "metadata": {},
          "execution_count": 133
        },
        {
          "output_type": "display_data",
          "data": {
            "text/plain": [
              "<Figure size 432x288 with 1 Axes>"
            ],
            "image/png": "[encoded data removed]"
          },
          "metadata": {
            "needs_background": "light"
          }
        }
      ]
    },
    {
      "cell_type": "code",
      "source": [
        "# Forecast\n",
        "def forecasting(month):\n",
        "  sales_forecast = sales2.copy()\n",
        "  window=2\n",
        "  for i in range(month):\n",
        "    X = sales_forecast[-window:].values.reshape(1,-1)\n",
        "    X_scaled = scaler1.transform(X)\n",
        "    new_idx = datetime(sales_forecast.index.year[-1],sales_forecast.index.month[-1]+1,1)\n",
        "    sales_forecast[new_idx] = round(model_lr.predict(X_scaled)[0])\n",
        "  return sales_forecast"
      ],
      "metadata": {
        "id": "q041EgV4utDb"
      },
      "execution_count": null,
      "outputs": []
    },
    {
      "cell_type": "code",
      "source": [
        "# Plot the forecast\n",
        "sales_forecast = forecasting(1)\n",
        "sales_forecast.plot(color='blue',label='forecast',figsize=(20,5))\n",
        "sales2.plot(color='red',label='real')\n",
        "plt.legend()"
      ],
      "metadata": {
        "colab": {
          "base_uri": "https://localhost:8080/",
          "height": 340
        },
        "id": "LkgqEvaNwKwC",
        "outputId": "1a75a734-46c9-4077-e18c-e74ecfbad0bf"
      },
      "execution_count": null,
      "outputs": [
        {
          "output_type": "execute_result",
          "data": {
            "text/plain": [
              "<matplotlib.legend.Legend at 0x7f562f31ff10>"
            ]
          },
          "metadata": {},
          "execution_count": 150
        },
        {
          "output_type": "display_data",
          "data": {
            "text/plain": [
              "<Figure size 1440x360 with 1 Axes>"
            ],
            "image/png": "[encoded data removed]"
          },
          "metadata": {
            "needs_background": "light"
          }
        }
      ]
    },
    {
      "cell_type": "markdown",
      "metadata": {
        "id": "0IoO3iXNmYqi"
      },
      "source": [
        "## Product B1"
      ]
    },
    {
      "cell_type": "code",
      "execution_count": null,
      "metadata": {
        "colab": {
          "base_uri": "https://localhost:8080/",
          "height": 206
        },
        "id": "ZhfD8bd_S1jC",
        "outputId": "e6393bf7-d665-4d73-eb2f-e1d09a0c320d"
      },
      "outputs": [
        {
          "output_type": "execute_result",
          "data": {
            "text/plain": [
              "     Day Category Product        Sales  Event       Date\n",
              "99   100        B      B1  1077.500000      0 2022-04-10\n",
              "100  101        B      B1  1097.000000      1 2022-04-11\n",
              "101  102        B      B1  1118.750000      0 2022-04-12\n",
              "102  103        B      B1  1151.666667      0 2022-04-13\n",
              "103  104        B      B1  1000.000000      0 2022-04-14"
            ],
            "text/html": [
              "\n",
              "  <div id=\"df-37091446-34ba-41e2-b516-30df548dafb1\">\n",
              "    <div class=\"colab-df-container\">\n",
              "      <div>\n",
              "<style scoped>\n",
              "    .dataframe tbody tr th:only-of-type {\n",
              "        vertical-align: middle;\n",
              "    }\n",
              "\n",
              "    .dataframe tbody tr th {\n",
              "        vertical-align: top;\n",
              "    }\n",
              "\n",
              "    .dataframe thead th {\n",
              "        text-align: right;\n",
              "    }\n",
              "</style>\n",
              "<table border=\"1\" class=\"dataframe\">\n",
              "  <thead>\n",
              "    <tr style=\"text-align: right;\">\n",
              "      <th></th>\n",
              "      <th>Day</th>\n",
              "      <th>Category</th>\n",
              "      <th>Product</th>\n",
              "      <th>Sales</th>\n",
              "      <th>Event</th>\n",
              "      <th>Date</th>\n",
              "    </tr>\n",
              "  </thead>\n",
              "  <tbody>\n",
              "    <tr>\n",
              "      <th>99</th>\n",
              "      <td>100</td>\n",
              "      <td>B</td>\n",
              "      <td>B1</td>\n",
              "      <td>1077.500000</td>\n",
              "      <td>0</td>\n",
              "      <td>2022-04-10</td>\n",
              "    </tr>\n",
              "    <tr>\n",
              "      <th>100</th>\n",
              "      <td>101</td>\n",
              "      <td>B</td>\n",
              "      <td>B1</td>\n",
              "      <td>1097.000000</td>\n",
              "      <td>1</td>\n",
              "      <td>2022-04-11</td>\n",
              "    </tr>\n",
              "    <tr>\n",
              "      <th>101</th>\n",
              "      <td>102</td>\n",
              "      <td>B</td>\n",
              "      <td>B1</td>\n",
              "      <td>1118.750000</td>\n",
              "      <td>0</td>\n",
              "      <td>2022-04-12</td>\n",
              "    </tr>\n",
              "    <tr>\n",
              "      <th>102</th>\n",
              "      <td>103</td>\n",
              "      <td>B</td>\n",
              "      <td>B1</td>\n",
              "      <td>1151.666667</td>\n",
              "      <td>0</td>\n",
              "      <td>2022-04-13</td>\n",
              "    </tr>\n",
              "    <tr>\n",
              "      <th>103</th>\n",
              "      <td>104</td>\n",
              "      <td>B</td>\n",
              "      <td>B1</td>\n",
              "      <td>1000.000000</td>\n",
              "      <td>0</td>\n",
              "      <td>2022-04-14</td>\n",
              "    </tr>\n",
              "  </tbody>\n",
              "</table>\n",
              "</div>\n",
              "      <button class=\"colab-df-convert\" onclick=\"convertToInteractive('df-37091446-34ba-41e2-b516-30df548dafb1')\"\n",
              "              title=\"Convert this dataframe to an interactive table.\"\n",
              "              style=\"display:none;\">\n",
              "        \n",
              "  <svg xmlns=\"http://www.w3.org/2000/svg\" height=\"24px\"viewBox=\"0 0 24 24\"\n",
              "       width=\"24px\">\n",
              "    <path d=\"M0 0h24v24H0V0z\" fill=\"none\"/>\n",
              "    <path d=\"M18.56 5.44l.94 2.06.94-2.06 2.06-.94-2.06-.94-.94-2.06-.94 2.06-2.06.94zm-11 1L8.5 8.5l.94-2.06 2.06-.94-2.06-.94L8.5 2.5l-.94 2.06-2.06.94zm10 10l.94 2.06.94-2.06 2.06-.94-2.06-.94-.94-2.06-.94 2.06-2.06.94z\"/><path d=\"M17.41 7.96l-1.37-1.37c-.4-.4-.92-.59-1.43-.59-.52 0-1.04.2-1.43.59L10.3 9.45l-7.72 7.72c-.78.78-.78 2.05 0 2.83L4 21.41c.39.39.9.59 1.41.59.51 0 1.02-.2 1.41-.59l7.78-7.78 2.81-2.81c.8-.78.8-2.07 0-2.86zM5.41 20L4 18.59l7.72-7.72 1.47 1.35L5.41 20z\"/>\n",
              "  </svg>\n",
              "      </button>\n",
              "      \n",
              "  <style>\n",
              "    .colab-df-container {\n",
              "      display:flex;\n",
              "      flex-wrap:wrap;\n",
              "      gap: 12px;\n",
              "    }\n",
              "\n",
              "    .colab-df-convert {\n",
              "      background-color: #E8F0FE;\n",
              "      border: none;\n",
              "      border-radius: 50%;\n",
              "      cursor: pointer;\n",
              "      display: none;\n",
              "      fill: #1967D2;\n",
              "      height: 32px;\n",
              "      padding: 0 0 0 0;\n",
              "      width: 32px;\n",
              "    }\n",
              "\n",
              "    .colab-df-convert:hover {\n",
              "      background-color: #E2EBFA;\n",
              "      box-shadow: 0px 1px 2px rgba(60, 64, 67, 0.3), 0px 1px 3px 1px rgba(60, 64, 67, 0.15);\n",
              "      fill: #174EA6;\n",
              "    }\n",
              "\n",
              "    [theme=dark] .colab-df-convert {\n",
              "      background-color: #3B4455;\n",
              "      fill: #D2E3FC;\n",
              "    }\n",
              "\n",
              "    [theme=dark] .colab-df-convert:hover {\n",
              "      background-color: #434B5C;\n",
              "      box-shadow: 0px 1px 3px 1px rgba(0, 0, 0, 0.15);\n",
              "      filter: drop-shadow(0px 1px 2px rgba(0, 0, 0, 0.3));\n",
              "      fill: #FFFFFF;\n",
              "    }\n",
              "  </style>\n",
              "\n",
              "      <script>\n",
              "        const buttonEl =\n",
              "          document.querySelector('#df-37091446-34ba-41e2-b516-30df548dafb1 button.colab-df-convert');\n",
              "        buttonEl.style.display =\n",
              "          google.colab.kernel.accessAllowed ? 'block' : 'none';\n",
              "\n",
              "        async function convertToInteractive(key) {\n",
              "          const element = document.querySelector('#df-37091446-34ba-41e2-b516-30df548dafb1');\n",
              "          const dataTable =\n",
              "            await google.colab.kernel.invokeFunction('convertToInteractive',\n",
              "                                                     [key], {});\n",
              "          if (!dataTable) return;\n",
              "\n",
              "          const docLinkHtml = 'Like what you see? Visit the ' +\n",
              "            '<a target=\"_blank\" href=https://colab.research.google.com/notebooks/data_table.ipynb>data table notebook</a>'\n",
              "            + ' to learn more about interactive tables.';\n",
              "          element.innerHTML = '';\n",
              "          dataTable['output_type'] = 'display_data';\n",
              "          await google.colab.output.renderOutput(dataTable, element);\n",
              "          const docLink = document.createElement('div');\n",
              "          docLink.innerHTML = docLinkHtml;\n",
              "          element.appendChild(docLink);\n",
              "        }\n",
              "      </script>\n",
              "    </div>\n",
              "  </div>\n",
              "  "
            ]
          },
          "metadata": {},
          "execution_count": 151
        }
      ],
      "source": [
        "# Dataset Preview\n",
        "df1_b1.tail()"
      ]
    },
    {
      "cell_type": "code",
      "execution_count": null,
      "metadata": {
        "colab": {
          "base_uri": "https://localhost:8080/"
        },
        "id": "xXJQ4fZ2m_wd",
        "outputId": "f9edf379-667b-45e6-94be-f678b3bb85e8"
      },
      "outputs": [
        {
          "output_type": "stream",
          "name": "stdout",
          "text": [
            "(104, 1)\n"
          ]
        }
      ],
      "source": [
        "del b1['Date'] # Remove Column `Date` from b1 so there will be `Sales` only \n",
        "scaler = MinMaxScaler(feature_range=(0,1)) \n",
        "scaled = scaler.fit_transform(np.array(b1).reshape(-1,1))\n",
        "print(scaled.shape)"
      ]
    },
    {
      "cell_type": "code",
      "execution_count": null,
      "metadata": {
        "colab": {
          "base_uri": "https://localhost:8080/"
        },
        "id": "YxrkE8XOnX4B",
        "outputId": "d5ca3101-7ca6-4a2e-e76d-ceb959763643"
      },
      "outputs": [
        {
          "output_type": "stream",
          "name": "stdout",
          "text": [
            "train_data:  (83, 1)\n",
            "test_data:  (21, 1)\n"
          ]
        }
      ],
      "source": [
        "# Split Data\n",
        "training_size = int(len(scaled)*0.80)\n",
        "test_size = len(scaled)-training_size\n",
        "train_data, test_data = scaled[0:training_size,:],scaled[training_size:len(scaled),:1]\n",
        "print('train_data: ', train_data.shape)\n",
        "print('test_data: ', test_data.shape)"
      ]
    },
    {
      "cell_type": "code",
      "execution_count": null,
      "metadata": {
        "id": "tjUTEPCFpP1I"
      },
      "outputs": [],
      "source": [
        "# convert an array of values into a dataset matrix\n",
        "def create_dataset(dataset, time_step=1):\n",
        "    dataX = []\n",
        "    dataY = []\n",
        "    for i in range(len(dataset)-time_step-1):\n",
        "        a = dataset[i:(i+time_step), 0]   ###i=0, 0,1,2,3-----99   100 \n",
        "        dataX.append(a)\n",
        "        dataY.append(dataset[i + time_step, 0])\n",
        "    return np.array(dataX), np.array(dataY)"
      ]
    },
    {
      "cell_type": "code",
      "execution_count": null,
      "metadata": {
        "colab": {
          "base_uri": "https://localhost:8080/"
        },
        "id": "ymNFSZUUpp29",
        "outputId": "ba11d833-f6f8-4c95-9e05-6506f56a398d"
      },
      "outputs": [
        {
          "output_type": "stream",
          "name": "stdout",
          "text": [
            "X_train:  (68, 14)\n",
            "y_train:  (68,)\n",
            "X_test:  (6, 14)\n",
            "y_test (6,)\n"
          ]
        }
      ],
      "source": [
        "# reshape into X=t,t+1,t+2,t+3 and Y=t+4\n",
        "time_step = 14\n",
        "X_train_b1, y_train_b1 = create_dataset(train_data, time_step)\n",
        "X_test_b1, y_test_b1 = create_dataset(test_data, time_step)\n",
        "\n",
        "print(\"X_train: \", X_train_b1.shape)\n",
        "print(\"y_train: \", y_train_b1.shape)\n",
        "print(\"X_test: \", X_test_b1.shape)\n",
        "print(\"y_test\", y_test_b1.shape)"
      ]
    },
    {
      "cell_type": "code",
      "execution_count": null,
      "metadata": {
        "colab": {
          "base_uri": "https://localhost:8080/"
        },
        "id": "QO8UwPVJqAA2",
        "outputId": "0c27dcb0-3cc8-461f-8e6f-f8071987fa00"
      },
      "outputs": [
        {
          "output_type": "execute_result",
          "data": {
            "text/plain": [
              "RandomForestRegressor(random_state=0)"
            ]
          },
          "metadata": {},
          "execution_count": 156
        }
      ],
      "source": [
        "model_rfr = RandomForestRegressor(n_estimators = 100, random_state = 0)\n",
        "model_rfr.fit(X_train_b1,y_train_b1)"
      ]
    },
    {
      "cell_type": "code",
      "execution_count": null,
      "metadata": {
        "id": "JYH3QGoGqMWU"
      },
      "outputs": [],
      "source": [
        "y_pred_train3 = model_rfr.predict(X_train_b1)\n",
        "y_pred_test3 = model_rfr.predict(X_test_b1)\n",
        "\n",
        "y_pred_train3 = y_pred_train3.reshape(-1,1)\n",
        "y_pred_test3 = y_pred_test3.reshape(-1,1)\n",
        "\n",
        "print(\"Train data prediction:\", y_pred_train3.shape)\n",
        "print(\"Test data prediction:\", y_pred_test3.shape)"
      ]
    },
    {
      "cell_type": "code",
      "execution_count": null,
      "metadata": {
        "id": "hoY-TKOHrIYw"
      },
      "outputs": [],
      "source": [
        "# Transform back to original form\n",
        "\n",
        "y_pred_train3 = scaler.inverse_transform(y_pred_train3)\n",
        "y_pred_test3 = scaler.inverse_transform(y_pred_test3)\n",
        "y_train_b1 = scaler.inverse_transform(y_train_b1.reshape(-1,1)) \n",
        "y_test_b1 = scaler.inverse_transform(y_test_b1.reshape(-1,1))"
      ]
    },
    {
      "cell_type": "code",
      "execution_count": null,
      "metadata": {
        "colab": {
          "base_uri": "https://localhost:8080/"
        },
        "id": "UJ39TWQJriGF",
        "outputId": "d3540418-65e7-4a7f-e9cf-946b5dc81f05"
      },
      "outputs": [
        {
          "output_type": "stream",
          "name": "stdout",
          "text": [
            "Train MAE: 54.311323529411716\n",
            "Test MAE: 39.68718253968257\n",
            "Train data R2 score: 0.8316498867897795\n",
            "Test data R2 score: -1.3860687999513077\n"
          ]
        }
      ],
      "source": [
        "# Model Evaluation\n",
        "print('Train MAE:',mean_absolute_error(y_train_b1,y_pred_train3))\n",
        "print('Test MAE:',mean_absolute_error(y_test_b1,y_pred_test3))\n",
        "print('Train data R2 score:', r2_score(y_train_b1, y_pred_train3))\n",
        "print('Test data R2 score:', r2_score(y_test_b1, y_pred_test3))"
      ]
    },
    {
      "cell_type": "code",
      "source": [
        "# shift train predictions for plotting\n",
        "\n",
        "look_back=time_step\n",
        "y_pred_train3_plot = np.empty_like(scaled)\n",
        "y_pred_train3_plot[:, :] = np.nan\n",
        "y_pred_train3_plot[look_back:len(y_pred_train3)+look_back, :] = y_pred_train3\n",
        "print(\"Train predicted data: \", y_pred_train3_plot.shape)\n",
        "\n",
        "# shift test predictions for plotting\n",
        "y_pred_test3_plot = np.empty_like(scaled)\n",
        "y_pred_test3_plot[:, :] = np.nan\n",
        "y_pred_test3_plot[len(y_pred_train3)+(look_back*2)+1:len(scaled)-1, :] = y_pred_test3\n",
        "print(\"Test predicted data: \", y_pred_test3_plot.shape)\n",
        "\n",
        "names = cycle(['Sales','Train predicted Sales','Test predicted Sales'])\n",
        "\n",
        "\n",
        "plotdf = pd.DataFrame({'date': df1_b1['Date'],\n",
        "                       'sales': df1_b1['Sales'],\n",
        "                      'train_predicted_sales': y_pred_train3_plot.reshape(1,-1)[0].tolist(),\n",
        "                      'test_predicted_sales': y_pred_test3_plot.reshape(1,-1)[0].tolist()})\n",
        "\n",
        "fig = px.line(plotdf,x=plotdf['date'], y=[plotdf['sales'],plotdf['train_predicted_sales'],\n",
        "                                          plotdf['test_predicted_sales']],\n",
        "              labels={'value':'Sales','date': 'Date'})\n",
        "fig.update_layout(title_text='Comparison between Real Sales and Predicted Sales of Product B1',\n",
        "                  plot_bgcolor='white', font_size=15, font_color='black', legend_title_text='Sales')\n",
        "fig.for_each_trace(lambda t:  t.update(name = next(names)))\n",
        "\n",
        "fig.update_xaxes(showgrid=False)\n",
        "fig.update_yaxes(showgrid=False)\n",
        "fig.show()"
      ],
      "metadata": {
        "colab": {
          "base_uri": "https://localhost:8080/",
          "height": 578
        },
        "id": "wC5QdRha0tDy",
        "outputId": "72406125-e201-4eea-da45-298926a4878a"
      },
      "execution_count": null,
      "outputs": [
        {
          "output_type": "stream",
          "name": "stdout",
          "text": [
            "Train predicted data:  (104, 1)\n",
            "Test predicted data:  (104, 1)\n"
          ]
        },
        {
          "output_type": "display_data",
          "data": {
            "text/html": [
              "<html>\n",
              "<head><meta charset=\"utf-8\" /></head>\n",
              "<body>\n",
              "    <div>            <script src=\"https://cdnjs.cloudflare.com/ajax/libs/mathjax/2.7.5/MathJax.js?config=TeX-AMS-MML_SVG\"></script><script type=\"text/javascript\">if (window.MathJax) {MathJax.Hub.Config({SVG: {font: \"STIX-Web\"}});}</script>                <script type=\"text/javascript\">window.PlotlyConfig = {MathJaxConfig: 'local'};</script>\n",
              "        <script src=\"https://cdn.plot.ly/plotly-2.8.3.min.js\"></script>                <div id=\"30cd134c-bebf-4d10-a78d-825fd3093332\" class=\"plotly-graph-div\" style=\"height:525px; width:100%;\"></div>            <script type=\"text/javascript\">                                    window.PLOTLYENV=window.PLOTLYENV || {};                                    if (document.getElementById(\"30cd134c-bebf-4d10-a78d-825fd3093332\")) {                    Plotly.newPlot(                        \"30cd134c-bebf-4d10-a78d-825fd3093332\",                        [{\"hovertemplate\":\"variable=sales<br>Date=%{x}<br>Sales=%{y}<extra></extra>\",\"legendgroup\":\"sales\",\"line\":{\"color\":\"#636efa\",\"dash\":\"solid\"},\"marker\":{\"symbol\":\"circle\"},\"mode\":\"lines\",\"name\":\"Sales\",\"orientation\":\"v\",\"showlegend\":true,\"x\":[\"2022-01-01T00:00:00\",\"2022-01-02T00:00:00\",\"2022-01-03T00:00:00\",\"2022-01-04T00:00:00\",\"2022-01-05T00:00:00\",\"2022-01-06T00:00:00\",\"2022-01-07T00:00:00\",\"2022-01-08T00:00:00\",\"2022-01-09T00:00:00\",\"2022-01-10T00:00:00\",\"2022-01-11T00:00:00\",\"2022-01-12T00:00:00\",\"2022-01-13T00:00:00\",\"2022-01-14T00:00:00\",\"2022-01-15T00:00:00\",\"2022-01-16T00:00:00\",\"2022-01-17T00:00:00\",\"2022-01-18T00:00:00\",\"2022-01-19T00:00:00\",\"2022-01-20T00:00:00\",\"2022-01-21T00:00:00\",\"2022-01-22T00:00:00\",\"2022-01-23T00:00:00\",\"2022-01-24T00:00:00\",\"2022-01-25T00:00:00\",\"2022-01-26T00:00:00\",\"2022-01-27T00:00:00\",\"2022-01-28T00:00:00\",\"2022-01-29T00:00:00\",\"2022-01-30T00:00:00\",\"2022-01-31T00:00:00\",\"2022-02-01T00:00:00\",\"2022-02-02T00:00:00\",\"2022-02-03T00:00:00\",\"2022-02-04T00:00:00\",\"2022-02-05T00:00:00\",\"2022-02-06T00:00:00\",\"2022-02-07T00:00:00\",\"2022-02-08T00:00:00\",\"2022-02-09T00:00:00\",\"2022-02-10T00:00:00\",\"2022-02-11T00:00:00\",\"2022-02-12T00:00:00\",\"2022-02-13T00:00:00\",\"2022-02-14T00:00:00\",\"2022-02-15T00:00:00\",\"2022-02-16T00:00:00\",\"2022-02-17T00:00:00\",\"2022-02-18T00:00:00\",\"2022-02-19T00:00:00\",\"2022-02-20T00:00:00\",\"2022-02-21T00:00:00\",\"2022-02-22T00:00:00\",\"2022-02-23T00:00:00\",\"2022-02-24T00:00:00\",\"2022-02-25T00:00:00\",\"2022-02-26T00:00:00\",\"2022-02-27T00:00:00\",\"2022-02-28T00:00:00\",\"2022-03-01T00:00:00\",\"2022-03-02T00:00:00\",\"2022-03-03T00:00:00\",\"2022-03-04T00:00:00\",\"2022-03-05T00:00:00\",\"2022-03-06T00:00:00\",\"2022-03-07T00:00:00\",\"2022-03-08T00:00:00\",\"2022-03-09T00:00:00\",\"2022-03-10T00:00:00\",\"2022-03-11T00:00:00\",\"2022-03-12T00:00:00\",\"2022-03-13T00:00:00\",\"2022-03-14T00:00:00\",\"2022-03-15T00:00:00\",\"2022-03-16T00:00:00\",\"2022-03-17T00:00:00\",\"2022-03-18T00:00:00\",\"2022-03-19T00:00:00\",\"2022-03-20T00:00:00\",\"2022-03-21T00:00:00\",\"2022-03-22T00:00:00\",\"2022-03-23T00:00:00\",\"2022-03-24T00:00:00\",\"2022-03-25T00:00:00\",\"2022-03-26T00:00:00\",\"2022-03-27T00:00:00\",\"2022-03-28T00:00:00\",\"2022-03-29T00:00:00\",\"2022-03-30T00:00:00\",\"2022-03-31T00:00:00\",\"2022-04-01T00:00:00\",\"2022-04-02T00:00:00\",\"2022-04-03T00:00:00\",\"2022-04-04T00:00:00\",\"2022-04-05T00:00:00\",\"2022-04-06T00:00:00\",\"2022-04-07T00:00:00\",\"2022-04-08T00:00:00\",\"2022-04-09T00:00:00\",\"2022-04-10T00:00:00\",\"2022-04-11T00:00:00\",\"2022-04-12T00:00:00\",\"2022-04-13T00:00:00\",\"2022-04-14T00:00:00\"],\"xaxis\":\"x\",\"y\":[990.0,980.0,1010.0,1010.0,1000.0,1000.0,1717.0,1020.0,970.0,1000.0,1020.0,1000.0,1000.0,970.0,1700.0,980.0,980.0,970.0,980.0,970.0,980.0,980.0,990.0,970.0,1020.0,1734.0,970.0,990.0,980.0,990.0,1000.0,970.0,980.0,990.0,980.0,990.0,1010.0,1010.0,1000.0,1649.0,1010.0,990.0,1010.0,1010.0,1550.0,990.0,1000.0,990.0,1020.0,1010.0,1000.0,990.0,980.0,1650.0,990.0,1000.0,1010.0,1010.0,1000.0,980.0,1555.0,970.0,1000.0,1020.0,1000.0,990.0,1000.0,1560.0,990.0,970.0,980.0,1000.0,1000.0,990.0,970.0,990.0,1545.0,990.0,1020.0,1020.0,1020.0,990.0,1020.0,980.0,980.0,1010.0,1020.0,1455.0,1010.0,990.0,1069.3333333333333,1075.0,1038.8461538461538,1042.9166666666667,1045.0,1047.5,1050.5555555555557,1058.125,1063.5714285714287,1077.5,1097.0,1118.75,1151.6666666666667,1000.0],\"yaxis\":\"y\",\"type\":\"scatter\"},{\"hovertemplate\":\"variable=train_predicted_sales<br>Date=%{x}<br>Sales=%{y}<extra></extra>\",\"legendgroup\":\"train_predicted_sales\",\"line\":{\"color\":\"#EF553B\",\"dash\":\"solid\"},\"marker\":{\"symbol\":\"circle\"},\"mode\":\"lines\",\"name\":\"Train predicted Sales\",\"orientation\":\"v\",\"showlegend\":true,\"x\":[\"2022-01-01T00:00:00\",\"2022-01-02T00:00:00\",\"2022-01-03T00:00:00\",\"2022-01-04T00:00:00\",\"2022-01-05T00:00:00\",\"2022-01-06T00:00:00\",\"2022-01-07T00:00:00\",\"2022-01-08T00:00:00\",\"2022-01-09T00:00:00\",\"2022-01-10T00:00:00\",\"2022-01-11T00:00:00\",\"2022-01-12T00:00:00\",\"2022-01-13T00:00:00\",\"2022-01-14T00:00:00\",\"2022-01-15T00:00:00\",\"2022-01-16T00:00:00\",\"2022-01-17T00:00:00\",\"2022-01-18T00:00:00\",\"2022-01-19T00:00:00\",\"2022-01-20T00:00:00\",\"2022-01-21T00:00:00\",\"2022-01-22T00:00:00\",\"2022-01-23T00:00:00\",\"2022-01-24T00:00:00\",\"2022-01-25T00:00:00\",\"2022-01-26T00:00:00\",\"2022-01-27T00:00:00\",\"2022-01-28T00:00:00\",\"2022-01-29T00:00:00\",\"2022-01-30T00:00:00\",\"2022-01-31T00:00:00\",\"2022-02-01T00:00:00\",\"2022-02-02T00:00:00\",\"2022-02-03T00:00:00\",\"2022-02-04T00:00:00\",\"2022-02-05T00:00:00\",\"2022-02-06T00:00:00\",\"2022-02-07T00:00:00\",\"2022-02-08T00:00:00\",\"2022-02-09T00:00:00\",\"2022-02-10T00:00:00\",\"2022-02-11T00:00:00\",\"2022-02-12T00:00:00\",\"2022-02-13T00:00:00\",\"2022-02-14T00:00:00\",\"2022-02-15T00:00:00\",\"2022-02-16T00:00:00\",\"2022-02-17T00:00:00\",\"2022-02-18T00:00:00\",\"2022-02-19T00:00:00\",\"2022-02-20T00:00:00\",\"2022-02-21T00:00:00\",\"2022-02-22T00:00:00\",\"2022-02-23T00:00:00\",\"2022-02-24T00:00:00\",\"2022-02-25T00:00:00\",\"2022-02-26T00:00:00\",\"2022-02-27T00:00:00\",\"2022-02-28T00:00:00\",\"2022-03-01T00:00:00\",\"2022-03-02T00:00:00\",\"2022-03-03T00:00:00\",\"2022-03-04T00:00:00\",\"2022-03-05T00:00:00\",\"2022-03-06T00:00:00\",\"2022-03-07T00:00:00\",\"2022-03-08T00:00:00\",\"2022-03-09T00:00:00\",\"2022-03-10T00:00:00\",\"2022-03-11T00:00:00\",\"2022-03-12T00:00:00\",\"2022-03-13T00:00:00\",\"2022-03-14T00:00:00\",\"2022-03-15T00:00:00\",\"2022-03-16T00:00:00\",\"2022-03-17T00:00:00\",\"2022-03-18T00:00:00\",\"2022-03-19T00:00:00\",\"2022-03-20T00:00:00\",\"2022-03-21T00:00:00\",\"2022-03-22T00:00:00\",\"2022-03-23T00:00:00\",\"2022-03-24T00:00:00\",\"2022-03-25T00:00:00\",\"2022-03-26T00:00:00\",\"2022-03-27T00:00:00\",\"2022-03-28T00:00:00\",\"2022-03-29T00:00:00\",\"2022-03-30T00:00:00\",\"2022-03-31T00:00:00\",\"2022-04-01T00:00:00\",\"2022-04-02T00:00:00\",\"2022-04-03T00:00:00\",\"2022-04-04T00:00:00\",\"2022-04-05T00:00:00\",\"2022-04-06T00:00:00\",\"2022-04-07T00:00:00\",\"2022-04-08T00:00:00\",\"2022-04-09T00:00:00\",\"2022-04-10T00:00:00\",\"2022-04-11T00:00:00\",\"2022-04-12T00:00:00\",\"2022-04-13T00:00:00\",\"2022-04-14T00:00:00\"],\"xaxis\":\"x\",\"y\":[null,null,null,null,null,null,null,null,null,null,null,null,null,null,1526.300000000001,1063.7000000000003,987.95,1059.45,996.7,1034.69,1092.8400000000001,1105.2,1096.3999999999999,1035.82,1018.7999999999998,1508.2199999999998,1014.0799999999999,996.94,1124.5700000000004,1040.08,1071.3900000000003,994.48,1089.2900000000002,1144.4900000000002,1029.44,999.9000000000001,1094.99,1003.4,1002.8499999999999,1444.9900000000005,1015.6999999999999,996.4000000000001,1005.9,1025.6,1333.1000000000004,990.1,1085.95,1026.2,1018.8999999999999,1009.8,1027.2599999999998,1032.6,992.4000000000001,1499.4300000000005,996.9,997.1999999999999,1006.7,1007.5999999999999,1084.48,985.4,1324.8,992.9,1013.45,1034.1899999999998,1037.3,997.3,998.1,1446.8299999999995,1009.85,1038.05,988.1,1040.29,997.0,992.1999999999999,1032.49,1020.6199999999999,1345.2,997.4399999999999,1009.5,1012.0,1032.18,1023.3399999999999,null,null,null,null,null,null,null,null,null,null,null,null,null,null,null,null,null,null,null,null,null,null],\"yaxis\":\"y\",\"type\":\"scatter\"},{\"hovertemplate\":\"variable=test_predicted_sales<br>Date=%{x}<br>Sales=%{y}<extra></extra>\",\"legendgroup\":\"test_predicted_sales\",\"line\":{\"color\":\"#00cc96\",\"dash\":\"solid\"},\"marker\":{\"symbol\":\"circle\"},\"mode\":\"lines\",\"name\":\"Test predicted Sales\",\"orientation\":\"v\",\"showlegend\":true,\"x\":[\"2022-01-01T00:00:00\",\"2022-01-02T00:00:00\",\"2022-01-03T00:00:00\",\"2022-01-04T00:00:00\",\"2022-01-05T00:00:00\",\"2022-01-06T00:00:00\",\"2022-01-07T00:00:00\",\"2022-01-08T00:00:00\",\"2022-01-09T00:00:00\",\"2022-01-10T00:00:00\",\"2022-01-11T00:00:00\",\"2022-01-12T00:00:00\",\"2022-01-13T00:00:00\",\"2022-01-14T00:00:00\",\"2022-01-15T00:00:00\",\"2022-01-16T00:00:00\",\"2022-01-17T00:00:00\",\"2022-01-18T00:00:00\",\"2022-01-19T00:00:00\",\"2022-01-20T00:00:00\",\"2022-01-21T00:00:00\",\"2022-01-22T00:00:00\",\"2022-01-23T00:00:00\",\"2022-01-24T00:00:00\",\"2022-01-25T00:00:00\",\"2022-01-26T00:00:00\",\"2022-01-27T00:00:00\",\"2022-01-28T00:00:00\",\"2022-01-29T00:00:00\",\"2022-01-30T00:00:00\",\"2022-01-31T00:00:00\",\"2022-02-01T00:00:00\",\"2022-02-02T00:00:00\",\"2022-02-03T00:00:00\",\"2022-02-04T00:00:00\",\"2022-02-05T00:00:00\",\"2022-02-06T00:00:00\",\"2022-02-07T00:00:00\",\"2022-02-08T00:00:00\",\"2022-02-09T00:00:00\",\"2022-02-10T00:00:00\",\"2022-02-11T00:00:00\",\"2022-02-12T00:00:00\",\"2022-02-13T00:00:00\",\"2022-02-14T00:00:00\",\"2022-02-15T00:00:00\",\"2022-02-16T00:00:00\",\"2022-02-17T00:00:00\",\"2022-02-18T00:00:00\",\"2022-02-19T00:00:00\",\"2022-02-20T00:00:00\",\"2022-02-21T00:00:00\",\"2022-02-22T00:00:00\",\"2022-02-23T00:00:00\",\"2022-02-24T00:00:00\",\"2022-02-25T00:00:00\",\"2022-02-26T00:00:00\",\"2022-02-27T00:00:00\",\"2022-02-28T00:00:00\",\"2022-03-01T00:00:00\",\"2022-03-02T00:00:00\",\"2022-03-03T00:00:00\",\"2022-03-04T00:00:00\",\"2022-03-05T00:00:00\",\"2022-03-06T00:00:00\",\"2022-03-07T00:00:00\",\"2022-03-08T00:00:00\",\"2022-03-09T00:00:00\",\"2022-03-10T00:00:00\",\"2022-03-11T00:00:00\",\"2022-03-12T00:00:00\",\"2022-03-13T00:00:00\",\"2022-03-14T00:00:00\",\"2022-03-15T00:00:00\",\"2022-03-16T00:00:00\",\"2022-03-17T00:00:00\",\"2022-03-18T00:00:00\",\"2022-03-19T00:00:00\",\"2022-03-20T00:00:00\",\"2022-03-21T00:00:00\",\"2022-03-22T00:00:00\",\"2022-03-23T00:00:00\",\"2022-03-24T00:00:00\",\"2022-03-25T00:00:00\",\"2022-03-26T00:00:00\",\"2022-03-27T00:00:00\",\"2022-03-28T00:00:00\",\"2022-03-29T00:00:00\",\"2022-03-30T00:00:00\",\"2022-03-31T00:00:00\",\"2022-04-01T00:00:00\",\"2022-04-02T00:00:00\",\"2022-04-03T00:00:00\",\"2022-04-04T00:00:00\",\"2022-04-05T00:00:00\",\"2022-04-06T00:00:00\",\"2022-04-07T00:00:00\",\"2022-04-08T00:00:00\",\"2022-04-09T00:00:00\",\"2022-04-10T00:00:00\",\"2022-04-11T00:00:00\",\"2022-04-12T00:00:00\",\"2022-04-13T00:00:00\",\"2022-04-14T00:00:00\"],\"xaxis\":\"x\",\"y\":[null,null,null,null,null,null,null,null,null,null,null,null,null,null,null,null,null,null,null,null,null,null,null,null,null,null,null,null,null,null,null,null,null,null,null,null,null,null,null,null,null,null,null,null,null,null,null,null,null,null,null,null,null,null,null,null,null,null,null,null,null,null,null,null,null,null,null,null,null,null,null,null,null,null,null,null,null,null,null,null,null,null,null,null,null,null,null,null,null,null,null,null,null,null,null,null,null,1061.25,1048.15,1052.2,1041.2,1079.1399999999999,1052.8,null],\"yaxis\":\"y\",\"type\":\"scatter\"}],                        {\"template\":{\"data\":{\"bar\":[{\"error_x\":{\"color\":\"#2a3f5f\"},\"error_y\":{\"color\":\"#2a3f5f\"},\"marker\":{\"line\":{\"color\":\"#E5ECF6\",\"width\":0.5},\"pattern\":{\"fillmode\":\"overlay\",\"size\":10,\"solidity\":0.2}},\"type\":\"bar\"}],\"barpolar\":[{\"marker\":{\"line\":{\"color\":\"#E5ECF6\",\"width\":0.5},\"pattern\":{\"fillmode\":\"overlay\",\"size\":10,\"solidity\":0.2}},\"type\":\"barpolar\"}],\"carpet\":[{\"aaxis\":{\"endlinecolor\":\"#2a3f5f\",\"gridcolor\":\"white\",\"linecolor\":\"white\",\"minorgridcolor\":\"white\",\"startlinecolor\":\"#2a3f5f\"},\"baxis\":{\"endlinecolor\":\"#2a3f5f\",\"gridcolor\":\"white\",\"linecolor\":\"white\",\"minorgridcolor\":\"white\",\"startlinecolor\":\"#2a3f5f\"},\"type\":\"carpet\"}],\"choropleth\":[{\"colorbar\":{\"outlinewidth\":0,\"ticks\":\"\"},\"type\":\"choropleth\"}],\"contour\":[{\"colorbar\":{\"outlinewidth\":0,\"ticks\":\"\"},\"colorscale\":[[0.0,\"#0d0887\"],[0.1111111111111111,\"#46039f\"],[0.2222222222222222,\"#7201a8\"],[0.3333333333333333,\"#9c179e\"],[0.4444444444444444,\"#bd3786\"],[0.5555555555555556,\"#d8576b\"],[0.6666666666666666,\"#ed7953\"],[0.7777777777777778,\"#fb9f3a\"],[0.8888888888888888,\"#fdca26\"],[1.0,\"#f0f921\"]],\"type\":\"contour\"}],\"contourcarpet\":[{\"colorbar\":{\"outlinewidth\":0,\"ticks\":\"\"},\"type\":\"contourcarpet\"}],\"heatmap\":[{\"colorbar\":{\"outlinewidth\":0,\"ticks\":\"\"},\"colorscale\":[[0.0,\"#0d0887\"],[0.1111111111111111,\"#46039f\"],[0.2222222222222222,\"#7201a8\"],[0.3333333333333333,\"#9c179e\"],[0.4444444444444444,\"#bd3786\"],[0.5555555555555556,\"#d8576b\"],[0.6666666666666666,\"#ed7953\"],[0.7777777777777778,\"#fb9f3a\"],[0.8888888888888888,\"#fdca26\"],[1.0,\"#f0f921\"]],\"type\":\"heatmap\"}],\"heatmapgl\":[{\"colorbar\":{\"outlinewidth\":0,\"ticks\":\"\"},\"colorscale\":[[0.0,\"#0d0887\"],[0.1111111111111111,\"#46039f\"],[0.2222222222222222,\"#7201a8\"],[0.3333333333333333,\"#9c179e\"],[0.4444444444444444,\"#bd3786\"],[0.5555555555555556,\"#d8576b\"],[0.6666666666666666,\"#ed7953\"],[0.7777777777777778,\"#fb9f3a\"],[0.8888888888888888,\"#fdca26\"],[1.0,\"#f0f921\"]],\"type\":\"heatmapgl\"}],\"histogram\":[{\"marker\":{\"pattern\":{\"fillmode\":\"overlay\",\"size\":10,\"solidity\":0.2}},\"type\":\"histogram\"}],\"histogram2d\":[{\"colorbar\":{\"outlinewidth\":0,\"ticks\":\"\"},\"colorscale\":[[0.0,\"#0d0887\"],[0.1111111111111111,\"#46039f\"],[0.2222222222222222,\"#7201a8\"],[0.3333333333333333,\"#9c179e\"],[0.4444444444444444,\"#bd3786\"],[0.5555555555555556,\"#d8576b\"],[0.6666666666666666,\"#ed7953\"],[0.7777777777777778,\"#fb9f3a\"],[0.8888888888888888,\"#fdca26\"],[1.0,\"#f0f921\"]],\"type\":\"histogram2d\"}],\"histogram2dcontour\":[{\"colorbar\":{\"outlinewidth\":0,\"ticks\":\"\"},\"colorscale\":[[0.0,\"#0d0887\"],[0.1111111111111111,\"#46039f\"],[0.2222222222222222,\"#7201a8\"],[0.3333333333333333,\"#9c179e\"],[0.4444444444444444,\"#bd3786\"],[0.5555555555555556,\"#d8576b\"],[0.6666666666666666,\"#ed7953\"],[0.7777777777777778,\"#fb9f3a\"],[0.8888888888888888,\"#fdca26\"],[1.0,\"#f0f921\"]],\"type\":\"histogram2dcontour\"}],\"mesh3d\":[{\"colorbar\":{\"outlinewidth\":0,\"ticks\":\"\"},\"type\":\"mesh3d\"}],\"parcoords\":[{\"line\":{\"colorbar\":{\"outlinewidth\":0,\"ticks\":\"\"}},\"type\":\"parcoords\"}],\"pie\":[{\"automargin\":true,\"type\":\"pie\"}],\"scatter\":[{\"marker\":{\"colorbar\":{\"outlinewidth\":0,\"ticks\":\"\"}},\"type\":\"scatter\"}],\"scatter3d\":[{\"line\":{\"colorbar\":{\"outlinewidth\":0,\"ticks\":\"\"}},\"marker\":{\"colorbar\":{\"outlinewidth\":0,\"ticks\":\"\"}},\"type\":\"scatter3d\"}],\"scattercarpet\":[{\"marker\":{\"colorbar\":{\"outlinewidth\":0,\"ticks\":\"\"}},\"type\":\"scattercarpet\"}],\"scattergeo\":[{\"marker\":{\"colorbar\":{\"outlinewidth\":0,\"ticks\":\"\"}},\"type\":\"scattergeo\"}],\"scattergl\":[{\"marker\":{\"colorbar\":{\"outlinewidth\":0,\"ticks\":\"\"}},\"type\":\"scattergl\"}],\"scattermapbox\":[{\"marker\":{\"colorbar\":{\"outlinewidth\":0,\"ticks\":\"\"}},\"type\":\"scattermapbox\"}],\"scatterpolar\":[{\"marker\":{\"colorbar\":{\"outlinewidth\":0,\"ticks\":\"\"}},\"type\":\"scatterpolar\"}],\"scatterpolargl\":[{\"marker\":{\"colorbar\":{\"outlinewidth\":0,\"ticks\":\"\"}},\"type\":\"scatterpolargl\"}],\"scatterternary\":[{\"marker\":{\"colorbar\":{\"outlinewidth\":0,\"ticks\":\"\"}},\"type\":\"scatterternary\"}],\"surface\":[{\"colorbar\":{\"outlinewidth\":0,\"ticks\":\"\"},\"colorscale\":[[0.0,\"#0d0887\"],[0.1111111111111111,\"#46039f\"],[0.2222222222222222,\"#7201a8\"],[0.3333333333333333,\"#9c179e\"],[0.4444444444444444,\"#bd3786\"],[0.5555555555555556,\"#d8576b\"],[0.6666666666666666,\"#ed7953\"],[0.7777777777777778,\"#fb9f3a\"],[0.8888888888888888,\"#fdca26\"],[1.0,\"#f0f921\"]],\"type\":\"surface\"}],\"table\":[{\"cells\":{\"fill\":{\"color\":\"#EBF0F8\"},\"line\":{\"color\":\"white\"}},\"header\":{\"fill\":{\"color\":\"#C8D4E3\"},\"line\":{\"color\":\"white\"}},\"type\":\"table\"}]},\"layout\":{\"annotationdefaults\":{\"arrowcolor\":\"#2a3f5f\",\"arrowhead\":0,\"arrowwidth\":1},\"autotypenumbers\":\"strict\",\"coloraxis\":{\"colorbar\":{\"outlinewidth\":0,\"ticks\":\"\"}},\"colorscale\":{\"diverging\":[[0,\"#8e0152\"],[0.1,\"#c51b7d\"],[0.2,\"#de77ae\"],[0.3,\"#f1b6da\"],[0.4,\"#fde0ef\"],[0.5,\"#f7f7f7\"],[0.6,\"#e6f5d0\"],[0.7,\"#b8e186\"],[0.8,\"#7fbc41\"],[0.9,\"#4d9221\"],[1,\"#276419\"]],\"sequential\":[[0.0,\"#0d0887\"],[0.1111111111111111,\"#46039f\"],[0.2222222222222222,\"#7201a8\"],[0.3333333333333333,\"#9c179e\"],[0.4444444444444444,\"#bd3786\"],[0.5555555555555556,\"#d8576b\"],[0.6666666666666666,\"#ed7953\"],[0.7777777777777778,\"#fb9f3a\"],[0.8888888888888888,\"#fdca26\"],[1.0,\"#f0f921\"]],\"sequentialminus\":[[0.0,\"#0d0887\"],[0.1111111111111111,\"#46039f\"],[0.2222222222222222,\"#7201a8\"],[0.3333333333333333,\"#9c179e\"],[0.4444444444444444,\"#bd3786\"],[0.5555555555555556,\"#d8576b\"],[0.6666666666666666,\"#ed7953\"],[0.7777777777777778,\"#fb9f3a\"],[0.8888888888888888,\"#fdca26\"],[1.0,\"#f0f921\"]]},\"colorway\":[\"#636efa\",\"#EF553B\",\"#00cc96\",\"#ab63fa\",\"#FFA15A\",\"#19d3f3\",\"#FF6692\",\"#B6E880\",\"#FF97FF\",\"#FECB52\"],\"font\":{\"color\":\"#2a3f5f\"},\"geo\":{\"bgcolor\":\"white\",\"lakecolor\":\"white\",\"landcolor\":\"#E5ECF6\",\"showlakes\":true,\"showland\":true,\"subunitcolor\":\"white\"},\"hoverlabel\":{\"align\":\"left\"},\"hovermode\":\"closest\",\"mapbox\":{\"style\":\"light\"},\"paper_bgcolor\":\"white\",\"plot_bgcolor\":\"#E5ECF6\",\"polar\":{\"angularaxis\":{\"gridcolor\":\"white\",\"linecolor\":\"white\",\"ticks\":\"\"},\"bgcolor\":\"#E5ECF6\",\"radialaxis\":{\"gridcolor\":\"white\",\"linecolor\":\"white\",\"ticks\":\"\"}},\"scene\":{\"xaxis\":{\"backgroundcolor\":\"#E5ECF6\",\"gridcolor\":\"white\",\"gridwidth\":2,\"linecolor\":\"white\",\"showbackground\":true,\"ticks\":\"\",\"zerolinecolor\":\"white\"},\"yaxis\":{\"backgroundcolor\":\"#E5ECF6\",\"gridcolor\":\"white\",\"gridwidth\":2,\"linecolor\":\"white\",\"showbackground\":true,\"ticks\":\"\",\"zerolinecolor\":\"white\"},\"zaxis\":{\"backgroundcolor\":\"#E5ECF6\",\"gridcolor\":\"white\",\"gridwidth\":2,\"linecolor\":\"white\",\"showbackground\":true,\"ticks\":\"\",\"zerolinecolor\":\"white\"}},\"shapedefaults\":{\"line\":{\"color\":\"#2a3f5f\"}},\"ternary\":{\"aaxis\":{\"gridcolor\":\"white\",\"linecolor\":\"white\",\"ticks\":\"\"},\"baxis\":{\"gridcolor\":\"white\",\"linecolor\":\"white\",\"ticks\":\"\"},\"bgcolor\":\"#E5ECF6\",\"caxis\":{\"gridcolor\":\"white\",\"linecolor\":\"white\",\"ticks\":\"\"}},\"title\":{\"x\":0.05},\"xaxis\":{\"automargin\":true,\"gridcolor\":\"white\",\"linecolor\":\"white\",\"ticks\":\"\",\"title\":{\"standoff\":15},\"zerolinecolor\":\"white\",\"zerolinewidth\":2},\"yaxis\":{\"automargin\":true,\"gridcolor\":\"white\",\"linecolor\":\"white\",\"ticks\":\"\",\"title\":{\"standoff\":15},\"zerolinecolor\":\"white\",\"zerolinewidth\":2}}},\"xaxis\":{\"anchor\":\"y\",\"domain\":[0.0,1.0],\"title\":{\"text\":\"Date\"},\"showgrid\":false},\"yaxis\":{\"anchor\":\"x\",\"domain\":[0.0,1.0],\"title\":{\"text\":\"Sales\"},\"showgrid\":false},\"legend\":{\"title\":{\"text\":\"Sales\"},\"tracegroupgap\":0},\"margin\":{\"t\":60},\"title\":{\"text\":\"Comparison between Real Sales and Predicted Sales of Product B1\"},\"font\":{\"size\":15,\"color\":\"black\"},\"plot_bgcolor\":\"white\"},                        {\"responsive\": true}                    ).then(function(){\n",
              "                            \n",
              "var gd = document.getElementById('30cd134c-bebf-4d10-a78d-825fd3093332');\n",
              "var x = new MutationObserver(function (mutations, observer) {{\n",
              "        var display = window.getComputedStyle(gd).display;\n",
              "        if (!display || display === 'none') {{\n",
              "            console.log([gd, 'removed!']);\n",
              "            Plotly.purge(gd);\n",
              "            observer.disconnect();\n",
              "        }}\n",
              "}});\n",
              "\n",
              "// Listen for the removal of the full notebook cells\n",
              "var notebookContainer = gd.closest('#notebook-container');\n",
              "if (notebookContainer) {{\n",
              "    x.observe(notebookContainer, {childList: true});\n",
              "}}\n",
              "\n",
              "// Listen for the clearing of the current output cell\n",
              "var outputEl = gd.closest('.output');\n",
              "if (outputEl) {{\n",
              "    x.observe(outputEl, {childList: true});\n",
              "}}\n",
              "\n",
              "                        })                };                            </script>        </div>\n",
              "</body>\n",
              "</html>"
            ]
          },
          "metadata": {}
        }
      ]
    },
    {
      "cell_type": "code",
      "source": [
        "x_input=test_data[len(test_data)-time_step:].reshape(1,-1)\n",
        "temp_input=list(x_input)\n",
        "temp_input=temp_input[0].tolist()\n",
        "\n",
        "\n",
        "\n",
        "lst_output=[]\n",
        "n_steps=time_step\n",
        "i=0\n",
        "pred_days = 14\n",
        "while(i<pred_days):\n",
        "    \n",
        "    if(len(temp_input)>time_step):\n",
        "        \n",
        "        x_input=np.array(temp_input[1:])\n",
        "        #print(\"{} day input {}\".format(i,x_input))\n",
        "        x_input=x_input.reshape(1,-1)\n",
        "        \n",
        "        yhat = model_rfr.predict(x_input)\n",
        "        #print(\"{} day output {}\".format(i,yhat))\n",
        "        temp_input.extend(yhat.tolist())\n",
        "        temp_input=temp_input[1:]\n",
        "       \n",
        "        lst_output.extend(yhat.tolist())\n",
        "        i=i+1\n",
        "        \n",
        "    else:\n",
        "        yhat = model_rfr.predict(x_input)\n",
        "        \n",
        "        temp_input.extend(yhat.tolist())\n",
        "        lst_output.extend(yhat.tolist())\n",
        "        \n",
        "        i=i+1\n",
        "        \n",
        "print(\"Output of predicted next days: \", len(lst_output))"
      ],
      "metadata": {
        "colab": {
          "base_uri": "https://localhost:8080/"
        },
        "id": "6T_aZulu4kUX",
        "outputId": "85349866-d9c1-4ab9-a38e-b904f3fb8d51"
      },
      "execution_count": null,
      "outputs": [
        {
          "output_type": "stream",
          "name": "stdout",
          "text": [
            "Output of predicted next days:  14\n"
          ]
        }
      ]
    },
    {
      "cell_type": "code",
      "source": [
        "last_days=np.arange(1,time_step+1)\n",
        "day_pred=np.arange(time_step+1,time_step+pred_days+1)"
      ],
      "metadata": {
        "id": "FoBbxPve7k2N"
      },
      "execution_count": null,
      "outputs": []
    },
    {
      "cell_type": "code",
      "source": [
        "# Plotting Comparison Between Last 15 Days vs Next 10 Days\n",
        "temp_mat = np.empty((len(last_days)+pred_days+1,1))\n",
        "temp_mat[:] = np.nan\n",
        "temp_mat = temp_mat.reshape(1,-1).tolist()[0]\n",
        "\n",
        "last_original_days_value = temp_mat\n",
        "next_predicted_days_value = temp_mat\n",
        "\n",
        "last_original_days_value[0:time_step+1] = scaler.inverse_transform(scaled[len(scaled)-time_step:]).reshape(1,-1).tolist()[0]\n",
        "next_predicted_days_value[time_step+1:] = scaler.inverse_transform(np.array(lst_output).reshape(-1,1)).reshape(1,-1).tolist()[0]\n",
        "\n",
        "new_pred_plot = pd.DataFrame({\n",
        "    'last_original_days_value':last_original_days_value,\n",
        "    'next_predicted_days_value':next_predicted_days_value\n",
        "})\n",
        "names = cycle(['Last 15 Days Sales','Predicted Next 14 Days Sales'])\n",
        "\n",
        "fig = px.line(new_pred_plot,x=new_pred_plot.index, y=[new_pred_plot['last_original_days_value'],\n",
        "                                                      new_pred_plot['next_predicted_days_value']],\n",
        "              labels={'value': 'Sales','index': 'Timestamp'})\n",
        "fig.update_layout(title_text='Comparison Between Last 15 Days vs Next 14 Days',\n",
        "                  plot_bgcolor='white', font_size=15, font_color='black', legend_title_text='Sales')\n",
        "fig.for_each_trace(lambda t:  t.update(name = next(names)))\n",
        "\n",
        "fig.update_xaxes(showgrid=False)\n",
        "fig.update_yaxes(showgrid=False)\n",
        "fig.show()"
      ],
      "metadata": {
        "colab": {
          "base_uri": "https://localhost:8080/",
          "height": 542
        },
        "id": "87yyHEP871RP",
        "outputId": "b2ab8096-c95f-4741-bc17-e45106e658fc"
      },
      "execution_count": null,
      "outputs": [
        {
          "output_type": "display_data",
          "data": {
            "text/html": [
              "<html>\n",
              "<head><meta charset=\"utf-8\" /></head>\n",
              "<body>\n",
              "    <div>            <script src=\"https://cdnjs.cloudflare.com/ajax/libs/mathjax/2.7.5/MathJax.js?config=TeX-AMS-MML_SVG\"></script><script type=\"text/javascript\">if (window.MathJax) {MathJax.Hub.Config({SVG: {font: \"STIX-Web\"}});}</script>                <script type=\"text/javascript\">window.PlotlyConfig = {MathJaxConfig: 'local'};</script>\n",
              "        <script src=\"https://cdn.plot.ly/plotly-2.8.3.min.js\"></script>                <div id=\"946d0656-78ba-4fa4-87e6-d14211224e87\" class=\"plotly-graph-div\" style=\"height:525px; width:100%;\"></div>            <script type=\"text/javascript\">                                    window.PLOTLYENV=window.PLOTLYENV || {};                                    if (document.getElementById(\"946d0656-78ba-4fa4-87e6-d14211224e87\")) {                    Plotly.newPlot(                        \"946d0656-78ba-4fa4-87e6-d14211224e87\",                        [{\"hovertemplate\":\"variable=last_original_days_value<br>Timestamp=%{x}<br>Sales=%{y}<extra></extra>\",\"legendgroup\":\"last_original_days_value\",\"line\":{\"color\":\"#636efa\",\"dash\":\"solid\"},\"marker\":{\"symbol\":\"circle\"},\"mode\":\"lines\",\"name\":\"Last 15 Days Sales\",\"orientation\":\"v\",\"showlegend\":true,\"x\":[0,1,2,3,4,5,6,7,8,9,10,11,12,13,14,15,16,17,18,19,20,21,22,23,24,25,26,27,28],\"xaxis\":\"x\",\"y\":[1069.3333333333333,1075.0,1038.8461538461538,1042.9166666666667,1045.0,1047.5,1050.5555555555557,1058.125,1063.5714285714287,1077.5,1097.0,1118.75,1151.6666666666667,1000.0000000000001,null,1045.3999999999999,1047.8,1046.4499999999998,1016.25,1016.9999999999999,1046.5,1042.5,1046.4,1045.3999999999999,1046.4,1041.1000000000001,1045.85,1046.8999999999999,1046.6],\"yaxis\":\"y\",\"type\":\"scatter\"},{\"hovertemplate\":\"variable=next_predicted_days_value<br>Timestamp=%{x}<br>Sales=%{y}<extra></extra>\",\"legendgroup\":\"next_predicted_days_value\",\"line\":{\"color\":\"#EF553B\",\"dash\":\"solid\"},\"marker\":{\"symbol\":\"circle\"},\"mode\":\"lines\",\"name\":\"Predicted Next 14 Days Sales\",\"orientation\":\"v\",\"showlegend\":true,\"x\":[0,1,2,3,4,5,6,7,8,9,10,11,12,13,14,15,16,17,18,19,20,21,22,23,24,25,26,27,28],\"xaxis\":\"x\",\"y\":[1069.3333333333333,1075.0,1038.8461538461538,1042.9166666666667,1045.0,1047.5,1050.5555555555557,1058.125,1063.5714285714287,1077.5,1097.0,1118.75,1151.6666666666667,1000.0000000000001,null,1045.3999999999999,1047.8,1046.4499999999998,1016.25,1016.9999999999999,1046.5,1042.5,1046.4,1045.3999999999999,1046.4,1041.1000000000001,1045.85,1046.8999999999999,1046.6],\"yaxis\":\"y\",\"type\":\"scatter\"}],                        {\"template\":{\"data\":{\"bar\":[{\"error_x\":{\"color\":\"#2a3f5f\"},\"error_y\":{\"color\":\"#2a3f5f\"},\"marker\":{\"line\":{\"color\":\"#E5ECF6\",\"width\":0.5},\"pattern\":{\"fillmode\":\"overlay\",\"size\":10,\"solidity\":0.2}},\"type\":\"bar\"}],\"barpolar\":[{\"marker\":{\"line\":{\"color\":\"#E5ECF6\",\"width\":0.5},\"pattern\":{\"fillmode\":\"overlay\",\"size\":10,\"solidity\":0.2}},\"type\":\"barpolar\"}],\"carpet\":[{\"aaxis\":{\"endlinecolor\":\"#2a3f5f\",\"gridcolor\":\"white\",\"linecolor\":\"white\",\"minorgridcolor\":\"white\",\"startlinecolor\":\"#2a3f5f\"},\"baxis\":{\"endlinecolor\":\"#2a3f5f\",\"gridcolor\":\"white\",\"linecolor\":\"white\",\"minorgridcolor\":\"white\",\"startlinecolor\":\"#2a3f5f\"},\"type\":\"carpet\"}],\"choropleth\":[{\"colorbar\":{\"outlinewidth\":0,\"ticks\":\"\"},\"type\":\"choropleth\"}],\"contour\":[{\"colorbar\":{\"outlinewidth\":0,\"ticks\":\"\"},\"colorscale\":[[0.0,\"#0d0887\"],[0.1111111111111111,\"#46039f\"],[0.2222222222222222,\"#7201a8\"],[0.3333333333333333,\"#9c179e\"],[0.4444444444444444,\"#bd3786\"],[0.5555555555555556,\"#d8576b\"],[0.6666666666666666,\"#ed7953\"],[0.7777777777777778,\"#fb9f3a\"],[0.8888888888888888,\"#fdca26\"],[1.0,\"#f0f921\"]],\"type\":\"contour\"}],\"contourcarpet\":[{\"colorbar\":{\"outlinewidth\":0,\"ticks\":\"\"},\"type\":\"contourcarpet\"}],\"heatmap\":[{\"colorbar\":{\"outlinewidth\":0,\"ticks\":\"\"},\"colorscale\":[[0.0,\"#0d0887\"],[0.1111111111111111,\"#46039f\"],[0.2222222222222222,\"#7201a8\"],[0.3333333333333333,\"#9c179e\"],[0.4444444444444444,\"#bd3786\"],[0.5555555555555556,\"#d8576b\"],[0.6666666666666666,\"#ed7953\"],[0.7777777777777778,\"#fb9f3a\"],[0.8888888888888888,\"#fdca26\"],[1.0,\"#f0f921\"]],\"type\":\"heatmap\"}],\"heatmapgl\":[{\"colorbar\":{\"outlinewidth\":0,\"ticks\":\"\"},\"colorscale\":[[0.0,\"#0d0887\"],[0.1111111111111111,\"#46039f\"],[0.2222222222222222,\"#7201a8\"],[0.3333333333333333,\"#9c179e\"],[0.4444444444444444,\"#bd3786\"],[0.5555555555555556,\"#d8576b\"],[0.6666666666666666,\"#ed7953\"],[0.7777777777777778,\"#fb9f3a\"],[0.8888888888888888,\"#fdca26\"],[1.0,\"#f0f921\"]],\"type\":\"heatmapgl\"}],\"histogram\":[{\"marker\":{\"pattern\":{\"fillmode\":\"overlay\",\"size\":10,\"solidity\":0.2}},\"type\":\"histogram\"}],\"histogram2d\":[{\"colorbar\":{\"outlinewidth\":0,\"ticks\":\"\"},\"colorscale\":[[0.0,\"#0d0887\"],[0.1111111111111111,\"#46039f\"],[0.2222222222222222,\"#7201a8\"],[0.3333333333333333,\"#9c179e\"],[0.4444444444444444,\"#bd3786\"],[0.5555555555555556,\"#d8576b\"],[0.6666666666666666,\"#ed7953\"],[0.7777777777777778,\"#fb9f3a\"],[0.8888888888888888,\"#fdca26\"],[1.0,\"#f0f921\"]],\"type\":\"histogram2d\"}],\"histogram2dcontour\":[{\"colorbar\":{\"outlinewidth\":0,\"ticks\":\"\"},\"colorscale\":[[0.0,\"#0d0887\"],[0.1111111111111111,\"#46039f\"],[0.2222222222222222,\"#7201a8\"],[0.3333333333333333,\"#9c179e\"],[0.4444444444444444,\"#bd3786\"],[0.5555555555555556,\"#d8576b\"],[0.6666666666666666,\"#ed7953\"],[0.7777777777777778,\"#fb9f3a\"],[0.8888888888888888,\"#fdca26\"],[1.0,\"#f0f921\"]],\"type\":\"histogram2dcontour\"}],\"mesh3d\":[{\"colorbar\":{\"outlinewidth\":0,\"ticks\":\"\"},\"type\":\"mesh3d\"}],\"parcoords\":[{\"line\":{\"colorbar\":{\"outlinewidth\":0,\"ticks\":\"\"}},\"type\":\"parcoords\"}],\"pie\":[{\"automargin\":true,\"type\":\"pie\"}],\"scatter\":[{\"marker\":{\"colorbar\":{\"outlinewidth\":0,\"ticks\":\"\"}},\"type\":\"scatter\"}],\"scatter3d\":[{\"line\":{\"colorbar\":{\"outlinewidth\":0,\"ticks\":\"\"}},\"marker\":{\"colorbar\":{\"outlinewidth\":0,\"ticks\":\"\"}},\"type\":\"scatter3d\"}],\"scattercarpet\":[{\"marker\":{\"colorbar\":{\"outlinewidth\":0,\"ticks\":\"\"}},\"type\":\"scattercarpet\"}],\"scattergeo\":[{\"marker\":{\"colorbar\":{\"outlinewidth\":0,\"ticks\":\"\"}},\"type\":\"scattergeo\"}],\"scattergl\":[{\"marker\":{\"colorbar\":{\"outlinewidth\":0,\"ticks\":\"\"}},\"type\":\"scattergl\"}],\"scattermapbox\":[{\"marker\":{\"colorbar\":{\"outlinewidth\":0,\"ticks\":\"\"}},\"type\":\"scattermapbox\"}],\"scatterpolar\":[{\"marker\":{\"colorbar\":{\"outlinewidth\":0,\"ticks\":\"\"}},\"type\":\"scatterpolar\"}],\"scatterpolargl\":[{\"marker\":{\"colorbar\":{\"outlinewidth\":0,\"ticks\":\"\"}},\"type\":\"scatterpolargl\"}],\"scatterternary\":[{\"marker\":{\"colorbar\":{\"outlinewidth\":0,\"ticks\":\"\"}},\"type\":\"scatterternary\"}],\"surface\":[{\"colorbar\":{\"outlinewidth\":0,\"ticks\":\"\"},\"colorscale\":[[0.0,\"#0d0887\"],[0.1111111111111111,\"#46039f\"],[0.2222222222222222,\"#7201a8\"],[0.3333333333333333,\"#9c179e\"],[0.4444444444444444,\"#bd3786\"],[0.5555555555555556,\"#d8576b\"],[0.6666666666666666,\"#ed7953\"],[0.7777777777777778,\"#fb9f3a\"],[0.8888888888888888,\"#fdca26\"],[1.0,\"#f0f921\"]],\"type\":\"surface\"}],\"table\":[{\"cells\":{\"fill\":{\"color\":\"#EBF0F8\"},\"line\":{\"color\":\"white\"}},\"header\":{\"fill\":{\"color\":\"#C8D4E3\"},\"line\":{\"color\":\"white\"}},\"type\":\"table\"}]},\"layout\":{\"annotationdefaults\":{\"arrowcolor\":\"#2a3f5f\",\"arrowhead\":0,\"arrowwidth\":1},\"autotypenumbers\":\"strict\",\"coloraxis\":{\"colorbar\":{\"outlinewidth\":0,\"ticks\":\"\"}},\"colorscale\":{\"diverging\":[[0,\"#8e0152\"],[0.1,\"#c51b7d\"],[0.2,\"#de77ae\"],[0.3,\"#f1b6da\"],[0.4,\"#fde0ef\"],[0.5,\"#f7f7f7\"],[0.6,\"#e6f5d0\"],[0.7,\"#b8e186\"],[0.8,\"#7fbc41\"],[0.9,\"#4d9221\"],[1,\"#276419\"]],\"sequential\":[[0.0,\"#0d0887\"],[0.1111111111111111,\"#46039f\"],[0.2222222222222222,\"#7201a8\"],[0.3333333333333333,\"#9c179e\"],[0.4444444444444444,\"#bd3786\"],[0.5555555555555556,\"#d8576b\"],[0.6666666666666666,\"#ed7953\"],[0.7777777777777778,\"#fb9f3a\"],[0.8888888888888888,\"#fdca26\"],[1.0,\"#f0f921\"]],\"sequentialminus\":[[0.0,\"#0d0887\"],[0.1111111111111111,\"#46039f\"],[0.2222222222222222,\"#7201a8\"],[0.3333333333333333,\"#9c179e\"],[0.4444444444444444,\"#bd3786\"],[0.5555555555555556,\"#d8576b\"],[0.6666666666666666,\"#ed7953\"],[0.7777777777777778,\"#fb9f3a\"],[0.8888888888888888,\"#fdca26\"],[1.0,\"#f0f921\"]]},\"colorway\":[\"#636efa\",\"#EF553B\",\"#00cc96\",\"#ab63fa\",\"#FFA15A\",\"#19d3f3\",\"#FF6692\",\"#B6E880\",\"#FF97FF\",\"#FECB52\"],\"font\":{\"color\":\"#2a3f5f\"},\"geo\":{\"bgcolor\":\"white\",\"lakecolor\":\"white\",\"landcolor\":\"#E5ECF6\",\"showlakes\":true,\"showland\":true,\"subunitcolor\":\"white\"},\"hoverlabel\":{\"align\":\"left\"},\"hovermode\":\"closest\",\"mapbox\":{\"style\":\"light\"},\"paper_bgcolor\":\"white\",\"plot_bgcolor\":\"#E5ECF6\",\"polar\":{\"angularaxis\":{\"gridcolor\":\"white\",\"linecolor\":\"white\",\"ticks\":\"\"},\"bgcolor\":\"#E5ECF6\",\"radialaxis\":{\"gridcolor\":\"white\",\"linecolor\":\"white\",\"ticks\":\"\"}},\"scene\":{\"xaxis\":{\"backgroundcolor\":\"#E5ECF6\",\"gridcolor\":\"white\",\"gridwidth\":2,\"linecolor\":\"white\",\"showbackground\":true,\"ticks\":\"\",\"zerolinecolor\":\"white\"},\"yaxis\":{\"backgroundcolor\":\"#E5ECF6\",\"gridcolor\":\"white\",\"gridwidth\":2,\"linecolor\":\"white\",\"showbackground\":true,\"ticks\":\"\",\"zerolinecolor\":\"white\"},\"zaxis\":{\"backgroundcolor\":\"#E5ECF6\",\"gridcolor\":\"white\",\"gridwidth\":2,\"linecolor\":\"white\",\"showbackground\":true,\"ticks\":\"\",\"zerolinecolor\":\"white\"}},\"shapedefaults\":{\"line\":{\"color\":\"#2a3f5f\"}},\"ternary\":{\"aaxis\":{\"gridcolor\":\"white\",\"linecolor\":\"white\",\"ticks\":\"\"},\"baxis\":{\"gridcolor\":\"white\",\"linecolor\":\"white\",\"ticks\":\"\"},\"bgcolor\":\"#E5ECF6\",\"caxis\":{\"gridcolor\":\"white\",\"linecolor\":\"white\",\"ticks\":\"\"}},\"title\":{\"x\":0.05},\"xaxis\":{\"automargin\":true,\"gridcolor\":\"white\",\"linecolor\":\"white\",\"ticks\":\"\",\"title\":{\"standoff\":15},\"zerolinecolor\":\"white\",\"zerolinewidth\":2},\"yaxis\":{\"automargin\":true,\"gridcolor\":\"white\",\"linecolor\":\"white\",\"ticks\":\"\",\"title\":{\"standoff\":15},\"zerolinecolor\":\"white\",\"zerolinewidth\":2}}},\"xaxis\":{\"anchor\":\"y\",\"domain\":[0.0,1.0],\"title\":{\"text\":\"Timestamp\"},\"showgrid\":false},\"yaxis\":{\"anchor\":\"x\",\"domain\":[0.0,1.0],\"title\":{\"text\":\"Sales\"},\"showgrid\":false},\"legend\":{\"title\":{\"text\":\"Sales\"},\"tracegroupgap\":0},\"margin\":{\"t\":60},\"title\":{\"text\":\"Comparison Between Last 15 Days vs Next 10 Days\"},\"font\":{\"size\":15,\"color\":\"black\"},\"plot_bgcolor\":\"white\"},                        {\"responsive\": true}                    ).then(function(){\n",
              "                            \n",
              "var gd = document.getElementById('946d0656-78ba-4fa4-87e6-d14211224e87');\n",
              "var x = new MutationObserver(function (mutations, observer) {{\n",
              "        var display = window.getComputedStyle(gd).display;\n",
              "        if (!display || display === 'none') {{\n",
              "            console.log([gd, 'removed!']);\n",
              "            Plotly.purge(gd);\n",
              "            observer.disconnect();\n",
              "        }}\n",
              "}});\n",
              "\n",
              "// Listen for the removal of the full notebook cells\n",
              "var notebookContainer = gd.closest('#notebook-container');\n",
              "if (notebookContainer) {{\n",
              "    x.observe(notebookContainer, {childList: true});\n",
              "}}\n",
              "\n",
              "// Listen for the clearing of the current output cell\n",
              "var outputEl = gd.closest('.output');\n",
              "if (outputEl) {{\n",
              "    x.observe(outputEl, {childList: true});\n",
              "}}\n",
              "\n",
              "                        })                };                            </script>        </div>\n",
              "</body>\n",
              "</html>"
            ]
          },
          "metadata": {}
        }
      ]
    },
    {
      "cell_type": "code",
      "source": [
        "# Plotting Sales and with 14 days forecast\n",
        "rfrdf=scaled.tolist()\n",
        "rfrdf.extend((np.array(lst_output).reshape(-1,1)).tolist())\n",
        "lstmgrudf=scaler.inverse_transform(rfrdf).reshape(1,-1).tolist()[0]\n",
        "\n",
        "names = cycle(['Sales'])\n",
        "\n",
        "fig = px.line(rfrdf,labels={'value': 'Sales','index': 'Timestamp'})\n",
        "fig.update_layout(title_text='Combination Sales and Forecast',\n",
        "                  plot_bgcolor='white', font_size=15, font_color='black', legend_title_text='Sales')\n",
        "fig.for_each_trace(lambda t:  t.update(name = next(names)))\n",
        "\n",
        "fig.update_xaxes(showgrid=False)\n",
        "fig.update_yaxes(showgrid=False)\n",
        "fig.show()"
      ],
      "metadata": {
        "colab": {
          "base_uri": "https://localhost:8080/",
          "height": 542
        },
        "id": "hmesKERX-YdN",
        "outputId": "0f77c58f-5c51-4e29-9588-73a155db6e02"
      },
      "execution_count": null,
      "outputs": [
        {
          "output_type": "display_data",
          "data": {
            "text/html": [
              "<html>\n",
              "<head><meta charset=\"utf-8\" /></head>\n",
              "<body>\n",
              "    <div>            <script src=\"https://cdnjs.cloudflare.com/ajax/libs/mathjax/2.7.5/MathJax.js?config=TeX-AMS-MML_SVG\"></script><script type=\"text/javascript\">if (window.MathJax) {MathJax.Hub.Config({SVG: {font: \"STIX-Web\"}});}</script>                <script type=\"text/javascript\">window.PlotlyConfig = {MathJaxConfig: 'local'};</script>\n",
              "        <script src=\"https://cdn.plot.ly/plotly-2.8.3.min.js\"></script>                <div id=\"bcad2d92-1942-4538-8851-b07157b6099a\" class=\"plotly-graph-div\" style=\"height:525px; width:100%;\"></div>            <script type=\"text/javascript\">                                    window.PLOTLYENV=window.PLOTLYENV || {};                                    if (document.getElementById(\"bcad2d92-1942-4538-8851-b07157b6099a\")) {                    Plotly.newPlot(                        \"bcad2d92-1942-4538-8851-b07157b6099a\",                        [{\"hovertemplate\":\"variable=0<br>Timestamp=%{x}<br>Sales=%{y}<extra></extra>\",\"legendgroup\":\"0\",\"line\":{\"color\":\"#636efa\",\"dash\":\"solid\"},\"marker\":{\"symbol\":\"circle\"},\"mode\":\"lines\",\"name\":\"Sales\",\"orientation\":\"v\",\"showlegend\":true,\"x\":[0,1,2,3,4,5,6,7,8,9,10,11,12,13,14,15,16,17,18,19,20,21,22,23,24,25,26,27,28,29,30,31,32,33,34,35,36,37,38,39,40,41,42,43,44,45,46,47,48,49,50,51,52,53,54,55,56,57,58,59,60,61,62,63,64,65,66,67,68,69,70,71,72,73,74,75,76,77,78,79,80,81,82,83,84,85,86,87,88,89,90,91,92,93,94,95,96,97,98,99,100,101,102,103,104,105,106,107,108,109,110,111,112,113,114,115,116,117],\"xaxis\":\"x\",\"y\":[0.026178010471204383,0.013089005235602302,0.05235602094240854,0.05235602094240854,0.03926701570680646,0.03926701570680646,0.9777486910994768,0.06544502617801062,0.0,0.03926701570680646,0.06544502617801062,0.03926701570680646,0.03926701570680646,0.0,0.9554973821989532,0.013089005235602302,0.013089005235602302,0.0,0.013089005235602302,0.0,0.013089005235602302,0.013089005235602302,0.026178010471204383,0.0,0.06544502617801062,1.0,0.0,0.026178010471204383,0.013089005235602302,0.026178010471204383,0.03926701570680646,0.0,0.013089005235602302,0.026178010471204383,0.013089005235602302,0.026178010471204383,0.05235602094240854,0.05235602094240854,0.03926701570680646,0.8887434554973823,0.05235602094240854,0.026178010471204383,0.05235602094240854,0.05235602094240854,0.7591623036649215,0.026178010471204383,0.03926701570680646,0.026178010471204383,0.06544502617801062,0.05235602094240854,0.03926701570680646,0.026178010471204383,0.013089005235602302,0.8900523560209423,0.026178010471204383,0.03926701570680646,0.05235602094240854,0.05235602094240854,0.03926701570680646,0.013089005235602302,0.7657068062827226,0.0,0.03926701570680646,0.06544502617801062,0.03926701570680646,0.026178010471204383,0.03926701570680646,0.7722513089005236,0.026178010471204383,0.0,0.013089005235602302,0.03926701570680646,0.03926701570680646,0.026178010471204383,0.0,0.026178010471204383,0.7526178010471205,0.026178010471204383,0.06544502617801062,0.06544502617801062,0.06544502617801062,0.026178010471204383,0.06544502617801062,0.013089005235602302,0.013089005235602302,0.05235602094240854,0.06544502617801062,0.6348167539267018,0.05235602094240854,0.026178010471204383,0.13001745200698078,0.13743455497382207,0.09011276681433755,0.09544066317626543,0.09816753926701582,0.10143979057591634,0.10543920884235036,0.11534685863874361,0.12247569184741991,0.14070680628272259,0.16623036649214673,0.19469895287958128,0.23778359511343816,0.03926701570680646,0.09869109947643982,0.10183246073298433,0.10006544502617803,0.06053664921465969,0.06151832460732991,0.10013089005235606,0.0948952879581152,0.10000000000000003,0.09869109947643981,0.10000000000000003,0.09306282722513094,0.09928010471204192,0.10065445026178012,0.10026178010471205],\"yaxis\":\"y\",\"type\":\"scatter\"}],                        {\"template\":{\"data\":{\"bar\":[{\"error_x\":{\"color\":\"#2a3f5f\"},\"error_y\":{\"color\":\"#2a3f5f\"},\"marker\":{\"line\":{\"color\":\"#E5ECF6\",\"width\":0.5},\"pattern\":{\"fillmode\":\"overlay\",\"size\":10,\"solidity\":0.2}},\"type\":\"bar\"}],\"barpolar\":[{\"marker\":{\"line\":{\"color\":\"#E5ECF6\",\"width\":0.5},\"pattern\":{\"fillmode\":\"overlay\",\"size\":10,\"solidity\":0.2}},\"type\":\"barpolar\"}],\"carpet\":[{\"aaxis\":{\"endlinecolor\":\"#2a3f5f\",\"gridcolor\":\"white\",\"linecolor\":\"white\",\"minorgridcolor\":\"white\",\"startlinecolor\":\"#2a3f5f\"},\"baxis\":{\"endlinecolor\":\"#2a3f5f\",\"gridcolor\":\"white\",\"linecolor\":\"white\",\"minorgridcolor\":\"white\",\"startlinecolor\":\"#2a3f5f\"},\"type\":\"carpet\"}],\"choropleth\":[{\"colorbar\":{\"outlinewidth\":0,\"ticks\":\"\"},\"type\":\"choropleth\"}],\"contour\":[{\"colorbar\":{\"outlinewidth\":0,\"ticks\":\"\"},\"colorscale\":[[0.0,\"#0d0887\"],[0.1111111111111111,\"#46039f\"],[0.2222222222222222,\"#7201a8\"],[0.3333333333333333,\"#9c179e\"],[0.4444444444444444,\"#bd3786\"],[0.5555555555555556,\"#d8576b\"],[0.6666666666666666,\"#ed7953\"],[0.7777777777777778,\"#fb9f3a\"],[0.8888888888888888,\"#fdca26\"],[1.0,\"#f0f921\"]],\"type\":\"contour\"}],\"contourcarpet\":[{\"colorbar\":{\"outlinewidth\":0,\"ticks\":\"\"},\"type\":\"contourcarpet\"}],\"heatmap\":[{\"colorbar\":{\"outlinewidth\":0,\"ticks\":\"\"},\"colorscale\":[[0.0,\"#0d0887\"],[0.1111111111111111,\"#46039f\"],[0.2222222222222222,\"#7201a8\"],[0.3333333333333333,\"#9c179e\"],[0.4444444444444444,\"#bd3786\"],[0.5555555555555556,\"#d8576b\"],[0.6666666666666666,\"#ed7953\"],[0.7777777777777778,\"#fb9f3a\"],[0.8888888888888888,\"#fdca26\"],[1.0,\"#f0f921\"]],\"type\":\"heatmap\"}],\"heatmapgl\":[{\"colorbar\":{\"outlinewidth\":0,\"ticks\":\"\"},\"colorscale\":[[0.0,\"#0d0887\"],[0.1111111111111111,\"#46039f\"],[0.2222222222222222,\"#7201a8\"],[0.3333333333333333,\"#9c179e\"],[0.4444444444444444,\"#bd3786\"],[0.5555555555555556,\"#d8576b\"],[0.6666666666666666,\"#ed7953\"],[0.7777777777777778,\"#fb9f3a\"],[0.8888888888888888,\"#fdca26\"],[1.0,\"#f0f921\"]],\"type\":\"heatmapgl\"}],\"histogram\":[{\"marker\":{\"pattern\":{\"fillmode\":\"overlay\",\"size\":10,\"solidity\":0.2}},\"type\":\"histogram\"}],\"histogram2d\":[{\"colorbar\":{\"outlinewidth\":0,\"ticks\":\"\"},\"colorscale\":[[0.0,\"#0d0887\"],[0.1111111111111111,\"#46039f\"],[0.2222222222222222,\"#7201a8\"],[0.3333333333333333,\"#9c179e\"],[0.4444444444444444,\"#bd3786\"],[0.5555555555555556,\"#d8576b\"],[0.6666666666666666,\"#ed7953\"],[0.7777777777777778,\"#fb9f3a\"],[0.8888888888888888,\"#fdca26\"],[1.0,\"#f0f921\"]],\"type\":\"histogram2d\"}],\"histogram2dcontour\":[{\"colorbar\":{\"outlinewidth\":0,\"ticks\":\"\"},\"colorscale\":[[0.0,\"#0d0887\"],[0.1111111111111111,\"#46039f\"],[0.2222222222222222,\"#7201a8\"],[0.3333333333333333,\"#9c179e\"],[0.4444444444444444,\"#bd3786\"],[0.5555555555555556,\"#d8576b\"],[0.6666666666666666,\"#ed7953\"],[0.7777777777777778,\"#fb9f3a\"],[0.8888888888888888,\"#fdca26\"],[1.0,\"#f0f921\"]],\"type\":\"histogram2dcontour\"}],\"mesh3d\":[{\"colorbar\":{\"outlinewidth\":0,\"ticks\":\"\"},\"type\":\"mesh3d\"}],\"parcoords\":[{\"line\":{\"colorbar\":{\"outlinewidth\":0,\"ticks\":\"\"}},\"type\":\"parcoords\"}],\"pie\":[{\"automargin\":true,\"type\":\"pie\"}],\"scatter\":[{\"marker\":{\"colorbar\":{\"outlinewidth\":0,\"ticks\":\"\"}},\"type\":\"scatter\"}],\"scatter3d\":[{\"line\":{\"colorbar\":{\"outlinewidth\":0,\"ticks\":\"\"}},\"marker\":{\"colorbar\":{\"outlinewidth\":0,\"ticks\":\"\"}},\"type\":\"scatter3d\"}],\"scattercarpet\":[{\"marker\":{\"colorbar\":{\"outlinewidth\":0,\"ticks\":\"\"}},\"type\":\"scattercarpet\"}],\"scattergeo\":[{\"marker\":{\"colorbar\":{\"outlinewidth\":0,\"ticks\":\"\"}},\"type\":\"scattergeo\"}],\"scattergl\":[{\"marker\":{\"colorbar\":{\"outlinewidth\":0,\"ticks\":\"\"}},\"type\":\"scattergl\"}],\"scattermapbox\":[{\"marker\":{\"colorbar\":{\"outlinewidth\":0,\"ticks\":\"\"}},\"type\":\"scattermapbox\"}],\"scatterpolar\":[{\"marker\":{\"colorbar\":{\"outlinewidth\":0,\"ticks\":\"\"}},\"type\":\"scatterpolar\"}],\"scatterpolargl\":[{\"marker\":{\"colorbar\":{\"outlinewidth\":0,\"ticks\":\"\"}},\"type\":\"scatterpolargl\"}],\"scatterternary\":[{\"marker\":{\"colorbar\":{\"outlinewidth\":0,\"ticks\":\"\"}},\"type\":\"scatterternary\"}],\"surface\":[{\"colorbar\":{\"outlinewidth\":0,\"ticks\":\"\"},\"colorscale\":[[0.0,\"#0d0887\"],[0.1111111111111111,\"#46039f\"],[0.2222222222222222,\"#7201a8\"],[0.3333333333333333,\"#9c179e\"],[0.4444444444444444,\"#bd3786\"],[0.5555555555555556,\"#d8576b\"],[0.6666666666666666,\"#ed7953\"],[0.7777777777777778,\"#fb9f3a\"],[0.8888888888888888,\"#fdca26\"],[1.0,\"#f0f921\"]],\"type\":\"surface\"}],\"table\":[{\"cells\":{\"fill\":{\"color\":\"#EBF0F8\"},\"line\":{\"color\":\"white\"}},\"header\":{\"fill\":{\"color\":\"#C8D4E3\"},\"line\":{\"color\":\"white\"}},\"type\":\"table\"}]},\"layout\":{\"annotationdefaults\":{\"arrowcolor\":\"#2a3f5f\",\"arrowhead\":0,\"arrowwidth\":1},\"autotypenumbers\":\"strict\",\"coloraxis\":{\"colorbar\":{\"outlinewidth\":0,\"ticks\":\"\"}},\"colorscale\":{\"diverging\":[[0,\"#8e0152\"],[0.1,\"#c51b7d\"],[0.2,\"#de77ae\"],[0.3,\"#f1b6da\"],[0.4,\"#fde0ef\"],[0.5,\"#f7f7f7\"],[0.6,\"#e6f5d0\"],[0.7,\"#b8e186\"],[0.8,\"#7fbc41\"],[0.9,\"#4d9221\"],[1,\"#276419\"]],\"sequential\":[[0.0,\"#0d0887\"],[0.1111111111111111,\"#46039f\"],[0.2222222222222222,\"#7201a8\"],[0.3333333333333333,\"#9c179e\"],[0.4444444444444444,\"#bd3786\"],[0.5555555555555556,\"#d8576b\"],[0.6666666666666666,\"#ed7953\"],[0.7777777777777778,\"#fb9f3a\"],[0.8888888888888888,\"#fdca26\"],[1.0,\"#f0f921\"]],\"sequentialminus\":[[0.0,\"#0d0887\"],[0.1111111111111111,\"#46039f\"],[0.2222222222222222,\"#7201a8\"],[0.3333333333333333,\"#9c179e\"],[0.4444444444444444,\"#bd3786\"],[0.5555555555555556,\"#d8576b\"],[0.6666666666666666,\"#ed7953\"],[0.7777777777777778,\"#fb9f3a\"],[0.8888888888888888,\"#fdca26\"],[1.0,\"#f0f921\"]]},\"colorway\":[\"#636efa\",\"#EF553B\",\"#00cc96\",\"#ab63fa\",\"#FFA15A\",\"#19d3f3\",\"#FF6692\",\"#B6E880\",\"#FF97FF\",\"#FECB52\"],\"font\":{\"color\":\"#2a3f5f\"},\"geo\":{\"bgcolor\":\"white\",\"lakecolor\":\"white\",\"landcolor\":\"#E5ECF6\",\"showlakes\":true,\"showland\":true,\"subunitcolor\":\"white\"},\"hoverlabel\":{\"align\":\"left\"},\"hovermode\":\"closest\",\"mapbox\":{\"style\":\"light\"},\"paper_bgcolor\":\"white\",\"plot_bgcolor\":\"#E5ECF6\",\"polar\":{\"angularaxis\":{\"gridcolor\":\"white\",\"linecolor\":\"white\",\"ticks\":\"\"},\"bgcolor\":\"#E5ECF6\",\"radialaxis\":{\"gridcolor\":\"white\",\"linecolor\":\"white\",\"ticks\":\"\"}},\"scene\":{\"xaxis\":{\"backgroundcolor\":\"#E5ECF6\",\"gridcolor\":\"white\",\"gridwidth\":2,\"linecolor\":\"white\",\"showbackground\":true,\"ticks\":\"\",\"zerolinecolor\":\"white\"},\"yaxis\":{\"backgroundcolor\":\"#E5ECF6\",\"gridcolor\":\"white\",\"gridwidth\":2,\"linecolor\":\"white\",\"showbackground\":true,\"ticks\":\"\",\"zerolinecolor\":\"white\"},\"zaxis\":{\"backgroundcolor\":\"#E5ECF6\",\"gridcolor\":\"white\",\"gridwidth\":2,\"linecolor\":\"white\",\"showbackground\":true,\"ticks\":\"\",\"zerolinecolor\":\"white\"}},\"shapedefaults\":{\"line\":{\"color\":\"#2a3f5f\"}},\"ternary\":{\"aaxis\":{\"gridcolor\":\"white\",\"linecolor\":\"white\",\"ticks\":\"\"},\"baxis\":{\"gridcolor\":\"white\",\"linecolor\":\"white\",\"ticks\":\"\"},\"bgcolor\":\"#E5ECF6\",\"caxis\":{\"gridcolor\":\"white\",\"linecolor\":\"white\",\"ticks\":\"\"}},\"title\":{\"x\":0.05},\"xaxis\":{\"automargin\":true,\"gridcolor\":\"white\",\"linecolor\":\"white\",\"ticks\":\"\",\"title\":{\"standoff\":15},\"zerolinecolor\":\"white\",\"zerolinewidth\":2},\"yaxis\":{\"automargin\":true,\"gridcolor\":\"white\",\"linecolor\":\"white\",\"ticks\":\"\",\"title\":{\"standoff\":15},\"zerolinecolor\":\"white\",\"zerolinewidth\":2}}},\"xaxis\":{\"anchor\":\"y\",\"domain\":[0.0,1.0],\"title\":{\"text\":\"Timestamp\"},\"showgrid\":false},\"yaxis\":{\"anchor\":\"x\",\"domain\":[0.0,1.0],\"title\":{\"text\":\"Sales\"},\"showgrid\":false},\"legend\":{\"title\":{\"text\":\"Sales\"},\"tracegroupgap\":0},\"margin\":{\"t\":60},\"title\":{\"text\":\"Combine Sales and Forecast\"},\"font\":{\"size\":15,\"color\":\"black\"},\"plot_bgcolor\":\"white\"},                        {\"responsive\": true}                    ).then(function(){\n",
              "                            \n",
              "var gd = document.getElementById('bcad2d92-1942-4538-8851-b07157b6099a');\n",
              "var x = new MutationObserver(function (mutations, observer) {{\n",
              "        var display = window.getComputedStyle(gd).display;\n",
              "        if (!display || display === 'none') {{\n",
              "            console.log([gd, 'removed!']);\n",
              "            Plotly.purge(gd);\n",
              "            observer.disconnect();\n",
              "        }}\n",
              "}});\n",
              "\n",
              "// Listen for the removal of the full notebook cells\n",
              "var notebookContainer = gd.closest('#notebook-container');\n",
              "if (notebookContainer) {{\n",
              "    x.observe(notebookContainer, {childList: true});\n",
              "}}\n",
              "\n",
              "// Listen for the clearing of the current output cell\n",
              "var outputEl = gd.closest('.output');\n",
              "if (outputEl) {{\n",
              "    x.observe(outputEl, {childList: true});\n",
              "}}\n",
              "\n",
              "                        })                };                            </script>        </div>\n",
              "</body>\n",
              "</html>"
            ]
          },
          "metadata": {}
        }
      ]
    },
    {
      "cell_type": "markdown",
      "metadata": {
        "id": "gIhWIy_cstLU"
      },
      "source": [
        "## Produk B2"
      ]
    },
    {
      "cell_type": "code",
      "execution_count": null,
      "metadata": {
        "colab": {
          "base_uri": "https://localhost:8080/"
        },
        "id": "YpDdkyDgS01D",
        "outputId": "044b2a5c-23cc-4c24-f5af-e6e44affdcec"
      },
      "outputs": [
        {
          "output_type": "stream",
          "name": "stdout",
          "text": [
            "(44, 1)\n"
          ]
        }
      ],
      "source": [
        "del b2['Date']\n",
        "scaler = MinMaxScaler(feature_range=(0,1))\n",
        "scaled = scaler.fit_transform(np.array(b2).reshape(-1,1))\n",
        "print(scaled.shape)"
      ]
    },
    {
      "cell_type": "code",
      "execution_count": null,
      "metadata": {
        "colab": {
          "base_uri": "https://localhost:8080/"
        },
        "id": "Ih-vKQSeEfDd",
        "outputId": "c19c6cb3-a089-4872-8719-5e9e0ff0d68d"
      },
      "outputs": [
        {
          "output_type": "stream",
          "name": "stdout",
          "text": [
            "train_data:  (35, 1)\n",
            "test_data:  (9, 1)\n"
          ]
        }
      ],
      "source": [
        "training_size = int(len(scaled)*0.80)\n",
        "test_size = len(scaled)-training_size\n",
        "train_data, test_data = scaled[0:training_size,:],scaled[training_size:len(scaled),:1]\n",
        "print('train_data: ', train_data.shape)\n",
        "print('test_data: ', test_data.shape)"
      ]
    },
    {
      "cell_type": "code",
      "execution_count": null,
      "metadata": {
        "id": "qIeV1_EmEkoS"
      },
      "outputs": [],
      "source": [
        "# convert an array of values into a dataset matrix\n",
        "def create_dataset(dataset, time_step=1):\n",
        "    dataX = []\n",
        "    dataY = []\n",
        "    for i in range(len(dataset)-time_step-1):\n",
        "        a = dataset[i:(i+time_step), 0]   ###i=0, 0,1,2,3-----99   100 \n",
        "        dataX.append(a)\n",
        "        dataY.append(dataset[i + time_step, 0])\n",
        "    return np.array(dataX), np.array(dataY)"
      ]
    },
    {
      "cell_type": "code",
      "execution_count": null,
      "metadata": {
        "colab": {
          "base_uri": "https://localhost:8080/"
        },
        "id": "icMbxdO6Eo0N",
        "outputId": "3ad865f9-e8a5-4a1d-dede-fb3729168393"
      },
      "outputs": [
        {
          "output_type": "stream",
          "name": "stdout",
          "text": [
            "X_train:  (30, 4)\n",
            "y_train:  (30,)\n",
            "X_test:  (4, 4)\n",
            "y_test (4,)\n"
          ]
        }
      ],
      "source": [
        "# reshape into X=t,t+1,t+2,t+3 and Y=t+4\n",
        "time_step = 4\n",
        "X_train_b2, y_train_b2 = create_dataset(train_data, time_step)\n",
        "X_test_b2, y_test_b2 = create_dataset(test_data, time_step)\n",
        "\n",
        "print(\"X_train: \", X_train_b2.shape)\n",
        "print(\"y_train: \", y_train_b2.shape)\n",
        "print(\"X_test: \", X_test_b2.shape)\n",
        "print(\"y_test\", y_test_b2.shape)"
      ]
    },
    {
      "cell_type": "code",
      "execution_count": null,
      "metadata": {
        "colab": {
          "base_uri": "https://localhost:8080/"
        },
        "id": "mw_3tISeEuAn",
        "outputId": "817bae36-8dca-4ac5-e396-7a72a37a58bc"
      },
      "outputs": [
        {
          "output_type": "stream",
          "name": "stdout",
          "text": [
            "X_train:  (30, 4, 1)\n",
            "X_test:  (4, 4, 1)\n"
          ]
        }
      ],
      "source": [
        "# reshape input to be [samples, time steps, features] which is required for LSTM\n",
        "X_train_b2 = X_train_b2.reshape(X_train_b2.shape[0],X_train_b2.shape[1] , 1)\n",
        "X_test_b2 = X_test_b2.reshape(X_test_b2.shape[0],X_test_b2.shape[1] , 1)\n",
        "\n",
        "print(\"X_train: \", X_train_b2.shape)\n",
        "print(\"X_test: \", X_test_b2.shape)"
      ]
    },
    {
      "cell_type": "code",
      "execution_count": null,
      "metadata": {
        "id": "hiyoI3XcExpf"
      },
      "outputs": [],
      "source": [
        "# Build LSTM Model\n",
        "model4 = Sequential()\n",
        "model4.add(LSTM(32,return_sequences=True,input_shape=(time_step,1)))\n",
        "model4.add(LSTM(32,return_sequences=True))\n",
        "model4.add(LSTM(32))\n",
        "model4.add(Dense(1))\n",
        "model4.compile(loss='mean_squared_error',optimizer='adam')"
      ]
    },
    {
      "cell_type": "code",
      "execution_count": null,
      "metadata": {
        "colab": {
          "base_uri": "https://localhost:8080/"
        },
        "id": "dkJVqOPvE40J",
        "outputId": "aa7cc2ba-b9af-4233-b605-3d1e3276f8a4"
      },
      "outputs": [
        {
          "output_type": "stream",
          "name": "stdout",
          "text": [
            "Model: \"sequential_1\"\n",
            "_________________________________________________________________\n",
            " Layer (type)                Output Shape              Param #   \n",
            "=================================================================\n",
            " lstm_3 (LSTM)               (None, 4, 32)             4352      \n",
            "                                                                 \n",
            " lstm_4 (LSTM)               (None, 4, 32)             8320      \n",
            "                                                                 \n",
            " lstm_5 (LSTM)               (None, 32)                8320      \n",
            "                                                                 \n",
            " dense_1 (Dense)             (None, 1)                 33        \n",
            "                                                                 \n",
            "=================================================================\n",
            "Total params: 21,025\n",
            "Trainable params: 21,025\n",
            "Non-trainable params: 0\n",
            "_________________________________________________________________\n"
          ]
        }
      ],
      "source": [
        "model4.summary()"
      ]
    },
    {
      "cell_type": "code",
      "execution_count": null,
      "metadata": {
        "id": "GVQ9UitdFAHt"
      },
      "outputs": [],
      "source": [
        "# Model Training\n",
        "\n",
        "model4.fit(X_train_b2, y_train_b2, epochs=200, batch_size=1, verbose=1, shuffle=False)"
      ]
    },
    {
      "cell_type": "code",
      "execution_count": null,
      "metadata": {
        "colab": {
          "base_uri": "https://localhost:8080/"
        },
        "id": "MeGKRlDkFGGA",
        "outputId": "d026e35c-6e03-40da-8638-ff2db3227f7f"
      },
      "outputs": [
        {
          "output_type": "stream",
          "name": "stdout",
          "text": [
            "30/30 [==============================] - 1s 3ms/step\n",
            "4/4 [==============================] - 0s 4ms/step\n"
          ]
        }
      ],
      "source": [
        "y_pred_train4 = model4.predict(X_train_b2, batch_size=1)\n",
        "y_pred_test4 = model4.predict(X_test_b2, batch_size=1)\n"
      ]
    },
    {
      "cell_type": "code",
      "execution_count": null,
      "metadata": {
        "id": "7Wc_SNXPFMhz"
      },
      "outputs": [],
      "source": [
        "# Transform back to original form\n",
        "\n",
        "y_pred_train4 = scaler.inverse_transform(y_pred_train4)\n",
        "y_pred_test4 = scaler.inverse_transform(y_pred_test4)\n",
        "y_train_b2 = scaler.inverse_transform(y_train_b2.reshape(-1,1)) \n",
        "y_test_b2 = scaler.inverse_transform(y_test_b2.reshape(-1,1))"
      ]
    },
    {
      "cell_type": "code",
      "execution_count": null,
      "metadata": {
        "colab": {
          "base_uri": "https://localhost:8080/"
        },
        "id": "c6Z0ffFVFLmk",
        "outputId": "b04f5d37-4ba7-4246-dae2-ef163ee9bf9d"
      },
      "outputs": [
        {
          "output_type": "stream",
          "name": "stdout",
          "text": [
            "Train MAE: 124.96924915854812\n",
            "Test MAE: 4.466655949363712\n"
          ]
        }
      ],
      "source": [
        "# Model Evaluation\n",
        "print('Train MAE:',mean_absolute_error(y_train_b2,y_pred_train4))\n",
        "print('Test MAE:',mean_absolute_error(y_test_b2,y_pred_test4))"
      ]
    },
    {
      "cell_type": "code",
      "source": [
        "# shift train predictions for plotting\n",
        "\n",
        "look_back=time_step\n",
        "y_pred_train4_plot = np.empty_like(scaled)\n",
        "y_pred_train4_plot[:, :] = np.nan\n",
        "y_pred_train4_plot[look_back:len(y_pred_train4)+look_back, :] = y_pred_train4\n",
        "print(\"Train predicted data: \", y_pred_train4_plot.shape)\n",
        "\n",
        "# shift test predictions for plotting\n",
        "y_pred_test4_plot = np.empty_like(scaled)\n",
        "y_pred_test4_plot[:, :] = np.nan\n",
        "y_pred_test4_plot[len(y_pred_train4)+(look_back*2)+1:len(scaled)-1, :] = y_pred_test4\n",
        "print(\"Test predicted data: \", y_pred_test4_plot.shape)\n",
        "\n",
        "names = cycle(['Sales','Train predicted Sales','Test predicted Sales'])\n",
        "\n",
        "\n",
        "plotdf = pd.DataFrame({'date': df1_b2['Date'],\n",
        "                       'sales': df1_b2['Sales'],\n",
        "                      'train_predicted_sales': y_pred_train4_plot.reshape(1,-1)[0].tolist(),\n",
        "                      'test_predicted_sales': y_pred_test4_plot.reshape(1,-1)[0].tolist()})\n",
        "\n",
        "fig = px.line(plotdf,x=plotdf['date'], y=[plotdf['sales'],plotdf['train_predicted_sales'],\n",
        "                                          plotdf['test_predicted_sales']],\n",
        "              labels={'value':'Sales','date': 'Date'})\n",
        "fig.update_layout(title_text='Comparison between Real Sales and Predicted Sales of Product B2',\n",
        "                  plot_bgcolor='white', font_size=15, font_color='black', legend_title_text='Sales')\n",
        "fig.for_each_trace(lambda t:  t.update(name = next(names)))\n",
        "\n",
        "fig.update_xaxes(showgrid=False)\n",
        "fig.update_yaxes(showgrid=False)\n",
        "fig.show()"
      ],
      "metadata": {
        "colab": {
          "base_uri": "https://localhost:8080/",
          "height": 578
        },
        "id": "gsFT0Ui_HPXX",
        "outputId": "085371eb-7c7e-4566-de07-c710e3cf4c69"
      },
      "execution_count": null,
      "outputs": [
        {
          "output_type": "stream",
          "name": "stdout",
          "text": [
            "Train predicted data:  (44, 1)\n",
            "Test predicted data:  (44, 1)\n"
          ]
        },
        {
          "output_type": "display_data",
          "data": {
            "text/html": [
              "<html>\n",
              "<head><meta charset=\"utf-8\" /></head>\n",
              "<body>\n",
              "    <div>            <script src=\"https://cdnjs.cloudflare.com/ajax/libs/mathjax/2.7.5/MathJax.js?config=TeX-AMS-MML_SVG\"></script><script type=\"text/javascript\">if (window.MathJax) {MathJax.Hub.Config({SVG: {font: \"STIX-Web\"}});}</script>                <script type=\"text/javascript\">window.PlotlyConfig = {MathJaxConfig: 'local'};</script>\n",
              "        <script src=\"https://cdn.plot.ly/plotly-2.8.3.min.js\"></script>                <div id=\"60eee9c0-6f00-4b2b-9cdf-fb8639e3b5d8\" class=\"plotly-graph-div\" style=\"height:525px; width:100%;\"></div>            <script type=\"text/javascript\">                                    window.PLOTLYENV=window.PLOTLYENV || {};                                    if (document.getElementById(\"60eee9c0-6f00-4b2b-9cdf-fb8639e3b5d8\")) {                    Plotly.newPlot(                        \"60eee9c0-6f00-4b2b-9cdf-fb8639e3b5d8\",                        [{\"hovertemplate\":\"variable=sales<br>Date=%{x}<br>Sales=%{y}<extra></extra>\",\"legendgroup\":\"sales\",\"line\":{\"color\":\"#636efa\",\"dash\":\"solid\"},\"marker\":{\"symbol\":\"circle\"},\"mode\":\"lines\",\"name\":\"Sales\",\"orientation\":\"v\",\"showlegend\":true,\"x\":[\"2022-03-02T00:00:00\",\"2022-03-03T00:00:00\",\"2022-03-04T00:00:00\",\"2022-03-05T00:00:00\",\"2022-03-06T00:00:00\",\"2022-03-07T00:00:00\",\"2022-03-08T00:00:00\",\"2022-03-09T00:00:00\",\"2022-03-10T00:00:00\",\"2022-03-11T00:00:00\",\"2022-03-12T00:00:00\",\"2022-03-13T00:00:00\",\"2022-03-14T00:00:00\",\"2022-03-15T00:00:00\",\"2022-03-16T00:00:00\",\"2022-03-17T00:00:00\",\"2022-03-18T00:00:00\",\"2022-03-19T00:00:00\",\"2022-03-20T00:00:00\",\"2022-03-21T00:00:00\",\"2022-03-22T00:00:00\",\"2022-03-23T00:00:00\",\"2022-03-24T00:00:00\",\"2022-03-25T00:00:00\",\"2022-03-26T00:00:00\",\"2022-03-27T00:00:00\",\"2022-03-28T00:00:00\",\"2022-03-29T00:00:00\",\"2022-03-30T00:00:00\",\"2022-03-31T00:00:00\",\"2022-04-01T00:00:00\",\"2022-04-02T00:00:00\",\"2022-04-03T00:00:00\",\"2022-04-04T00:00:00\",\"2022-04-05T00:00:00\",\"2022-04-06T00:00:00\",\"2022-04-07T00:00:00\",\"2022-04-08T00:00:00\",\"2022-04-09T00:00:00\",\"2022-04-10T00:00:00\",\"2022-04-11T00:00:00\",\"2022-04-12T00:00:00\",\"2022-04-13T00:00:00\",\"2022-04-14T00:00:00\"],\"xaxis\":\"x\",\"y\":[10.0,20.0,40.0,80.0,144.0,259.2,300.0,450.0,560.0,840.0,1000.0,1500.0,2250.0,2700.0,3186.0,3695.7599999999998,3991.4208,4310.734464,4440.05649792,4573.2581928576,4710.455938643328,4748.139586152475,4786.124702841695,4824.413700464428,4863.009010068144,4901.913082148689,4941.128386805878,4980.657413900325,4900.0,4850.0,4634.471451720171,4701.522269700183,4756.145459677121,4793.263042650214,4825.372728534779,4850.584182102497,4866.153986931294,4880.905787028645,4894.445941912496,4906.11798215384,4914.73977657098,4917.946450176552,4910.219137966777,4875.000000000004],\"yaxis\":\"y\",\"type\":\"scatter\"},{\"hovertemplate\":\"variable=train_predicted_sales<br>Date=%{x}<br>Sales=%{y}<extra></extra>\",\"legendgroup\":\"train_predicted_sales\",\"line\":{\"color\":\"#EF553B\",\"dash\":\"solid\"},\"marker\":{\"symbol\":\"circle\"},\"mode\":\"lines\",\"name\":\"Train predicted Sales\",\"orientation\":\"v\",\"showlegend\":true,\"x\":[\"2022-03-02T00:00:00\",\"2022-03-03T00:00:00\",\"2022-03-04T00:00:00\",\"2022-03-05T00:00:00\",\"2022-03-06T00:00:00\",\"2022-03-07T00:00:00\",\"2022-03-08T00:00:00\",\"2022-03-09T00:00:00\",\"2022-03-10T00:00:00\",\"2022-03-11T00:00:00\",\"2022-03-12T00:00:00\",\"2022-03-13T00:00:00\",\"2022-03-14T00:00:00\",\"2022-03-15T00:00:00\",\"2022-03-16T00:00:00\",\"2022-03-17T00:00:00\",\"2022-03-18T00:00:00\",\"2022-03-19T00:00:00\",\"2022-03-20T00:00:00\",\"2022-03-21T00:00:00\",\"2022-03-22T00:00:00\",\"2022-03-23T00:00:00\",\"2022-03-24T00:00:00\",\"2022-03-25T00:00:00\",\"2022-03-26T00:00:00\",\"2022-03-27T00:00:00\",\"2022-03-28T00:00:00\",\"2022-03-29T00:00:00\",\"2022-03-30T00:00:00\",\"2022-03-31T00:00:00\",\"2022-04-01T00:00:00\",\"2022-04-02T00:00:00\",\"2022-04-03T00:00:00\",\"2022-04-04T00:00:00\",\"2022-04-05T00:00:00\",\"2022-04-06T00:00:00\",\"2022-04-07T00:00:00\",\"2022-04-08T00:00:00\",\"2022-04-09T00:00:00\",\"2022-04-10T00:00:00\",\"2022-04-11T00:00:00\",\"2022-04-12T00:00:00\",\"2022-04-13T00:00:00\",\"2022-04-14T00:00:00\"],\"xaxis\":\"x\",\"y\":[null,null,null,null,47.296749114990234,112.51526641845703,230.99298095703125,406.2085876464844,635.0865478515625,901.2774658203125,1173.16552734375,1573.044189453125,2025.58984375,2649.76171875,3266.537353515625,3903.765869140625,4332.8251953125,4546.95068359375,4691.861328125,4782.71826171875,4830.03125,4863.1513671875,4878.80224609375,4892.46875,4902.43359375,4905.92138671875,4909.3212890625,4912.63427734375,4915.861328125,4919.607421875,4922.56982421875,4923.5712890625,4916.0986328125,4907.35107421875,null,null,null,null,null,null,null,null,null,null],\"yaxis\":\"y\",\"type\":\"scatter\"},{\"hovertemplate\":\"variable=test_predicted_sales<br>Date=%{x}<br>Sales=%{y}<extra></extra>\",\"legendgroup\":\"test_predicted_sales\",\"line\":{\"color\":\"#00cc96\",\"dash\":\"solid\"},\"marker\":{\"symbol\":\"circle\"},\"mode\":\"lines\",\"name\":\"Test predicted Sales\",\"orientation\":\"v\",\"showlegend\":true,\"x\":[\"2022-03-02T00:00:00\",\"2022-03-03T00:00:00\",\"2022-03-04T00:00:00\",\"2022-03-05T00:00:00\",\"2022-03-06T00:00:00\",\"2022-03-07T00:00:00\",\"2022-03-08T00:00:00\",\"2022-03-09T00:00:00\",\"2022-03-10T00:00:00\",\"2022-03-11T00:00:00\",\"2022-03-12T00:00:00\",\"2022-03-13T00:00:00\",\"2022-03-14T00:00:00\",\"2022-03-15T00:00:00\",\"2022-03-16T00:00:00\",\"2022-03-17T00:00:00\",\"2022-03-18T00:00:00\",\"2022-03-19T00:00:00\",\"2022-03-20T00:00:00\",\"2022-03-21T00:00:00\",\"2022-03-22T00:00:00\",\"2022-03-23T00:00:00\",\"2022-03-24T00:00:00\",\"2022-03-25T00:00:00\",\"2022-03-26T00:00:00\",\"2022-03-27T00:00:00\",\"2022-03-28T00:00:00\",\"2022-03-29T00:00:00\",\"2022-03-30T00:00:00\",\"2022-03-31T00:00:00\",\"2022-04-01T00:00:00\",\"2022-04-02T00:00:00\",\"2022-04-03T00:00:00\",\"2022-04-04T00:00:00\",\"2022-04-05T00:00:00\",\"2022-04-06T00:00:00\",\"2022-04-07T00:00:00\",\"2022-04-08T00:00:00\",\"2022-04-09T00:00:00\",\"2022-04-10T00:00:00\",\"2022-04-11T00:00:00\",\"2022-04-12T00:00:00\",\"2022-04-13T00:00:00\",\"2022-04-14T00:00:00\"],\"xaxis\":\"x\",\"y\":[null,null,null,null,null,null,null,null,null,null,null,null,null,null,null,null,null,null,null,null,null,null,null,null,null,null,null,null,null,null,null,null,null,null,null,null,null,null,null,4914.31005859375,4915.6015625,4916.80322265625,4917.888671875,null],\"yaxis\":\"y\",\"type\":\"scatter\"}],                        {\"template\":{\"data\":{\"bar\":[{\"error_x\":{\"color\":\"#2a3f5f\"},\"error_y\":{\"color\":\"#2a3f5f\"},\"marker\":{\"line\":{\"color\":\"#E5ECF6\",\"width\":0.5},\"pattern\":{\"fillmode\":\"overlay\",\"size\":10,\"solidity\":0.2}},\"type\":\"bar\"}],\"barpolar\":[{\"marker\":{\"line\":{\"color\":\"#E5ECF6\",\"width\":0.5},\"pattern\":{\"fillmode\":\"overlay\",\"size\":10,\"solidity\":0.2}},\"type\":\"barpolar\"}],\"carpet\":[{\"aaxis\":{\"endlinecolor\":\"#2a3f5f\",\"gridcolor\":\"white\",\"linecolor\":\"white\",\"minorgridcolor\":\"white\",\"startlinecolor\":\"#2a3f5f\"},\"baxis\":{\"endlinecolor\":\"#2a3f5f\",\"gridcolor\":\"white\",\"linecolor\":\"white\",\"minorgridcolor\":\"white\",\"startlinecolor\":\"#2a3f5f\"},\"type\":\"carpet\"}],\"choropleth\":[{\"colorbar\":{\"outlinewidth\":0,\"ticks\":\"\"},\"type\":\"choropleth\"}],\"contour\":[{\"colorbar\":{\"outlinewidth\":0,\"ticks\":\"\"},\"colorscale\":[[0.0,\"#0d0887\"],[0.1111111111111111,\"#46039f\"],[0.2222222222222222,\"#7201a8\"],[0.3333333333333333,\"#9c179e\"],[0.4444444444444444,\"#bd3786\"],[0.5555555555555556,\"#d8576b\"],[0.6666666666666666,\"#ed7953\"],[0.7777777777777778,\"#fb9f3a\"],[0.8888888888888888,\"#fdca26\"],[1.0,\"#f0f921\"]],\"type\":\"contour\"}],\"contourcarpet\":[{\"colorbar\":{\"outlinewidth\":0,\"ticks\":\"\"},\"type\":\"contourcarpet\"}],\"heatmap\":[{\"colorbar\":{\"outlinewidth\":0,\"ticks\":\"\"},\"colorscale\":[[0.0,\"#0d0887\"],[0.1111111111111111,\"#46039f\"],[0.2222222222222222,\"#7201a8\"],[0.3333333333333333,\"#9c179e\"],[0.4444444444444444,\"#bd3786\"],[0.5555555555555556,\"#d8576b\"],[0.6666666666666666,\"#ed7953\"],[0.7777777777777778,\"#fb9f3a\"],[0.8888888888888888,\"#fdca26\"],[1.0,\"#f0f921\"]],\"type\":\"heatmap\"}],\"heatmapgl\":[{\"colorbar\":{\"outlinewidth\":0,\"ticks\":\"\"},\"colorscale\":[[0.0,\"#0d0887\"],[0.1111111111111111,\"#46039f\"],[0.2222222222222222,\"#7201a8\"],[0.3333333333333333,\"#9c179e\"],[0.4444444444444444,\"#bd3786\"],[0.5555555555555556,\"#d8576b\"],[0.6666666666666666,\"#ed7953\"],[0.7777777777777778,\"#fb9f3a\"],[0.8888888888888888,\"#fdca26\"],[1.0,\"#f0f921\"]],\"type\":\"heatmapgl\"}],\"histogram\":[{\"marker\":{\"pattern\":{\"fillmode\":\"overlay\",\"size\":10,\"solidity\":0.2}},\"type\":\"histogram\"}],\"histogram2d\":[{\"colorbar\":{\"outlinewidth\":0,\"ticks\":\"\"},\"colorscale\":[[0.0,\"#0d0887\"],[0.1111111111111111,\"#46039f\"],[0.2222222222222222,\"#7201a8\"],[0.3333333333333333,\"#9c179e\"],[0.4444444444444444,\"#bd3786\"],[0.5555555555555556,\"#d8576b\"],[0.6666666666666666,\"#ed7953\"],[0.7777777777777778,\"#fb9f3a\"],[0.8888888888888888,\"#fdca26\"],[1.0,\"#f0f921\"]],\"type\":\"histogram2d\"}],\"histogram2dcontour\":[{\"colorbar\":{\"outlinewidth\":0,\"ticks\":\"\"},\"colorscale\":[[0.0,\"#0d0887\"],[0.1111111111111111,\"#46039f\"],[0.2222222222222222,\"#7201a8\"],[0.3333333333333333,\"#9c179e\"],[0.4444444444444444,\"#bd3786\"],[0.5555555555555556,\"#d8576b\"],[0.6666666666666666,\"#ed7953\"],[0.7777777777777778,\"#fb9f3a\"],[0.8888888888888888,\"#fdca26\"],[1.0,\"#f0f921\"]],\"type\":\"histogram2dcontour\"}],\"mesh3d\":[{\"colorbar\":{\"outlinewidth\":0,\"ticks\":\"\"},\"type\":\"mesh3d\"}],\"parcoords\":[{\"line\":{\"colorbar\":{\"outlinewidth\":0,\"ticks\":\"\"}},\"type\":\"parcoords\"}],\"pie\":[{\"automargin\":true,\"type\":\"pie\"}],\"scatter\":[{\"marker\":{\"colorbar\":{\"outlinewidth\":0,\"ticks\":\"\"}},\"type\":\"scatter\"}],\"scatter3d\":[{\"line\":{\"colorbar\":{\"outlinewidth\":0,\"ticks\":\"\"}},\"marker\":{\"colorbar\":{\"outlinewidth\":0,\"ticks\":\"\"}},\"type\":\"scatter3d\"}],\"scattercarpet\":[{\"marker\":{\"colorbar\":{\"outlinewidth\":0,\"ticks\":\"\"}},\"type\":\"scattercarpet\"}],\"scattergeo\":[{\"marker\":{\"colorbar\":{\"outlinewidth\":0,\"ticks\":\"\"}},\"type\":\"scattergeo\"}],\"scattergl\":[{\"marker\":{\"colorbar\":{\"outlinewidth\":0,\"ticks\":\"\"}},\"type\":\"scattergl\"}],\"scattermapbox\":[{\"marker\":{\"colorbar\":{\"outlinewidth\":0,\"ticks\":\"\"}},\"type\":\"scattermapbox\"}],\"scatterpolar\":[{\"marker\":{\"colorbar\":{\"outlinewidth\":0,\"ticks\":\"\"}},\"type\":\"scatterpolar\"}],\"scatterpolargl\":[{\"marker\":{\"colorbar\":{\"outlinewidth\":0,\"ticks\":\"\"}},\"type\":\"scatterpolargl\"}],\"scatterternary\":[{\"marker\":{\"colorbar\":{\"outlinewidth\":0,\"ticks\":\"\"}},\"type\":\"scatterternary\"}],\"surface\":[{\"colorbar\":{\"outlinewidth\":0,\"ticks\":\"\"},\"colorscale\":[[0.0,\"#0d0887\"],[0.1111111111111111,\"#46039f\"],[0.2222222222222222,\"#7201a8\"],[0.3333333333333333,\"#9c179e\"],[0.4444444444444444,\"#bd3786\"],[0.5555555555555556,\"#d8576b\"],[0.6666666666666666,\"#ed7953\"],[0.7777777777777778,\"#fb9f3a\"],[0.8888888888888888,\"#fdca26\"],[1.0,\"#f0f921\"]],\"type\":\"surface\"}],\"table\":[{\"cells\":{\"fill\":{\"color\":\"#EBF0F8\"},\"line\":{\"color\":\"white\"}},\"header\":{\"fill\":{\"color\":\"#C8D4E3\"},\"line\":{\"color\":\"white\"}},\"type\":\"table\"}]},\"layout\":{\"annotationdefaults\":{\"arrowcolor\":\"#2a3f5f\",\"arrowhead\":0,\"arrowwidth\":1},\"autotypenumbers\":\"strict\",\"coloraxis\":{\"colorbar\":{\"outlinewidth\":0,\"ticks\":\"\"}},\"colorscale\":{\"diverging\":[[0,\"#8e0152\"],[0.1,\"#c51b7d\"],[0.2,\"#de77ae\"],[0.3,\"#f1b6da\"],[0.4,\"#fde0ef\"],[0.5,\"#f7f7f7\"],[0.6,\"#e6f5d0\"],[0.7,\"#b8e186\"],[0.8,\"#7fbc41\"],[0.9,\"#4d9221\"],[1,\"#276419\"]],\"sequential\":[[0.0,\"#0d0887\"],[0.1111111111111111,\"#46039f\"],[0.2222222222222222,\"#7201a8\"],[0.3333333333333333,\"#9c179e\"],[0.4444444444444444,\"#bd3786\"],[0.5555555555555556,\"#d8576b\"],[0.6666666666666666,\"#ed7953\"],[0.7777777777777778,\"#fb9f3a\"],[0.8888888888888888,\"#fdca26\"],[1.0,\"#f0f921\"]],\"sequentialminus\":[[0.0,\"#0d0887\"],[0.1111111111111111,\"#46039f\"],[0.2222222222222222,\"#7201a8\"],[0.3333333333333333,\"#9c179e\"],[0.4444444444444444,\"#bd3786\"],[0.5555555555555556,\"#d8576b\"],[0.6666666666666666,\"#ed7953\"],[0.7777777777777778,\"#fb9f3a\"],[0.8888888888888888,\"#fdca26\"],[1.0,\"#f0f921\"]]},\"colorway\":[\"#636efa\",\"#EF553B\",\"#00cc96\",\"#ab63fa\",\"#FFA15A\",\"#19d3f3\",\"#FF6692\",\"#B6E880\",\"#FF97FF\",\"#FECB52\"],\"font\":{\"color\":\"#2a3f5f\"},\"geo\":{\"bgcolor\":\"white\",\"lakecolor\":\"white\",\"landcolor\":\"#E5ECF6\",\"showlakes\":true,\"showland\":true,\"subunitcolor\":\"white\"},\"hoverlabel\":{\"align\":\"left\"},\"hovermode\":\"closest\",\"mapbox\":{\"style\":\"light\"},\"paper_bgcolor\":\"white\",\"plot_bgcolor\":\"#E5ECF6\",\"polar\":{\"angularaxis\":{\"gridcolor\":\"white\",\"linecolor\":\"white\",\"ticks\":\"\"},\"bgcolor\":\"#E5ECF6\",\"radialaxis\":{\"gridcolor\":\"white\",\"linecolor\":\"white\",\"ticks\":\"\"}},\"scene\":{\"xaxis\":{\"backgroundcolor\":\"#E5ECF6\",\"gridcolor\":\"white\",\"gridwidth\":2,\"linecolor\":\"white\",\"showbackground\":true,\"ticks\":\"\",\"zerolinecolor\":\"white\"},\"yaxis\":{\"backgroundcolor\":\"#E5ECF6\",\"gridcolor\":\"white\",\"gridwidth\":2,\"linecolor\":\"white\",\"showbackground\":true,\"ticks\":\"\",\"zerolinecolor\":\"white\"},\"zaxis\":{\"backgroundcolor\":\"#E5ECF6\",\"gridcolor\":\"white\",\"gridwidth\":2,\"linecolor\":\"white\",\"showbackground\":true,\"ticks\":\"\",\"zerolinecolor\":\"white\"}},\"shapedefaults\":{\"line\":{\"color\":\"#2a3f5f\"}},\"ternary\":{\"aaxis\":{\"gridcolor\":\"white\",\"linecolor\":\"white\",\"ticks\":\"\"},\"baxis\":{\"gridcolor\":\"white\",\"linecolor\":\"white\",\"ticks\":\"\"},\"bgcolor\":\"#E5ECF6\",\"caxis\":{\"gridcolor\":\"white\",\"linecolor\":\"white\",\"ticks\":\"\"}},\"title\":{\"x\":0.05},\"xaxis\":{\"automargin\":true,\"gridcolor\":\"white\",\"linecolor\":\"white\",\"ticks\":\"\",\"title\":{\"standoff\":15},\"zerolinecolor\":\"white\",\"zerolinewidth\":2},\"yaxis\":{\"automargin\":true,\"gridcolor\":\"white\",\"linecolor\":\"white\",\"ticks\":\"\",\"title\":{\"standoff\":15},\"zerolinecolor\":\"white\",\"zerolinewidth\":2}}},\"xaxis\":{\"anchor\":\"y\",\"domain\":[0.0,1.0],\"title\":{\"text\":\"Date\"},\"showgrid\":false},\"yaxis\":{\"anchor\":\"x\",\"domain\":[0.0,1.0],\"title\":{\"text\":\"Sales\"},\"showgrid\":false},\"legend\":{\"title\":{\"text\":\"Sales\"},\"tracegroupgap\":0},\"margin\":{\"t\":60},\"title\":{\"text\":\"Comparison between Real Sales and Predicted Sales of Product B2\"},\"font\":{\"size\":15,\"color\":\"black\"},\"plot_bgcolor\":\"white\"},                        {\"responsive\": true}                    ).then(function(){\n",
              "                            \n",
              "var gd = document.getElementById('60eee9c0-6f00-4b2b-9cdf-fb8639e3b5d8');\n",
              "var x = new MutationObserver(function (mutations, observer) {{\n",
              "        var display = window.getComputedStyle(gd).display;\n",
              "        if (!display || display === 'none') {{\n",
              "            console.log([gd, 'removed!']);\n",
              "            Plotly.purge(gd);\n",
              "            observer.disconnect();\n",
              "        }}\n",
              "}});\n",
              "\n",
              "// Listen for the removal of the full notebook cells\n",
              "var notebookContainer = gd.closest('#notebook-container');\n",
              "if (notebookContainer) {{\n",
              "    x.observe(notebookContainer, {childList: true});\n",
              "}}\n",
              "\n",
              "// Listen for the clearing of the current output cell\n",
              "var outputEl = gd.closest('.output');\n",
              "if (outputEl) {{\n",
              "    x.observe(outputEl, {childList: true});\n",
              "}}\n",
              "\n",
              "                        })                };                            </script>        </div>\n",
              "</body>\n",
              "</html>"
            ]
          },
          "metadata": {}
        }
      ]
    },
    {
      "cell_type": "code",
      "source": [
        "x_input=test_data[len(test_data)-time_step:].reshape(1,-1)\n",
        "temp_input=list(x_input)\n",
        "temp_input=temp_input[0].tolist()\n",
        "\n",
        "\n",
        "lst_output=[]\n",
        "n_steps=time_step\n",
        "i=0\n",
        "pred_days = 14\n",
        "while(i<pred_days):\n",
        "    \n",
        "    if(len(temp_input)>time_step):\n",
        "        \n",
        "        x_input=np.array(temp_input[1:])\n",
        "        #print(\"{} day input {}\".format(i,x_input))\n",
        "        x_input = x_input.reshape(1,-1)\n",
        "        x_input = x_input.reshape((1, n_steps, 1))\n",
        "        \n",
        "        yhat = model4.predict(x_input, verbose=0)\n",
        "        #print(\"{} day output {}\".format(i,yhat))\n",
        "        temp_input.extend(yhat[0].tolist())\n",
        "        temp_input=temp_input[1:]\n",
        "        #print(temp_input)\n",
        "       \n",
        "        lst_output.extend(yhat.tolist())\n",
        "        i=i+1\n",
        "        \n",
        "    else:\n",
        "        \n",
        "        x_input = x_input.reshape((1, n_steps,1))\n",
        "        yhat = model4.predict(x_input, verbose=0)\n",
        "        temp_input.extend(yhat[0].tolist())\n",
        "        \n",
        "        lst_output.extend(yhat.tolist())\n",
        "        i=i+1\n",
        "               \n",
        "print(\"Output of predicted next days: \", len(lst_output))"
      ],
      "metadata": {
        "colab": {
          "base_uri": "https://localhost:8080/"
        },
        "id": "oRZw6mErLghK",
        "outputId": "87cadcdc-7fc8-4fee-f703-3251e9815c13"
      },
      "execution_count": null,
      "outputs": [
        {
          "output_type": "stream",
          "name": "stdout",
          "text": [
            "Output of predicted next days:  14\n"
          ]
        }
      ]
    },
    {
      "cell_type": "code",
      "source": [
        "last_days=np.arange(1,time_step+1)\n",
        "day_pred=np.arange(time_step+1,time_step+pred_days+1)\n",
        "print(last_days)\n",
        "print(day_pred)"
      ],
      "metadata": {
        "colab": {
          "base_uri": "https://localhost:8080/"
        },
        "id": "1N3lN33UM0rT",
        "outputId": "b2f90615-e005-48bc-9b3c-55666e47ea21"
      },
      "execution_count": null,
      "outputs": [
        {
          "output_type": "stream",
          "name": "stdout",
          "text": [
            "[1 2 3 4]\n",
            "[ 5  6  7  8  9 10 11 12 13 14 15 16 17 18]\n"
          ]
        }
      ]
    },
    {
      "cell_type": "code",
      "source": [
        "temp_mat = np.empty((len(last_days)+pred_days+1,1))\n",
        "temp_mat[:] = np.nan\n",
        "temp_mat = temp_mat.reshape(1,-1).tolist()[0]\n",
        "\n",
        "last_original_days_value = temp_mat\n",
        "next_predicted_days_value = temp_mat\n",
        "\n",
        "last_original_days_value[0:time_step+1] = scaler.inverse_transform(scaled[len(scaled)-time_step:]).reshape(1,-1).tolist()[0]\n",
        "next_predicted_days_value[time_step+1:] = scaler.inverse_transform(np.array(lst_output).reshape(-1,1)).reshape(1,-1).tolist()[0]\n",
        "\n",
        "new_pred_plot = pd.DataFrame({\n",
        "    'last_original_days_value':last_original_days_value,\n",
        "    'next_predicted_days_value':next_predicted_days_value\n",
        "})\n",
        "\n",
        "names = cycle(['Last 4 days Sales','Predicted next 14 days Sales'])\n",
        "\n",
        "fig = px.line(new_pred_plot,x=new_pred_plot.index, y=[new_pred_plot['last_original_days_value'],\n",
        "                                                      new_pred_plot['next_predicted_days_value']],\n",
        "              labels={'value': 'Sales','index': 'Timestamp'})\n",
        "fig.update_layout(title_text='Comparison last 4 days and next 14 days',\n",
        "                  plot_bgcolor='white', font_size=15, font_color='black',legend_title_text='Sales')\n",
        "\n",
        "fig.for_each_trace(lambda t:  t.update(name = next(names)))\n",
        "fig.update_xaxes(showgrid=False)\n",
        "fig.update_yaxes(showgrid=False)\n",
        "fig.show()"
      ],
      "metadata": {
        "colab": {
          "base_uri": "https://localhost:8080/",
          "height": 542
        },
        "id": "2MNUFwJ9NC18",
        "outputId": "f54a74db-ecbc-400c-db4b-6d631e65414d"
      },
      "execution_count": null,
      "outputs": [
        {
          "output_type": "display_data",
          "data": {
            "text/html": [
              "<html>\n",
              "<head><meta charset=\"utf-8\" /></head>\n",
              "<body>\n",
              "    <div>            <script src=\"https://cdnjs.cloudflare.com/ajax/libs/mathjax/2.7.5/MathJax.js?config=TeX-AMS-MML_SVG\"></script><script type=\"text/javascript\">if (window.MathJax) {MathJax.Hub.Config({SVG: {font: \"STIX-Web\"}});}</script>                <script type=\"text/javascript\">window.PlotlyConfig = {MathJaxConfig: 'local'};</script>\n",
              "        <script src=\"https://cdn.plot.ly/plotly-2.8.3.min.js\"></script>                <div id=\"95f53939-3bbb-4a94-8bf8-66d8b1213234\" class=\"plotly-graph-div\" style=\"height:525px; width:100%;\"></div>            <script type=\"text/javascript\">                                    window.PLOTLYENV=window.PLOTLYENV || {};                                    if (document.getElementById(\"95f53939-3bbb-4a94-8bf8-66d8b1213234\")) {                    Plotly.newPlot(                        \"95f53939-3bbb-4a94-8bf8-66d8b1213234\",                        [{\"hovertemplate\":\"variable=last_original_days_value<br>Timestamp=%{x}<br>Sales=%{y}<extra></extra>\",\"legendgroup\":\"last_original_days_value\",\"line\":{\"color\":\"#636efa\",\"dash\":\"solid\"},\"marker\":{\"symbol\":\"circle\"},\"mode\":\"lines\",\"name\":\"Last 4 days Sales\",\"orientation\":\"v\",\"showlegend\":true,\"x\":[0,1,2,3,4,5,6,7,8,9,10,11,12,13,14,15,16,17,18],\"xaxis\":\"x\",\"y\":[4914.73977657098,4917.946450176552,4910.219137966777,4875.000000000004,null,4919.499886650743,4919.079177188116,4918.005479235609,4917.161690116199,4919.624618118183,4919.558252681825,4919.490998422659,4919.505219587593,4919.640024380195,4919.634395169076,4919.630839877842,4919.634395169076,4919.6418020258125,4919.6418020258125],\"yaxis\":\"y\",\"type\":\"scatter\"},{\"hovertemplate\":\"variable=next_predicted_days_value<br>Timestamp=%{x}<br>Sales=%{y}<extra></extra>\",\"legendgroup\":\"next_predicted_days_value\",\"line\":{\"color\":\"#EF553B\",\"dash\":\"solid\"},\"marker\":{\"symbol\":\"circle\"},\"mode\":\"lines\",\"name\":\"Predicted next 14 days Sales\",\"orientation\":\"v\",\"showlegend\":true,\"x\":[0,1,2,3,4,5,6,7,8,9,10,11,12,13,14,15,16,17,18],\"xaxis\":\"x\",\"y\":[4914.73977657098,4917.946450176552,4910.219137966777,4875.000000000004,null,4919.499886650743,4919.079177188116,4918.005479235609,4917.161690116199,4919.624618118183,4919.558252681825,4919.490998422659,4919.505219587593,4919.640024380195,4919.634395169076,4919.630839877842,4919.634395169076,4919.6418020258125,4919.6418020258125],\"yaxis\":\"y\",\"type\":\"scatter\"}],                        {\"template\":{\"data\":{\"bar\":[{\"error_x\":{\"color\":\"#2a3f5f\"},\"error_y\":{\"color\":\"#2a3f5f\"},\"marker\":{\"line\":{\"color\":\"#E5ECF6\",\"width\":0.5},\"pattern\":{\"fillmode\":\"overlay\",\"size\":10,\"solidity\":0.2}},\"type\":\"bar\"}],\"barpolar\":[{\"marker\":{\"line\":{\"color\":\"#E5ECF6\",\"width\":0.5},\"pattern\":{\"fillmode\":\"overlay\",\"size\":10,\"solidity\":0.2}},\"type\":\"barpolar\"}],\"carpet\":[{\"aaxis\":{\"endlinecolor\":\"#2a3f5f\",\"gridcolor\":\"white\",\"linecolor\":\"white\",\"minorgridcolor\":\"white\",\"startlinecolor\":\"#2a3f5f\"},\"baxis\":{\"endlinecolor\":\"#2a3f5f\",\"gridcolor\":\"white\",\"linecolor\":\"white\",\"minorgridcolor\":\"white\",\"startlinecolor\":\"#2a3f5f\"},\"type\":\"carpet\"}],\"choropleth\":[{\"colorbar\":{\"outlinewidth\":0,\"ticks\":\"\"},\"type\":\"choropleth\"}],\"contour\":[{\"colorbar\":{\"outlinewidth\":0,\"ticks\":\"\"},\"colorscale\":[[0.0,\"#0d0887\"],[0.1111111111111111,\"#46039f\"],[0.2222222222222222,\"#7201a8\"],[0.3333333333333333,\"#9c179e\"],[0.4444444444444444,\"#bd3786\"],[0.5555555555555556,\"#d8576b\"],[0.6666666666666666,\"#ed7953\"],[0.7777777777777778,\"#fb9f3a\"],[0.8888888888888888,\"#fdca26\"],[1.0,\"#f0f921\"]],\"type\":\"contour\"}],\"contourcarpet\":[{\"colorbar\":{\"outlinewidth\":0,\"ticks\":\"\"},\"type\":\"contourcarpet\"}],\"heatmap\":[{\"colorbar\":{\"outlinewidth\":0,\"ticks\":\"\"},\"colorscale\":[[0.0,\"#0d0887\"],[0.1111111111111111,\"#46039f\"],[0.2222222222222222,\"#7201a8\"],[0.3333333333333333,\"#9c179e\"],[0.4444444444444444,\"#bd3786\"],[0.5555555555555556,\"#d8576b\"],[0.6666666666666666,\"#ed7953\"],[0.7777777777777778,\"#fb9f3a\"],[0.8888888888888888,\"#fdca26\"],[1.0,\"#f0f921\"]],\"type\":\"heatmap\"}],\"heatmapgl\":[{\"colorbar\":{\"outlinewidth\":0,\"ticks\":\"\"},\"colorscale\":[[0.0,\"#0d0887\"],[0.1111111111111111,\"#46039f\"],[0.2222222222222222,\"#7201a8\"],[0.3333333333333333,\"#9c179e\"],[0.4444444444444444,\"#bd3786\"],[0.5555555555555556,\"#d8576b\"],[0.6666666666666666,\"#ed7953\"],[0.7777777777777778,\"#fb9f3a\"],[0.8888888888888888,\"#fdca26\"],[1.0,\"#f0f921\"]],\"type\":\"heatmapgl\"}],\"histogram\":[{\"marker\":{\"pattern\":{\"fillmode\":\"overlay\",\"size\":10,\"solidity\":0.2}},\"type\":\"histogram\"}],\"histogram2d\":[{\"colorbar\":{\"outlinewidth\":0,\"ticks\":\"\"},\"colorscale\":[[0.0,\"#0d0887\"],[0.1111111111111111,\"#46039f\"],[0.2222222222222222,\"#7201a8\"],[0.3333333333333333,\"#9c179e\"],[0.4444444444444444,\"#bd3786\"],[0.5555555555555556,\"#d8576b\"],[0.6666666666666666,\"#ed7953\"],[0.7777777777777778,\"#fb9f3a\"],[0.8888888888888888,\"#fdca26\"],[1.0,\"#f0f921\"]],\"type\":\"histogram2d\"}],\"histogram2dcontour\":[{\"colorbar\":{\"outlinewidth\":0,\"ticks\":\"\"},\"colorscale\":[[0.0,\"#0d0887\"],[0.1111111111111111,\"#46039f\"],[0.2222222222222222,\"#7201a8\"],[0.3333333333333333,\"#9c179e\"],[0.4444444444444444,\"#bd3786\"],[0.5555555555555556,\"#d8576b\"],[0.6666666666666666,\"#ed7953\"],[0.7777777777777778,\"#fb9f3a\"],[0.8888888888888888,\"#fdca26\"],[1.0,\"#f0f921\"]],\"type\":\"histogram2dcontour\"}],\"mesh3d\":[{\"colorbar\":{\"outlinewidth\":0,\"ticks\":\"\"},\"type\":\"mesh3d\"}],\"parcoords\":[{\"line\":{\"colorbar\":{\"outlinewidth\":0,\"ticks\":\"\"}},\"type\":\"parcoords\"}],\"pie\":[{\"automargin\":true,\"type\":\"pie\"}],\"scatter\":[{\"marker\":{\"colorbar\":{\"outlinewidth\":0,\"ticks\":\"\"}},\"type\":\"scatter\"}],\"scatter3d\":[{\"line\":{\"colorbar\":{\"outlinewidth\":0,\"ticks\":\"\"}},\"marker\":{\"colorbar\":{\"outlinewidth\":0,\"ticks\":\"\"}},\"type\":\"scatter3d\"}],\"scattercarpet\":[{\"marker\":{\"colorbar\":{\"outlinewidth\":0,\"ticks\":\"\"}},\"type\":\"scattercarpet\"}],\"scattergeo\":[{\"marker\":{\"colorbar\":{\"outlinewidth\":0,\"ticks\":\"\"}},\"type\":\"scattergeo\"}],\"scattergl\":[{\"marker\":{\"colorbar\":{\"outlinewidth\":0,\"ticks\":\"\"}},\"type\":\"scattergl\"}],\"scattermapbox\":[{\"marker\":{\"colorbar\":{\"outlinewidth\":0,\"ticks\":\"\"}},\"type\":\"scattermapbox\"}],\"scatterpolar\":[{\"marker\":{\"colorbar\":{\"outlinewidth\":0,\"ticks\":\"\"}},\"type\":\"scatterpolar\"}],\"scatterpolargl\":[{\"marker\":{\"colorbar\":{\"outlinewidth\":0,\"ticks\":\"\"}},\"type\":\"scatterpolargl\"}],\"scatterternary\":[{\"marker\":{\"colorbar\":{\"outlinewidth\":0,\"ticks\":\"\"}},\"type\":\"scatterternary\"}],\"surface\":[{\"colorbar\":{\"outlinewidth\":0,\"ticks\":\"\"},\"colorscale\":[[0.0,\"#0d0887\"],[0.1111111111111111,\"#46039f\"],[0.2222222222222222,\"#7201a8\"],[0.3333333333333333,\"#9c179e\"],[0.4444444444444444,\"#bd3786\"],[0.5555555555555556,\"#d8576b\"],[0.6666666666666666,\"#ed7953\"],[0.7777777777777778,\"#fb9f3a\"],[0.8888888888888888,\"#fdca26\"],[1.0,\"#f0f921\"]],\"type\":\"surface\"}],\"table\":[{\"cells\":{\"fill\":{\"color\":\"#EBF0F8\"},\"line\":{\"color\":\"white\"}},\"header\":{\"fill\":{\"color\":\"#C8D4E3\"},\"line\":{\"color\":\"white\"}},\"type\":\"table\"}]},\"layout\":{\"annotationdefaults\":{\"arrowcolor\":\"#2a3f5f\",\"arrowhead\":0,\"arrowwidth\":1},\"autotypenumbers\":\"strict\",\"coloraxis\":{\"colorbar\":{\"outlinewidth\":0,\"ticks\":\"\"}},\"colorscale\":{\"diverging\":[[0,\"#8e0152\"],[0.1,\"#c51b7d\"],[0.2,\"#de77ae\"],[0.3,\"#f1b6da\"],[0.4,\"#fde0ef\"],[0.5,\"#f7f7f7\"],[0.6,\"#e6f5d0\"],[0.7,\"#b8e186\"],[0.8,\"#7fbc41\"],[0.9,\"#4d9221\"],[1,\"#276419\"]],\"sequential\":[[0.0,\"#0d0887\"],[0.1111111111111111,\"#46039f\"],[0.2222222222222222,\"#7201a8\"],[0.3333333333333333,\"#9c179e\"],[0.4444444444444444,\"#bd3786\"],[0.5555555555555556,\"#d8576b\"],[0.6666666666666666,\"#ed7953\"],[0.7777777777777778,\"#fb9f3a\"],[0.8888888888888888,\"#fdca26\"],[1.0,\"#f0f921\"]],\"sequentialminus\":[[0.0,\"#0d0887\"],[0.1111111111111111,\"#46039f\"],[0.2222222222222222,\"#7201a8\"],[0.3333333333333333,\"#9c179e\"],[0.4444444444444444,\"#bd3786\"],[0.5555555555555556,\"#d8576b\"],[0.6666666666666666,\"#ed7953\"],[0.7777777777777778,\"#fb9f3a\"],[0.8888888888888888,\"#fdca26\"],[1.0,\"#f0f921\"]]},\"colorway\":[\"#636efa\",\"#EF553B\",\"#00cc96\",\"#ab63fa\",\"#FFA15A\",\"#19d3f3\",\"#FF6692\",\"#B6E880\",\"#FF97FF\",\"#FECB52\"],\"font\":{\"color\":\"#2a3f5f\"},\"geo\":{\"bgcolor\":\"white\",\"lakecolor\":\"white\",\"landcolor\":\"#E5ECF6\",\"showlakes\":true,\"showland\":true,\"subunitcolor\":\"white\"},\"hoverlabel\":{\"align\":\"left\"},\"hovermode\":\"closest\",\"mapbox\":{\"style\":\"light\"},\"paper_bgcolor\":\"white\",\"plot_bgcolor\":\"#E5ECF6\",\"polar\":{\"angularaxis\":{\"gridcolor\":\"white\",\"linecolor\":\"white\",\"ticks\":\"\"},\"bgcolor\":\"#E5ECF6\",\"radialaxis\":{\"gridcolor\":\"white\",\"linecolor\":\"white\",\"ticks\":\"\"}},\"scene\":{\"xaxis\":{\"backgroundcolor\":\"#E5ECF6\",\"gridcolor\":\"white\",\"gridwidth\":2,\"linecolor\":\"white\",\"showbackground\":true,\"ticks\":\"\",\"zerolinecolor\":\"white\"},\"yaxis\":{\"backgroundcolor\":\"#E5ECF6\",\"gridcolor\":\"white\",\"gridwidth\":2,\"linecolor\":\"white\",\"showbackground\":true,\"ticks\":\"\",\"zerolinecolor\":\"white\"},\"zaxis\":{\"backgroundcolor\":\"#E5ECF6\",\"gridcolor\":\"white\",\"gridwidth\":2,\"linecolor\":\"white\",\"showbackground\":true,\"ticks\":\"\",\"zerolinecolor\":\"white\"}},\"shapedefaults\":{\"line\":{\"color\":\"#2a3f5f\"}},\"ternary\":{\"aaxis\":{\"gridcolor\":\"white\",\"linecolor\":\"white\",\"ticks\":\"\"},\"baxis\":{\"gridcolor\":\"white\",\"linecolor\":\"white\",\"ticks\":\"\"},\"bgcolor\":\"#E5ECF6\",\"caxis\":{\"gridcolor\":\"white\",\"linecolor\":\"white\",\"ticks\":\"\"}},\"title\":{\"x\":0.05},\"xaxis\":{\"automargin\":true,\"gridcolor\":\"white\",\"linecolor\":\"white\",\"ticks\":\"\",\"title\":{\"standoff\":15},\"zerolinecolor\":\"white\",\"zerolinewidth\":2},\"yaxis\":{\"automargin\":true,\"gridcolor\":\"white\",\"linecolor\":\"white\",\"ticks\":\"\",\"title\":{\"standoff\":15},\"zerolinecolor\":\"white\",\"zerolinewidth\":2}}},\"xaxis\":{\"anchor\":\"y\",\"domain\":[0.0,1.0],\"title\":{\"text\":\"Timestamp\"},\"showgrid\":false},\"yaxis\":{\"anchor\":\"x\",\"domain\":[0.0,1.0],\"title\":{\"text\":\"Sales\"},\"showgrid\":false},\"legend\":{\"title\":{\"text\":\"Sales\"},\"tracegroupgap\":0},\"margin\":{\"t\":60},\"title\":{\"text\":\"Comparison last 4 days and next 10 days\"},\"font\":{\"size\":15,\"color\":\"black\"},\"plot_bgcolor\":\"white\"},                        {\"responsive\": true}                    ).then(function(){\n",
              "                            \n",
              "var gd = document.getElementById('95f53939-3bbb-4a94-8bf8-66d8b1213234');\n",
              "var x = new MutationObserver(function (mutations, observer) {{\n",
              "        var display = window.getComputedStyle(gd).display;\n",
              "        if (!display || display === 'none') {{\n",
              "            console.log([gd, 'removed!']);\n",
              "            Plotly.purge(gd);\n",
              "            observer.disconnect();\n",
              "        }}\n",
              "}});\n",
              "\n",
              "// Listen for the removal of the full notebook cells\n",
              "var notebookContainer = gd.closest('#notebook-container');\n",
              "if (notebookContainer) {{\n",
              "    x.observe(notebookContainer, {childList: true});\n",
              "}}\n",
              "\n",
              "// Listen for the clearing of the current output cell\n",
              "var outputEl = gd.closest('.output');\n",
              "if (outputEl) {{\n",
              "    x.observe(outputEl, {childList: true});\n",
              "}}\n",
              "\n",
              "                        })                };                            </script>        </div>\n",
              "</body>\n",
              "</html>"
            ]
          },
          "metadata": {}
        }
      ]
    },
    {
      "cell_type": "code",
      "source": [
        "lstmdf=scaled.tolist()\n",
        "lstmdf.extend((np.array(lst_output).reshape(-1,1)).tolist())\n",
        "lstmdf=scaler.inverse_transform(lstmdf).reshape(1,-1).tolist()[0]\n",
        "\n",
        "names = cycle(['Sales'])\n",
        "\n",
        "fig = px.line(lstmdf,labels={'value': 'Sales','index': 'Timestamp'})\n",
        "fig.update_layout(title_text='Whole Sales and 14 Days Forecast',\n",
        "                  plot_bgcolor='white', font_size=15, font_color='black',legend_title_text='Sales')\n",
        "\n",
        "fig.for_each_trace(lambda t:  t.update(name = next(names)))\n",
        "\n",
        "fig.update_xaxes(showgrid=False)\n",
        "fig.update_yaxes(showgrid=False)\n",
        "fig.show()"
      ],
      "metadata": {
        "colab": {
          "base_uri": "https://localhost:8080/",
          "height": 542
        },
        "id": "3ZINbjAhN5jn",
        "outputId": "9dd964bd-d836-4dca-f25b-b505c5873ae6"
      },
      "execution_count": null,
      "outputs": [
        {
          "output_type": "display_data",
          "data": {
            "text/html": [
              "<html>\n",
              "<head><meta charset=\"utf-8\" /></head>\n",
              "<body>\n",
              "    <div>            <script src=\"https://cdnjs.cloudflare.com/ajax/libs/mathjax/2.7.5/MathJax.js?config=TeX-AMS-MML_SVG\"></script><script type=\"text/javascript\">if (window.MathJax) {MathJax.Hub.Config({SVG: {font: \"STIX-Web\"}});}</script>                <script type=\"text/javascript\">window.PlotlyConfig = {MathJaxConfig: 'local'};</script>\n",
              "        <script src=\"https://cdn.plot.ly/plotly-2.8.3.min.js\"></script>                <div id=\"ed254183-123e-4200-9813-6046f1241313\" class=\"plotly-graph-div\" style=\"height:525px; width:100%;\"></div>            <script type=\"text/javascript\">                                    window.PLOTLYENV=window.PLOTLYENV || {};                                    if (document.getElementById(\"ed254183-123e-4200-9813-6046f1241313\")) {                    Plotly.newPlot(                        \"ed254183-123e-4200-9813-6046f1241313\",                        [{\"hovertemplate\":\"variable=0<br>Timestamp=%{x}<br>Sales=%{y}<extra></extra>\",\"legendgroup\":\"0\",\"line\":{\"color\":\"#636efa\",\"dash\":\"solid\"},\"marker\":{\"symbol\":\"circle\"},\"mode\":\"lines\",\"name\":\"Sales\",\"orientation\":\"v\",\"showlegend\":true,\"x\":[0,1,2,3,4,5,6,7,8,9,10,11,12,13,14,15,16,17,18,19,20,21,22,23,24,25,26,27,28,29,30,31,32,33,34,35,36,37,38,39,40,41,42,43,44,45,46,47,48,49,50,51,52,53,54,55,56,57],\"xaxis\":\"x\",\"y\":[10.0,20.0,40.0,80.0,144.0,259.2,300.0,450.0,560.0,840.0,1000.0,1500.0,2250.0,2700.0,3186.0,3695.7599999999998,3991.4208,4310.734464,4440.05649792,4573.2581928576,4710.455938643328,4748.139586152475,4786.124702841695,4824.413700464428,4863.009010068144,4901.913082148689,4941.128386805878,4980.657413900325,4900.0,4850.0,4634.471451720171,4701.522269700183,4756.145459677121,4793.263042650214,4825.372728534779,4850.584182102497,4866.153986931294,4880.905787028645,4894.445941912496,4906.11798215384,4914.73977657098,4917.946450176552,4910.219137966777,4875.000000000004,4919.499886650743,4919.079177188116,4918.005479235609,4917.161690116199,4919.624618118183,4919.558252681825,4919.490998422659,4919.505219587593,4919.640024380195,4919.634395169076,4919.630839877842,4919.634395169076,4919.6418020258125,4919.6418020258125],\"yaxis\":\"y\",\"type\":\"scatter\"}],                        {\"template\":{\"data\":{\"bar\":[{\"error_x\":{\"color\":\"#2a3f5f\"},\"error_y\":{\"color\":\"#2a3f5f\"},\"marker\":{\"line\":{\"color\":\"#E5ECF6\",\"width\":0.5},\"pattern\":{\"fillmode\":\"overlay\",\"size\":10,\"solidity\":0.2}},\"type\":\"bar\"}],\"barpolar\":[{\"marker\":{\"line\":{\"color\":\"#E5ECF6\",\"width\":0.5},\"pattern\":{\"fillmode\":\"overlay\",\"size\":10,\"solidity\":0.2}},\"type\":\"barpolar\"}],\"carpet\":[{\"aaxis\":{\"endlinecolor\":\"#2a3f5f\",\"gridcolor\":\"white\",\"linecolor\":\"white\",\"minorgridcolor\":\"white\",\"startlinecolor\":\"#2a3f5f\"},\"baxis\":{\"endlinecolor\":\"#2a3f5f\",\"gridcolor\":\"white\",\"linecolor\":\"white\",\"minorgridcolor\":\"white\",\"startlinecolor\":\"#2a3f5f\"},\"type\":\"carpet\"}],\"choropleth\":[{\"colorbar\":{\"outlinewidth\":0,\"ticks\":\"\"},\"type\":\"choropleth\"}],\"contour\":[{\"colorbar\":{\"outlinewidth\":0,\"ticks\":\"\"},\"colorscale\":[[0.0,\"#0d0887\"],[0.1111111111111111,\"#46039f\"],[0.2222222222222222,\"#7201a8\"],[0.3333333333333333,\"#9c179e\"],[0.4444444444444444,\"#bd3786\"],[0.5555555555555556,\"#d8576b\"],[0.6666666666666666,\"#ed7953\"],[0.7777777777777778,\"#fb9f3a\"],[0.8888888888888888,\"#fdca26\"],[1.0,\"#f0f921\"]],\"type\":\"contour\"}],\"contourcarpet\":[{\"colorbar\":{\"outlinewidth\":0,\"ticks\":\"\"},\"type\":\"contourcarpet\"}],\"heatmap\":[{\"colorbar\":{\"outlinewidth\":0,\"ticks\":\"\"},\"colorscale\":[[0.0,\"#0d0887\"],[0.1111111111111111,\"#46039f\"],[0.2222222222222222,\"#7201a8\"],[0.3333333333333333,\"#9c179e\"],[0.4444444444444444,\"#bd3786\"],[0.5555555555555556,\"#d8576b\"],[0.6666666666666666,\"#ed7953\"],[0.7777777777777778,\"#fb9f3a\"],[0.8888888888888888,\"#fdca26\"],[1.0,\"#f0f921\"]],\"type\":\"heatmap\"}],\"heatmapgl\":[{\"colorbar\":{\"outlinewidth\":0,\"ticks\":\"\"},\"colorscale\":[[0.0,\"#0d0887\"],[0.1111111111111111,\"#46039f\"],[0.2222222222222222,\"#7201a8\"],[0.3333333333333333,\"#9c179e\"],[0.4444444444444444,\"#bd3786\"],[0.5555555555555556,\"#d8576b\"],[0.6666666666666666,\"#ed7953\"],[0.7777777777777778,\"#fb9f3a\"],[0.8888888888888888,\"#fdca26\"],[1.0,\"#f0f921\"]],\"type\":\"heatmapgl\"}],\"histogram\":[{\"marker\":{\"pattern\":{\"fillmode\":\"overlay\",\"size\":10,\"solidity\":0.2}},\"type\":\"histogram\"}],\"histogram2d\":[{\"colorbar\":{\"outlinewidth\":0,\"ticks\":\"\"},\"colorscale\":[[0.0,\"#0d0887\"],[0.1111111111111111,\"#46039f\"],[0.2222222222222222,\"#7201a8\"],[0.3333333333333333,\"#9c179e\"],[0.4444444444444444,\"#bd3786\"],[0.5555555555555556,\"#d8576b\"],[0.6666666666666666,\"#ed7953\"],[0.7777777777777778,\"#fb9f3a\"],[0.8888888888888888,\"#fdca26\"],[1.0,\"#f0f921\"]],\"type\":\"histogram2d\"}],\"histogram2dcontour\":[{\"colorbar\":{\"outlinewidth\":0,\"ticks\":\"\"},\"colorscale\":[[0.0,\"#0d0887\"],[0.1111111111111111,\"#46039f\"],[0.2222222222222222,\"#7201a8\"],[0.3333333333333333,\"#9c179e\"],[0.4444444444444444,\"#bd3786\"],[0.5555555555555556,\"#d8576b\"],[0.6666666666666666,\"#ed7953\"],[0.7777777777777778,\"#fb9f3a\"],[0.8888888888888888,\"#fdca26\"],[1.0,\"#f0f921\"]],\"type\":\"histogram2dcontour\"}],\"mesh3d\":[{\"colorbar\":{\"outlinewidth\":0,\"ticks\":\"\"},\"type\":\"mesh3d\"}],\"parcoords\":[{\"line\":{\"colorbar\":{\"outlinewidth\":0,\"ticks\":\"\"}},\"type\":\"parcoords\"}],\"pie\":[{\"automargin\":true,\"type\":\"pie\"}],\"scatter\":[{\"marker\":{\"colorbar\":{\"outlinewidth\":0,\"ticks\":\"\"}},\"type\":\"scatter\"}],\"scatter3d\":[{\"line\":{\"colorbar\":{\"outlinewidth\":0,\"ticks\":\"\"}},\"marker\":{\"colorbar\":{\"outlinewidth\":0,\"ticks\":\"\"}},\"type\":\"scatter3d\"}],\"scattercarpet\":[{\"marker\":{\"colorbar\":{\"outlinewidth\":0,\"ticks\":\"\"}},\"type\":\"scattercarpet\"}],\"scattergeo\":[{\"marker\":{\"colorbar\":{\"outlinewidth\":0,\"ticks\":\"\"}},\"type\":\"scattergeo\"}],\"scattergl\":[{\"marker\":{\"colorbar\":{\"outlinewidth\":0,\"ticks\":\"\"}},\"type\":\"scattergl\"}],\"scattermapbox\":[{\"marker\":{\"colorbar\":{\"outlinewidth\":0,\"ticks\":\"\"}},\"type\":\"scattermapbox\"}],\"scatterpolar\":[{\"marker\":{\"colorbar\":{\"outlinewidth\":0,\"ticks\":\"\"}},\"type\":\"scatterpolar\"}],\"scatterpolargl\":[{\"marker\":{\"colorbar\":{\"outlinewidth\":0,\"ticks\":\"\"}},\"type\":\"scatterpolargl\"}],\"scatterternary\":[{\"marker\":{\"colorbar\":{\"outlinewidth\":0,\"ticks\":\"\"}},\"type\":\"scatterternary\"}],\"surface\":[{\"colorbar\":{\"outlinewidth\":0,\"ticks\":\"\"},\"colorscale\":[[0.0,\"#0d0887\"],[0.1111111111111111,\"#46039f\"],[0.2222222222222222,\"#7201a8\"],[0.3333333333333333,\"#9c179e\"],[0.4444444444444444,\"#bd3786\"],[0.5555555555555556,\"#d8576b\"],[0.6666666666666666,\"#ed7953\"],[0.7777777777777778,\"#fb9f3a\"],[0.8888888888888888,\"#fdca26\"],[1.0,\"#f0f921\"]],\"type\":\"surface\"}],\"table\":[{\"cells\":{\"fill\":{\"color\":\"#EBF0F8\"},\"line\":{\"color\":\"white\"}},\"header\":{\"fill\":{\"color\":\"#C8D4E3\"},\"line\":{\"color\":\"white\"}},\"type\":\"table\"}]},\"layout\":{\"annotationdefaults\":{\"arrowcolor\":\"#2a3f5f\",\"arrowhead\":0,\"arrowwidth\":1},\"autotypenumbers\":\"strict\",\"coloraxis\":{\"colorbar\":{\"outlinewidth\":0,\"ticks\":\"\"}},\"colorscale\":{\"diverging\":[[0,\"#8e0152\"],[0.1,\"#c51b7d\"],[0.2,\"#de77ae\"],[0.3,\"#f1b6da\"],[0.4,\"#fde0ef\"],[0.5,\"#f7f7f7\"],[0.6,\"#e6f5d0\"],[0.7,\"#b8e186\"],[0.8,\"#7fbc41\"],[0.9,\"#4d9221\"],[1,\"#276419\"]],\"sequential\":[[0.0,\"#0d0887\"],[0.1111111111111111,\"#46039f\"],[0.2222222222222222,\"#7201a8\"],[0.3333333333333333,\"#9c179e\"],[0.4444444444444444,\"#bd3786\"],[0.5555555555555556,\"#d8576b\"],[0.6666666666666666,\"#ed7953\"],[0.7777777777777778,\"#fb9f3a\"],[0.8888888888888888,\"#fdca26\"],[1.0,\"#f0f921\"]],\"sequentialminus\":[[0.0,\"#0d0887\"],[0.1111111111111111,\"#46039f\"],[0.2222222222222222,\"#7201a8\"],[0.3333333333333333,\"#9c179e\"],[0.4444444444444444,\"#bd3786\"],[0.5555555555555556,\"#d8576b\"],[0.6666666666666666,\"#ed7953\"],[0.7777777777777778,\"#fb9f3a\"],[0.8888888888888888,\"#fdca26\"],[1.0,\"#f0f921\"]]},\"colorway\":[\"#636efa\",\"#EF553B\",\"#00cc96\",\"#ab63fa\",\"#FFA15A\",\"#19d3f3\",\"#FF6692\",\"#B6E880\",\"#FF97FF\",\"#FECB52\"],\"font\":{\"color\":\"#2a3f5f\"},\"geo\":{\"bgcolor\":\"white\",\"lakecolor\":\"white\",\"landcolor\":\"#E5ECF6\",\"showlakes\":true,\"showland\":true,\"subunitcolor\":\"white\"},\"hoverlabel\":{\"align\":\"left\"},\"hovermode\":\"closest\",\"mapbox\":{\"style\":\"light\"},\"paper_bgcolor\":\"white\",\"plot_bgcolor\":\"#E5ECF6\",\"polar\":{\"angularaxis\":{\"gridcolor\":\"white\",\"linecolor\":\"white\",\"ticks\":\"\"},\"bgcolor\":\"#E5ECF6\",\"radialaxis\":{\"gridcolor\":\"white\",\"linecolor\":\"white\",\"ticks\":\"\"}},\"scene\":{\"xaxis\":{\"backgroundcolor\":\"#E5ECF6\",\"gridcolor\":\"white\",\"gridwidth\":2,\"linecolor\":\"white\",\"showbackground\":true,\"ticks\":\"\",\"zerolinecolor\":\"white\"},\"yaxis\":{\"backgroundcolor\":\"#E5ECF6\",\"gridcolor\":\"white\",\"gridwidth\":2,\"linecolor\":\"white\",\"showbackground\":true,\"ticks\":\"\",\"zerolinecolor\":\"white\"},\"zaxis\":{\"backgroundcolor\":\"#E5ECF6\",\"gridcolor\":\"white\",\"gridwidth\":2,\"linecolor\":\"white\",\"showbackground\":true,\"ticks\":\"\",\"zerolinecolor\":\"white\"}},\"shapedefaults\":{\"line\":{\"color\":\"#2a3f5f\"}},\"ternary\":{\"aaxis\":{\"gridcolor\":\"white\",\"linecolor\":\"white\",\"ticks\":\"\"},\"baxis\":{\"gridcolor\":\"white\",\"linecolor\":\"white\",\"ticks\":\"\"},\"bgcolor\":\"#E5ECF6\",\"caxis\":{\"gridcolor\":\"white\",\"linecolor\":\"white\",\"ticks\":\"\"}},\"title\":{\"x\":0.05},\"xaxis\":{\"automargin\":true,\"gridcolor\":\"white\",\"linecolor\":\"white\",\"ticks\":\"\",\"title\":{\"standoff\":15},\"zerolinecolor\":\"white\",\"zerolinewidth\":2},\"yaxis\":{\"automargin\":true,\"gridcolor\":\"white\",\"linecolor\":\"white\",\"ticks\":\"\",\"title\":{\"standoff\":15},\"zerolinecolor\":\"white\",\"zerolinewidth\":2}}},\"xaxis\":{\"anchor\":\"y\",\"domain\":[0.0,1.0],\"title\":{\"text\":\"Timestamp\"},\"showgrid\":false},\"yaxis\":{\"anchor\":\"x\",\"domain\":[0.0,1.0],\"title\":{\"text\":\"Sales\"},\"showgrid\":false},\"legend\":{\"title\":{\"text\":\"Sales\"},\"tracegroupgap\":0},\"margin\":{\"t\":60},\"title\":{\"text\":\"Whole Sales and 14 Days Forecast\"},\"font\":{\"size\":15,\"color\":\"black\"},\"plot_bgcolor\":\"white\"},                        {\"responsive\": true}                    ).then(function(){\n",
              "                            \n",
              "var gd = document.getElementById('ed254183-123e-4200-9813-6046f1241313');\n",
              "var x = new MutationObserver(function (mutations, observer) {{\n",
              "        var display = window.getComputedStyle(gd).display;\n",
              "        if (!display || display === 'none') {{\n",
              "            console.log([gd, 'removed!']);\n",
              "            Plotly.purge(gd);\n",
              "            observer.disconnect();\n",
              "        }}\n",
              "}});\n",
              "\n",
              "// Listen for the removal of the full notebook cells\n",
              "var notebookContainer = gd.closest('#notebook-container');\n",
              "if (notebookContainer) {{\n",
              "    x.observe(notebookContainer, {childList: true});\n",
              "}}\n",
              "\n",
              "// Listen for the clearing of the current output cell\n",
              "var outputEl = gd.closest('.output');\n",
              "if (outputEl) {{\n",
              "    x.observe(outputEl, {childList: true});\n",
              "}}\n",
              "\n",
              "                        })                };                            </script>        </div>\n",
              "</body>\n",
              "</html>"
            ]
          },
          "metadata": {}
        }
      ]
    },
    {
      "cell_type": "markdown",
      "source": [
        "# 5. Conclusion / Overall Analysis"
      ],
      "metadata": {
        "id": "m3B2bC6UxZsh"
      }
    },
    {
      "cell_type": "markdown",
      "source": [
        "There are two different types of models because one type of model can be used to predict sales in several months while the other model is used to predict in units of days. There are advantages and disadvantages of each. In the prediction model in months, data is separated into train and test from the start before being fitted with a scaler at the preprocessing stage. The drawback is that the modeling process does not predict the next few days, but months. Meanwhile, other models perform feature scaling from the start, and divide the data into train and train tests."
      ],
      "metadata": {
        "id": "surcHpZ3XDnW"
      }
    }
  ],
  "metadata": {
    "colab": {
      "provenance": [],
      "toc_visible": true
    },
    "kernelspec": {
      "display_name": "Python 3",
      "name": "python3"
    },
    "language_info": {
      "name": "python"
    }
  },
  "nbformat": 4,
  "nbformat_minor": 0
}