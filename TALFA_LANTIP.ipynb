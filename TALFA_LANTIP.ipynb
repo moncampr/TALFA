{
  "cells": [
    {
      "cell_type": "markdown",
      "metadata": {
        "id": "E8gUnQU1cCgw"
      },
      "source": [
        "# 1. Project Talfa (Talent Fair)\n",
        "\n",
        "This project is made for the Hacktiv8 Talent Fair Vol.3. Talfa-LANTIP (plant nutrition prediction) is a project that aims to predict plant nutritional data. The dataset contains several variables of plant nutritional data, named v1 to v8, the source of the sample, and the result that is numerical. The data is provided by Aria Indonesia, an agritech startup.\n",
        " \n",
        "\n"
      ]
    },
    {
      "cell_type": "markdown",
      "metadata": {
        "id": "lDLjzXp6cSdF"
      },
      "source": [
        "# 2. Introduction\n",
        "\n",
        "I am Monica Pratiwi and I am passionate about data analysis. I hold a Bachelor's in Geography. Finding patterns nobody else sees is challenging for me. That is why I decided to pursue a career in the data science field. I aspire to be a good analyst."
      ]
    },
    {
      "cell_type": "markdown",
      "source": [
        "# 3. External Link\n",
        "\n"
      ],
      "metadata": {
        "id": "lrSQCkKCVo42"
      }
    },
    {
      "cell_type": "markdown",
      "source": [
        "# 4. Working Area\n",
        "\n",
        "1. Able to create a prediction model of plant nutritional data that has been obtained from the test lab.\n",
        "2. Able to explore and analyze the datasets.\n",
        "3. Able to explain how to evaluate the model.\n",
        "4. Able to explain the methodology used for every step, algorithm, data manipulation, data cleansing, etc.\n",
        "5. Able to provide further improvement plan"
      ],
      "metadata": {
        "id": "Q_zZwkeakez_"
      }
    },
    {
      "cell_type": "markdown",
      "source": [
        "## Import Library"
      ],
      "metadata": {
        "id": "OJJO8IP-02Pr"
      }
    },
    {
      "cell_type": "code",
      "source": [
        "# Import Libraries\n",
        "\n",
        "import pandas as pd\n",
        "import numpy as np\n",
        "\n",
        "import matplotlib.pyplot as plt\n",
        "import seaborn as sns\n",
        "import plotly.express as px\n",
        "\n",
        "from sklearn.pipeline import Pipeline\n",
        "from sklearn.model_selection import train_test_split\n",
        "from sklearn.preprocessing import StandardScaler, OneHotEncoder\n",
        "!pip install feature_engine\n",
        "from feature_engine.outliers import Winsorizer\n",
        "from sklearn.compose import ColumnTransformer\n",
        "\n",
        "from sklearn.linear_model import LinearRegression\n",
        "from sklearn.tree import DecisionTreeRegressor\n",
        "from sklearn.svm import SVR\n",
        "from sklearn.ensemble import RandomForestRegressor\n",
        "from sklearn.metrics import mean_absolute_error\n",
        "from sklearn.model_selection import cross_val_score\n",
        "from sklearn.model_selection import GridSearchCV\n",
        "\n",
        "import warnings\n",
        "warnings.filterwarnings(\"ignore\")"
      ],
      "metadata": {
        "colab": {
          "base_uri": "https://localhost:8080/"
        },
        "id": "GTn0Q-9XDE-6",
        "outputId": "e85d1a40-89a3-4c02-8877-c82cd1af46a3"
      },
      "execution_count": 5,
      "outputs": [
        {
          "output_type": "stream",
          "name": "stdout",
          "text": [
            "Looking in indexes: https://pypi.org/simple, https://us-python.pkg.dev/colab-wheels/public/simple/\n",
            "Requirement already satisfied: feature_engine in /usr/local/lib/python3.8/dist-packages (1.5.2)\n",
            "Requirement already satisfied: pandas>=1.0.3 in /usr/local/lib/python3.8/dist-packages (from feature_engine) (1.3.5)\n",
            "Requirement already satisfied: scikit-learn>=1.0.0 in /usr/local/lib/python3.8/dist-packages (from feature_engine) (1.0.2)\n",
            "Requirement already satisfied: scipy>=1.4.1 in /usr/local/lib/python3.8/dist-packages (from feature_engine) (1.7.3)\n",
            "Requirement already satisfied: numpy>=1.18.2 in /usr/local/lib/python3.8/dist-packages (from feature_engine) (1.21.6)\n",
            "Requirement already satisfied: statsmodels>=0.11.1 in /usr/local/lib/python3.8/dist-packages (from feature_engine) (0.12.2)\n",
            "Requirement already satisfied: python-dateutil>=2.7.3 in /usr/local/lib/python3.8/dist-packages (from pandas>=1.0.3->feature_engine) (2.8.2)\n",
            "Requirement already satisfied: pytz>=2017.3 in /usr/local/lib/python3.8/dist-packages (from pandas>=1.0.3->feature_engine) (2022.7.1)\n",
            "Requirement already satisfied: threadpoolctl>=2.0.0 in /usr/local/lib/python3.8/dist-packages (from scikit-learn>=1.0.0->feature_engine) (3.1.0)\n",
            "Requirement already satisfied: joblib>=0.11 in /usr/local/lib/python3.8/dist-packages (from scikit-learn>=1.0.0->feature_engine) (1.2.0)\n",
            "Requirement already satisfied: patsy>=0.5 in /usr/local/lib/python3.8/dist-packages (from statsmodels>=0.11.1->feature_engine) (0.5.3)\n",
            "Requirement already satisfied: six in /usr/local/lib/python3.8/dist-packages (from patsy>=0.5->statsmodels>=0.11.1->feature_engine) (1.15.0)\n"
          ]
        }
      ]
    },
    {
      "cell_type": "code",
      "source": [
        "from google.colab import drive\n",
        "drive.mount('/content/drive')"
      ],
      "metadata": {
        "colab": {
          "base_uri": "https://localhost:8080/"
        },
        "id": "7JrInoyFNlOf",
        "outputId": "aa0d9e20-db60-4419-f3eb-feb7abef4fe4"
      },
      "execution_count": 6,
      "outputs": [
        {
          "output_type": "stream",
          "name": "stdout",
          "text": [
            "Mounted at /content/drive\n"
          ]
        }
      ]
    },
    {
      "cell_type": "markdown",
      "source": [
        "## Data Loading"
      ],
      "metadata": {
        "id": "IyNXseGCoPTL"
      }
    },
    {
      "cell_type": "code",
      "source": [
        "# Load Data\n",
        "df2 = pd.read_excel('/content/drive/MyDrive/Talent Fair/aria_data.xlsx')"
      ],
      "metadata": {
        "id": "R96phhFoksYk"
      },
      "execution_count": 7,
      "outputs": []
    },
    {
      "cell_type": "code",
      "source": [
        "# Take a look at the data\n",
        "df2"
      ],
      "metadata": {
        "colab": {
          "base_uri": "https://localhost:8080/",
          "height": 424
        },
        "id": "pQq2geMFlSJ-",
        "outputId": "36d2cdaf-70d1-4743-83a6-f6f85cb3f16c"
      },
      "execution_count": 8,
      "outputs": [
        {
          "output_type": "execute_result",
          "data": {
            "text/plain": [
              "     target          v1          v2          v3          v4          v5  \\\n",
              "0      4.63  260.600000  199.000000  391.333333  371.733333  466.800000   \n",
              "1      5.00  263.200000  194.600000  393.666667  348.533333  401.800000   \n",
              "2      4.91  247.266667  205.800000  375.466667  354.866667  419.000000   \n",
              "3      4.77  257.944444  191.833333  368.722222  334.666667  417.222222   \n",
              "4      4.89  258.200000  195.733333  356.666667  333.333333  394.600000   \n",
              "..      ...         ...         ...         ...         ...         ...   \n",
              "155    4.83  573.250000  361.250000  643.125000  489.812500  666.875000   \n",
              "156    4.47  678.375000  398.125000  678.250000  541.125000  704.000000   \n",
              "157    4.63  634.000000  382.866667  657.466667  505.066667  719.200000   \n",
              "158    4.35  615.312500  366.750000  642.937500  483.687500  675.625000   \n",
              "159    4.43  575.200000  350.266667  648.333333  495.400000  679.800000   \n",
              "\n",
              "             v6          v7           v8 sample_type  \n",
              "0    273.133333  742.066667  4047.733333       lab 1  \n",
              "1    220.066667  712.000000  4673.466667       lab 1  \n",
              "2    222.133333  677.200000  4386.800000       lab 1  \n",
              "3    195.944444  678.555556  4588.777778       lab 1  \n",
              "4    196.000000  677.133333  4867.066667       lab 1  \n",
              "..          ...         ...          ...         ...  \n",
              "155  355.250000  712.312500  3943.687500       lab 2  \n",
              "156  393.500000  788.812500  3928.187500       lab 2  \n",
              "157  366.600000  792.133333  3861.200000       lab 2  \n",
              "158  359.062500  730.125000  3859.062500       lab 2  \n",
              "159  346.266667  718.733333  3903.333333       lab 2  \n",
              "\n",
              "[160 rows x 10 columns]"
            ],
            "text/html": [
              "\n",
              "  <div id=\"df-f7f4c265-89f8-41e4-9a97-d2e3d7fc7ee9\">\n",
              "    <div class=\"colab-df-container\">\n",
              "      <div>\n",
              "<style scoped>\n",
              "    .dataframe tbody tr th:only-of-type {\n",
              "        vertical-align: middle;\n",
              "    }\n",
              "\n",
              "    .dataframe tbody tr th {\n",
              "        vertical-align: top;\n",
              "    }\n",
              "\n",
              "    .dataframe thead th {\n",
              "        text-align: right;\n",
              "    }\n",
              "</style>\n",
              "<table border=\"1\" class=\"dataframe\">\n",
              "  <thead>\n",
              "    <tr style=\"text-align: right;\">\n",
              "      <th></th>\n",
              "      <th>target</th>\n",
              "      <th>v1</th>\n",
              "      <th>v2</th>\n",
              "      <th>v3</th>\n",
              "      <th>v4</th>\n",
              "      <th>v5</th>\n",
              "      <th>v6</th>\n",
              "      <th>v7</th>\n",
              "      <th>v8</th>\n",
              "      <th>sample_type</th>\n",
              "    </tr>\n",
              "  </thead>\n",
              "  <tbody>\n",
              "    <tr>\n",
              "      <th>0</th>\n",
              "      <td>4.63</td>\n",
              "      <td>260.600000</td>\n",
              "      <td>199.000000</td>\n",
              "      <td>391.333333</td>\n",
              "      <td>371.733333</td>\n",
              "      <td>466.800000</td>\n",
              "      <td>273.133333</td>\n",
              "      <td>742.066667</td>\n",
              "      <td>4047.733333</td>\n",
              "      <td>lab 1</td>\n",
              "    </tr>\n",
              "    <tr>\n",
              "      <th>1</th>\n",
              "      <td>5.00</td>\n",
              "      <td>263.200000</td>\n",
              "      <td>194.600000</td>\n",
              "      <td>393.666667</td>\n",
              "      <td>348.533333</td>\n",
              "      <td>401.800000</td>\n",
              "      <td>220.066667</td>\n",
              "      <td>712.000000</td>\n",
              "      <td>4673.466667</td>\n",
              "      <td>lab 1</td>\n",
              "    </tr>\n",
              "    <tr>\n",
              "      <th>2</th>\n",
              "      <td>4.91</td>\n",
              "      <td>247.266667</td>\n",
              "      <td>205.800000</td>\n",
              "      <td>375.466667</td>\n",
              "      <td>354.866667</td>\n",
              "      <td>419.000000</td>\n",
              "      <td>222.133333</td>\n",
              "      <td>677.200000</td>\n",
              "      <td>4386.800000</td>\n",
              "      <td>lab 1</td>\n",
              "    </tr>\n",
              "    <tr>\n",
              "      <th>3</th>\n",
              "      <td>4.77</td>\n",
              "      <td>257.944444</td>\n",
              "      <td>191.833333</td>\n",
              "      <td>368.722222</td>\n",
              "      <td>334.666667</td>\n",
              "      <td>417.222222</td>\n",
              "      <td>195.944444</td>\n",
              "      <td>678.555556</td>\n",
              "      <td>4588.777778</td>\n",
              "      <td>lab 1</td>\n",
              "    </tr>\n",
              "    <tr>\n",
              "      <th>4</th>\n",
              "      <td>4.89</td>\n",
              "      <td>258.200000</td>\n",
              "      <td>195.733333</td>\n",
              "      <td>356.666667</td>\n",
              "      <td>333.333333</td>\n",
              "      <td>394.600000</td>\n",
              "      <td>196.000000</td>\n",
              "      <td>677.133333</td>\n",
              "      <td>4867.066667</td>\n",
              "      <td>lab 1</td>\n",
              "    </tr>\n",
              "    <tr>\n",
              "      <th>...</th>\n",
              "      <td>...</td>\n",
              "      <td>...</td>\n",
              "      <td>...</td>\n",
              "      <td>...</td>\n",
              "      <td>...</td>\n",
              "      <td>...</td>\n",
              "      <td>...</td>\n",
              "      <td>...</td>\n",
              "      <td>...</td>\n",
              "      <td>...</td>\n",
              "    </tr>\n",
              "    <tr>\n",
              "      <th>155</th>\n",
              "      <td>4.83</td>\n",
              "      <td>573.250000</td>\n",
              "      <td>361.250000</td>\n",
              "      <td>643.125000</td>\n",
              "      <td>489.812500</td>\n",
              "      <td>666.875000</td>\n",
              "      <td>355.250000</td>\n",
              "      <td>712.312500</td>\n",
              "      <td>3943.687500</td>\n",
              "      <td>lab 2</td>\n",
              "    </tr>\n",
              "    <tr>\n",
              "      <th>156</th>\n",
              "      <td>4.47</td>\n",
              "      <td>678.375000</td>\n",
              "      <td>398.125000</td>\n",
              "      <td>678.250000</td>\n",
              "      <td>541.125000</td>\n",
              "      <td>704.000000</td>\n",
              "      <td>393.500000</td>\n",
              "      <td>788.812500</td>\n",
              "      <td>3928.187500</td>\n",
              "      <td>lab 2</td>\n",
              "    </tr>\n",
              "    <tr>\n",
              "      <th>157</th>\n",
              "      <td>4.63</td>\n",
              "      <td>634.000000</td>\n",
              "      <td>382.866667</td>\n",
              "      <td>657.466667</td>\n",
              "      <td>505.066667</td>\n",
              "      <td>719.200000</td>\n",
              "      <td>366.600000</td>\n",
              "      <td>792.133333</td>\n",
              "      <td>3861.200000</td>\n",
              "      <td>lab 2</td>\n",
              "    </tr>\n",
              "    <tr>\n",
              "      <th>158</th>\n",
              "      <td>4.35</td>\n",
              "      <td>615.312500</td>\n",
              "      <td>366.750000</td>\n",
              "      <td>642.937500</td>\n",
              "      <td>483.687500</td>\n",
              "      <td>675.625000</td>\n",
              "      <td>359.062500</td>\n",
              "      <td>730.125000</td>\n",
              "      <td>3859.062500</td>\n",
              "      <td>lab 2</td>\n",
              "    </tr>\n",
              "    <tr>\n",
              "      <th>159</th>\n",
              "      <td>4.43</td>\n",
              "      <td>575.200000</td>\n",
              "      <td>350.266667</td>\n",
              "      <td>648.333333</td>\n",
              "      <td>495.400000</td>\n",
              "      <td>679.800000</td>\n",
              "      <td>346.266667</td>\n",
              "      <td>718.733333</td>\n",
              "      <td>3903.333333</td>\n",
              "      <td>lab 2</td>\n",
              "    </tr>\n",
              "  </tbody>\n",
              "</table>\n",
              "<p>160 rows × 10 columns</p>\n",
              "</div>\n",
              "      <button class=\"colab-df-convert\" onclick=\"convertToInteractive('df-f7f4c265-89f8-41e4-9a97-d2e3d7fc7ee9')\"\n",
              "              title=\"Convert this dataframe to an interactive table.\"\n",
              "              style=\"display:none;\">\n",
              "        \n",
              "  <svg xmlns=\"http://www.w3.org/2000/svg\" height=\"24px\"viewBox=\"0 0 24 24\"\n",
              "       width=\"24px\">\n",
              "    <path d=\"M0 0h24v24H0V0z\" fill=\"none\"/>\n",
              "    <path d=\"M18.56 5.44l.94 2.06.94-2.06 2.06-.94-2.06-.94-.94-2.06-.94 2.06-2.06.94zm-11 1L8.5 8.5l.94-2.06 2.06-.94-2.06-.94L8.5 2.5l-.94 2.06-2.06.94zm10 10l.94 2.06.94-2.06 2.06-.94-2.06-.94-.94-2.06-.94 2.06-2.06.94z\"/><path d=\"M17.41 7.96l-1.37-1.37c-.4-.4-.92-.59-1.43-.59-.52 0-1.04.2-1.43.59L10.3 9.45l-7.72 7.72c-.78.78-.78 2.05 0 2.83L4 21.41c.39.39.9.59 1.41.59.51 0 1.02-.2 1.41-.59l7.78-7.78 2.81-2.81c.8-.78.8-2.07 0-2.86zM5.41 20L4 18.59l7.72-7.72 1.47 1.35L5.41 20z\"/>\n",
              "  </svg>\n",
              "      </button>\n",
              "      \n",
              "  <style>\n",
              "    .colab-df-container {\n",
              "      display:flex;\n",
              "      flex-wrap:wrap;\n",
              "      gap: 12px;\n",
              "    }\n",
              "\n",
              "    .colab-df-convert {\n",
              "      background-color: #E8F0FE;\n",
              "      border: none;\n",
              "      border-radius: 50%;\n",
              "      cursor: pointer;\n",
              "      display: none;\n",
              "      fill: #1967D2;\n",
              "      height: 32px;\n",
              "      padding: 0 0 0 0;\n",
              "      width: 32px;\n",
              "    }\n",
              "\n",
              "    .colab-df-convert:hover {\n",
              "      background-color: #E2EBFA;\n",
              "      box-shadow: 0px 1px 2px rgba(60, 64, 67, 0.3), 0px 1px 3px 1px rgba(60, 64, 67, 0.15);\n",
              "      fill: #174EA6;\n",
              "    }\n",
              "\n",
              "    [theme=dark] .colab-df-convert {\n",
              "      background-color: #3B4455;\n",
              "      fill: #D2E3FC;\n",
              "    }\n",
              "\n",
              "    [theme=dark] .colab-df-convert:hover {\n",
              "      background-color: #434B5C;\n",
              "      box-shadow: 0px 1px 3px 1px rgba(0, 0, 0, 0.15);\n",
              "      filter: drop-shadow(0px 1px 2px rgba(0, 0, 0, 0.3));\n",
              "      fill: #FFFFFF;\n",
              "    }\n",
              "  </style>\n",
              "\n",
              "      <script>\n",
              "        const buttonEl =\n",
              "          document.querySelector('#df-f7f4c265-89f8-41e4-9a97-d2e3d7fc7ee9 button.colab-df-convert');\n",
              "        buttonEl.style.display =\n",
              "          google.colab.kernel.accessAllowed ? 'block' : 'none';\n",
              "\n",
              "        async function convertToInteractive(key) {\n",
              "          const element = document.querySelector('#df-f7f4c265-89f8-41e4-9a97-d2e3d7fc7ee9');\n",
              "          const dataTable =\n",
              "            await google.colab.kernel.invokeFunction('convertToInteractive',\n",
              "                                                     [key], {});\n",
              "          if (!dataTable) return;\n",
              "\n",
              "          const docLinkHtml = 'Like what you see? Visit the ' +\n",
              "            '<a target=\"_blank\" href=https://colab.research.google.com/notebooks/data_table.ipynb>data table notebook</a>'\n",
              "            + ' to learn more about interactive tables.';\n",
              "          element.innerHTML = '';\n",
              "          dataTable['output_type'] = 'display_data';\n",
              "          await google.colab.output.renderOutput(dataTable, element);\n",
              "          const docLink = document.createElement('div');\n",
              "          docLink.innerHTML = docLinkHtml;\n",
              "          element.appendChild(docLink);\n",
              "        }\n",
              "      </script>\n",
              "    </div>\n",
              "  </div>\n",
              "  "
            ]
          },
          "metadata": {},
          "execution_count": 8
        }
      ]
    },
    {
      "cell_type": "code",
      "source": [
        "# Data Information\n",
        "df2.info()"
      ],
      "metadata": {
        "colab": {
          "base_uri": "https://localhost:8080/"
        },
        "id": "upeomZ2LlyJT",
        "outputId": "fe4f6beb-8b72-411e-b8d8-32f30db7107d"
      },
      "execution_count": 9,
      "outputs": [
        {
          "output_type": "stream",
          "name": "stdout",
          "text": [
            "<class 'pandas.core.frame.DataFrame'>\n",
            "RangeIndex: 160 entries, 0 to 159\n",
            "Data columns (total 10 columns):\n",
            " #   Column       Non-Null Count  Dtype  \n",
            "---  ------       --------------  -----  \n",
            " 0   target       160 non-null    float64\n",
            " 1   v1           160 non-null    float64\n",
            " 2   v2           160 non-null    float64\n",
            " 3   v3           160 non-null    float64\n",
            " 4   v4           160 non-null    float64\n",
            " 5   v5           160 non-null    float64\n",
            " 6   v6           160 non-null    float64\n",
            " 7   v7           160 non-null    float64\n",
            " 8   v8           160 non-null    float64\n",
            " 9   sample_type  160 non-null    object \n",
            "dtypes: float64(9), object(1)\n",
            "memory usage: 12.6+ KB\n"
          ]
        }
      ]
    },
    {
      "cell_type": "code",
      "source": [
        "# Data Summary\n",
        "df2.describe()"
      ],
      "metadata": {
        "colab": {
          "base_uri": "https://localhost:8080/",
          "height": 300
        },
        "id": "aXQhviUAmMw0",
        "outputId": "4e9511f7-d44d-46cf-9a12-82ceda0a7d20"
      },
      "execution_count": 10,
      "outputs": [
        {
          "output_type": "execute_result",
          "data": {
            "text/plain": [
              "          target          v1          v2          v3          v4          v5  \\\n",
              "count  160.00000  160.000000  160.000000  160.000000  160.000000  160.000000   \n",
              "mean     4.73375  389.892437  237.442677  480.573041  394.109622  487.316520   \n",
              "std      0.21405  148.673511   70.128690  118.798984   63.060442  100.941711   \n",
              "min      4.13000  227.285714  178.800000  348.933333  313.733333  373.333333   \n",
              "25%      4.60000  268.608333  194.029018  384.419643  353.181250  418.583333   \n",
              "50%      4.72000  295.162500  204.187500  414.383929  370.741667  456.031250   \n",
              "75%      4.89000  536.409375  244.716667  591.611404  424.131250  496.475000   \n",
              "max      5.26000  678.375000  422.812500  722.312500  558.500000  721.000000   \n",
              "\n",
              "               v6          v7           v8  \n",
              "count  160.000000  160.000000   160.000000  \n",
              "mean   251.450820  714.737926  4456.913233  \n",
              "std     59.634652   51.148098   335.035933  \n",
              "min    189.200000  586.266667  3725.666667  \n",
              "25%    213.000000  678.385417  4273.437500  \n",
              "50%    226.062500  718.833333  4554.766667  \n",
              "75%    262.531250  751.446875  4700.612500  \n",
              "max    415.375000  853.466667  5086.375000  "
            ],
            "text/html": [
              "\n",
              "  <div id=\"df-15f046a8-231e-49ce-9b18-ef6f9e6c3446\">\n",
              "    <div class=\"colab-df-container\">\n",
              "      <div>\n",
              "<style scoped>\n",
              "    .dataframe tbody tr th:only-of-type {\n",
              "        vertical-align: middle;\n",
              "    }\n",
              "\n",
              "    .dataframe tbody tr th {\n",
              "        vertical-align: top;\n",
              "    }\n",
              "\n",
              "    .dataframe thead th {\n",
              "        text-align: right;\n",
              "    }\n",
              "</style>\n",
              "<table border=\"1\" class=\"dataframe\">\n",
              "  <thead>\n",
              "    <tr style=\"text-align: right;\">\n",
              "      <th></th>\n",
              "      <th>target</th>\n",
              "      <th>v1</th>\n",
              "      <th>v2</th>\n",
              "      <th>v3</th>\n",
              "      <th>v4</th>\n",
              "      <th>v5</th>\n",
              "      <th>v6</th>\n",
              "      <th>v7</th>\n",
              "      <th>v8</th>\n",
              "    </tr>\n",
              "  </thead>\n",
              "  <tbody>\n",
              "    <tr>\n",
              "      <th>count</th>\n",
              "      <td>160.00000</td>\n",
              "      <td>160.000000</td>\n",
              "      <td>160.000000</td>\n",
              "      <td>160.000000</td>\n",
              "      <td>160.000000</td>\n",
              "      <td>160.000000</td>\n",
              "      <td>160.000000</td>\n",
              "      <td>160.000000</td>\n",
              "      <td>160.000000</td>\n",
              "    </tr>\n",
              "    <tr>\n",
              "      <th>mean</th>\n",
              "      <td>4.73375</td>\n",
              "      <td>389.892437</td>\n",
              "      <td>237.442677</td>\n",
              "      <td>480.573041</td>\n",
              "      <td>394.109622</td>\n",
              "      <td>487.316520</td>\n",
              "      <td>251.450820</td>\n",
              "      <td>714.737926</td>\n",
              "      <td>4456.913233</td>\n",
              "    </tr>\n",
              "    <tr>\n",
              "      <th>std</th>\n",
              "      <td>0.21405</td>\n",
              "      <td>148.673511</td>\n",
              "      <td>70.128690</td>\n",
              "      <td>118.798984</td>\n",
              "      <td>63.060442</td>\n",
              "      <td>100.941711</td>\n",
              "      <td>59.634652</td>\n",
              "      <td>51.148098</td>\n",
              "      <td>335.035933</td>\n",
              "    </tr>\n",
              "    <tr>\n",
              "      <th>min</th>\n",
              "      <td>4.13000</td>\n",
              "      <td>227.285714</td>\n",
              "      <td>178.800000</td>\n",
              "      <td>348.933333</td>\n",
              "      <td>313.733333</td>\n",
              "      <td>373.333333</td>\n",
              "      <td>189.200000</td>\n",
              "      <td>586.266667</td>\n",
              "      <td>3725.666667</td>\n",
              "    </tr>\n",
              "    <tr>\n",
              "      <th>25%</th>\n",
              "      <td>4.60000</td>\n",
              "      <td>268.608333</td>\n",
              "      <td>194.029018</td>\n",
              "      <td>384.419643</td>\n",
              "      <td>353.181250</td>\n",
              "      <td>418.583333</td>\n",
              "      <td>213.000000</td>\n",
              "      <td>678.385417</td>\n",
              "      <td>4273.437500</td>\n",
              "    </tr>\n",
              "    <tr>\n",
              "      <th>50%</th>\n",
              "      <td>4.72000</td>\n",
              "      <td>295.162500</td>\n",
              "      <td>204.187500</td>\n",
              "      <td>414.383929</td>\n",
              "      <td>370.741667</td>\n",
              "      <td>456.031250</td>\n",
              "      <td>226.062500</td>\n",
              "      <td>718.833333</td>\n",
              "      <td>4554.766667</td>\n",
              "    </tr>\n",
              "    <tr>\n",
              "      <th>75%</th>\n",
              "      <td>4.89000</td>\n",
              "      <td>536.409375</td>\n",
              "      <td>244.716667</td>\n",
              "      <td>591.611404</td>\n",
              "      <td>424.131250</td>\n",
              "      <td>496.475000</td>\n",
              "      <td>262.531250</td>\n",
              "      <td>751.446875</td>\n",
              "      <td>4700.612500</td>\n",
              "    </tr>\n",
              "    <tr>\n",
              "      <th>max</th>\n",
              "      <td>5.26000</td>\n",
              "      <td>678.375000</td>\n",
              "      <td>422.812500</td>\n",
              "      <td>722.312500</td>\n",
              "      <td>558.500000</td>\n",
              "      <td>721.000000</td>\n",
              "      <td>415.375000</td>\n",
              "      <td>853.466667</td>\n",
              "      <td>5086.375000</td>\n",
              "    </tr>\n",
              "  </tbody>\n",
              "</table>\n",
              "</div>\n",
              "      <button class=\"colab-df-convert\" onclick=\"convertToInteractive('df-15f046a8-231e-49ce-9b18-ef6f9e6c3446')\"\n",
              "              title=\"Convert this dataframe to an interactive table.\"\n",
              "              style=\"display:none;\">\n",
              "        \n",
              "  <svg xmlns=\"http://www.w3.org/2000/svg\" height=\"24px\"viewBox=\"0 0 24 24\"\n",
              "       width=\"24px\">\n",
              "    <path d=\"M0 0h24v24H0V0z\" fill=\"none\"/>\n",
              "    <path d=\"M18.56 5.44l.94 2.06.94-2.06 2.06-.94-2.06-.94-.94-2.06-.94 2.06-2.06.94zm-11 1L8.5 8.5l.94-2.06 2.06-.94-2.06-.94L8.5 2.5l-.94 2.06-2.06.94zm10 10l.94 2.06.94-2.06 2.06-.94-2.06-.94-.94-2.06-.94 2.06-2.06.94z\"/><path d=\"M17.41 7.96l-1.37-1.37c-.4-.4-.92-.59-1.43-.59-.52 0-1.04.2-1.43.59L10.3 9.45l-7.72 7.72c-.78.78-.78 2.05 0 2.83L4 21.41c.39.39.9.59 1.41.59.51 0 1.02-.2 1.41-.59l7.78-7.78 2.81-2.81c.8-.78.8-2.07 0-2.86zM5.41 20L4 18.59l7.72-7.72 1.47 1.35L5.41 20z\"/>\n",
              "  </svg>\n",
              "      </button>\n",
              "      \n",
              "  <style>\n",
              "    .colab-df-container {\n",
              "      display:flex;\n",
              "      flex-wrap:wrap;\n",
              "      gap: 12px;\n",
              "    }\n",
              "\n",
              "    .colab-df-convert {\n",
              "      background-color: #E8F0FE;\n",
              "      border: none;\n",
              "      border-radius: 50%;\n",
              "      cursor: pointer;\n",
              "      display: none;\n",
              "      fill: #1967D2;\n",
              "      height: 32px;\n",
              "      padding: 0 0 0 0;\n",
              "      width: 32px;\n",
              "    }\n",
              "\n",
              "    .colab-df-convert:hover {\n",
              "      background-color: #E2EBFA;\n",
              "      box-shadow: 0px 1px 2px rgba(60, 64, 67, 0.3), 0px 1px 3px 1px rgba(60, 64, 67, 0.15);\n",
              "      fill: #174EA6;\n",
              "    }\n",
              "\n",
              "    [theme=dark] .colab-df-convert {\n",
              "      background-color: #3B4455;\n",
              "      fill: #D2E3FC;\n",
              "    }\n",
              "\n",
              "    [theme=dark] .colab-df-convert:hover {\n",
              "      background-color: #434B5C;\n",
              "      box-shadow: 0px 1px 3px 1px rgba(0, 0, 0, 0.15);\n",
              "      filter: drop-shadow(0px 1px 2px rgba(0, 0, 0, 0.3));\n",
              "      fill: #FFFFFF;\n",
              "    }\n",
              "  </style>\n",
              "\n",
              "      <script>\n",
              "        const buttonEl =\n",
              "          document.querySelector('#df-15f046a8-231e-49ce-9b18-ef6f9e6c3446 button.colab-df-convert');\n",
              "        buttonEl.style.display =\n",
              "          google.colab.kernel.accessAllowed ? 'block' : 'none';\n",
              "\n",
              "        async function convertToInteractive(key) {\n",
              "          const element = document.querySelector('#df-15f046a8-231e-49ce-9b18-ef6f9e6c3446');\n",
              "          const dataTable =\n",
              "            await google.colab.kernel.invokeFunction('convertToInteractive',\n",
              "                                                     [key], {});\n",
              "          if (!dataTable) return;\n",
              "\n",
              "          const docLinkHtml = 'Like what you see? Visit the ' +\n",
              "            '<a target=\"_blank\" href=https://colab.research.google.com/notebooks/data_table.ipynb>data table notebook</a>'\n",
              "            + ' to learn more about interactive tables.';\n",
              "          element.innerHTML = '';\n",
              "          dataTable['output_type'] = 'display_data';\n",
              "          await google.colab.output.renderOutput(dataTable, element);\n",
              "          const docLink = document.createElement('div');\n",
              "          docLink.innerHTML = docLinkHtml;\n",
              "          element.appendChild(docLink);\n",
              "        }\n",
              "      </script>\n",
              "    </div>\n",
              "  </div>\n",
              "  "
            ]
          },
          "metadata": {},
          "execution_count": 10
        }
      ]
    },
    {
      "cell_type": "markdown",
      "source": [
        "## Exploratory Data Analysis"
      ],
      "metadata": {
        "id": "kQ84eXrCoUgV"
      }
    },
    {
      "cell_type": "code",
      "source": [
        "# Function to create histogram and boxplot.\n",
        "# This functions takes a dataframe (df) and the variable of interest as arguments.\n",
        "\n",
        "def diagnostic_plots(df, variable):\n",
        "    # Define figure size\n",
        "    plt.figure(figsize=(16, 4))\n",
        "\n",
        "    # Histogram\n",
        "    plt.subplot(1, 2, 1)\n",
        "    sns.histplot(df[variable], kde=True, bins=30)\n",
        "    plt.title('Histogram')\n",
        "\n",
        "    # Boxplot\n",
        "    plt.subplot(1, 2, 2)\n",
        "    sns.boxplot(y=df[variable])\n",
        "    plt.title('Boxplot')\n",
        "\n",
        "    # Skewness\n",
        "    print('\\nSkewness Value : ', df[variable].skew())\n",
        "\n",
        "    plt.show()"
      ],
      "metadata": {
        "id": "GbzkHbICpsBc"
      },
      "execution_count": 11,
      "outputs": []
    },
    {
      "cell_type": "code",
      "source": [
        "diagnostic_plots(df2, 'v1')"
      ],
      "metadata": {
        "colab": {
          "base_uri": "https://localhost:8080/",
          "height": 331
        },
        "id": "Dw7Pz5bQqNHg",
        "outputId": "bae4b357-4e63-4ffe-8cea-6bdabb152306"
      },
      "execution_count": 12,
      "outputs": [
        {
          "output_type": "stream",
          "name": "stdout",
          "text": [
            "\n",
            "Skewness Value :  0.6399112607855549\n"
          ]
        },
        {
          "output_type": "display_data",
          "data": {
            "text/plain": [
              "<Figure size 1152x288 with 2 Axes>"
            ],
            "image/png": "[encoded data removed]"
          },
          "metadata": {
            "needs_background": "light"
          }
        }
      ]
    },
    {
      "cell_type": "code",
      "source": [
        "diagnostic_plots(df2, 'v2')"
      ],
      "metadata": {
        "colab": {
          "base_uri": "https://localhost:8080/",
          "height": 331
        },
        "id": "Te6ePMqKrIlV",
        "outputId": "d646fc92-6fee-49f3-a3a3-ad16931752b3"
      },
      "execution_count": 13,
      "outputs": [
        {
          "output_type": "stream",
          "name": "stdout",
          "text": [
            "\n",
            "Skewness Value :  1.4617281099191999\n"
          ]
        },
        {
          "output_type": "display_data",
          "data": {
            "text/plain": [
              "<Figure size 1152x288 with 2 Axes>"
            ],
            "image/png": "[encoded data removed]"
          },
          "metadata": {
            "needs_background": "light"
          }
        }
      ]
    },
    {
      "cell_type": "code",
      "source": [
        "diagnostic_plots(df2, 'v3')"
      ],
      "metadata": {
        "colab": {
          "base_uri": "https://localhost:8080/",
          "height": 331
        },
        "id": "FC0GX0CC1F0F",
        "outputId": "36c771a0-f198-41c5-ba91-9eb53ea0d84a"
      },
      "execution_count": 14,
      "outputs": [
        {
          "output_type": "stream",
          "name": "stdout",
          "text": [
            "\n",
            "Skewness Value :  0.6026551795688342\n"
          ]
        },
        {
          "output_type": "display_data",
          "data": {
            "text/plain": [
              "<Figure size 1152x288 with 2 Axes>"
            ],
            "image/png": "[encoded data removed]"
          },
          "metadata": {
            "needs_background": "light"
          }
        }
      ]
    },
    {
      "cell_type": "code",
      "source": [
        "diagnostic_plots(df2, 'v4')"
      ],
      "metadata": {
        "colab": {
          "base_uri": "https://localhost:8080/",
          "height": 331
        },
        "id": "XHZf-8HG1JCZ",
        "outputId": "80bdab89-559c-495e-92b7-7250dd34e0d4"
      },
      "execution_count": 15,
      "outputs": [
        {
          "output_type": "stream",
          "name": "stdout",
          "text": [
            "\n",
            "Skewness Value :  1.1436931932699348\n"
          ]
        },
        {
          "output_type": "display_data",
          "data": {
            "text/plain": [
              "<Figure size 1152x288 with 2 Axes>"
            ],
            "image/png": "[encoded data removed]"
          },
          "metadata": {
            "needs_background": "light"
          }
        }
      ]
    },
    {
      "cell_type": "code",
      "source": [
        "diagnostic_plots(df2, 'v5')"
      ],
      "metadata": {
        "colab": {
          "base_uri": "https://localhost:8080/",
          "height": 331
        },
        "id": "SZ159wwH1Lto",
        "outputId": "0f04c4ee-82d9-49ce-f3fc-75bb04351464"
      },
      "execution_count": 16,
      "outputs": [
        {
          "output_type": "stream",
          "name": "stdout",
          "text": [
            "\n",
            "Skewness Value :  1.2706398850462628\n"
          ]
        },
        {
          "output_type": "display_data",
          "data": {
            "text/plain": [
              "<Figure size 1152x288 with 2 Axes>"
            ],
            "image/png": "[encoded data removed]"
          },
          "metadata": {
            "needs_background": "light"
          }
        }
      ]
    },
    {
      "cell_type": "code",
      "source": [
        "diagnostic_plots(df2, 'v6')"
      ],
      "metadata": {
        "colab": {
          "base_uri": "https://localhost:8080/",
          "height": 331
        },
        "id": "lAHm8zFI1TLJ",
        "outputId": "69b37ca4-f714-4fed-835c-3bab704f0193"
      },
      "execution_count": 17,
      "outputs": [
        {
          "output_type": "stream",
          "name": "stdout",
          "text": [
            "\n",
            "Skewness Value :  1.2954833782360857\n"
          ]
        },
        {
          "output_type": "display_data",
          "data": {
            "text/plain": [
              "<Figure size 1152x288 with 2 Axes>"
            ],
            "image/png": "[encoded data removed]"
          },
          "metadata": {
            "needs_background": "light"
          }
        }
      ]
    },
    {
      "cell_type": "code",
      "source": [
        "diagnostic_plots(df2, 'v7')"
      ],
      "metadata": {
        "colab": {
          "base_uri": "https://localhost:8080/",
          "height": 331
        },
        "id": "59oPKlvq1WZz",
        "outputId": "23369fa9-22ea-46e6-b99c-1b41f31ba3a7"
      },
      "execution_count": 18,
      "outputs": [
        {
          "output_type": "stream",
          "name": "stdout",
          "text": [
            "\n",
            "Skewness Value :  -0.10723483952914095\n"
          ]
        },
        {
          "output_type": "display_data",
          "data": {
            "text/plain": [
              "<Figure size 1152x288 with 2 Axes>"
            ],
            "image/png": "[encoded data removed]"
          },
          "metadata": {
            "needs_background": "light"
          }
        }
      ]
    },
    {
      "cell_type": "code",
      "source": [
        "diagnostic_plots(df2, 'v8')"
      ],
      "metadata": {
        "colab": {
          "base_uri": "https://localhost:8080/",
          "height": 331
        },
        "id": "IdZGFp-f1Z9b",
        "outputId": "c8b3dabc-ef19-4d51-c83c-22090319346f"
      },
      "execution_count": 19,
      "outputs": [
        {
          "output_type": "stream",
          "name": "stdout",
          "text": [
            "\n",
            "Skewness Value :  -0.7664435142947442\n"
          ]
        },
        {
          "output_type": "display_data",
          "data": {
            "text/plain": [
              "<Figure size 1152x288 with 2 Axes>"
            ],
            "image/png": "[encoded data removed]"
          },
          "metadata": {
            "needs_background": "light"
          }
        }
      ]
    },
    {
      "cell_type": "markdown",
      "source": [
        "Based on the diagnostic plots above, several columns has outliers in their data, meaning that the columns do not have a normal distribution. There are 'v2', 'v4', 'v5', and 'v6'. In order to make a good regression model, it is better if the data is normally distributed. Therefore, the outliers have to be treated. Other columns are considered have a normal distribution with no visible outliers based on the boxplot."
      ],
      "metadata": {
        "id": "gxnUn8ryI_JR"
      }
    },
    {
      "cell_type": "code",
      "source": [
        "# Value counts of `sample_type`\n",
        "df2['sample_type'].value_counts().plot(kind=\"bar\")\n",
        "plt.title('Comparison of Service Type', fontsize = 20)"
      ],
      "metadata": {
        "colab": {
          "base_uri": "https://localhost:8080/",
          "height": 319
        },
        "id": "GX6CAuJA8Bpn",
        "outputId": "0bb53f64-cbee-46b1-8e8d-b9ad3d4c68c8"
      },
      "execution_count": 20,
      "outputs": [
        {
          "output_type": "execute_result",
          "data": {
            "text/plain": [
              "Text(0.5, 1.0, 'Comparison of Service Type')"
            ]
          },
          "metadata": {},
          "execution_count": 20
        },
        {
          "output_type": "display_data",
          "data": {
            "text/plain": [
              "<Figure size 432x288 with 1 Axes>"
            ],
            "image/png": "[encoded data removed]"
          },
          "metadata": {
            "needs_background": "light"
          }
        }
      ]
    },
    {
      "cell_type": "markdown",
      "source": [
        "There are 160 rows in this data contains information about plant nutritions. 100 samples are from lab 1 and 60 samples are from lab 2."
      ],
      "metadata": {
        "id": "1HXU3CJpKMq_"
      }
    },
    {
      "cell_type": "code",
      "source": [
        "# Plotting on v8 and target\n",
        "fig = px.scatter(df2, x=\"v8\", y=\"target\", color='sample_type')\n",
        "fig.show()"
      ],
      "metadata": {
        "colab": {
          "base_uri": "https://localhost:8080/",
          "height": 542
        },
        "id": "rIlPf7UiP1W_",
        "outputId": "66deb0ee-1597-45bd-f648-ecef430209fc"
      },
      "execution_count": 21,
      "outputs": [
        {
          "output_type": "display_data",
          "data": {
            "text/html": [
              "<html>\n",
              "<head><meta charset=\"utf-8\" /></head>\n",
              "<body>\n",
              "    <div>            <script src=\"https://cdnjs.cloudflare.com/ajax/libs/mathjax/2.7.5/MathJax.js?config=TeX-AMS-MML_SVG\"></script><script type=\"text/javascript\">if (window.MathJax) {MathJax.Hub.Config({SVG: {font: \"STIX-Web\"}});}</script>                <script type=\"text/javascript\">window.PlotlyConfig = {MathJaxConfig: 'local'};</script>\n",
              "        <script src=\"https://cdn.plot.ly/plotly-2.8.3.min.js\"></script>                <div id=\"d46810b9-62df-4eca-8084-e208fd8d35ef\" class=\"plotly-graph-div\" style=\"height:525px; width:100%;\"></div>            <script type=\"text/javascript\">                                    window.PLOTLYENV=window.PLOTLYENV || {};                                    if (document.getElementById(\"d46810b9-62df-4eca-8084-e208fd8d35ef\")) {                    Plotly.newPlot(                        \"d46810b9-62df-4eca-8084-e208fd8d35ef\",                        [{\"hovertemplate\":\"sample_type=lab 1<br>v8=%{x}<br>target=%{y}<extra></extra>\",\"legendgroup\":\"lab 1\",\"marker\":{\"color\":\"#636efa\",\"symbol\":\"circle\"},\"mode\":\"markers\",\"name\":\"lab 1\",\"orientation\":\"v\",\"showlegend\":true,\"x\":[4047.73333333333,4673.46666666666,4386.8,4588.77777777777,4867.06666666666,4493.94444444444,4386.73333333333,4646.2,4751.46666666666,4255.2,4643.78571428571,4756.28571428571,4383.0,4624.0,4270.75,4599.8125,4687.25,4484.2,4848.13333333333,4656.53333333333,4606.46666666666,4658.9375,4524.2,4724.375,4689.33333333333,4189.625,3961.625,4406.6875,4523.8,4219.875,4590.875,4470.33333333333,4142.8,4834.1875,4437.86666666666,4453.9375,4824.93333333333,4551.66666666666,4795.46666666666,4485.26666666666,4491.0625,4692.0,4538.4375,4472.66666666666,4699.6,4567.8,4206.46666666666,4679.5,4520.93333333333,4722.5625,4768.25,4566.0625,4676.0,4704.53333333333,4111.73333333333,4701.46666666666,4752.4375,4359.4375,4622.1875,4581.75,4417.73333333333,4653.33333333333,4589.61111111111,4589.0625,4611.125,4632.6875,4495.4375,4526.8,4801.1875,4700.4,4648.25,4431.4375,4773.0,4761.33333333333,4806.625,4747.3125,4613.71428571428,4592.625,4528.3125,4609.0625,4557.86666666666,4756.3125,4714.0,4703.0,4745.375,4747.75,4780.92857142857,4784.66666666666,4625.5,4508.875,4633.46666666666,5086.375,4971.4375,4973.25,4783.4375,4871.66666666666,4871.0,4859.46666666666,4762.625,5004.0],\"xaxis\":\"x\",\"y\":[4.63,5.0,4.91,4.77,4.890000000000001,4.88,4.55,4.74,4.720000000000001,4.720000000000001,4.6899999999999995,4.79,4.85,4.66,4.85,4.46,5.0,4.65,5.26,4.779999999999999,4.67,5.09,4.859999999999999,5.07,4.4399999999999995,4.66,4.9399999999999995,4.859999999999999,4.91,5.26,4.92,4.9399999999999995,4.57,4.91,4.7,4.85,4.65,4.65,5.02,4.859999999999999,4.62,4.359999999999999,4.84,4.4,4.83,4.48,4.5,4.8100000000000005,4.62,4.55,4.57,4.6,4.68,4.45,4.82,4.59,4.37,5.04,4.57,4.9399999999999995,4.529999999999999,4.48,4.79,4.67,4.38,4.4399999999999995,4.48,4.63,4.68,4.62,4.71,4.88,4.5600000000000005,4.62,4.890000000000001,4.63,4.87,4.76,4.76,4.77,4.45,4.96,4.640000000000001,4.529999999999999,4.6,4.63,4.66,4.62,4.67,4.8,4.62,4.66,4.640000000000001,4.640000000000001,4.6,4.84,4.71,4.96,4.890000000000001,4.66],\"yaxis\":\"y\",\"type\":\"scatter\"},{\"hovertemplate\":\"sample_type=lab 2<br>v8=%{x}<br>target=%{y}<extra></extra>\",\"legendgroup\":\"lab 2\",\"marker\":{\"color\":\"#EF553B\",\"symbol\":\"circle\"},\"mode\":\"markers\",\"name\":\"lab 2\",\"orientation\":\"v\",\"showlegend\":true,\"x\":[4377.33333333333,4836.57142857142,4458.5,4467.875,4274.33333333333,4607.0,4773.2,4509.5,4324.6,4690.6,4462.0625,4601.1875,4430.06666666666,4217.13333333333,4573.3125,4428.3125,4418.68421052631,4709.375,4530.33333333333,4423.86666666666,4598.4375,4544.66666666666,4508.0,4495.93333333333,4670.21052631578,4820.625,4705.9375,4701.25,4423.8125,4634.93333333333,3836.8125,3961.4375,3836.5625,3772.875,3836.0,3853.13333333333,3962.66666666666,3958.73333333333,3922.86666666666,3868.125,3869.0,3889.625,3873.0,3823.0,3883.53333333333,3947.125,3790.92857142857,3725.66666666666,3738.46666666666,3892.93333333333,3917.625,3889.375,3858.5,3895.4,3741.26666666666,3943.6875,3928.1875,3861.2,3859.0625,3903.33333333333],\"xaxis\":\"x\",\"y\":[4.79,4.93,5.029999999999999,4.720000000000001,4.77,5.109999999999999,5.09,4.66,4.890000000000001,4.84,4.95,5.0,5.0,4.92,4.74,4.98,5.05,4.92,5.109999999999999,5.09,5.02,4.93,4.9,4.8,5.01,5.029999999999999,4.84,5.029999999999999,5.08,4.83,4.890000000000001,4.4399999999999995,4.57,4.140000000000001,4.55,4.37,4.2,4.6899999999999995,4.48,4.58,4.52,4.45,4.84,4.34,4.65,4.54,4.970000000000001,4.720000000000001,4.73,4.6899999999999995,4.8,4.62,4.73,4.13,4.79,4.83,4.470000000000001,4.63,4.35,4.43],\"yaxis\":\"y\",\"type\":\"scatter\"}],                        {\"template\":{\"data\":{\"bar\":[{\"error_x\":{\"color\":\"#2a3f5f\"},\"error_y\":{\"color\":\"#2a3f5f\"},\"marker\":{\"line\":{\"color\":\"#E5ECF6\",\"width\":0.5},\"pattern\":{\"fillmode\":\"overlay\",\"size\":10,\"solidity\":0.2}},\"type\":\"bar\"}],\"barpolar\":[{\"marker\":{\"line\":{\"color\":\"#E5ECF6\",\"width\":0.5},\"pattern\":{\"fillmode\":\"overlay\",\"size\":10,\"solidity\":0.2}},\"type\":\"barpolar\"}],\"carpet\":[{\"aaxis\":{\"endlinecolor\":\"#2a3f5f\",\"gridcolor\":\"white\",\"linecolor\":\"white\",\"minorgridcolor\":\"white\",\"startlinecolor\":\"#2a3f5f\"},\"baxis\":{\"endlinecolor\":\"#2a3f5f\",\"gridcolor\":\"white\",\"linecolor\":\"white\",\"minorgridcolor\":\"white\",\"startlinecolor\":\"#2a3f5f\"},\"type\":\"carpet\"}],\"choropleth\":[{\"colorbar\":{\"outlinewidth\":0,\"ticks\":\"\"},\"type\":\"choropleth\"}],\"contour\":[{\"colorbar\":{\"outlinewidth\":0,\"ticks\":\"\"},\"colorscale\":[[0.0,\"#0d0887\"],[0.1111111111111111,\"#46039f\"],[0.2222222222222222,\"#7201a8\"],[0.3333333333333333,\"#9c179e\"],[0.4444444444444444,\"#bd3786\"],[0.5555555555555556,\"#d8576b\"],[0.6666666666666666,\"#ed7953\"],[0.7777777777777778,\"#fb9f3a\"],[0.8888888888888888,\"#fdca26\"],[1.0,\"#f0f921\"]],\"type\":\"contour\"}],\"contourcarpet\":[{\"colorbar\":{\"outlinewidth\":0,\"ticks\":\"\"},\"type\":\"contourcarpet\"}],\"heatmap\":[{\"colorbar\":{\"outlinewidth\":0,\"ticks\":\"\"},\"colorscale\":[[0.0,\"#0d0887\"],[0.1111111111111111,\"#46039f\"],[0.2222222222222222,\"#7201a8\"],[0.3333333333333333,\"#9c179e\"],[0.4444444444444444,\"#bd3786\"],[0.5555555555555556,\"#d8576b\"],[0.6666666666666666,\"#ed7953\"],[0.7777777777777778,\"#fb9f3a\"],[0.8888888888888888,\"#fdca26\"],[1.0,\"#f0f921\"]],\"type\":\"heatmap\"}],\"heatmapgl\":[{\"colorbar\":{\"outlinewidth\":0,\"ticks\":\"\"},\"colorscale\":[[0.0,\"#0d0887\"],[0.1111111111111111,\"#46039f\"],[0.2222222222222222,\"#7201a8\"],[0.3333333333333333,\"#9c179e\"],[0.4444444444444444,\"#bd3786\"],[0.5555555555555556,\"#d8576b\"],[0.6666666666666666,\"#ed7953\"],[0.7777777777777778,\"#fb9f3a\"],[0.8888888888888888,\"#fdca26\"],[1.0,\"#f0f921\"]],\"type\":\"heatmapgl\"}],\"histogram\":[{\"marker\":{\"pattern\":{\"fillmode\":\"overlay\",\"size\":10,\"solidity\":0.2}},\"type\":\"histogram\"}],\"histogram2d\":[{\"colorbar\":{\"outlinewidth\":0,\"ticks\":\"\"},\"colorscale\":[[0.0,\"#0d0887\"],[0.1111111111111111,\"#46039f\"],[0.2222222222222222,\"#7201a8\"],[0.3333333333333333,\"#9c179e\"],[0.4444444444444444,\"#bd3786\"],[0.5555555555555556,\"#d8576b\"],[0.6666666666666666,\"#ed7953\"],[0.7777777777777778,\"#fb9f3a\"],[0.8888888888888888,\"#fdca26\"],[1.0,\"#f0f921\"]],\"type\":\"histogram2d\"}],\"histogram2dcontour\":[{\"colorbar\":{\"outlinewidth\":0,\"ticks\":\"\"},\"colorscale\":[[0.0,\"#0d0887\"],[0.1111111111111111,\"#46039f\"],[0.2222222222222222,\"#7201a8\"],[0.3333333333333333,\"#9c179e\"],[0.4444444444444444,\"#bd3786\"],[0.5555555555555556,\"#d8576b\"],[0.6666666666666666,\"#ed7953\"],[0.7777777777777778,\"#fb9f3a\"],[0.8888888888888888,\"#fdca26\"],[1.0,\"#f0f921\"]],\"type\":\"histogram2dcontour\"}],\"mesh3d\":[{\"colorbar\":{\"outlinewidth\":0,\"ticks\":\"\"},\"type\":\"mesh3d\"}],\"parcoords\":[{\"line\":{\"colorbar\":{\"outlinewidth\":0,\"ticks\":\"\"}},\"type\":\"parcoords\"}],\"pie\":[{\"automargin\":true,\"type\":\"pie\"}],\"scatter\":[{\"marker\":{\"colorbar\":{\"outlinewidth\":0,\"ticks\":\"\"}},\"type\":\"scatter\"}],\"scatter3d\":[{\"line\":{\"colorbar\":{\"outlinewidth\":0,\"ticks\":\"\"}},\"marker\":{\"colorbar\":{\"outlinewidth\":0,\"ticks\":\"\"}},\"type\":\"scatter3d\"}],\"scattercarpet\":[{\"marker\":{\"colorbar\":{\"outlinewidth\":0,\"ticks\":\"\"}},\"type\":\"scattercarpet\"}],\"scattergeo\":[{\"marker\":{\"colorbar\":{\"outlinewidth\":0,\"ticks\":\"\"}},\"type\":\"scattergeo\"}],\"scattergl\":[{\"marker\":{\"colorbar\":{\"outlinewidth\":0,\"ticks\":\"\"}},\"type\":\"scattergl\"}],\"scattermapbox\":[{\"marker\":{\"colorbar\":{\"outlinewidth\":0,\"ticks\":\"\"}},\"type\":\"scattermapbox\"}],\"scatterpolar\":[{\"marker\":{\"colorbar\":{\"outlinewidth\":0,\"ticks\":\"\"}},\"type\":\"scatterpolar\"}],\"scatterpolargl\":[{\"marker\":{\"colorbar\":{\"outlinewidth\":0,\"ticks\":\"\"}},\"type\":\"scatterpolargl\"}],\"scatterternary\":[{\"marker\":{\"colorbar\":{\"outlinewidth\":0,\"ticks\":\"\"}},\"type\":\"scatterternary\"}],\"surface\":[{\"colorbar\":{\"outlinewidth\":0,\"ticks\":\"\"},\"colorscale\":[[0.0,\"#0d0887\"],[0.1111111111111111,\"#46039f\"],[0.2222222222222222,\"#7201a8\"],[0.3333333333333333,\"#9c179e\"],[0.4444444444444444,\"#bd3786\"],[0.5555555555555556,\"#d8576b\"],[0.6666666666666666,\"#ed7953\"],[0.7777777777777778,\"#fb9f3a\"],[0.8888888888888888,\"#fdca26\"],[1.0,\"#f0f921\"]],\"type\":\"surface\"}],\"table\":[{\"cells\":{\"fill\":{\"color\":\"#EBF0F8\"},\"line\":{\"color\":\"white\"}},\"header\":{\"fill\":{\"color\":\"#C8D4E3\"},\"line\":{\"color\":\"white\"}},\"type\":\"table\"}]},\"layout\":{\"annotationdefaults\":{\"arrowcolor\":\"#2a3f5f\",\"arrowhead\":0,\"arrowwidth\":1},\"autotypenumbers\":\"strict\",\"coloraxis\":{\"colorbar\":{\"outlinewidth\":0,\"ticks\":\"\"}},\"colorscale\":{\"diverging\":[[0,\"#8e0152\"],[0.1,\"#c51b7d\"],[0.2,\"#de77ae\"],[0.3,\"#f1b6da\"],[0.4,\"#fde0ef\"],[0.5,\"#f7f7f7\"],[0.6,\"#e6f5d0\"],[0.7,\"#b8e186\"],[0.8,\"#7fbc41\"],[0.9,\"#4d9221\"],[1,\"#276419\"]],\"sequential\":[[0.0,\"#0d0887\"],[0.1111111111111111,\"#46039f\"],[0.2222222222222222,\"#7201a8\"],[0.3333333333333333,\"#9c179e\"],[0.4444444444444444,\"#bd3786\"],[0.5555555555555556,\"#d8576b\"],[0.6666666666666666,\"#ed7953\"],[0.7777777777777778,\"#fb9f3a\"],[0.8888888888888888,\"#fdca26\"],[1.0,\"#f0f921\"]],\"sequentialminus\":[[0.0,\"#0d0887\"],[0.1111111111111111,\"#46039f\"],[0.2222222222222222,\"#7201a8\"],[0.3333333333333333,\"#9c179e\"],[0.4444444444444444,\"#bd3786\"],[0.5555555555555556,\"#d8576b\"],[0.6666666666666666,\"#ed7953\"],[0.7777777777777778,\"#fb9f3a\"],[0.8888888888888888,\"#fdca26\"],[1.0,\"#f0f921\"]]},\"colorway\":[\"#636efa\",\"#EF553B\",\"#00cc96\",\"#ab63fa\",\"#FFA15A\",\"#19d3f3\",\"#FF6692\",\"#B6E880\",\"#FF97FF\",\"#FECB52\"],\"font\":{\"color\":\"#2a3f5f\"},\"geo\":{\"bgcolor\":\"white\",\"lakecolor\":\"white\",\"landcolor\":\"#E5ECF6\",\"showlakes\":true,\"showland\":true,\"subunitcolor\":\"white\"},\"hoverlabel\":{\"align\":\"left\"},\"hovermode\":\"closest\",\"mapbox\":{\"style\":\"light\"},\"paper_bgcolor\":\"white\",\"plot_bgcolor\":\"#E5ECF6\",\"polar\":{\"angularaxis\":{\"gridcolor\":\"white\",\"linecolor\":\"white\",\"ticks\":\"\"},\"bgcolor\":\"#E5ECF6\",\"radialaxis\":{\"gridcolor\":\"white\",\"linecolor\":\"white\",\"ticks\":\"\"}},\"scene\":{\"xaxis\":{\"backgroundcolor\":\"#E5ECF6\",\"gridcolor\":\"white\",\"gridwidth\":2,\"linecolor\":\"white\",\"showbackground\":true,\"ticks\":\"\",\"zerolinecolor\":\"white\"},\"yaxis\":{\"backgroundcolor\":\"#E5ECF6\",\"gridcolor\":\"white\",\"gridwidth\":2,\"linecolor\":\"white\",\"showbackground\":true,\"ticks\":\"\",\"zerolinecolor\":\"white\"},\"zaxis\":{\"backgroundcolor\":\"#E5ECF6\",\"gridcolor\":\"white\",\"gridwidth\":2,\"linecolor\":\"white\",\"showbackground\":true,\"ticks\":\"\",\"zerolinecolor\":\"white\"}},\"shapedefaults\":{\"line\":{\"color\":\"#2a3f5f\"}},\"ternary\":{\"aaxis\":{\"gridcolor\":\"white\",\"linecolor\":\"white\",\"ticks\":\"\"},\"baxis\":{\"gridcolor\":\"white\",\"linecolor\":\"white\",\"ticks\":\"\"},\"bgcolor\":\"#E5ECF6\",\"caxis\":{\"gridcolor\":\"white\",\"linecolor\":\"white\",\"ticks\":\"\"}},\"title\":{\"x\":0.05},\"xaxis\":{\"automargin\":true,\"gridcolor\":\"white\",\"linecolor\":\"white\",\"ticks\":\"\",\"title\":{\"standoff\":15},\"zerolinecolor\":\"white\",\"zerolinewidth\":2},\"yaxis\":{\"automargin\":true,\"gridcolor\":\"white\",\"linecolor\":\"white\",\"ticks\":\"\",\"title\":{\"standoff\":15},\"zerolinecolor\":\"white\",\"zerolinewidth\":2}}},\"xaxis\":{\"anchor\":\"y\",\"domain\":[0.0,1.0],\"title\":{\"text\":\"v8\"}},\"yaxis\":{\"anchor\":\"x\",\"domain\":[0.0,1.0],\"title\":{\"text\":\"target\"}},\"legend\":{\"title\":{\"text\":\"sample_type\"},\"tracegroupgap\":0},\"margin\":{\"t\":60}},                        {\"responsive\": true}                    ).then(function(){\n",
              "                            \n",
              "var gd = document.getElementById('d46810b9-62df-4eca-8084-e208fd8d35ef');\n",
              "var x = new MutationObserver(function (mutations, observer) {{\n",
              "        var display = window.getComputedStyle(gd).display;\n",
              "        if (!display || display === 'none') {{\n",
              "            console.log([gd, 'removed!']);\n",
              "            Plotly.purge(gd);\n",
              "            observer.disconnect();\n",
              "        }}\n",
              "}});\n",
              "\n",
              "// Listen for the removal of the full notebook cells\n",
              "var notebookContainer = gd.closest('#notebook-container');\n",
              "if (notebookContainer) {{\n",
              "    x.observe(notebookContainer, {childList: true});\n",
              "}}\n",
              "\n",
              "// Listen for the clearing of the current output cell\n",
              "var outputEl = gd.closest('.output');\n",
              "if (outputEl) {{\n",
              "    x.observe(outputEl, {childList: true});\n",
              "}}\n",
              "\n",
              "                        })                };                            </script>        </div>\n",
              "</body>\n",
              "</html>"
            ]
          },
          "metadata": {}
        }
      ]
    },
    {
      "cell_type": "markdown",
      "source": [
        "There is a cluster containing samples originating from lab 2. most of the samples are clustered in the v8 range between 4400-4800 and the target range is between 4.4 and 5."
      ],
      "metadata": {
        "id": "qAOx46khLiGd"
      }
    },
    {
      "cell_type": "code",
      "source": [
        "# Plotting on v1 and target\n",
        "px.scatter(df2, x='v1', y='target', color='sample_type')"
      ],
      "metadata": {
        "colab": {
          "base_uri": "https://localhost:8080/",
          "height": 542
        },
        "id": "ndg_zepX8aUL",
        "outputId": "9c76c349-ea4e-482e-9a04-cc1855f7f4ec"
      },
      "execution_count": 22,
      "outputs": [
        {
          "output_type": "display_data",
          "data": {
            "text/html": [
              "<html>\n",
              "<head><meta charset=\"utf-8\" /></head>\n",
              "<body>\n",
              "    <div>            <script src=\"https://cdnjs.cloudflare.com/ajax/libs/mathjax/2.7.5/MathJax.js?config=TeX-AMS-MML_SVG\"></script><script type=\"text/javascript\">if (window.MathJax) {MathJax.Hub.Config({SVG: {font: \"STIX-Web\"}});}</script>                <script type=\"text/javascript\">window.PlotlyConfig = {MathJaxConfig: 'local'};</script>\n",
              "        <script src=\"https://cdn.plot.ly/plotly-2.8.3.min.js\"></script>                <div id=\"cbf62d85-54da-4afc-a572-7db03dab3728\" class=\"plotly-graph-div\" style=\"height:525px; width:100%;\"></div>            <script type=\"text/javascript\">                                    window.PLOTLYENV=window.PLOTLYENV || {};                                    if (document.getElementById(\"cbf62d85-54da-4afc-a572-7db03dab3728\")) {                    Plotly.newPlot(                        \"cbf62d85-54da-4afc-a572-7db03dab3728\",                        [{\"hovertemplate\":\"sample_type=lab 1<br>v1=%{x}<br>target=%{y}<extra></extra>\",\"legendgroup\":\"lab 1\",\"marker\":{\"color\":\"#636efa\",\"symbol\":\"circle\"},\"mode\":\"markers\",\"name\":\"lab 1\",\"orientation\":\"v\",\"showlegend\":true,\"x\":[260.6,263.2,247.266666666666,257.944444444444,258.2,268.722222222222,255.866666666666,248.933333333333,269.0,268.266666666666,266.857142857142,227.285714285714,245.0,280.866666666666,267.8125,256.875,266.75,237.6,266.533333333333,279.6,279.866666666666,248.9375,273.333333333333,260.6875,243.2,251.8125,270.0,280.8125,264.2,250.875,260.5625,286.466666666666,272.066666666666,286.0,281.666666666666,265.0,264.933333333333,279.8,281.066666666666,282.733333333333,269.9375,266.25,276.9375,277.133333333333,269.933333333333,261.933333333333,270.0,301.285714285714,259.2,280.5625,264.0,264.3125,278.666666666666,268.266666666666,302.6,272.333333333333,265.875,276.125,279.125,253.1875,288.466666666666,284.4,261.555555555555,256.0,273.8125,274.6875,298.4375,261.866666666666,298.125,276.6,267.0,286.6875,277.357142857142,290.2,266.375,250.1875,285.142857142857,297.125,256.6875,273.625,290.733333333333,271.6875,293.2,274.533333333333,284.875,332.5,333.714285714285,360.666666666666,332.6875,327.8125,335.4,332.4375,331.3125,342.875,305.25,331.466666666666,341.5,326.133333333333,316.6875,326.4],\"xaxis\":\"x\",\"y\":[4.63,5.0,4.91,4.77,4.890000000000001,4.88,4.55,4.74,4.720000000000001,4.720000000000001,4.6899999999999995,4.79,4.85,4.66,4.85,4.46,5.0,4.65,5.26,4.779999999999999,4.67,5.09,4.859999999999999,5.07,4.4399999999999995,4.66,4.9399999999999995,4.859999999999999,4.91,5.26,4.92,4.9399999999999995,4.57,4.91,4.7,4.85,4.65,4.65,5.02,4.859999999999999,4.62,4.359999999999999,4.84,4.4,4.83,4.48,4.5,4.8100000000000005,4.62,4.55,4.57,4.6,4.68,4.45,4.82,4.59,4.37,5.04,4.57,4.9399999999999995,4.529999999999999,4.48,4.79,4.67,4.38,4.4399999999999995,4.48,4.63,4.68,4.62,4.71,4.88,4.5600000000000005,4.62,4.890000000000001,4.63,4.87,4.76,4.76,4.77,4.45,4.96,4.640000000000001,4.529999999999999,4.6,4.63,4.66,4.62,4.67,4.8,4.62,4.66,4.640000000000001,4.640000000000001,4.6,4.84,4.71,4.96,4.890000000000001,4.66],\"yaxis\":\"y\",\"type\":\"scatter\"},{\"hovertemplate\":\"sample_type=lab 2<br>v1=%{x}<br>target=%{y}<extra></extra>\",\"legendgroup\":\"lab 2\",\"marker\":{\"color\":\"#EF553B\",\"symbol\":\"circle\"},\"mode\":\"markers\",\"name\":\"lab 2\",\"orientation\":\"v\",\"showlegend\":true,\"x\":[526.466666666666,504.357142857142,529.4375,541.875,537.533333333333,499.933333333333,538.333333333333,514.125,495.333333333333,525.333333333333,482.5625,521.1875,505.866666666666,515.866666666666,536.4375,552.875,501.578947368421,515.6875,557.266666666666,504.133333333333,506.125,499.466666666666,534.333333333333,536.4,551.631578947368,542.5625,513.8125,517.75,545.75,539.666666666666,663.375,658.4375,593.8125,620.875,602.0,605.2,619.666666666666,651.533333333333,676.066666666666,672.5,641.0,614.1875,601.3125,616.933333333333,652.666666666666,635.5625,640.357142857142,670.133333333333,635.933333333333,597.733333333333,583.875,570.5625,567.5625,646.4,624.2,573.25,678.375,634.0,615.3125,575.2],\"xaxis\":\"x\",\"y\":[4.79,4.93,5.029999999999999,4.720000000000001,4.77,5.109999999999999,5.09,4.66,4.890000000000001,4.84,4.95,5.0,5.0,4.92,4.74,4.98,5.05,4.92,5.109999999999999,5.09,5.02,4.93,4.9,4.8,5.01,5.029999999999999,4.84,5.029999999999999,5.08,4.83,4.890000000000001,4.4399999999999995,4.57,4.140000000000001,4.55,4.37,4.2,4.6899999999999995,4.48,4.58,4.52,4.45,4.84,4.34,4.65,4.54,4.970000000000001,4.720000000000001,4.73,4.6899999999999995,4.8,4.62,4.73,4.13,4.79,4.83,4.470000000000001,4.63,4.35,4.43],\"yaxis\":\"y\",\"type\":\"scatter\"}],                        {\"template\":{\"data\":{\"bar\":[{\"error_x\":{\"color\":\"#2a3f5f\"},\"error_y\":{\"color\":\"#2a3f5f\"},\"marker\":{\"line\":{\"color\":\"#E5ECF6\",\"width\":0.5},\"pattern\":{\"fillmode\":\"overlay\",\"size\":10,\"solidity\":0.2}},\"type\":\"bar\"}],\"barpolar\":[{\"marker\":{\"line\":{\"color\":\"#E5ECF6\",\"width\":0.5},\"pattern\":{\"fillmode\":\"overlay\",\"size\":10,\"solidity\":0.2}},\"type\":\"barpolar\"}],\"carpet\":[{\"aaxis\":{\"endlinecolor\":\"#2a3f5f\",\"gridcolor\":\"white\",\"linecolor\":\"white\",\"minorgridcolor\":\"white\",\"startlinecolor\":\"#2a3f5f\"},\"baxis\":{\"endlinecolor\":\"#2a3f5f\",\"gridcolor\":\"white\",\"linecolor\":\"white\",\"minorgridcolor\":\"white\",\"startlinecolor\":\"#2a3f5f\"},\"type\":\"carpet\"}],\"choropleth\":[{\"colorbar\":{\"outlinewidth\":0,\"ticks\":\"\"},\"type\":\"choropleth\"}],\"contour\":[{\"colorbar\":{\"outlinewidth\":0,\"ticks\":\"\"},\"colorscale\":[[0.0,\"#0d0887\"],[0.1111111111111111,\"#46039f\"],[0.2222222222222222,\"#7201a8\"],[0.3333333333333333,\"#9c179e\"],[0.4444444444444444,\"#bd3786\"],[0.5555555555555556,\"#d8576b\"],[0.6666666666666666,\"#ed7953\"],[0.7777777777777778,\"#fb9f3a\"],[0.8888888888888888,\"#fdca26\"],[1.0,\"#f0f921\"]],\"type\":\"contour\"}],\"contourcarpet\":[{\"colorbar\":{\"outlinewidth\":0,\"ticks\":\"\"},\"type\":\"contourcarpet\"}],\"heatmap\":[{\"colorbar\":{\"outlinewidth\":0,\"ticks\":\"\"},\"colorscale\":[[0.0,\"#0d0887\"],[0.1111111111111111,\"#46039f\"],[0.2222222222222222,\"#7201a8\"],[0.3333333333333333,\"#9c179e\"],[0.4444444444444444,\"#bd3786\"],[0.5555555555555556,\"#d8576b\"],[0.6666666666666666,\"#ed7953\"],[0.7777777777777778,\"#fb9f3a\"],[0.8888888888888888,\"#fdca26\"],[1.0,\"#f0f921\"]],\"type\":\"heatmap\"}],\"heatmapgl\":[{\"colorbar\":{\"outlinewidth\":0,\"ticks\":\"\"},\"colorscale\":[[0.0,\"#0d0887\"],[0.1111111111111111,\"#46039f\"],[0.2222222222222222,\"#7201a8\"],[0.3333333333333333,\"#9c179e\"],[0.4444444444444444,\"#bd3786\"],[0.5555555555555556,\"#d8576b\"],[0.6666666666666666,\"#ed7953\"],[0.7777777777777778,\"#fb9f3a\"],[0.8888888888888888,\"#fdca26\"],[1.0,\"#f0f921\"]],\"type\":\"heatmapgl\"}],\"histogram\":[{\"marker\":{\"pattern\":{\"fillmode\":\"overlay\",\"size\":10,\"solidity\":0.2}},\"type\":\"histogram\"}],\"histogram2d\":[{\"colorbar\":{\"outlinewidth\":0,\"ticks\":\"\"},\"colorscale\":[[0.0,\"#0d0887\"],[0.1111111111111111,\"#46039f\"],[0.2222222222222222,\"#7201a8\"],[0.3333333333333333,\"#9c179e\"],[0.4444444444444444,\"#bd3786\"],[0.5555555555555556,\"#d8576b\"],[0.6666666666666666,\"#ed7953\"],[0.7777777777777778,\"#fb9f3a\"],[0.8888888888888888,\"#fdca26\"],[1.0,\"#f0f921\"]],\"type\":\"histogram2d\"}],\"histogram2dcontour\":[{\"colorbar\":{\"outlinewidth\":0,\"ticks\":\"\"},\"colorscale\":[[0.0,\"#0d0887\"],[0.1111111111111111,\"#46039f\"],[0.2222222222222222,\"#7201a8\"],[0.3333333333333333,\"#9c179e\"],[0.4444444444444444,\"#bd3786\"],[0.5555555555555556,\"#d8576b\"],[0.6666666666666666,\"#ed7953\"],[0.7777777777777778,\"#fb9f3a\"],[0.8888888888888888,\"#fdca26\"],[1.0,\"#f0f921\"]],\"type\":\"histogram2dcontour\"}],\"mesh3d\":[{\"colorbar\":{\"outlinewidth\":0,\"ticks\":\"\"},\"type\":\"mesh3d\"}],\"parcoords\":[{\"line\":{\"colorbar\":{\"outlinewidth\":0,\"ticks\":\"\"}},\"type\":\"parcoords\"}],\"pie\":[{\"automargin\":true,\"type\":\"pie\"}],\"scatter\":[{\"marker\":{\"colorbar\":{\"outlinewidth\":0,\"ticks\":\"\"}},\"type\":\"scatter\"}],\"scatter3d\":[{\"line\":{\"colorbar\":{\"outlinewidth\":0,\"ticks\":\"\"}},\"marker\":{\"colorbar\":{\"outlinewidth\":0,\"ticks\":\"\"}},\"type\":\"scatter3d\"}],\"scattercarpet\":[{\"marker\":{\"colorbar\":{\"outlinewidth\":0,\"ticks\":\"\"}},\"type\":\"scattercarpet\"}],\"scattergeo\":[{\"marker\":{\"colorbar\":{\"outlinewidth\":0,\"ticks\":\"\"}},\"type\":\"scattergeo\"}],\"scattergl\":[{\"marker\":{\"colorbar\":{\"outlinewidth\":0,\"ticks\":\"\"}},\"type\":\"scattergl\"}],\"scattermapbox\":[{\"marker\":{\"colorbar\":{\"outlinewidth\":0,\"ticks\":\"\"}},\"type\":\"scattermapbox\"}],\"scatterpolar\":[{\"marker\":{\"colorbar\":{\"outlinewidth\":0,\"ticks\":\"\"}},\"type\":\"scatterpolar\"}],\"scatterpolargl\":[{\"marker\":{\"colorbar\":{\"outlinewidth\":0,\"ticks\":\"\"}},\"type\":\"scatterpolargl\"}],\"scatterternary\":[{\"marker\":{\"colorbar\":{\"outlinewidth\":0,\"ticks\":\"\"}},\"type\":\"scatterternary\"}],\"surface\":[{\"colorbar\":{\"outlinewidth\":0,\"ticks\":\"\"},\"colorscale\":[[0.0,\"#0d0887\"],[0.1111111111111111,\"#46039f\"],[0.2222222222222222,\"#7201a8\"],[0.3333333333333333,\"#9c179e\"],[0.4444444444444444,\"#bd3786\"],[0.5555555555555556,\"#d8576b\"],[0.6666666666666666,\"#ed7953\"],[0.7777777777777778,\"#fb9f3a\"],[0.8888888888888888,\"#fdca26\"],[1.0,\"#f0f921\"]],\"type\":\"surface\"}],\"table\":[{\"cells\":{\"fill\":{\"color\":\"#EBF0F8\"},\"line\":{\"color\":\"white\"}},\"header\":{\"fill\":{\"color\":\"#C8D4E3\"},\"line\":{\"color\":\"white\"}},\"type\":\"table\"}]},\"layout\":{\"annotationdefaults\":{\"arrowcolor\":\"#2a3f5f\",\"arrowhead\":0,\"arrowwidth\":1},\"autotypenumbers\":\"strict\",\"coloraxis\":{\"colorbar\":{\"outlinewidth\":0,\"ticks\":\"\"}},\"colorscale\":{\"diverging\":[[0,\"#8e0152\"],[0.1,\"#c51b7d\"],[0.2,\"#de77ae\"],[0.3,\"#f1b6da\"],[0.4,\"#fde0ef\"],[0.5,\"#f7f7f7\"],[0.6,\"#e6f5d0\"],[0.7,\"#b8e186\"],[0.8,\"#7fbc41\"],[0.9,\"#4d9221\"],[1,\"#276419\"]],\"sequential\":[[0.0,\"#0d0887\"],[0.1111111111111111,\"#46039f\"],[0.2222222222222222,\"#7201a8\"],[0.3333333333333333,\"#9c179e\"],[0.4444444444444444,\"#bd3786\"],[0.5555555555555556,\"#d8576b\"],[0.6666666666666666,\"#ed7953\"],[0.7777777777777778,\"#fb9f3a\"],[0.8888888888888888,\"#fdca26\"],[1.0,\"#f0f921\"]],\"sequentialminus\":[[0.0,\"#0d0887\"],[0.1111111111111111,\"#46039f\"],[0.2222222222222222,\"#7201a8\"],[0.3333333333333333,\"#9c179e\"],[0.4444444444444444,\"#bd3786\"],[0.5555555555555556,\"#d8576b\"],[0.6666666666666666,\"#ed7953\"],[0.7777777777777778,\"#fb9f3a\"],[0.8888888888888888,\"#fdca26\"],[1.0,\"#f0f921\"]]},\"colorway\":[\"#636efa\",\"#EF553B\",\"#00cc96\",\"#ab63fa\",\"#FFA15A\",\"#19d3f3\",\"#FF6692\",\"#B6E880\",\"#FF97FF\",\"#FECB52\"],\"font\":{\"color\":\"#2a3f5f\"},\"geo\":{\"bgcolor\":\"white\",\"lakecolor\":\"white\",\"landcolor\":\"#E5ECF6\",\"showlakes\":true,\"showland\":true,\"subunitcolor\":\"white\"},\"hoverlabel\":{\"align\":\"left\"},\"hovermode\":\"closest\",\"mapbox\":{\"style\":\"light\"},\"paper_bgcolor\":\"white\",\"plot_bgcolor\":\"#E5ECF6\",\"polar\":{\"angularaxis\":{\"gridcolor\":\"white\",\"linecolor\":\"white\",\"ticks\":\"\"},\"bgcolor\":\"#E5ECF6\",\"radialaxis\":{\"gridcolor\":\"white\",\"linecolor\":\"white\",\"ticks\":\"\"}},\"scene\":{\"xaxis\":{\"backgroundcolor\":\"#E5ECF6\",\"gridcolor\":\"white\",\"gridwidth\":2,\"linecolor\":\"white\",\"showbackground\":true,\"ticks\":\"\",\"zerolinecolor\":\"white\"},\"yaxis\":{\"backgroundcolor\":\"#E5ECF6\",\"gridcolor\":\"white\",\"gridwidth\":2,\"linecolor\":\"white\",\"showbackground\":true,\"ticks\":\"\",\"zerolinecolor\":\"white\"},\"zaxis\":{\"backgroundcolor\":\"#E5ECF6\",\"gridcolor\":\"white\",\"gridwidth\":2,\"linecolor\":\"white\",\"showbackground\":true,\"ticks\":\"\",\"zerolinecolor\":\"white\"}},\"shapedefaults\":{\"line\":{\"color\":\"#2a3f5f\"}},\"ternary\":{\"aaxis\":{\"gridcolor\":\"white\",\"linecolor\":\"white\",\"ticks\":\"\"},\"baxis\":{\"gridcolor\":\"white\",\"linecolor\":\"white\",\"ticks\":\"\"},\"bgcolor\":\"#E5ECF6\",\"caxis\":{\"gridcolor\":\"white\",\"linecolor\":\"white\",\"ticks\":\"\"}},\"title\":{\"x\":0.05},\"xaxis\":{\"automargin\":true,\"gridcolor\":\"white\",\"linecolor\":\"white\",\"ticks\":\"\",\"title\":{\"standoff\":15},\"zerolinecolor\":\"white\",\"zerolinewidth\":2},\"yaxis\":{\"automargin\":true,\"gridcolor\":\"white\",\"linecolor\":\"white\",\"ticks\":\"\",\"title\":{\"standoff\":15},\"zerolinecolor\":\"white\",\"zerolinewidth\":2}}},\"xaxis\":{\"anchor\":\"y\",\"domain\":[0.0,1.0],\"title\":{\"text\":\"v1\"}},\"yaxis\":{\"anchor\":\"x\",\"domain\":[0.0,1.0],\"title\":{\"text\":\"target\"}},\"legend\":{\"title\":{\"text\":\"sample_type\"},\"tracegroupgap\":0},\"margin\":{\"t\":60}},                        {\"responsive\": true}                    ).then(function(){\n",
              "                            \n",
              "var gd = document.getElementById('cbf62d85-54da-4afc-a572-7db03dab3728');\n",
              "var x = new MutationObserver(function (mutations, observer) {{\n",
              "        var display = window.getComputedStyle(gd).display;\n",
              "        if (!display || display === 'none') {{\n",
              "            console.log([gd, 'removed!']);\n",
              "            Plotly.purge(gd);\n",
              "            observer.disconnect();\n",
              "        }}\n",
              "}});\n",
              "\n",
              "// Listen for the removal of the full notebook cells\n",
              "var notebookContainer = gd.closest('#notebook-container');\n",
              "if (notebookContainer) {{\n",
              "    x.observe(notebookContainer, {childList: true});\n",
              "}}\n",
              "\n",
              "// Listen for the clearing of the current output cell\n",
              "var outputEl = gd.closest('.output');\n",
              "if (outputEl) {{\n",
              "    x.observe(outputEl, {childList: true});\n",
              "}}\n",
              "\n",
              "                        })                };                            </script>        </div>\n",
              "</body>\n",
              "</html>"
            ]
          },
          "metadata": {}
        }
      ]
    },
    {
      "cell_type": "markdown",
      "source": [
        "Unlinke v8, v1 samples from lab 1 and lab 2 are separated. v1 samples from lab 1 tend to have lower value than the samples from lab 2 and gathered in target range between 4.4 and 5. Samples from lab 2 that has lower v1 value gathered in target range between 4.6 to 5.1, while samples with higher v1 gathered in target range between 4.1 to 4.8. The higher the v1 level tends to have a lower target value."
      ],
      "metadata": {
        "id": "dXUPr9JNNESq"
      }
    },
    {
      "cell_type": "code",
      "source": [
        "# Correlation Heatmap\n",
        "f, ax = plt.subplots(figsize=(10, 5))\n",
        "sns.heatmap(df2.corr(),vmin=-1, vmax=1, square=True);"
      ],
      "metadata": {
        "colab": {
          "base_uri": "https://localhost:8080/",
          "height": 324
        },
        "id": "k2N3P-u2mSpe",
        "outputId": "cc4f22ae-8ba7-4c3f-9a48-9d541b77a38d"
      },
      "execution_count": 23,
      "outputs": [
        {
          "output_type": "display_data",
          "data": {
            "text/plain": [
              "<Figure size 720x360 with 2 Axes>"
            ],
            "image/png": "[encoded data removed]"
          },
          "metadata": {
            "needs_background": "light"
          }
        }
      ]
    },
    {
      "cell_type": "markdown",
      "source": [
        "The correlation between v2 and v5, with v8 tends to be high and has an inverse/negative correlation. It means that The greater the value of v8, the smaller the values of v2 and v5 will be. Vice versa. Apart from these two columns, every other column has a correlation that is neither too high nor too low with the target. The same thing happened between v2 and v4, v5, and v6. In order to make a prediction model with good accuracy, the feature selection must be done."
      ],
      "metadata": {
        "id": "nALR7x6usUPx"
      }
    },
    {
      "cell_type": "markdown",
      "source": [
        "## Data Preprocessing"
      ],
      "metadata": {
        "id": "HWJbAguJoXz8"
      }
    },
    {
      "cell_type": "markdown",
      "source": [
        "Data inference is used as 'new' data to test the ability of the best model later. It is extracted from df2. After being extracted, the index of df2 needs to be reset to make it more orderly. "
      ],
      "metadata": {
        "id": "2TePCBvwMLjz"
      }
    },
    {
      "cell_type": "code",
      "source": [
        "# Get data for model inference\n",
        "\n",
        "data_inference = df2.sample(10, random_state=0)"
      ],
      "metadata": {
        "id": "uWz70OzlnjKb"
      },
      "execution_count": 24,
      "outputs": []
    },
    {
      "cell_type": "code",
      "source": [
        "# Remove inference set from dataset\n",
        "\n",
        "data_train_test = df2.drop(data_inference.index)"
      ],
      "metadata": {
        "id": "z3iLPX3xnr_b"
      },
      "execution_count": 25,
      "outputs": []
    },
    {
      "cell_type": "code",
      "source": [
        "# Reset Index\n",
        "\n",
        "data_train_test.reset_index(drop=True, inplace=True)\n",
        "data_inference.reset_index(drop=True, inplace=True)"
      ],
      "metadata": {
        "id": "M9GXuZlRn3ds"
      },
      "execution_count": 26,
      "outputs": []
    },
    {
      "cell_type": "markdown",
      "source": [
        "In order to predict the target, the 'target' column must be set as the target while other columns will be the feature. The feature and the target must be separated."
      ],
      "metadata": {
        "id": "MAWQsx9tMDaT"
      }
    },
    {
      "cell_type": "code",
      "source": [
        "# Splitting between `X ` AND `y`\n",
        "\n",
        "X = data_train_test.drop(['target'], axis=1) \n",
        "y = data_train_test['target']"
      ],
      "metadata": {
        "id": "DIMfxK95oi6r"
      },
      "execution_count": 27,
      "outputs": []
    },
    {
      "cell_type": "code",
      "source": [
        "# Splitting between Train-Set dengan Test-Set with scikit learn\n",
        "\n",
        "X_train, X_test, y_train, y_test = train_test_split(X, y, test_size=0.20, random_state=0) \n",
        "\n",
        "print('Train Size: ', X_train.shape)\n",
        "print('Test Size: ', X_test.shape)"
      ],
      "metadata": {
        "colab": {
          "base_uri": "https://localhost:8080/"
        },
        "id": "nh8Obahqo2l7",
        "outputId": "bd928730-6998-4313-92ea-05981c9253dc"
      },
      "execution_count": 28,
      "outputs": [
        {
          "output_type": "stream",
          "name": "stdout",
          "text": [
            "Train Size:  (120, 9)\n",
            "Test Size:  (30, 9)\n"
          ]
        }
      ]
    },
    {
      "cell_type": "markdown",
      "source": [
        "## Pipeline"
      ],
      "metadata": {
        "id": "rVs1cT2p1z2K"
      }
    },
    {
      "cell_type": "code",
      "source": [
        "# Define Numerical columns and Categorical Column\n",
        "\n",
        "num_columns = X_train.select_dtypes(include=np.number).columns.tolist()\n",
        "cat_columns = X_train.select_dtypes(include=['object']).columns.tolist()\n",
        "\n",
        "print('Numerical Columns: ', num_columns)\n",
        "print('Categorical Columns: ', cat_columns)"
      ],
      "metadata": {
        "colab": {
          "base_uri": "https://localhost:8080/"
        },
        "id": "03uSYYbn15uP",
        "outputId": "cfe34111-5a20-4419-f8cf-1688bc08ea14"
      },
      "execution_count": 29,
      "outputs": [
        {
          "output_type": "stream",
          "name": "stdout",
          "text": [
            "Numerical Columns:  ['v1', 'v2', 'v3', 'v4', 'v5', 'v6', 'v7', 'v8']\n",
            "Categorical Columns:  ['sample_type']\n"
          ]
        }
      ]
    },
    {
      "cell_type": "code",
      "source": [
        "# Split Train-Set and Test-Set based on Column Types\n",
        "\n",
        "X_train_num = X_train[num_columns]\n",
        "X_test_num = X_test[num_columns]\n",
        "\n",
        "X_train_cat = X_train[cat_columns]\n",
        "X_test_cat = X_test[cat_columns]"
      ],
      "metadata": {
        "id": "f6T8fuGzzYHj"
      },
      "execution_count": 30,
      "outputs": []
    },
    {
      "cell_type": "code",
      "source": [
        "# Make Pipeline for preprocessing numerical columns\n",
        "\n",
        "num_pipeline = Pipeline([\n",
        "        ('outlier', Winsorizer(capping_method='iqr', tail='both', fold=3)),\n",
        "        ('standard', StandardScaler())\n",
        "    ])\n",
        "\n",
        "num_train = num_pipeline.fit_transform(X_train_num)"
      ],
      "metadata": {
        "id": "aD4TUn3cJ0Di"
      },
      "execution_count": 31,
      "outputs": []
    },
    {
      "cell_type": "code",
      "source": [
        "# Make Pipeline for preprocessing categorical columns\n",
        "\n",
        "cat_pipeline = Pipeline([\n",
        "        ('ohe', OneHotEncoder(sparse=False))\n",
        "    ])\n",
        "\n",
        "cat_train = cat_pipeline.fit_transform(X_train_cat)"
      ],
      "metadata": {
        "id": "2RWDfoLYOG52"
      },
      "execution_count": 32,
      "outputs": []
    },
    {
      "cell_type": "code",
      "source": [
        "# Full pipeline to process numerical and categorical columns\n",
        "full_pipeline = ColumnTransformer([\n",
        "        (\"num\", num_pipeline, ['v1', 'v2', 'v3', 'v4', 'v5', 'v6', 'v7', 'v8']),\n",
        "        (\"cat\", cat_pipeline, ['sample_type']),\n",
        "    ])\n",
        "\n",
        "# Fit and transform full pipeline to X_train\n",
        "train_fin = full_pipeline.fit_transform(X_train)\n",
        "train_fin"
      ],
      "metadata": {
        "colab": {
          "base_uri": "https://localhost:8080/"
        },
        "id": "nasuY2biOvkK",
        "outputId": "7332096b-2991-4cdf-912c-18b908d9ff24"
      },
      "execution_count": 33,
      "outputs": [
        {
          "output_type": "execute_result",
          "data": {
            "text/plain": [
              "array([[ 1.79126157,  1.87141431,  1.72951921, ..., -2.05779129,\n",
              "         0.        ,  1.        ],\n",
              "       [-0.46195208,  0.25078739, -0.30649342, ...,  0.23567186,\n",
              "         1.        ,  0.        ],\n",
              "       [-0.88066032, -0.64917899, -0.80603969, ...,  0.27937663,\n",
              "         1.        ,  0.        ],\n",
              "       ...,\n",
              "       [-0.86223024, -0.59647567, -0.57038236, ...,  0.64380264,\n",
              "         1.        ,  0.        ],\n",
              "       [ 0.76233139, -0.46414452,  0.82468265, ...,  0.81272852,\n",
              "         0.        ,  1.        ],\n",
              "       [-0.77295957, -0.58100839, -0.87651438, ...,  0.86141138,\n",
              "         1.        ,  0.        ]])"
            ]
          },
          "metadata": {},
          "execution_count": 33
        }
      ]
    },
    {
      "cell_type": "code",
      "source": [
        "# Transform full pipeline to X_test \n",
        "\n",
        "test_fin = full_pipeline.transform(X_test)\n",
        "test_fin"
      ],
      "metadata": {
        "colab": {
          "base_uri": "https://localhost:8080/"
        },
        "id": "SNm9tAI_U6aK",
        "outputId": "ecaa00b1-f118-4ea0-8a3c-d93031ca3047"
      },
      "execution_count": 34,
      "outputs": [
        {
          "output_type": "execute_result",
          "data": {
            "text/plain": [
              "array([[ 9.11006141e-01, -2.69715122e-01,  1.15376154e+00,\n",
              "         2.73051740e-01,  1.67249272e-01, -1.96164223e-01,\n",
              "         5.14286392e-01,  1.97774874e-01,  0.00000000e+00,\n",
              "         1.00000000e+00],\n",
              "       [-8.17389216e-01, -6.39440330e-01, -9.07805559e-01,\n",
              "        -6.17350931e-01, -7.06766237e-01, -5.26968439e-01,\n",
              "         6.62434499e-01,  5.35089776e-01,  1.00000000e+00,\n",
              "         0.00000000e+00],\n",
              "       [-7.65691762e-01, -7.00507431e-01, -1.02354815e+00,\n",
              "        -1.13148332e+00, -1.03603910e+00, -6.61770817e-01,\n",
              "        -9.87520624e-01,  2.77386849e-02,  1.00000000e+00,\n",
              "         0.00000000e+00],\n",
              "       [ 1.01944738e+00, -4.13446226e-01,  7.34981277e-01,\n",
              "        -4.71585069e-01, -2.67470484e-01, -8.65337400e-01,\n",
              "        -1.22019495e+00, -2.38710429e-04,  0.00000000e+00,\n",
              "         1.00000000e+00],\n",
              "       [-8.49065905e-01, -6.93174796e-01, -8.80582234e-01,\n",
              "        -6.76434694e-01, -8.62230776e-01, -6.01798071e-01,\n",
              "         3.96836467e-02,  9.46051237e-01,  1.00000000e+00,\n",
              "         0.00000000e+00],\n",
              "       [ 9.23731668e-01, -4.79611800e-01,  1.01079563e+00,\n",
              "        -2.00654920e-01, -1.77184065e-01, -8.14428717e-01,\n",
              "        -6.60983359e-01,  1.00969280e+00,  0.00000000e+00,\n",
              "         1.00000000e+00],\n",
              "       [-8.67166871e-01, -4.81330387e-01, -9.32316981e-01,\n",
              "        -6.34842835e-01, -6.48273052e-01, -4.08385964e-01,\n",
              "         3.99684371e-01,  7.71915438e-01,  1.00000000e+00,\n",
              "         0.00000000e+00],\n",
              "       [-4.31509546e-01,  1.45953627e-01, -4.87982256e-01,\n",
              "         5.04074436e-01, -1.11090745e-01,  1.58530658e-02,\n",
              "         1.81382539e+00,  1.92676082e+00,  1.00000000e+00,\n",
              "         0.00000000e+00],\n",
              "       [-8.18623373e-01, -7.02168731e-01, -7.63344621e-01,\n",
              "        -6.14435614e-01, -4.96668268e-01, -4.03274650e-01,\n",
              "         6.99616121e-01,  5.29050173e-01,  1.00000000e+00,\n",
              "         0.00000000e+00],\n",
              "       [-8.66344099e-01, -7.59741373e-01, -8.12888986e-01,\n",
              "        -2.34472600e-01, -6.48273052e-01, -5.23901651e-01,\n",
              "         8.33469959e-01,  1.10757098e+00,  1.00000000e+00,\n",
              "         0.00000000e+00],\n",
              "       [ 1.67629301e+00,  2.31778847e+00,  1.67555931e+00,\n",
              "         2.42805425e+00,  2.10970049e+00,  2.20274563e+00,\n",
              "         8.95026199e-01, -1.59551150e+00,  0.00000000e+00,\n",
              "         1.00000000e+00],\n",
              "       [-8.53892829e-01, -5.42855777e-01, -8.65006181e-01,\n",
              "        -7.42774358e-01, -8.01748027e-01, -3.84805770e-01,\n",
              "        -2.12820878e-01,  8.08616705e-01,  1.00000000e+00,\n",
              "         0.00000000e+00],\n",
              "       [-7.42810888e-01, -6.59326829e-01, -8.17284651e-01,\n",
              "        -3.87457343e-01, -6.32669185e-01, -5.35438616e-01,\n",
              "         7.16082267e-01,  5.42671962e-01,  1.00000000e+00,\n",
              "         0.00000000e+00],\n",
              "       [-8.69635184e-01, -5.01953423e-01, -8.89552372e-01,\n",
              "        -6.36786380e-01, -7.43772129e-01, -4.59499100e-01,\n",
              "         3.15406029e-01,  9.48894121e-01,  1.00000000e+00,\n",
              "         0.00000000e+00],\n",
              "       [-8.11629818e-01, -6.57485486e-01, -8.11324427e-01,\n",
              "        -5.94028393e-01, -6.44691837e-01, -4.63588151e-01,\n",
              "         4.02163146e-01,  5.98231085e-01,  1.00000000e+00,\n",
              "         0.00000000e+00],\n",
              "       [-7.69641064e-01, -7.48169559e-01, -9.18966079e-01,\n",
              "        -9.46976135e-01, -9.64096458e-01, -6.97754465e-01,\n",
              "        -9.47860228e-01,  1.07489611e+00,  1.00000000e+00,\n",
              "         0.00000000e+00],\n",
              "       [-8.31376326e-01, -7.60600667e-01, -6.64255891e-01,\n",
              "        -4.64782662e-01, -4.85327753e-01, -6.21016610e-01,\n",
              "         3.97205597e-01,  9.60241255e-01,  1.00000000e+00,\n",
              "         0.00000000e+00],\n",
              "       [-4.37899735e-01,  4.10052882e-02, -5.18995290e-01,\n",
              "         1.18604711e-01, -3.43989119e-01,  5.13596577e-02,\n",
              "         1.13431059e+00,  1.29803200e+00,  1.00000000e+00,\n",
              "         0.00000000e+00],\n",
              "       [-6.36555871e-01, -3.11681364e-01, -6.01524530e-01,\n",
              "         1.56893847e-02, -2.32937335e-01,  8.11200058e-04,\n",
              "         1.79257875e+00,  7.35311781e-01,  1.00000000e+00,\n",
              "         0.00000000e+00],\n",
              "       [-1.05574602e+00, -7.35337447e-01, -8.37191801e-01,\n",
              "        -8.44356968e-01, -7.67368359e-01, -8.49321951e-01,\n",
              "        -6.37187121e-01,  1.63416241e-01,  1.00000000e+00,\n",
              "         0.00000000e+00],\n",
              "       [ 1.74677708e+00,  2.48752751e+00,  1.96576760e+00,\n",
              "         2.25520833e+00,  2.16954658e+00,  2.62977885e+00,\n",
              "         5.07511075e-01, -1.73232377e+00,  0.00000000e+00,\n",
              "         1.00000000e+00],\n",
              "       [-7.99041419e-01, -6.40013192e-01, -8.62224743e-01,\n",
              "        -7.42774358e-01, -5.78280187e-01, -5.63633596e-01,\n",
              "         3.83616335e-02,  7.96513096e-01,  1.00000000e+00,\n",
              "         0.00000000e+00],\n",
              "       [-9.62196939e-01, -8.14736136e-01, -1.09450959e+00,\n",
              "        -9.98285718e-01, -1.06250030e+00, -8.89871706e-01,\n",
              "        -1.04792010e+00, -6.99185545e-01,  1.00000000e+00,\n",
              "         0.00000000e+00],\n",
              "       [-8.53892829e-01, -8.67324878e-01, -9.74038552e-01,\n",
              "        -8.43320410e-01, -1.04367902e+00, -8.15519130e-01,\n",
              "        -4.40207152e-01, -5.07162759e-01,  1.00000000e+00,\n",
              "         0.00000000e+00],\n",
              "       [ 1.36385938e+00,  1.85033299e+00,  1.74843299e+00,\n",
              "         2.12952576e+00,  1.85057967e+00,  2.17875653e+00,\n",
              "         1.02590551e+00, -1.68453159e+00,  0.00000000e+00,\n",
              "         1.00000000e+00],\n",
              "       [-9.03780187e-01, -6.08505776e-01, -1.04965890e+00,\n",
              "        -8.95277842e-01, -9.38351498e-01, -9.23606375e-01,\n",
              "        -4.88956389e-01,  8.66718911e-01,  1.00000000e+00,\n",
              "         0.00000000e+00],\n",
              "       [-8.42483736e-01, -4.91527332e-01, -8.37748088e-01,\n",
              "        -5.80034871e-01, -5.73823564e-01, -2.73583586e-01,\n",
              "         1.41478665e-01, -6.49868217e-01,  1.00000000e+00,\n",
              "         0.00000000e+00],\n",
              "       [ 9.47043517e-01, -4.45240073e-01,  8.55452312e-01,\n",
              "        -3.42339338e-01, -3.17071379e-02, -6.16927559e-01,\n",
              "        -1.46311488e+00,  1.15611865e-01,  0.00000000e+00,\n",
              "         1.00000000e+00],\n",
              "       [-5.35178711e-01,  4.62756196e-02, -2.96063032e-01,\n",
              "         6.17771808e-01,  6.08075928e-02,  6.02631868e-01,\n",
              "         1.87331598e+00,  9.78726102e-01,  1.00000000e+00,\n",
              "         0.00000000e+00],\n",
              "       [-7.71314032e-01, -7.52007735e-01, -1.04600826e+00,\n",
              "        -1.05367675e+00, -9.21042290e-01, -5.58658584e-01,\n",
              "        -8.53336283e-01, -6.35630374e-02,  1.00000000e+00,\n",
              "         0.00000000e+00]])"
            ]
          },
          "metadata": {},
          "execution_count": 34
        }
      ]
    },
    {
      "cell_type": "markdown",
      "source": [
        "## Model"
      ],
      "metadata": {
        "id": "K-IgQNYe3hJ9"
      }
    },
    {
      "cell_type": "code",
      "source": [
        "# Define Model\n",
        "model_linreg = LinearRegression(fit_intercept=True)\n",
        "model_dtr = DecisionTreeRegressor(random_state = 0)\n",
        "model_rfr = RandomForestRegressor(n_estimators = 100, random_state = 0)\n",
        "model_svr = SVR(kernel='rbf')"
      ],
      "metadata": {
        "id": "W1hm0xa2Xodc"
      },
      "execution_count": 35,
      "outputs": []
    },
    {
      "cell_type": "code",
      "source": [
        "# Linear Regression\n",
        "model_linreg.fit(train_fin, y_train)\n",
        "\n",
        "# Model Prediction\n",
        "linreg_train = model_linreg.predict(train_fin)\n",
        "linreg_test = model_linreg.predict(test_fin)\n",
        "\n",
        "# Model Evaluation using MAE\n",
        "print('Linear Regression MAE train = ', mean_absolute_error(y_train, linreg_train))\n",
        "print('Linear Regression MAE test = ', mean_absolute_error(y_test, linreg_test))"
      ],
      "metadata": {
        "colab": {
          "base_uri": "https://localhost:8080/"
        },
        "id": "_aS_nnt1YLlj",
        "outputId": "4bb5d42d-9a8e-4ba3-a5f0-b0f92b0402f2"
      },
      "execution_count": 36,
      "outputs": [
        {
          "output_type": "stream",
          "name": "stdout",
          "text": [
            "Linear Regression MAE train =  0.1414044817607194\n",
            "Linear Regression MAE test =  0.18443131421773523\n"
          ]
        }
      ]
    },
    {
      "cell_type": "code",
      "source": [
        "# Decision Tree Regressor\n",
        "model_dtr.fit(train_fin, y_train)\n",
        "\n",
        "# Model Prediction\n",
        "dtr_train = model_dtr.predict(train_fin)\n",
        "dtr_test = model_dtr.predict(test_fin)\n",
        "\n",
        "# Model Evaluation using MAE\n",
        "print('Decision Tree Regressor MAE train = ', mean_absolute_error(y_train, dtr_train))\n",
        "print('Decision Tree Regressor MAE test = ', mean_absolute_error(y_test, dtr_test))"
      ],
      "metadata": {
        "colab": {
          "base_uri": "https://localhost:8080/"
        },
        "id": "wraEzqO7aDL5",
        "outputId": "4f6e6343-fec0-43d6-d6c9-9b2e60a0ca0a"
      },
      "execution_count": 37,
      "outputs": [
        {
          "output_type": "stream",
          "name": "stdout",
          "text": [
            "Decision Tree Regressor MAE train =  0.0\n",
            "Decision Tree Regressor MAE test =  0.17233333333333345\n"
          ]
        }
      ]
    },
    {
      "cell_type": "code",
      "source": [
        "# Random Forest Regressor\n",
        "model_rfr.fit(train_fin, y_train)\n",
        "\n",
        "# Model Prediction\n",
        "rfr_train = model_rfr.predict(train_fin)\n",
        "rfr_test = model_rfr.predict(test_fin)\n",
        "\n",
        "# Model Evaluation using MAE\n",
        "print('Random Forest Regressor MAE train = ', mean_absolute_error(y_train, rfr_train))\n",
        "print('Random Forest Regressor MAE test = ', mean_absolute_error(y_test, rfr_test))"
      ],
      "metadata": {
        "colab": {
          "base_uri": "https://localhost:8080/"
        },
        "id": "PrUrd1SeabEC",
        "outputId": "d6050243-67ce-4b54-ff64-a750c9f7d352"
      },
      "execution_count": 38,
      "outputs": [
        {
          "output_type": "stream",
          "name": "stdout",
          "text": [
            "Random Forest Regressor MAE train =  0.0585491666666665\n",
            "Random Forest Regressor MAE test =  0.1593699999999997\n"
          ]
        }
      ]
    },
    {
      "cell_type": "code",
      "source": [
        "# SVM Regressor\n",
        "model_svr.fit(train_fin, y_train)\n",
        "\n",
        "# Model Prediction\n",
        "svr_train = model_svr.predict(train_fin)\n",
        "svr_test = model_svr.predict(test_fin)\n",
        "\n",
        "# Model Evaluation using MAE\n",
        "print('MAE train = ', mean_absolute_error(y_train, svr_train))\n",
        "print('MAE test = ', mean_absolute_error(y_test, svr_test))"
      ],
      "metadata": {
        "colab": {
          "base_uri": "https://localhost:8080/"
        },
        "id": "BbLlSRoAZebB",
        "outputId": "f87c4ce8-b459-4011-e00f-ce88439dbde1"
      },
      "execution_count": 39,
      "outputs": [
        {
          "output_type": "stream",
          "name": "stdout",
          "text": [
            "MAE train =  0.12587633271415002\n",
            "MAE test =  0.18024226860344097\n"
          ]
        }
      ]
    },
    {
      "cell_type": "code",
      "source": [
        "# Defining all the parameters or the combination for model improvement\n",
        "\n",
        "param_grid = {\n",
        "    'bootstrap': [True],\n",
        "    'n_estimators':[100,200],\n",
        "    'max_depth':[5, 10, None],\n",
        "    'max_features':[6,8,10,12,14,16]\n",
        "}"
      ],
      "metadata": {
        "id": "WWC-o5dRh8gZ"
      },
      "execution_count": 40,
      "outputs": []
    },
    {
      "cell_type": "code",
      "source": [
        "# Initialized GridSearchCV\n",
        "\n",
        "rfr_tuned = GridSearchCV(estimator=model_rfr,\n",
        "                            param_grid=param_grid,\n",
        "                            cv=3,\n",
        "                            n_jobs=-1,\n",
        "                            verbose=2)"
      ],
      "metadata": {
        "id": "fCw8b8CRivUX"
      },
      "execution_count": 41,
      "outputs": []
    },
    {
      "cell_type": "code",
      "source": [
        "# Fit the model\n",
        "\n",
        "rfr_tuned.fit(train_fin, y_train)\n",
        "rfr_tuned.best_estimator_"
      ],
      "metadata": {
        "colab": {
          "base_uri": "https://localhost:8080/"
        },
        "id": "i0O5gHSQjXGa",
        "outputId": "33a83fbf-efaa-4ee9-ad02-efb9fe4a06a7"
      },
      "execution_count": 42,
      "outputs": [
        {
          "output_type": "stream",
          "name": "stdout",
          "text": [
            "Fitting 3 folds for each of 36 candidates, totalling 108 fits\n"
          ]
        },
        {
          "output_type": "execute_result",
          "data": {
            "text/plain": [
              "RandomForestRegressor(max_depth=5, max_features=6, random_state=0)"
            ]
          },
          "metadata": {},
          "execution_count": 42
        }
      ]
    },
    {
      "cell_type": "code",
      "source": [
        "pd.DataFrame(rfr_tuned.cv_results_).shape"
      ],
      "metadata": {
        "colab": {
          "base_uri": "https://localhost:8080/"
        },
        "id": "GLye6jtAl_Tv",
        "outputId": "c358a969-0774-4f11-ba33-0424b2cb9d3e"
      },
      "execution_count": 43,
      "outputs": [
        {
          "output_type": "execute_result",
          "data": {
            "text/plain": [
              "(36, 15)"
            ]
          },
          "metadata": {},
          "execution_count": 43
        }
      ]
    },
    {
      "cell_type": "code",
      "source": [
        "# Best Model\n",
        "model = rfr_tuned.best_estimator_\n",
        "\n",
        "# Fit the best model with trained data\n",
        "model.fit(train_fin, y_train)\n",
        "\n",
        "# Predict\n",
        "model_train = model.predict(train_fin)\n",
        "model_test = model.predict(test_fin)"
      ],
      "metadata": {
        "id": "H4PgneLVm3cN"
      },
      "execution_count": 44,
      "outputs": []
    },
    {
      "cell_type": "code",
      "source": [
        "# Model Evaluation\n",
        "\n",
        "print('MAE train = ', mean_absolute_error(y_train, model_train))\n",
        "print('MAE test = ', mean_absolute_error(y_test, model_test))"
      ],
      "metadata": {
        "colab": {
          "base_uri": "https://localhost:8080/"
        },
        "id": "qrohG6KIogDN",
        "outputId": "3dd42fe0-1e84-414d-9e1b-0a61a4b70336"
      },
      "execution_count": 45,
      "outputs": [
        {
          "output_type": "stream",
          "name": "stdout",
          "text": [
            "MAE train =  0.08667363799034739\n",
            "MAE test =  0.16961187446459952\n"
          ]
        }
      ]
    },
    {
      "cell_type": "markdown",
      "source": [
        "Mean Average Error: average differences between predicted values and actual values. On average, model with smallest the gap between the predicted value and the actual value is considered as a good model. Hence Random Forest Regressor is choosen.\n"
      ],
      "metadata": {
        "id": "5rZVR2_eT6u7"
      }
    },
    {
      "cell_type": "markdown",
      "source": [
        "## Combine Pipeline"
      ],
      "metadata": {
        "id": "d1t24o7rr4zT"
      }
    },
    {
      "cell_type": "code",
      "source": [
        "full_pipeline"
      ],
      "metadata": {
        "colab": {
          "base_uri": "https://localhost:8080/"
        },
        "id": "Kt-LwbY0r14f",
        "outputId": "1cf05f71-7b94-4cfc-e63d-94a8250369b7"
      },
      "execution_count": 46,
      "outputs": [
        {
          "output_type": "execute_result",
          "data": {
            "text/plain": [
              "ColumnTransformer(transformers=[('num',\n",
              "                                 Pipeline(steps=[('outlier',\n",
              "                                                  Winsorizer(capping_method='iqr',\n",
              "                                                             tail='both')),\n",
              "                                                 ('standard',\n",
              "                                                  StandardScaler())]),\n",
              "                                 ['v1', 'v2', 'v3', 'v4', 'v5', 'v6', 'v7',\n",
              "                                  'v8']),\n",
              "                                ('cat',\n",
              "                                 Pipeline(steps=[('ohe',\n",
              "                                                  OneHotEncoder(sparse=False))]),\n",
              "                                 ['sample_type'])])"
            ]
          },
          "metadata": {},
          "execution_count": 46
        }
      ]
    },
    {
      "cell_type": "code",
      "source": [
        "# Combine All Process\n",
        "all_process = Pipeline([\n",
        "    (\"preprocess\", full_pipeline),\n",
        "    (\"prediction\", model)\n",
        "])\n",
        "\n",
        "all_process.fit(X_train, y_train)\n",
        "fin = all_process.predict(X_test)\n",
        "\n",
        "print('MAE test = ', mean_absolute_error(y_test, fin))"
      ],
      "metadata": {
        "colab": {
          "base_uri": "https://localhost:8080/"
        },
        "id": "13TyyIhVsCSG",
        "outputId": "da6be117-8564-409f-d7dd-9734ddef005c"
      },
      "execution_count": 47,
      "outputs": [
        {
          "output_type": "stream",
          "name": "stdout",
          "text": [
            "MAE test =  0.16961187446459952\n"
          ]
        }
      ]
    },
    {
      "cell_type": "markdown",
      "source": [
        "## Inference"
      ],
      "metadata": {
        "id": "W9QP58kl9Hi4"
      }
    },
    {
      "cell_type": "code",
      "source": [
        "data_inference"
      ],
      "metadata": {
        "colab": {
          "base_uri": "https://localhost:8080/",
          "height": 363
        },
        "id": "X-LlEOmw7pmW",
        "outputId": "e578b5c8-bb17-433d-aa66-cde2988205f9"
      },
      "execution_count": 48,
      "outputs": [
        {
          "output_type": "execute_result",
          "data": {
            "text/plain": [
              "   target          v1          v2          v3          v4          v5  \\\n",
              "0    4.95  482.562500  191.312500  559.875000  353.125000  477.000000   \n",
              "1    5.00  505.866667  184.266667  547.866667  337.933333  460.666667   \n",
              "2    4.34  616.933333  333.600000  654.600000  494.533333  655.733333   \n",
              "3    4.74  248.933333  203.933333  365.200000  332.933333  390.933333   \n",
              "4    4.83  269.933333  205.666667  393.200000  371.333333  459.800000   \n",
              "5    4.93  504.357143  211.285714  626.642857  436.785714  502.071429   \n",
              "6    4.90  534.333333  226.733333  592.266667  377.600000  496.133333   \n",
              "7    4.48  298.437500  201.562500  419.062500  396.750000  467.875000   \n",
              "8    4.63  332.500000  254.437500  430.437500  419.375000  475.312500   \n",
              "9    4.66  333.714286  261.785714  461.142857  437.357143  492.428571   \n",
              "\n",
              "           v6          v7           v8 sample_type  \n",
              "0  195.250000  638.812500  4462.062500       lab 2  \n",
              "1  196.333333  596.400000  4430.066667       lab 2  \n",
              "2  350.266667  723.866667  3823.000000       lab 2  \n",
              "3  202.200000  664.000000  4646.200000       lab 1  \n",
              "4  241.266667  755.733333  4699.600000       lab 1  \n",
              "5  214.857143  806.857143  4836.571429       lab 2  \n",
              "6  230.866667  690.200000  4508.000000       lab 2  \n",
              "7  239.750000  801.562500  4495.437500       lab 1  \n",
              "8  264.125000  745.312500  4747.750000       lab 1  \n",
              "9  273.428571  791.142857  4780.928571       lab 1  "
            ],
            "text/html": [
              "\n",
              "  <div id=\"df-49d28d71-89c7-4273-b8c5-8c34012fc1a5\">\n",
              "    <div class=\"colab-df-container\">\n",
              "      <div>\n",
              "<style scoped>\n",
              "    .dataframe tbody tr th:only-of-type {\n",
              "        vertical-align: middle;\n",
              "    }\n",
              "\n",
              "    .dataframe tbody tr th {\n",
              "        vertical-align: top;\n",
              "    }\n",
              "\n",
              "    .dataframe thead th {\n",
              "        text-align: right;\n",
              "    }\n",
              "</style>\n",
              "<table border=\"1\" class=\"dataframe\">\n",
              "  <thead>\n",
              "    <tr style=\"text-align: right;\">\n",
              "      <th></th>\n",
              "      <th>target</th>\n",
              "      <th>v1</th>\n",
              "      <th>v2</th>\n",
              "      <th>v3</th>\n",
              "      <th>v4</th>\n",
              "      <th>v5</th>\n",
              "      <th>v6</th>\n",
              "      <th>v7</th>\n",
              "      <th>v8</th>\n",
              "      <th>sample_type</th>\n",
              "    </tr>\n",
              "  </thead>\n",
              "  <tbody>\n",
              "    <tr>\n",
              "      <th>0</th>\n",
              "      <td>4.95</td>\n",
              "      <td>482.562500</td>\n",
              "      <td>191.312500</td>\n",
              "      <td>559.875000</td>\n",
              "      <td>353.125000</td>\n",
              "      <td>477.000000</td>\n",
              "      <td>195.250000</td>\n",
              "      <td>638.812500</td>\n",
              "      <td>4462.062500</td>\n",
              "      <td>lab 2</td>\n",
              "    </tr>\n",
              "    <tr>\n",
              "      <th>1</th>\n",
              "      <td>5.00</td>\n",
              "      <td>505.866667</td>\n",
              "      <td>184.266667</td>\n",
              "      <td>547.866667</td>\n",
              "      <td>337.933333</td>\n",
              "      <td>460.666667</td>\n",
              "      <td>196.333333</td>\n",
              "      <td>596.400000</td>\n",
              "      <td>4430.066667</td>\n",
              "      <td>lab 2</td>\n",
              "    </tr>\n",
              "    <tr>\n",
              "      <th>2</th>\n",
              "      <td>4.34</td>\n",
              "      <td>616.933333</td>\n",
              "      <td>333.600000</td>\n",
              "      <td>654.600000</td>\n",
              "      <td>494.533333</td>\n",
              "      <td>655.733333</td>\n",
              "      <td>350.266667</td>\n",
              "      <td>723.866667</td>\n",
              "      <td>3823.000000</td>\n",
              "      <td>lab 2</td>\n",
              "    </tr>\n",
              "    <tr>\n",
              "      <th>3</th>\n",
              "      <td>4.74</td>\n",
              "      <td>248.933333</td>\n",
              "      <td>203.933333</td>\n",
              "      <td>365.200000</td>\n",
              "      <td>332.933333</td>\n",
              "      <td>390.933333</td>\n",
              "      <td>202.200000</td>\n",
              "      <td>664.000000</td>\n",
              "      <td>4646.200000</td>\n",
              "      <td>lab 1</td>\n",
              "    </tr>\n",
              "    <tr>\n",
              "      <th>4</th>\n",
              "      <td>4.83</td>\n",
              "      <td>269.933333</td>\n",
              "      <td>205.666667</td>\n",
              "      <td>393.200000</td>\n",
              "      <td>371.333333</td>\n",
              "      <td>459.800000</td>\n",
              "      <td>241.266667</td>\n",
              "      <td>755.733333</td>\n",
              "      <td>4699.600000</td>\n",
              "      <td>lab 1</td>\n",
              "    </tr>\n",
              "    <tr>\n",
              "      <th>5</th>\n",
              "      <td>4.93</td>\n",
              "      <td>504.357143</td>\n",
              "      <td>211.285714</td>\n",
              "      <td>626.642857</td>\n",
              "      <td>436.785714</td>\n",
              "      <td>502.071429</td>\n",
              "      <td>214.857143</td>\n",
              "      <td>806.857143</td>\n",
              "      <td>4836.571429</td>\n",
              "      <td>lab 2</td>\n",
              "    </tr>\n",
              "    <tr>\n",
              "      <th>6</th>\n",
              "      <td>4.90</td>\n",
              "      <td>534.333333</td>\n",
              "      <td>226.733333</td>\n",
              "      <td>592.266667</td>\n",
              "      <td>377.600000</td>\n",
              "      <td>496.133333</td>\n",
              "      <td>230.866667</td>\n",
              "      <td>690.200000</td>\n",
              "      <td>4508.000000</td>\n",
              "      <td>lab 2</td>\n",
              "    </tr>\n",
              "    <tr>\n",
              "      <th>7</th>\n",
              "      <td>4.48</td>\n",
              "      <td>298.437500</td>\n",
              "      <td>201.562500</td>\n",
              "      <td>419.062500</td>\n",
              "      <td>396.750000</td>\n",
              "      <td>467.875000</td>\n",
              "      <td>239.750000</td>\n",
              "      <td>801.562500</td>\n",
              "      <td>4495.437500</td>\n",
              "      <td>lab 1</td>\n",
              "    </tr>\n",
              "    <tr>\n",
              "      <th>8</th>\n",
              "      <td>4.63</td>\n",
              "      <td>332.500000</td>\n",
              "      <td>254.437500</td>\n",
              "      <td>430.437500</td>\n",
              "      <td>419.375000</td>\n",
              "      <td>475.312500</td>\n",
              "      <td>264.125000</td>\n",
              "      <td>745.312500</td>\n",
              "      <td>4747.750000</td>\n",
              "      <td>lab 1</td>\n",
              "    </tr>\n",
              "    <tr>\n",
              "      <th>9</th>\n",
              "      <td>4.66</td>\n",
              "      <td>333.714286</td>\n",
              "      <td>261.785714</td>\n",
              "      <td>461.142857</td>\n",
              "      <td>437.357143</td>\n",
              "      <td>492.428571</td>\n",
              "      <td>273.428571</td>\n",
              "      <td>791.142857</td>\n",
              "      <td>4780.928571</td>\n",
              "      <td>lab 1</td>\n",
              "    </tr>\n",
              "  </tbody>\n",
              "</table>\n",
              "</div>\n",
              "      <button class=\"colab-df-convert\" onclick=\"convertToInteractive('df-49d28d71-89c7-4273-b8c5-8c34012fc1a5')\"\n",
              "              title=\"Convert this dataframe to an interactive table.\"\n",
              "              style=\"display:none;\">\n",
              "        \n",
              "  <svg xmlns=\"http://www.w3.org/2000/svg\" height=\"24px\"viewBox=\"0 0 24 24\"\n",
              "       width=\"24px\">\n",
              "    <path d=\"M0 0h24v24H0V0z\" fill=\"none\"/>\n",
              "    <path d=\"M18.56 5.44l.94 2.06.94-2.06 2.06-.94-2.06-.94-.94-2.06-.94 2.06-2.06.94zm-11 1L8.5 8.5l.94-2.06 2.06-.94-2.06-.94L8.5 2.5l-.94 2.06-2.06.94zm10 10l.94 2.06.94-2.06 2.06-.94-2.06-.94-.94-2.06-.94 2.06-2.06.94z\"/><path d=\"M17.41 7.96l-1.37-1.37c-.4-.4-.92-.59-1.43-.59-.52 0-1.04.2-1.43.59L10.3 9.45l-7.72 7.72c-.78.78-.78 2.05 0 2.83L4 21.41c.39.39.9.59 1.41.59.51 0 1.02-.2 1.41-.59l7.78-7.78 2.81-2.81c.8-.78.8-2.07 0-2.86zM5.41 20L4 18.59l7.72-7.72 1.47 1.35L5.41 20z\"/>\n",
              "  </svg>\n",
              "      </button>\n",
              "      \n",
              "  <style>\n",
              "    .colab-df-container {\n",
              "      display:flex;\n",
              "      flex-wrap:wrap;\n",
              "      gap: 12px;\n",
              "    }\n",
              "\n",
              "    .colab-df-convert {\n",
              "      background-color: #E8F0FE;\n",
              "      border: none;\n",
              "      border-radius: 50%;\n",
              "      cursor: pointer;\n",
              "      display: none;\n",
              "      fill: #1967D2;\n",
              "      height: 32px;\n",
              "      padding: 0 0 0 0;\n",
              "      width: 32px;\n",
              "    }\n",
              "\n",
              "    .colab-df-convert:hover {\n",
              "      background-color: #E2EBFA;\n",
              "      box-shadow: 0px 1px 2px rgba(60, 64, 67, 0.3), 0px 1px 3px 1px rgba(60, 64, 67, 0.15);\n",
              "      fill: #174EA6;\n",
              "    }\n",
              "\n",
              "    [theme=dark] .colab-df-convert {\n",
              "      background-color: #3B4455;\n",
              "      fill: #D2E3FC;\n",
              "    }\n",
              "\n",
              "    [theme=dark] .colab-df-convert:hover {\n",
              "      background-color: #434B5C;\n",
              "      box-shadow: 0px 1px 3px 1px rgba(0, 0, 0, 0.15);\n",
              "      filter: drop-shadow(0px 1px 2px rgba(0, 0, 0, 0.3));\n",
              "      fill: #FFFFFF;\n",
              "    }\n",
              "  </style>\n",
              "\n",
              "      <script>\n",
              "        const buttonEl =\n",
              "          document.querySelector('#df-49d28d71-89c7-4273-b8c5-8c34012fc1a5 button.colab-df-convert');\n",
              "        buttonEl.style.display =\n",
              "          google.colab.kernel.accessAllowed ? 'block' : 'none';\n",
              "\n",
              "        async function convertToInteractive(key) {\n",
              "          const element = document.querySelector('#df-49d28d71-89c7-4273-b8c5-8c34012fc1a5');\n",
              "          const dataTable =\n",
              "            await google.colab.kernel.invokeFunction('convertToInteractive',\n",
              "                                                     [key], {});\n",
              "          if (!dataTable) return;\n",
              "\n",
              "          const docLinkHtml = 'Like what you see? Visit the ' +\n",
              "            '<a target=\"_blank\" href=https://colab.research.google.com/notebooks/data_table.ipynb>data table notebook</a>'\n",
              "            + ' to learn more about interactive tables.';\n",
              "          element.innerHTML = '';\n",
              "          dataTable['output_type'] = 'display_data';\n",
              "          await google.colab.output.renderOutput(dataTable, element);\n",
              "          const docLink = document.createElement('div');\n",
              "          docLink.innerHTML = docLinkHtml;\n",
              "          element.appendChild(docLink);\n",
              "        }\n",
              "      </script>\n",
              "    </div>\n",
              "  </div>\n",
              "  "
            ]
          },
          "metadata": {},
          "execution_count": 48
        }
      ]
    },
    {
      "cell_type": "code",
      "source": [
        "# Predict \n",
        "\n",
        "pred_inference = all_process.predict(data_inference)\n",
        "pred_inference"
      ],
      "metadata": {
        "colab": {
          "base_uri": "https://localhost:8080/"
        },
        "id": "ecVRb2b84rXz",
        "outputId": "9cfde571-1e06-43b1-94ea-a2bedd2da445"
      },
      "execution_count": 49,
      "outputs": [
        {
          "output_type": "execute_result",
          "data": {
            "text/plain": [
              "array([4.90117397, 4.88228171, 4.63309711, 4.88605998, 4.62594839,\n",
              "       4.82875154, 4.93527421, 4.67355254, 4.66165111, 4.69005505])"
            ]
          },
          "metadata": {},
          "execution_count": 49
        }
      ]
    },
    {
      "cell_type": "code",
      "source": [
        "# Create DataFrame\n",
        "\n",
        "pred_inf_df = pd.DataFrame(pred_inference, columns=['Target - Prediction'])\n",
        "pred_inf_df"
      ],
      "metadata": {
        "colab": {
          "base_uri": "https://localhost:8080/",
          "height": 363
        },
        "id": "PK8ZRkjO5Db6",
        "outputId": "857a8f0f-bf49-4c4a-ed37-5f199c60e8a1"
      },
      "execution_count": 50,
      "outputs": [
        {
          "output_type": "execute_result",
          "data": {
            "text/plain": [
              "   Target - Prediction\n",
              "0             4.901174\n",
              "1             4.882282\n",
              "2             4.633097\n",
              "3             4.886060\n",
              "4             4.625948\n",
              "5             4.828752\n",
              "6             4.935274\n",
              "7             4.673553\n",
              "8             4.661651\n",
              "9             4.690055"
            ],
            "text/html": [
              "\n",
              "  <div id=\"df-227401ac-0ae0-4ea9-b6d1-899a762af11e\">\n",
              "    <div class=\"colab-df-container\">\n",
              "      <div>\n",
              "<style scoped>\n",
              "    .dataframe tbody tr th:only-of-type {\n",
              "        vertical-align: middle;\n",
              "    }\n",
              "\n",
              "    .dataframe tbody tr th {\n",
              "        vertical-align: top;\n",
              "    }\n",
              "\n",
              "    .dataframe thead th {\n",
              "        text-align: right;\n",
              "    }\n",
              "</style>\n",
              "<table border=\"1\" class=\"dataframe\">\n",
              "  <thead>\n",
              "    <tr style=\"text-align: right;\">\n",
              "      <th></th>\n",
              "      <th>Target - Prediction</th>\n",
              "    </tr>\n",
              "  </thead>\n",
              "  <tbody>\n",
              "    <tr>\n",
              "      <th>0</th>\n",
              "      <td>4.901174</td>\n",
              "    </tr>\n",
              "    <tr>\n",
              "      <th>1</th>\n",
              "      <td>4.882282</td>\n",
              "    </tr>\n",
              "    <tr>\n",
              "      <th>2</th>\n",
              "      <td>4.633097</td>\n",
              "    </tr>\n",
              "    <tr>\n",
              "      <th>3</th>\n",
              "      <td>4.886060</td>\n",
              "    </tr>\n",
              "    <tr>\n",
              "      <th>4</th>\n",
              "      <td>4.625948</td>\n",
              "    </tr>\n",
              "    <tr>\n",
              "      <th>5</th>\n",
              "      <td>4.828752</td>\n",
              "    </tr>\n",
              "    <tr>\n",
              "      <th>6</th>\n",
              "      <td>4.935274</td>\n",
              "    </tr>\n",
              "    <tr>\n",
              "      <th>7</th>\n",
              "      <td>4.673553</td>\n",
              "    </tr>\n",
              "    <tr>\n",
              "      <th>8</th>\n",
              "      <td>4.661651</td>\n",
              "    </tr>\n",
              "    <tr>\n",
              "      <th>9</th>\n",
              "      <td>4.690055</td>\n",
              "    </tr>\n",
              "  </tbody>\n",
              "</table>\n",
              "</div>\n",
              "      <button class=\"colab-df-convert\" onclick=\"convertToInteractive('df-227401ac-0ae0-4ea9-b6d1-899a762af11e')\"\n",
              "              title=\"Convert this dataframe to an interactive table.\"\n",
              "              style=\"display:none;\">\n",
              "        \n",
              "  <svg xmlns=\"http://www.w3.org/2000/svg\" height=\"24px\"viewBox=\"0 0 24 24\"\n",
              "       width=\"24px\">\n",
              "    <path d=\"M0 0h24v24H0V0z\" fill=\"none\"/>\n",
              "    <path d=\"M18.56 5.44l.94 2.06.94-2.06 2.06-.94-2.06-.94-.94-2.06-.94 2.06-2.06.94zm-11 1L8.5 8.5l.94-2.06 2.06-.94-2.06-.94L8.5 2.5l-.94 2.06-2.06.94zm10 10l.94 2.06.94-2.06 2.06-.94-2.06-.94-.94-2.06-.94 2.06-2.06.94z\"/><path d=\"M17.41 7.96l-1.37-1.37c-.4-.4-.92-.59-1.43-.59-.52 0-1.04.2-1.43.59L10.3 9.45l-7.72 7.72c-.78.78-.78 2.05 0 2.83L4 21.41c.39.39.9.59 1.41.59.51 0 1.02-.2 1.41-.59l7.78-7.78 2.81-2.81c.8-.78.8-2.07 0-2.86zM5.41 20L4 18.59l7.72-7.72 1.47 1.35L5.41 20z\"/>\n",
              "  </svg>\n",
              "      </button>\n",
              "      \n",
              "  <style>\n",
              "    .colab-df-container {\n",
              "      display:flex;\n",
              "      flex-wrap:wrap;\n",
              "      gap: 12px;\n",
              "    }\n",
              "\n",
              "    .colab-df-convert {\n",
              "      background-color: #E8F0FE;\n",
              "      border: none;\n",
              "      border-radius: 50%;\n",
              "      cursor: pointer;\n",
              "      display: none;\n",
              "      fill: #1967D2;\n",
              "      height: 32px;\n",
              "      padding: 0 0 0 0;\n",
              "      width: 32px;\n",
              "    }\n",
              "\n",
              "    .colab-df-convert:hover {\n",
              "      background-color: #E2EBFA;\n",
              "      box-shadow: 0px 1px 2px rgba(60, 64, 67, 0.3), 0px 1px 3px 1px rgba(60, 64, 67, 0.15);\n",
              "      fill: #174EA6;\n",
              "    }\n",
              "\n",
              "    [theme=dark] .colab-df-convert {\n",
              "      background-color: #3B4455;\n",
              "      fill: #D2E3FC;\n",
              "    }\n",
              "\n",
              "    [theme=dark] .colab-df-convert:hover {\n",
              "      background-color: #434B5C;\n",
              "      box-shadow: 0px 1px 3px 1px rgba(0, 0, 0, 0.15);\n",
              "      filter: drop-shadow(0px 1px 2px rgba(0, 0, 0, 0.3));\n",
              "      fill: #FFFFFF;\n",
              "    }\n",
              "  </style>\n",
              "\n",
              "      <script>\n",
              "        const buttonEl =\n",
              "          document.querySelector('#df-227401ac-0ae0-4ea9-b6d1-899a762af11e button.colab-df-convert');\n",
              "        buttonEl.style.display =\n",
              "          google.colab.kernel.accessAllowed ? 'block' : 'none';\n",
              "\n",
              "        async function convertToInteractive(key) {\n",
              "          const element = document.querySelector('#df-227401ac-0ae0-4ea9-b6d1-899a762af11e');\n",
              "          const dataTable =\n",
              "            await google.colab.kernel.invokeFunction('convertToInteractive',\n",
              "                                                     [key], {});\n",
              "          if (!dataTable) return;\n",
              "\n",
              "          const docLinkHtml = 'Like what you see? Visit the ' +\n",
              "            '<a target=\"_blank\" href=https://colab.research.google.com/notebooks/data_table.ipynb>data table notebook</a>'\n",
              "            + ' to learn more about interactive tables.';\n",
              "          element.innerHTML = '';\n",
              "          dataTable['output_type'] = 'display_data';\n",
              "          await google.colab.output.renderOutput(dataTable, element);\n",
              "          const docLink = document.createElement('div');\n",
              "          docLink.innerHTML = docLinkHtml;\n",
              "          element.appendChild(docLink);\n",
              "        }\n",
              "      </script>\n",
              "    </div>\n",
              "  </div>\n",
              "  "
            ]
          },
          "metadata": {},
          "execution_count": 50
        }
      ]
    },
    {
      "cell_type": "code",
      "source": [
        "# Concate between Inference-Set and Rating's Prediction\n",
        "\n",
        "pd.concat([data_inference['target'], pred_inf_df], axis=1)"
      ],
      "metadata": {
        "colab": {
          "base_uri": "https://localhost:8080/",
          "height": 363
        },
        "id": "yyDEMaKu5P74",
        "outputId": "1cfea579-2c51-49c2-80c4-f7c360beea93"
      },
      "execution_count": 51,
      "outputs": [
        {
          "output_type": "execute_result",
          "data": {
            "text/plain": [
              "   target  Target - Prediction\n",
              "0    4.95             4.901174\n",
              "1    5.00             4.882282\n",
              "2    4.34             4.633097\n",
              "3    4.74             4.886060\n",
              "4    4.83             4.625948\n",
              "5    4.93             4.828752\n",
              "6    4.90             4.935274\n",
              "7    4.48             4.673553\n",
              "8    4.63             4.661651\n",
              "9    4.66             4.690055"
            ],
            "text/html": [
              "\n",
              "  <div id=\"df-bf0ee355-1d11-40d5-a6f9-e6965059773a\">\n",
              "    <div class=\"colab-df-container\">\n",
              "      <div>\n",
              "<style scoped>\n",
              "    .dataframe tbody tr th:only-of-type {\n",
              "        vertical-align: middle;\n",
              "    }\n",
              "\n",
              "    .dataframe tbody tr th {\n",
              "        vertical-align: top;\n",
              "    }\n",
              "\n",
              "    .dataframe thead th {\n",
              "        text-align: right;\n",
              "    }\n",
              "</style>\n",
              "<table border=\"1\" class=\"dataframe\">\n",
              "  <thead>\n",
              "    <tr style=\"text-align: right;\">\n",
              "      <th></th>\n",
              "      <th>target</th>\n",
              "      <th>Target - Prediction</th>\n",
              "    </tr>\n",
              "  </thead>\n",
              "  <tbody>\n",
              "    <tr>\n",
              "      <th>0</th>\n",
              "      <td>4.95</td>\n",
              "      <td>4.901174</td>\n",
              "    </tr>\n",
              "    <tr>\n",
              "      <th>1</th>\n",
              "      <td>5.00</td>\n",
              "      <td>4.882282</td>\n",
              "    </tr>\n",
              "    <tr>\n",
              "      <th>2</th>\n",
              "      <td>4.34</td>\n",
              "      <td>4.633097</td>\n",
              "    </tr>\n",
              "    <tr>\n",
              "      <th>3</th>\n",
              "      <td>4.74</td>\n",
              "      <td>4.886060</td>\n",
              "    </tr>\n",
              "    <tr>\n",
              "      <th>4</th>\n",
              "      <td>4.83</td>\n",
              "      <td>4.625948</td>\n",
              "    </tr>\n",
              "    <tr>\n",
              "      <th>5</th>\n",
              "      <td>4.93</td>\n",
              "      <td>4.828752</td>\n",
              "    </tr>\n",
              "    <tr>\n",
              "      <th>6</th>\n",
              "      <td>4.90</td>\n",
              "      <td>4.935274</td>\n",
              "    </tr>\n",
              "    <tr>\n",
              "      <th>7</th>\n",
              "      <td>4.48</td>\n",
              "      <td>4.673553</td>\n",
              "    </tr>\n",
              "    <tr>\n",
              "      <th>8</th>\n",
              "      <td>4.63</td>\n",
              "      <td>4.661651</td>\n",
              "    </tr>\n",
              "    <tr>\n",
              "      <th>9</th>\n",
              "      <td>4.66</td>\n",
              "      <td>4.690055</td>\n",
              "    </tr>\n",
              "  </tbody>\n",
              "</table>\n",
              "</div>\n",
              "      <button class=\"colab-df-convert\" onclick=\"convertToInteractive('df-bf0ee355-1d11-40d5-a6f9-e6965059773a')\"\n",
              "              title=\"Convert this dataframe to an interactive table.\"\n",
              "              style=\"display:none;\">\n",
              "        \n",
              "  <svg xmlns=\"http://www.w3.org/2000/svg\" height=\"24px\"viewBox=\"0 0 24 24\"\n",
              "       width=\"24px\">\n",
              "    <path d=\"M0 0h24v24H0V0z\" fill=\"none\"/>\n",
              "    <path d=\"M18.56 5.44l.94 2.06.94-2.06 2.06-.94-2.06-.94-.94-2.06-.94 2.06-2.06.94zm-11 1L8.5 8.5l.94-2.06 2.06-.94-2.06-.94L8.5 2.5l-.94 2.06-2.06.94zm10 10l.94 2.06.94-2.06 2.06-.94-2.06-.94-.94-2.06-.94 2.06-2.06.94z\"/><path d=\"M17.41 7.96l-1.37-1.37c-.4-.4-.92-.59-1.43-.59-.52 0-1.04.2-1.43.59L10.3 9.45l-7.72 7.72c-.78.78-.78 2.05 0 2.83L4 21.41c.39.39.9.59 1.41.59.51 0 1.02-.2 1.41-.59l7.78-7.78 2.81-2.81c.8-.78.8-2.07 0-2.86zM5.41 20L4 18.59l7.72-7.72 1.47 1.35L5.41 20z\"/>\n",
              "  </svg>\n",
              "      </button>\n",
              "      \n",
              "  <style>\n",
              "    .colab-df-container {\n",
              "      display:flex;\n",
              "      flex-wrap:wrap;\n",
              "      gap: 12px;\n",
              "    }\n",
              "\n",
              "    .colab-df-convert {\n",
              "      background-color: #E8F0FE;\n",
              "      border: none;\n",
              "      border-radius: 50%;\n",
              "      cursor: pointer;\n",
              "      display: none;\n",
              "      fill: #1967D2;\n",
              "      height: 32px;\n",
              "      padding: 0 0 0 0;\n",
              "      width: 32px;\n",
              "    }\n",
              "\n",
              "    .colab-df-convert:hover {\n",
              "      background-color: #E2EBFA;\n",
              "      box-shadow: 0px 1px 2px rgba(60, 64, 67, 0.3), 0px 1px 3px 1px rgba(60, 64, 67, 0.15);\n",
              "      fill: #174EA6;\n",
              "    }\n",
              "\n",
              "    [theme=dark] .colab-df-convert {\n",
              "      background-color: #3B4455;\n",
              "      fill: #D2E3FC;\n",
              "    }\n",
              "\n",
              "    [theme=dark] .colab-df-convert:hover {\n",
              "      background-color: #434B5C;\n",
              "      box-shadow: 0px 1px 3px 1px rgba(0, 0, 0, 0.15);\n",
              "      filter: drop-shadow(0px 1px 2px rgba(0, 0, 0, 0.3));\n",
              "      fill: #FFFFFF;\n",
              "    }\n",
              "  </style>\n",
              "\n",
              "      <script>\n",
              "        const buttonEl =\n",
              "          document.querySelector('#df-bf0ee355-1d11-40d5-a6f9-e6965059773a button.colab-df-convert');\n",
              "        buttonEl.style.display =\n",
              "          google.colab.kernel.accessAllowed ? 'block' : 'none';\n",
              "\n",
              "        async function convertToInteractive(key) {\n",
              "          const element = document.querySelector('#df-bf0ee355-1d11-40d5-a6f9-e6965059773a');\n",
              "          const dataTable =\n",
              "            await google.colab.kernel.invokeFunction('convertToInteractive',\n",
              "                                                     [key], {});\n",
              "          if (!dataTable) return;\n",
              "\n",
              "          const docLinkHtml = 'Like what you see? Visit the ' +\n",
              "            '<a target=\"_blank\" href=https://colab.research.google.com/notebooks/data_table.ipynb>data table notebook</a>'\n",
              "            + ' to learn more about interactive tables.';\n",
              "          element.innerHTML = '';\n",
              "          dataTable['output_type'] = 'display_data';\n",
              "          await google.colab.output.renderOutput(dataTable, element);\n",
              "          const docLink = document.createElement('div');\n",
              "          docLink.innerHTML = docLinkHtml;\n",
              "          element.appendChild(docLink);\n",
              "        }\n",
              "      </script>\n",
              "    </div>\n",
              "  </div>\n",
              "  "
            ]
          },
          "metadata": {},
          "execution_count": 51
        }
      ]
    },
    {
      "cell_type": "markdown",
      "metadata": {
        "id": "zlcM1IlGdLF-"
      },
      "source": [
        "# 5. Conclusion / Overall Analysis\n",
        "Based on the EDA process, several columns have outliers and in order to make a good regression model it is decided to trim the outlier using Winsorizer. It is also found that several columns have the high correlation among each other. However, feature selection is not conducted because because these unknown variables is feared to be an important variable in determining the target value. Making a model using a pipeline is done to prevent data leakage and to make preprocessing simpler. Based on average, model with random forest regressor has smallest the gap between the predicted value and the actual value. Further improvement for this project is to try to do feature selection and also do deployment so that it can be tested directly by other users.\n"
      ]
    }
  ],
  "metadata": {
    "colab": {
      "provenance": [],
      "toc_visible": true
    },
    "kernelspec": {
      "display_name": "Python 3",
      "name": "python3"
    },
    "language_info": {
      "name": "python"
    }
  },
  "nbformat": 4,
  "nbformat_minor": 0
}